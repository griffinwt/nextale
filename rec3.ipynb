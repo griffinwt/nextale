{
 "cells": [
  {
   "cell_type": "code",
   "execution_count": 2,
   "metadata": {},
   "outputs": [],
   "source": [
    "#imports\n",
    "import pandas as pd\n",
    "import numpy as np\n",
    "import requests\n",
    "from bs4 import BeautifulSoup, NavigableString, Tag\n",
    "import re\n",
    "import time\n",
    "import random\n",
    "import sys\n",
    "pd.set_option('display.max_colwidth', None)\n",
    "\n",
    "from sklearn.metrics.pairwise import pairwise_distances, cosine_distances, cosine_similarity\n",
    "from scipy import sparse\n",
    "from matplotlib import pyplot as plt\n",
    "import utils as ut"
   ]
  },
  {
   "cell_type": "code",
   "execution_count": null,
   "metadata": {},
   "outputs": [],
   "source": []
  },
  {
   "cell_type": "code",
   "execution_count": 42,
   "metadata": {},
   "outputs": [],
   "source": [
    "def rec_search(category, query, wout='no'):\n",
    "\n",
    "    if category.lower() == 'video games':\n",
    "        lookup, recommender = pd.read_pickle('./pickles/videog_look.pkl'),pd.read_pickle('./pickles/videog_rec.pkl')\n",
    "    elif category.lower() == 'movies':\n",
    "        lookup, recommender = pd.read_pickle('./pickles/movies_look.pkl'), pd.read_pickle('./pickles/movie_rec.pkl') \n",
    "    elif category.lower() == 'books':\n",
    "        lookup, recommender = pd.read_pickle('./pickles/books_look.pkl'), pd.read_pickle('./pickles/books_rec.pkl')\n",
    "    else:\n",
    "        return \"Sorry, that wasn't one of the available categories\"\n",
    "\n",
    "    try:\n",
    "        query=query.title() #uppercase first letter of each word in the query in case it's not entered that way\n",
    "        titles = list(lookup[lookup['product_title'].str.contains(query)]['product_title'])\n",
    "        q = titles[0] #this is the item to search for\n",
    "\n",
    "        if wout.lower() == 'no':\n",
    "            query_dict = dict(recommender.loc[q].sort_values())\n",
    "            \n",
    "            final_printout = ''\n",
    "            for key in list(query_dict.keys())[1:11]:\n",
    "                final_printout += '\\n' #add new line\n",
    "                final_printout += f'{key}' #print item name\n",
    "                final_printout += '\\n'\n",
    "                final_printout += f\"\"\"\n",
    "                This item has {round(lookup[lookup['product_title']==key]['tot_prod_reviews'].mean())} reviews \n",
    "                and a {round(lookup[lookup['product_title']==key]['avg_prod_stars'].mean(), 2)} average star rating\"\"\"\n",
    "\n",
    "\n",
    "            return f'''\n",
    "\n",
    "            Recommending items similar to: {q}\n",
    "            {q} has {round(lookup[lookup['product_title']==q]['tot_prod_reviews'].mean())} reviews\n",
    "            and a {round(lookup[lookup['product_title']==q]['avg_prod_stars'].mean(), 2)} average star rating.\n",
    "\n",
    "            Here are the 10 recommended items for you based on your search parameters:\n",
    "            \n",
    "            {final_printout}\n",
    "            \n",
    "            '''\n",
    "            \n",
    "        else:\n",
    "            \n",
    "            wout = wout.title() #capitlize first letters\n",
    "            query_dict = dict(recommender.loc[q].sort_values())\n",
    "            filtered_query = [] #make empty list\n",
    "            for key, value in query_dict.items(): #index into dictionary of results\n",
    "                if wout not in key: #check if avoided keyword is in results\n",
    "                    filtered_query.append((key, value)) #make list of results that DON'T include \"wout\" keyword\n",
    "            \n",
    "            final_printout = ''\n",
    "            for item in filtered_query[1:11]:\n",
    "                final_printout += '\\n' #add new line\n",
    "                final_printout += f'{item[0]}' #print item name\n",
    "                final_printout += '\\n'\n",
    "                final_printout += f\"\"\"\n",
    "                This item has {round(lookup[lookup['product_title']==item[0]]['tot_prod_reviews'].mean())} reviews \n",
    "                and a {round(lookup[lookup['product_title']==item[0]]['avg_prod_stars'].mean(), 2)} average star rating\"\"\"\n",
    "            \n",
    "            return f'''\n",
    "\n",
    "            Recommending items similar to: {q}\n",
    "            {q} has {round(lookup[lookup['product_title']==q]['tot_prod_reviews'].mean())} reviews\n",
    "            and a {round(lookup[lookup['product_title']==q]['avg_prod_stars'].mean(), 2)} average star rating.\n",
    "\n",
    "            Here are the 10 recommended items for you based on your search EXCLUDING \"{wout}\":\n",
    "            \n",
    "            {final_printout}\n",
    "            \n",
    "            '''\n",
    "        \n",
    "    except:\n",
    "        return f'Sorry, \"{query}\" does not appear to be in the product database'"
   ]
  },
  {
   "cell_type": "code",
   "execution_count": 43,
   "metadata": {},
   "outputs": [
    {
     "data": {
      "text/plain": [
       "'\\n\\n            Recommending items similar to: Batman: The Dark Knight Returns\\n            Batman: The Dark Knight Returns has 177 reviews\\n            and a 4.64 average star rating.\\n\\n            Here are the 10 recommended items for you based on your search EXCLUDING \"Batman\":\\n            \\n            \\nV for Vendetta\\n\\n                This item has 92 reviews \\n                and a 4.54 average star rating\\nDaredevil Visionaries - Frank Miller, Vol. 1\\n\\n                This item has 18 reviews \\n                and a 4.28 average star rating\\nMarvels\\n\\n                This item has 31 reviews \\n                and a 4.48 average star rating\\nFrank Miller\\'s Ronin\\n\\n                This item has 24 reviews \\n                and a 4.38 average star rating\\nInfinity Gauntlet TPB\\n\\n                This item has 12 reviews \\n                and a 4.58 average star rating\\nNew X-Men Vol. 1: E is for Extinction (v. 1)\\n\\n                This item has 27 reviews \\n                and a 4.26 average star rating\\nKingdom Come\\n\\n                This item has 134 reviews \\n                and a 4.37 average star rating\\nMarvel 1602 HC (Marvel Heroes)\\n\\n                This item has 16 reviews \\n                and a 4.25 average star rating\\nPreacher VOL 06: War in the Sun (Preacher (DC Comics))\\n\\n                This item has 15 reviews \\n                and a 4.93 average star rating\\n6: Sandman, The: Fables & Reflections - Book VI\\n\\n                This item has 19 reviews \\n                and a 4.32 average star rating\\n            \\n            '"
      ]
     },
     "execution_count": 43,
     "metadata": {},
     "output_type": "execute_result"
    }
   ],
   "source": [
    "rec_search('books', 'batman', 'batman')"
   ]
  },
  {
   "cell_type": "code",
   "execution_count": null,
   "metadata": {},
   "outputs": [],
   "source": []
  }
 ],
 "metadata": {
  "kernelspec": {
   "display_name": "Python 3",
   "language": "python",
   "name": "python3"
  },
  "language_info": {
   "codemirror_mode": {
    "name": "ipython",
    "version": 3
   },
   "file_extension": ".py",
   "mimetype": "text/x-python",
   "name": "python",
   "nbconvert_exporter": "python",
   "pygments_lexer": "ipython3",
   "version": "3.8.3"
  }
 },
 "nbformat": 4,
 "nbformat_minor": 4
}
