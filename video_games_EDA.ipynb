{
 "cells": [
  {
   "cell_type": "code",
   "execution_count": 187,
   "metadata": {},
   "outputs": [],
   "source": [
    "#referred to lesson 9.05\n",
    "#https://stackoverflow.com/questions/61757170/python-unstacked-dataframe-is-too-big-causing-int32-overflow\n",
    "#https://stackoverflow.com/questions/28651079/pandas-unstack-problems-valueerror-index-contains-duplicate-entries-cannot-re#:~:text=The%20reason%20why%20you%20get%20ValueError%3A%20Index%20contains,%22%20date%20%22%20combinations%20are%20no%20longer%20unique.\n",
    "#https://stackoverflow.com/questions/43945653/python-pandas-return-dataframe-where-value-count-is-above-a-set-number\n",
    "#https://stackoverflow.com/questions/54822879/how-can-i-combine-multiple-sparse-and-dense-matrices-together\n",
    "import pandas as pd\n",
    "import numpy as np\n",
    "from scipy import sparse\n",
    "from sklearn.metrics.pairwise import pairwise_distances, cosine_distances, cosine_similarity"
   ]
  },
  {
   "cell_type": "code",
   "execution_count": 2,
   "metadata": {},
   "outputs": [],
   "source": [
    "df=pd.read_csv('./data/video_games.csv')"
   ]
  },
  {
   "cell_type": "code",
   "execution_count": 3,
   "metadata": {},
   "outputs": [
    {
     "data": {
      "text/plain": [
       "customer_id           0\n",
       "review_id             0\n",
       "product_id            0\n",
       "product_parent        0\n",
       "product_title         0\n",
       "star_rating           0\n",
       "helpful_votes         0\n",
       "total_votes           0\n",
       "verified_purchase     0\n",
       "review_date           0\n",
       "full_review          47\n",
       "dtype: int64"
      ]
     },
     "execution_count": 3,
     "metadata": {},
     "output_type": "execute_result"
    }
   ],
   "source": [
    "df.isnull().sum()"
   ]
  },
  {
   "cell_type": "code",
   "execution_count": 4,
   "metadata": {},
   "outputs": [],
   "source": [
    "df.dropna(inplace=True)"
   ]
  },
  {
   "cell_type": "code",
   "execution_count": 120,
   "metadata": {},
   "outputs": [],
   "source": [
    "df['review_date'] = pd.to_datetime(df['review_date'])"
   ]
  },
  {
   "cell_type": "code",
   "execution_count": 6,
   "metadata": {},
   "outputs": [
    {
     "data": {
      "text/html": [
       "<div>\n",
       "<style scoped>\n",
       "    .dataframe tbody tr th:only-of-type {\n",
       "        vertical-align: middle;\n",
       "    }\n",
       "\n",
       "    .dataframe tbody tr th {\n",
       "        vertical-align: top;\n",
       "    }\n",
       "\n",
       "    .dataframe thead th {\n",
       "        text-align: right;\n",
       "    }\n",
       "</style>\n",
       "<table border=\"1\" class=\"dataframe\">\n",
       "  <thead>\n",
       "    <tr style=\"text-align: right;\">\n",
       "      <th></th>\n",
       "      <th>customer_id</th>\n",
       "      <th>review_id</th>\n",
       "      <th>product_id</th>\n",
       "      <th>product_parent</th>\n",
       "      <th>product_title</th>\n",
       "      <th>star_rating</th>\n",
       "      <th>helpful_votes</th>\n",
       "      <th>total_votes</th>\n",
       "      <th>verified_purchase</th>\n",
       "      <th>review_date</th>\n",
       "      <th>full_review</th>\n",
       "    </tr>\n",
       "  </thead>\n",
       "  <tbody>\n",
       "    <tr>\n",
       "      <th>0</th>\n",
       "      <td>12039526</td>\n",
       "      <td>RTIS3L2M1F5SM</td>\n",
       "      <td>B001CXYMFS</td>\n",
       "      <td>737716809</td>\n",
       "      <td>Thrustmaster T-Flight Hotas X Flight Stick</td>\n",
       "      <td>5</td>\n",
       "      <td>0</td>\n",
       "      <td>0</td>\n",
       "      <td>1</td>\n",
       "      <td>2015-08-31</td>\n",
       "      <td>amazing joystick I especially love twist Used ...</td>\n",
       "    </tr>\n",
       "    <tr>\n",
       "      <th>1</th>\n",
       "      <td>2331478</td>\n",
       "      <td>R3BH071QLH8QMC</td>\n",
       "      <td>B0029CSOD2</td>\n",
       "      <td>98937668</td>\n",
       "      <td>Hidden Mysteries: Titanic Secrets of the Fatef...</td>\n",
       "      <td>1</td>\n",
       "      <td>0</td>\n",
       "      <td>1</td>\n",
       "      <td>1</td>\n",
       "      <td>2015-08-31</td>\n",
       "      <td>One Star poor quality work advertised</td>\n",
       "    </tr>\n",
       "    <tr>\n",
       "      <th>2</th>\n",
       "      <td>52495923</td>\n",
       "      <td>R127K9NTSXA2YH</td>\n",
       "      <td>B00GOOSV98</td>\n",
       "      <td>23143350</td>\n",
       "      <td>GelTabz Performance Thumb Grips - PlayStation ...</td>\n",
       "      <td>3</td>\n",
       "      <td>0</td>\n",
       "      <td>0</td>\n",
       "      <td>1</td>\n",
       "      <td>2015-08-31</td>\n",
       "      <td>good could bettee nice tend slip away stick in...</td>\n",
       "    </tr>\n",
       "    <tr>\n",
       "      <th>3</th>\n",
       "      <td>14533949</td>\n",
       "      <td>R32ZWUXDJPW27Q</td>\n",
       "      <td>B00Y074JOM</td>\n",
       "      <td>821342511</td>\n",
       "      <td>Zero Suit Samus amiibo - Japan Import (Super S...</td>\n",
       "      <td>4</td>\n",
       "      <td>0</td>\n",
       "      <td>0</td>\n",
       "      <td>1</td>\n",
       "      <td>2015-08-31</td>\n",
       "      <td>Great flawed Great amiibo great collecting Qua...</td>\n",
       "    </tr>\n",
       "    <tr>\n",
       "      <th>4</th>\n",
       "      <td>17521011</td>\n",
       "      <td>R2F0POU5K6F73F</td>\n",
       "      <td>B008XHCLFO</td>\n",
       "      <td>24234603</td>\n",
       "      <td>Protection for your 3DS XL</td>\n",
       "      <td>5</td>\n",
       "      <td>0</td>\n",
       "      <td>0</td>\n",
       "      <td>1</td>\n",
       "      <td>2015-08-31</td>\n",
       "      <td>A Must I 2012 2013 XL durable comfortable real...</td>\n",
       "    </tr>\n",
       "  </tbody>\n",
       "</table>\n",
       "</div>"
      ],
      "text/plain": [
       "   customer_id       review_id  product_id  product_parent  \\\n",
       "0     12039526   RTIS3L2M1F5SM  B001CXYMFS       737716809   \n",
       "1      2331478  R3BH071QLH8QMC  B0029CSOD2        98937668   \n",
       "2     52495923  R127K9NTSXA2YH  B00GOOSV98        23143350   \n",
       "3     14533949  R32ZWUXDJPW27Q  B00Y074JOM       821342511   \n",
       "4     17521011  R2F0POU5K6F73F  B008XHCLFO        24234603   \n",
       "\n",
       "                                       product_title  star_rating  \\\n",
       "0         Thrustmaster T-Flight Hotas X Flight Stick            5   \n",
       "1  Hidden Mysteries: Titanic Secrets of the Fatef...            1   \n",
       "2  GelTabz Performance Thumb Grips - PlayStation ...            3   \n",
       "3  Zero Suit Samus amiibo - Japan Import (Super S...            4   \n",
       "4                         Protection for your 3DS XL            5   \n",
       "\n",
       "   helpful_votes  total_votes  verified_purchase review_date  \\\n",
       "0              0            0                  1  2015-08-31   \n",
       "1              0            1                  1  2015-08-31   \n",
       "2              0            0                  1  2015-08-31   \n",
       "3              0            0                  1  2015-08-31   \n",
       "4              0            0                  1  2015-08-31   \n",
       "\n",
       "                                         full_review  \n",
       "0  amazing joystick I especially love twist Used ...  \n",
       "1              One Star poor quality work advertised  \n",
       "2  good could bettee nice tend slip away stick in...  \n",
       "3  Great flawed Great amiibo great collecting Qua...  \n",
       "4  A Must I 2012 2013 XL durable comfortable real...  "
      ]
     },
     "execution_count": 6,
     "metadata": {},
     "output_type": "execute_result"
    }
   ],
   "source": [
    "df.head()"
   ]
  },
  {
   "cell_type": "code",
   "execution_count": 9,
   "metadata": {},
   "outputs": [
    {
     "data": {
      "text/plain": [
       "Index(['customer_id', 'review_id', 'product_id', 'product_parent',\n",
       "       'product_title', 'star_rating', 'helpful_votes', 'total_votes',\n",
       "       'verified_purchase', 'review_date', 'full_review'],\n",
       "      dtype='object')"
      ]
     },
     "execution_count": 9,
     "metadata": {},
     "output_type": "execute_result"
    }
   ],
   "source": [
    "df.columns"
   ]
  },
  {
   "cell_type": "markdown",
   "metadata": {},
   "source": [
    "I need to see if any customers wrote multiple reviews for the same product. That would throw an error in the pivot table."
   ]
  },
  {
   "cell_type": "code",
   "execution_count": 50,
   "metadata": {},
   "outputs": [
    {
     "data": {
      "text/plain": [
       "customer_id  product_id\n",
       "38142327     B00005NH6B    13\n",
       "43411792     B00000JRSB    13\n",
       "50763007     B0000AHOOJ    10\n",
       "25214010     B0000C4M22    10\n",
       "30995260     B00005BW6Z    10\n",
       "                           ..\n",
       "38010719     B000035Y6N     1\n",
       "38010773     B001C91H4G     1\n",
       "             B001DL8PES     1\n",
       "38010873     B0083RDT8C     1\n",
       "10018        B006VE40JQ     1\n",
       "Name: product_id, Length: 1641949, dtype: int64"
      ]
     },
     "execution_count": 50,
     "metadata": {},
     "output_type": "execute_result"
    }
   ],
   "source": [
    "df.groupby('customer_id')['product_id'].value_counts().sort_values(ascending=False)"
   ]
  },
  {
   "cell_type": "markdown",
   "metadata": {},
   "source": [
    "Hm... for example, customer 38142327 wrote 13 reviews for product B00005NH6B... what do those reviews look like?"
   ]
  },
  {
   "cell_type": "code",
   "execution_count": 31,
   "metadata": {},
   "outputs": [
    {
     "data": {
      "text/html": [
       "<div>\n",
       "<style scoped>\n",
       "    .dataframe tbody tr th:only-of-type {\n",
       "        vertical-align: middle;\n",
       "    }\n",
       "\n",
       "    .dataframe tbody tr th {\n",
       "        vertical-align: top;\n",
       "    }\n",
       "\n",
       "    .dataframe thead th {\n",
       "        text-align: right;\n",
       "    }\n",
       "</style>\n",
       "<table border=\"1\" class=\"dataframe\">\n",
       "  <thead>\n",
       "    <tr style=\"text-align: right;\">\n",
       "      <th></th>\n",
       "      <th>customer_id</th>\n",
       "      <th>review_id</th>\n",
       "      <th>product_id</th>\n",
       "      <th>product_parent</th>\n",
       "      <th>product_title</th>\n",
       "      <th>star_rating</th>\n",
       "      <th>helpful_votes</th>\n",
       "      <th>total_votes</th>\n",
       "      <th>verified_purchase</th>\n",
       "      <th>review_date</th>\n",
       "      <th>full_review</th>\n",
       "    </tr>\n",
       "  </thead>\n",
       "  <tbody>\n",
       "    <tr>\n",
       "      <th>1571527</th>\n",
       "      <td>38142327</td>\n",
       "      <td>R3NY8KHMR5X2KP</td>\n",
       "      <td>B00005NH6B</td>\n",
       "      <td>199086987</td>\n",
       "      <td>Batman Vengeance</td>\n",
       "      <td>1</td>\n",
       "      <td>1</td>\n",
       "      <td>2</td>\n",
       "      <td>0</td>\n",
       "      <td>2002-06-29</td>\n",
       "      <td>Pitiful I huge Batman fan Anything Batman bet ...</td>\n",
       "    </tr>\n",
       "    <tr>\n",
       "      <th>1572890</th>\n",
       "      <td>38142327</td>\n",
       "      <td>R2U1NNLJS8OHHQ</td>\n",
       "      <td>B00005NH6B</td>\n",
       "      <td>199086987</td>\n",
       "      <td>Batman Vengeance</td>\n",
       "      <td>5</td>\n",
       "      <td>0</td>\n",
       "      <td>1</td>\n",
       "      <td>0</td>\n",
       "      <td>2002-06-17</td>\n",
       "      <td>Batman come alooong way From 1930 new milleniu...</td>\n",
       "    </tr>\n",
       "    <tr>\n",
       "      <th>1572901</th>\n",
       "      <td>38142327</td>\n",
       "      <td>R122RU8UP19R4T</td>\n",
       "      <td>B00005NH6B</td>\n",
       "      <td>199086987</td>\n",
       "      <td>Batman Vengeance</td>\n",
       "      <td>5</td>\n",
       "      <td>0</td>\n",
       "      <td>0</td>\n",
       "      <td>0</td>\n",
       "      <td>2002-06-17</td>\n",
       "      <td>FUN FOR FAMILY If like playing game family spe...</td>\n",
       "    </tr>\n",
       "    <tr>\n",
       "      <th>1572912</th>\n",
       "      <td>38142327</td>\n",
       "      <td>R22Z951P3JMRBQ</td>\n",
       "      <td>B00005NH6B</td>\n",
       "      <td>199086987</td>\n",
       "      <td>Batman Vengeance</td>\n",
       "      <td>5</td>\n",
       "      <td>0</td>\n",
       "      <td>0</td>\n",
       "      <td>0</td>\n",
       "      <td>2002-06-17</td>\n",
       "      <td>Best game hit store There isnt superhero like ...</td>\n",
       "    </tr>\n",
       "    <tr>\n",
       "      <th>1572927</th>\n",
       "      <td>38142327</td>\n",
       "      <td>R2RCRESG64DH7D</td>\n",
       "      <td>B00005NH6B</td>\n",
       "      <td>199086987</td>\n",
       "      <td>Batman Vengeance</td>\n",
       "      <td>5</td>\n",
       "      <td>1</td>\n",
       "      <td>1</td>\n",
       "      <td>0</td>\n",
       "      <td>2002-06-17</td>\n",
       "      <td>Fairly good game kid 12 First I would like say...</td>\n",
       "    </tr>\n",
       "    <tr>\n",
       "      <th>1572929</th>\n",
       "      <td>38142327</td>\n",
       "      <td>RHMREFYJF0IWP</td>\n",
       "      <td>B00005NH6B</td>\n",
       "      <td>199086987</td>\n",
       "      <td>Batman Vengeance</td>\n",
       "      <td>4</td>\n",
       "      <td>0</td>\n",
       "      <td>2</td>\n",
       "      <td>0</td>\n",
       "      <td>2002-06-17</td>\n",
       "      <td>WHATCHA LOOKIN AT WAAAAAAAAAAAAAAAAAAAAAAAAAAA...</td>\n",
       "    </tr>\n",
       "    <tr>\n",
       "      <th>1572933</th>\n",
       "      <td>38142327</td>\n",
       "      <td>R1TZYG1TID6GE6</td>\n",
       "      <td>B00005NH6B</td>\n",
       "      <td>199086987</td>\n",
       "      <td>Batman Vengeance</td>\n",
       "      <td>4</td>\n",
       "      <td>1</td>\n",
       "      <td>2</td>\n",
       "      <td>0</td>\n",
       "      <td>2002-06-17</td>\n",
       "      <td>ha spider man beat I really dont feel like wri...</td>\n",
       "    </tr>\n",
       "    <tr>\n",
       "      <th>1572935</th>\n",
       "      <td>38142327</td>\n",
       "      <td>R1QDQSKQ7XJPLI</td>\n",
       "      <td>B00005NH6B</td>\n",
       "      <td>199086987</td>\n",
       "      <td>Batman Vengeance</td>\n",
       "      <td>5</td>\n",
       "      <td>0</td>\n",
       "      <td>1</td>\n",
       "      <td>0</td>\n",
       "      <td>2002-06-17</td>\n",
       "      <td>You sorry miss UBI Soft best Good work Warner ...</td>\n",
       "    </tr>\n",
       "    <tr>\n",
       "      <th>1572936</th>\n",
       "      <td>38142327</td>\n",
       "      <td>R2RI3Y4DAWBISL</td>\n",
       "      <td>B00005NH6B</td>\n",
       "      <td>199086987</td>\n",
       "      <td>Batman Vengeance</td>\n",
       "      <td>5</td>\n",
       "      <td>1</td>\n",
       "      <td>2</td>\n",
       "      <td>0</td>\n",
       "      <td>2002-06-17</td>\n",
       "      <td>Best yet If PS2 nice fun game get It pass time...</td>\n",
       "    </tr>\n",
       "    <tr>\n",
       "      <th>1572979</th>\n",
       "      <td>38142327</td>\n",
       "      <td>RVES7ZUE7F43B</td>\n",
       "      <td>B00005NH6B</td>\n",
       "      <td>199086987</td>\n",
       "      <td>Batman Vengeance</td>\n",
       "      <td>4</td>\n",
       "      <td>0</td>\n",
       "      <td>0</td>\n",
       "      <td>0</td>\n",
       "      <td>2002-06-17</td>\n",
       "      <td>One DC Comic greatest superheroes finally go P...</td>\n",
       "    </tr>\n",
       "    <tr>\n",
       "      <th>1572980</th>\n",
       "      <td>38142327</td>\n",
       "      <td>R2AN652064BA96</td>\n",
       "      <td>B00005NH6B</td>\n",
       "      <td>199086987</td>\n",
       "      <td>Batman Vengeance</td>\n",
       "      <td>5</td>\n",
       "      <td>1</td>\n",
       "      <td>1</td>\n",
       "      <td>0</td>\n",
       "      <td>2002-06-17</td>\n",
       "      <td>MAKES PS2 THE BEST GAME CONSOLE Cool game Cool...</td>\n",
       "    </tr>\n",
       "    <tr>\n",
       "      <th>1572983</th>\n",
       "      <td>38142327</td>\n",
       "      <td>R1MMLLRVDR3XS5</td>\n",
       "      <td>B00005NH6B</td>\n",
       "      <td>199086987</td>\n",
       "      <td>Batman Vengeance</td>\n",
       "      <td>5</td>\n",
       "      <td>0</td>\n",
       "      <td>0</td>\n",
       "      <td>0</td>\n",
       "      <td>2002-06-17</td>\n",
       "      <td>ONE NOT TO MISS ABSOLUTELY NOTHING BUT FUN PER...</td>\n",
       "    </tr>\n",
       "    <tr>\n",
       "      <th>1573111</th>\n",
       "      <td>38142327</td>\n",
       "      <td>R32VTLFJ3E67H6</td>\n",
       "      <td>B00005NH6B</td>\n",
       "      <td>199086987</td>\n",
       "      <td>Batman Vengeance</td>\n",
       "      <td>5</td>\n",
       "      <td>4</td>\n",
       "      <td>4</td>\n",
       "      <td>0</td>\n",
       "      <td>2002-06-16</td>\n",
       "      <td>Best Super Hero Game PS2 console I mean game a...</td>\n",
       "    </tr>\n",
       "  </tbody>\n",
       "</table>\n",
       "</div>"
      ],
      "text/plain": [
       "         customer_id       review_id  product_id  product_parent  \\\n",
       "1571527     38142327  R3NY8KHMR5X2KP  B00005NH6B       199086987   \n",
       "1572890     38142327  R2U1NNLJS8OHHQ  B00005NH6B       199086987   \n",
       "1572901     38142327  R122RU8UP19R4T  B00005NH6B       199086987   \n",
       "1572912     38142327  R22Z951P3JMRBQ  B00005NH6B       199086987   \n",
       "1572927     38142327  R2RCRESG64DH7D  B00005NH6B       199086987   \n",
       "1572929     38142327   RHMREFYJF0IWP  B00005NH6B       199086987   \n",
       "1572933     38142327  R1TZYG1TID6GE6  B00005NH6B       199086987   \n",
       "1572935     38142327  R1QDQSKQ7XJPLI  B00005NH6B       199086987   \n",
       "1572936     38142327  R2RI3Y4DAWBISL  B00005NH6B       199086987   \n",
       "1572979     38142327   RVES7ZUE7F43B  B00005NH6B       199086987   \n",
       "1572980     38142327  R2AN652064BA96  B00005NH6B       199086987   \n",
       "1572983     38142327  R1MMLLRVDR3XS5  B00005NH6B       199086987   \n",
       "1573111     38142327  R32VTLFJ3E67H6  B00005NH6B       199086987   \n",
       "\n",
       "            product_title  star_rating  helpful_votes  total_votes  \\\n",
       "1571527  Batman Vengeance            1              1            2   \n",
       "1572890  Batman Vengeance            5              0            1   \n",
       "1572901  Batman Vengeance            5              0            0   \n",
       "1572912  Batman Vengeance            5              0            0   \n",
       "1572927  Batman Vengeance            5              1            1   \n",
       "1572929  Batman Vengeance            4              0            2   \n",
       "1572933  Batman Vengeance            4              1            2   \n",
       "1572935  Batman Vengeance            5              0            1   \n",
       "1572936  Batman Vengeance            5              1            2   \n",
       "1572979  Batman Vengeance            4              0            0   \n",
       "1572980  Batman Vengeance            5              1            1   \n",
       "1572983  Batman Vengeance            5              0            0   \n",
       "1573111  Batman Vengeance            5              4            4   \n",
       "\n",
       "         verified_purchase review_date  \\\n",
       "1571527                  0  2002-06-29   \n",
       "1572890                  0  2002-06-17   \n",
       "1572901                  0  2002-06-17   \n",
       "1572912                  0  2002-06-17   \n",
       "1572927                  0  2002-06-17   \n",
       "1572929                  0  2002-06-17   \n",
       "1572933                  0  2002-06-17   \n",
       "1572935                  0  2002-06-17   \n",
       "1572936                  0  2002-06-17   \n",
       "1572979                  0  2002-06-17   \n",
       "1572980                  0  2002-06-17   \n",
       "1572983                  0  2002-06-17   \n",
       "1573111                  0  2002-06-16   \n",
       "\n",
       "                                               full_review  \n",
       "1571527  Pitiful I huge Batman fan Anything Batman bet ...  \n",
       "1572890  Batman come alooong way From 1930 new milleniu...  \n",
       "1572901  FUN FOR FAMILY If like playing game family spe...  \n",
       "1572912  Best game hit store There isnt superhero like ...  \n",
       "1572927  Fairly good game kid 12 First I would like say...  \n",
       "1572929  WHATCHA LOOKIN AT WAAAAAAAAAAAAAAAAAAAAAAAAAAA...  \n",
       "1572933  ha spider man beat I really dont feel like wri...  \n",
       "1572935  You sorry miss UBI Soft best Good work Warner ...  \n",
       "1572936  Best yet If PS2 nice fun game get It pass time...  \n",
       "1572979  One DC Comic greatest superheroes finally go P...  \n",
       "1572980  MAKES PS2 THE BEST GAME CONSOLE Cool game Cool...  \n",
       "1572983  ONE NOT TO MISS ABSOLUTELY NOTHING BUT FUN PER...  \n",
       "1573111  Best Super Hero Game PS2 console I mean game a...  "
      ]
     },
     "execution_count": 31,
     "metadata": {},
     "output_type": "execute_result"
    }
   ],
   "source": [
    "df.loc[(df2['product_id']=='B00005NH6B') & (df2['customer_id']==38142327)]"
   ]
  },
  {
   "cell_type": "markdown",
   "metadata": {},
   "source": [
    "So this person made 13 reviews for the same item, rating 4 or 5 stars EXCEPT for the most recent one (6/29) which was 1 star. Perhaps the ending was disappointing?"
   ]
  },
  {
   "cell_type": "code",
   "execution_count": 79,
   "metadata": {},
   "outputs": [],
   "source": [
    "review_bools = df.groupby('customer_id')['product_id'].value_counts()>1\n",
    "#T/F if more than 1 review for same product"
   ]
  },
  {
   "cell_type": "code",
   "execution_count": 87,
   "metadata": {},
   "outputs": [
    {
     "data": {
      "text/plain": [
       "5309"
      ]
     },
     "execution_count": 87,
     "metadata": {},
     "output_type": "execute_result"
    }
   ],
   "source": [
    "review_bools[review_bools==True].count()"
   ]
  },
  {
   "cell_type": "markdown",
   "metadata": {},
   "source": [
    "Okay, based on this there are 5,309 customers with at least 2 reviews for the same product.  \n",
    "\n",
    "I could try to get the most recent review for each customer based on date. It's likely reasonable to assume that their latest review is probably the one that best reflects their final sentiment about the product. Unfortunately, because I don't have precise timestamps, if they wrote two reviews on the same day, I can't know which was their last word on the product. Other options would be to average all of their reviews' star values or to simply drop them, as they're a fairly small proportion of the overall set."
   ]
  },
  {
   "cell_type": "code",
   "execution_count": 117,
   "metadata": {},
   "outputs": [
    {
     "data": {
      "text/plain": [
       "[{198273: 'B00DNGQQUQ'},\n",
       " {224068: 'B0049LAVB4'},\n",
       " {815919: 'B0000TSR4C'},\n",
       " {884129: 'B000WMEEB2'},\n",
       " {884129: 'B00ERDGMT4'}]"
      ]
     },
     "execution_count": 117,
     "metadata": {},
     "output_type": "execute_result"
    }
   ],
   "source": [
    "xtra_rev_cs = []\n",
    "for key, value in dict(review_bools[review_bools==True]).items():\n",
    "    xtra_rev_cs.append({key[0]:key[1]}) #return customer id and product id ONLY\n",
    "#list of customer id numbers for those with more than 1 review for same item\n",
    "xtra_rev_cs[:5]  #preview"
   ]
  },
  {
   "cell_type": "code",
   "execution_count": 140,
   "metadata": {},
   "outputs": [
    {
     "data": {
      "text/plain": [
       "Int64Index([1572890, 1572901, 1572912, 1572927, 1572929, 1572933, 1572935,\n",
       "            1572936, 1572979, 1572980, 1572983, 1573111],\n",
       "           dtype='int64')"
      ]
     },
     "execution_count": 140,
     "metadata": {},
     "output_type": "execute_result"
    }
   ],
   "source": [
    "df[(df['customer_id'] == 38142327) & \n",
    "   (df['product_id']=='B00005NH6B')].sort_values(\n",
    "    by='review_date', ascending=False).index[1:] #test"
   ]
  },
  {
   "cell_type": "markdown",
   "metadata": {},
   "source": [
    "Okay - with the above code in conjunction with the xtra_rev_cs dictionary, I can filter the dataframe by customer_id and product_id to isolate the rows that pertain to a single product reviewed mutliple times by the same user, and then order it by date where the most recent date will be on top. While this does open the possibility that two reviews with the same date may be conflated as far as which ACTUALLY came first, the examples I've previewed in this situation are typically duplicates (i.e. someone submitted the same review twice). In that circumstance, either review is equally valid to keep.  \n",
    "\n",
    "The next step is to loop through my xtra_rev_cs dictionary and create a list of all the indexes EXCEPT the most recent one. I'll drop those others, and be left with one review per person per item."
   ]
  },
  {
   "cell_type": "code",
   "execution_count": 134,
   "metadata": {},
   "outputs": [
    {
     "data": {
      "text/plain": [
       "[Int64Index([26651], dtype='int64'),\n",
       " Int64Index([70501], dtype='int64'),\n",
       " Int64Index([90766], dtype='int64'),\n",
       " Int64Index([422385], dtype='int64'),\n",
       " Int64Index([421883], dtype='int64')]"
      ]
     },
     "execution_count": 134,
     "metadata": {},
     "output_type": "execute_result"
    }
   ],
   "source": [
    "rev_indexes_to_drop = []\n",
    "for pair in xtra_rev_cs:\n",
    "    for key, value in pair.items():\n",
    "        rev_indexes_to_drop.append(  #add index numbers to the empty list\n",
    "        df[(df['customer_id'] == key) &    #where customer id is the key from xtra_rev_cs...\n",
    "       (df['product_id']==value)].sort_values( #and product id is the value from xtra_rev_cs\n",
    "        by='review_date', ascending=False).index[1:] #starting with the SECOND index number\n",
    "        )\n",
    "rev_indexes_to_drop[:5] #preview"
   ]
  },
  {
   "cell_type": "code",
   "execution_count": 144,
   "metadata": {},
   "outputs": [
    {
     "data": {
      "text/plain": [
       "26651"
      ]
     },
     "execution_count": 144,
     "metadata": {},
     "output_type": "execute_result"
    }
   ],
   "source": [
    "rev_indexes_to_drop[0][0] #test"
   ]
  },
  {
   "cell_type": "code",
   "execution_count": 145,
   "metadata": {},
   "outputs": [
    {
     "data": {
      "text/plain": [
       "[26651, 70501, 90766, 422385, 421883]"
      ]
     },
     "execution_count": 145,
     "metadata": {},
     "output_type": "execute_result"
    }
   ],
   "source": [
    "ritd_2 = []\n",
    "for n in rev_indexes_to_drop:\n",
    "    for k in n:\n",
    "        ritd_2.append(k)\n",
    "ritd_2[:5] #preview"
   ]
  },
  {
   "cell_type": "code",
   "execution_count": 146,
   "metadata": {},
   "outputs": [
    {
     "data": {
      "text/plain": [
       "6140"
      ]
     },
     "execution_count": 146,
     "metadata": {},
     "output_type": "execute_result"
    }
   ],
   "source": [
    "len(ritd_2) #6140 rows of duplicate reviews to be dropped"
   ]
  },
  {
   "cell_type": "code",
   "execution_count": 147,
   "metadata": {},
   "outputs": [
    {
     "data": {
      "text/plain": [
       "customer_id  product_id\n",
       "53096565     B00006599W    1\n",
       "17664004     B000U5RRX8    1\n",
       "17663554     B000SH3XGS    1\n",
       "17663609     B002TK1PX0    1\n",
       "17663621     B00E20STAW    1\n",
       "                          ..\n",
       "38073024     B0088MVOES    1\n",
       "38073066     B006VB2UNM    1\n",
       "38073092     B007P6Y684    1\n",
       "             B00A9ZHWH0    1\n",
       "10018        B006VE40JQ    1\n",
       "Name: product_id, Length: 1641949, dtype: int64"
      ]
     },
     "execution_count": 147,
     "metadata": {},
     "output_type": "execute_result"
    }
   ],
   "source": [
    "df.drop(index=ritd_2, inplace=True) #drop all index numbers in list ritd_2\n",
    "df.groupby('customer_id')['product_id'].value_counts().sort_values(ascending=False) #check if gone"
   ]
  },
  {
   "cell_type": "code",
   "execution_count": 148,
   "metadata": {},
   "outputs": [],
   "source": [
    "df2 = df[['customer_id', 'product_id', 'product_title', 'star_rating']].copy()"
   ]
  },
  {
   "cell_type": "code",
   "execution_count": 150,
   "metadata": {},
   "outputs": [],
   "source": [
    "#pivot = pd.pivot_table(df2, index='product_title', columns='customer_id', values='star_rating')"
   ]
  },
  {
   "cell_type": "markdown",
   "metadata": {},
   "source": [
    "My first attempt at making a pivot table from this data failed because the created dataframe is too big. I'll have to do it in chunks."
   ]
  },
  {
   "cell_type": "code",
   "execution_count": null,
   "metadata": {},
   "outputs": [],
   "source": []
  },
  {
   "cell_type": "code",
   "execution_count": null,
   "metadata": {},
   "outputs": [],
   "source": []
  },
  {
   "cell_type": "code",
   "execution_count": null,
   "metadata": {},
   "outputs": [],
   "source": []
  },
  {
   "cell_type": "code",
   "execution_count": 172,
   "metadata": {},
   "outputs": [
    {
     "data": {
      "text/plain": [
       "44377.0"
      ]
     },
     "execution_count": 172,
     "metadata": {},
     "output_type": "execute_result"
    }
   ],
   "source": [
    "len(df2)/37"
   ]
  },
  {
   "cell_type": "code",
   "execution_count": 168,
   "metadata": {},
   "outputs": [
    {
     "data": {
      "text/html": [
       "<div>\n",
       "<style scoped>\n",
       "    .dataframe tbody tr th:only-of-type {\n",
       "        vertical-align: middle;\n",
       "    }\n",
       "\n",
       "    .dataframe tbody tr th {\n",
       "        vertical-align: top;\n",
       "    }\n",
       "\n",
       "    .dataframe thead th {\n",
       "        text-align: right;\n",
       "    }\n",
       "</style>\n",
       "<table border=\"1\" class=\"dataframe\">\n",
       "  <thead>\n",
       "    <tr style=\"text-align: right;\">\n",
       "      <th></th>\n",
       "      <th>customer_id</th>\n",
       "      <th>product_id</th>\n",
       "      <th>product_title</th>\n",
       "      <th>star_rating</th>\n",
       "    </tr>\n",
       "  </thead>\n",
       "  <tbody>\n",
       "    <tr>\n",
       "      <th>0</th>\n",
       "      <td>12039526</td>\n",
       "      <td>B001CXYMFS</td>\n",
       "      <td>Thrustmaster T-Flight Hotas X Flight Stick</td>\n",
       "      <td>5</td>\n",
       "    </tr>\n",
       "    <tr>\n",
       "      <th>1</th>\n",
       "      <td>2331478</td>\n",
       "      <td>B0029CSOD2</td>\n",
       "      <td>Hidden Mysteries: Titanic Secrets of the Fatef...</td>\n",
       "      <td>1</td>\n",
       "    </tr>\n",
       "    <tr>\n",
       "      <th>2</th>\n",
       "      <td>52495923</td>\n",
       "      <td>B00GOOSV98</td>\n",
       "      <td>GelTabz Performance Thumb Grips - PlayStation ...</td>\n",
       "      <td>3</td>\n",
       "    </tr>\n",
       "    <tr>\n",
       "      <th>3</th>\n",
       "      <td>14533949</td>\n",
       "      <td>B00Y074JOM</td>\n",
       "      <td>Zero Suit Samus amiibo - Japan Import (Super S...</td>\n",
       "      <td>4</td>\n",
       "    </tr>\n",
       "    <tr>\n",
       "      <th>4</th>\n",
       "      <td>17521011</td>\n",
       "      <td>B008XHCLFO</td>\n",
       "      <td>Protection for your 3DS XL</td>\n",
       "      <td>5</td>\n",
       "    </tr>\n",
       "    <tr>\n",
       "      <th>...</th>\n",
       "      <td>...</td>\n",
       "      <td>...</td>\n",
       "      <td>...</td>\n",
       "      <td>...</td>\n",
       "    </tr>\n",
       "    <tr>\n",
       "      <th>9996</th>\n",
       "      <td>2597447</td>\n",
       "      <td>B00005LVWL</td>\n",
       "      <td>Nancy Drew: Treasure In The Royal Tower - PC</td>\n",
       "      <td>5</td>\n",
       "    </tr>\n",
       "    <tr>\n",
       "      <th>9997</th>\n",
       "      <td>34800440</td>\n",
       "      <td>B00004WFVZ</td>\n",
       "      <td>Microsoft Combat Flight Simulator 2:  Pacific ...</td>\n",
       "      <td>5</td>\n",
       "    </tr>\n",
       "    <tr>\n",
       "      <th>9998</th>\n",
       "      <td>13984861</td>\n",
       "      <td>B00VETEZ34</td>\n",
       "      <td>PlayStation 4 500GB Console - Batman Arkham Kn...</td>\n",
       "      <td>5</td>\n",
       "    </tr>\n",
       "    <tr>\n",
       "      <th>9999</th>\n",
       "      <td>21531468</td>\n",
       "      <td>B00KAED850</td>\n",
       "      <td>Far Cry 4</td>\n",
       "      <td>5</td>\n",
       "    </tr>\n",
       "    <tr>\n",
       "      <th>10000</th>\n",
       "      <td>34899134</td>\n",
       "      <td>B00A7Q9ZQM</td>\n",
       "      <td>Tiger Woods PGA TOUR 14</td>\n",
       "      <td>4</td>\n",
       "    </tr>\n",
       "  </tbody>\n",
       "</table>\n",
       "<p>10000 rows × 4 columns</p>\n",
       "</div>"
      ],
      "text/plain": [
       "       customer_id  product_id  \\\n",
       "0         12039526  B001CXYMFS   \n",
       "1          2331478  B0029CSOD2   \n",
       "2         52495923  B00GOOSV98   \n",
       "3         14533949  B00Y074JOM   \n",
       "4         17521011  B008XHCLFO   \n",
       "...            ...         ...   \n",
       "9996       2597447  B00005LVWL   \n",
       "9997      34800440  B00004WFVZ   \n",
       "9998      13984861  B00VETEZ34   \n",
       "9999      21531468  B00KAED850   \n",
       "10000     34899134  B00A7Q9ZQM   \n",
       "\n",
       "                                           product_title  star_rating  \n",
       "0             Thrustmaster T-Flight Hotas X Flight Stick            5  \n",
       "1      Hidden Mysteries: Titanic Secrets of the Fatef...            1  \n",
       "2      GelTabz Performance Thumb Grips - PlayStation ...            3  \n",
       "3      Zero Suit Samus amiibo - Japan Import (Super S...            4  \n",
       "4                             Protection for your 3DS XL            5  \n",
       "...                                                  ...          ...  \n",
       "9996        Nancy Drew: Treasure In The Royal Tower - PC            5  \n",
       "9997   Microsoft Combat Flight Simulator 2:  Pacific ...            5  \n",
       "9998   PlayStation 4 500GB Console - Batman Arkham Kn...            5  \n",
       "9999                                           Far Cry 4            5  \n",
       "10000                            Tiger Woods PGA TOUR 14            4  \n",
       "\n",
       "[10000 rows x 4 columns]"
      ]
     },
     "execution_count": 168,
     "metadata": {},
     "output_type": "execute_result"
    }
   ],
   "source": [
    "df2[:10_000] #partial dataframe"
   ]
  },
  {
   "cell_type": "code",
   "execution_count": 170,
   "metadata": {},
   "outputs": [],
   "source": [
    "pivot = pd.pivot_table(df2[:100_000], index='product_title', \n",
    "                       columns='customer_id', \n",
    "                       values='star_rating') #test"
   ]
  },
  {
   "cell_type": "code",
   "execution_count": 184,
   "metadata": {},
   "outputs": [],
   "source": [
    "def chunky_pivot(dataframe):\n",
    "    final_pivot = pd.Series(dtype='str')\n",
    "    size = len(dataframe)\n",
    "    new_size = size\n",
    "    chunk_size=50_000\n",
    "    while new_size > 50_000:\n",
    "        pivot = pd.pivot_table(df2[(chunk_size-50_000):chunk_size], index='product_title', \n",
    "                       columns='customer_id', \n",
    "                       values='star_rating')\n",
    "        sparse_pivot = sparse.csr_matrix(pivot.fillna(0))\n",
    "        final_pivot = pd.concat([final_pivot, sparse_pivot]) #aggregate sparse matrices\n",
    "        new_size-=50_000 #keep track of how much of df is left to process\n",
    "        chunk_size+=50_000 #next set of rows\n",
    "    #last pivot with remaining rows\n",
    "    pivot = pd.pivot_table(df2[size-new_size:],\n",
    "                           index='product_title', \n",
    "                       columns='customer_id', \n",
    "                       values='star_rating')\n",
    "    sparse_pivot = sparse.csr_matrix(pivot.fillna(0))\n",
    "    final_pivot = pd.concat([final_pivot, sparse_pivot]) #aggregate sparse matrices \n",
    "    return pd.concat([matrix for matrix in final_pivot]) #combine all sparse matrices into one"
   ]
  },
  {
   "cell_type": "code",
   "execution_count": 185,
   "metadata": {},
   "outputs": [
    {
     "ename": "TypeError",
     "evalue": "cannot concatenate object of type '<class 'scipy.sparse.csr.csr_matrix'>'; only Series and DataFrame objs are valid",
     "output_type": "error",
     "traceback": [
      "\u001b[1;31m---------------------------------------------------------------------------\u001b[0m",
      "\u001b[1;31mTypeError\u001b[0m                                 Traceback (most recent call last)",
      "\u001b[1;32m<ipython-input-185-8ec51a3dc7a1>\u001b[0m in \u001b[0;36m<module>\u001b[1;34m\u001b[0m\n\u001b[1;32m----> 1\u001b[1;33m \u001b[0mvg_sparse\u001b[0m \u001b[1;33m=\u001b[0m \u001b[0mchunky_pivot\u001b[0m\u001b[1;33m(\u001b[0m\u001b[0mdf2\u001b[0m\u001b[1;33m)\u001b[0m\u001b[1;33m\u001b[0m\u001b[1;33m\u001b[0m\u001b[0m\n\u001b[0m",
      "\u001b[1;32m<ipython-input-184-49d0338d907d>\u001b[0m in \u001b[0;36mchunky_pivot\u001b[1;34m(dataframe)\u001b[0m\n\u001b[0;32m      9\u001b[0m                        values='star_rating')\n\u001b[0;32m     10\u001b[0m         \u001b[0msparse_pivot\u001b[0m \u001b[1;33m=\u001b[0m \u001b[0msparse\u001b[0m\u001b[1;33m.\u001b[0m\u001b[0mcsr_matrix\u001b[0m\u001b[1;33m(\u001b[0m\u001b[0mpivot\u001b[0m\u001b[1;33m.\u001b[0m\u001b[0mfillna\u001b[0m\u001b[1;33m(\u001b[0m\u001b[1;36m0\u001b[0m\u001b[1;33m)\u001b[0m\u001b[1;33m)\u001b[0m\u001b[1;33m\u001b[0m\u001b[1;33m\u001b[0m\u001b[0m\n\u001b[1;32m---> 11\u001b[1;33m         \u001b[0mfinal_pivot\u001b[0m \u001b[1;33m=\u001b[0m \u001b[0mpd\u001b[0m\u001b[1;33m.\u001b[0m\u001b[0mconcat\u001b[0m\u001b[1;33m(\u001b[0m\u001b[1;33m[\u001b[0m\u001b[0mfinal_pivot\u001b[0m\u001b[1;33m,\u001b[0m \u001b[0msparse_pivot\u001b[0m\u001b[1;33m]\u001b[0m\u001b[1;33m)\u001b[0m \u001b[1;31m#aggregate sparse matrices\u001b[0m\u001b[1;33m\u001b[0m\u001b[1;33m\u001b[0m\u001b[0m\n\u001b[0m\u001b[0;32m     12\u001b[0m         \u001b[0mnew_size\u001b[0m\u001b[1;33m-=\u001b[0m\u001b[1;36m50_000\u001b[0m \u001b[1;31m#keep track of how much of df is left to process\u001b[0m\u001b[1;33m\u001b[0m\u001b[1;33m\u001b[0m\u001b[0m\n\u001b[0;32m     13\u001b[0m         \u001b[0mchunk_size\u001b[0m\u001b[1;33m+=\u001b[0m\u001b[1;36m50_000\u001b[0m \u001b[1;31m#next set of rows\u001b[0m\u001b[1;33m\u001b[0m\u001b[1;33m\u001b[0m\u001b[0m\n",
      "\u001b[1;32m~\\anaconda3\\lib\\site-packages\\pandas\\core\\reshape\\concat.py\u001b[0m in \u001b[0;36mconcat\u001b[1;34m(objs, axis, join, ignore_index, keys, levels, names, verify_integrity, sort, copy)\u001b[0m\n\u001b[0;32m    269\u001b[0m     \u001b[0mValueError\u001b[0m\u001b[1;33m:\u001b[0m \u001b[0mIndexes\u001b[0m \u001b[0mhave\u001b[0m \u001b[0moverlapping\u001b[0m \u001b[0mvalues\u001b[0m\u001b[1;33m:\u001b[0m \u001b[1;33m[\u001b[0m\u001b[1;34m'a'\u001b[0m\u001b[1;33m]\u001b[0m\u001b[1;33m\u001b[0m\u001b[1;33m\u001b[0m\u001b[0m\n\u001b[0;32m    270\u001b[0m     \"\"\"\n\u001b[1;32m--> 271\u001b[1;33m     op = _Concatenator(\n\u001b[0m\u001b[0;32m    272\u001b[0m         \u001b[0mobjs\u001b[0m\u001b[1;33m,\u001b[0m\u001b[1;33m\u001b[0m\u001b[1;33m\u001b[0m\u001b[0m\n\u001b[0;32m    273\u001b[0m         \u001b[0maxis\u001b[0m\u001b[1;33m=\u001b[0m\u001b[0maxis\u001b[0m\u001b[1;33m,\u001b[0m\u001b[1;33m\u001b[0m\u001b[1;33m\u001b[0m\u001b[0m\n",
      "\u001b[1;32m~\\anaconda3\\lib\\site-packages\\pandas\\core\\reshape\\concat.py\u001b[0m in \u001b[0;36m__init__\u001b[1;34m(self, objs, axis, join, keys, levels, names, ignore_index, verify_integrity, copy, sort)\u001b[0m\n\u001b[0;32m    355\u001b[0m                     \u001b[1;34m\"only Series and DataFrame objs are valid\"\u001b[0m\u001b[1;33m.\u001b[0m\u001b[0mformat\u001b[0m\u001b[1;33m(\u001b[0m\u001b[0mtyp\u001b[0m\u001b[1;33m=\u001b[0m\u001b[0mtype\u001b[0m\u001b[1;33m(\u001b[0m\u001b[0mobj\u001b[0m\u001b[1;33m)\u001b[0m\u001b[1;33m)\u001b[0m\u001b[1;33m\u001b[0m\u001b[1;33m\u001b[0m\u001b[0m\n\u001b[0;32m    356\u001b[0m                 )\n\u001b[1;32m--> 357\u001b[1;33m                 \u001b[1;32mraise\u001b[0m \u001b[0mTypeError\u001b[0m\u001b[1;33m(\u001b[0m\u001b[0mmsg\u001b[0m\u001b[1;33m)\u001b[0m\u001b[1;33m\u001b[0m\u001b[1;33m\u001b[0m\u001b[0m\n\u001b[0m\u001b[0;32m    358\u001b[0m \u001b[1;33m\u001b[0m\u001b[0m\n\u001b[0;32m    359\u001b[0m             \u001b[1;31m# consolidate\u001b[0m\u001b[1;33m\u001b[0m\u001b[1;33m\u001b[0m\u001b[1;33m\u001b[0m\u001b[0m\n",
      "\u001b[1;31mTypeError\u001b[0m: cannot concatenate object of type '<class 'scipy.sparse.csr.csr_matrix'>'; only Series and DataFrame objs are valid"
     ]
    }
   ],
   "source": [
    "vg_sparse = chunky_pivot(df2)"
   ]
  },
  {
   "cell_type": "code",
   "execution_count": null,
   "metadata": {},
   "outputs": [],
   "source": []
  },
  {
   "cell_type": "code",
   "execution_count": null,
   "metadata": {},
   "outputs": [],
   "source": []
  },
  {
   "cell_type": "code",
   "execution_count": null,
   "metadata": {},
   "outputs": [],
   "source": []
  },
  {
   "cell_type": "code",
   "execution_count": null,
   "metadata": {},
   "outputs": [],
   "source": []
  },
  {
   "cell_type": "code",
   "execution_count": null,
   "metadata": {},
   "outputs": [],
   "source": []
  },
  {
   "cell_type": "code",
   "execution_count": 188,
   "metadata": {},
   "outputs": [],
   "source": [
    "chunk_sz = 10_000\n",
    "chunks = [n for n in range(0, len(df2), chunk_sz)]"
   ]
  },
  {
   "cell_type": "code",
   "execution_count": 189,
   "metadata": {},
   "outputs": [
    {
     "ename": "ValueError",
     "evalue": "Index contains duplicate entries, cannot reshape",
     "output_type": "error",
     "traceback": [
      "\u001b[1;31m---------------------------------------------------------------------------\u001b[0m",
      "\u001b[1;31mValueError\u001b[0m                                Traceback (most recent call last)",
      "\u001b[1;32m<ipython-input-189-af36ed8a550e>\u001b[0m in \u001b[0;36m<module>\u001b[1;34m\u001b[0m\n\u001b[0;32m      1\u001b[0m ch_df = pd.concat(\n\u001b[1;32m----> 2\u001b[1;33m     [df2.loc[chunks[i]:chunks[i+1]-1].pivot(\n\u001b[0m\u001b[0;32m      3\u001b[0m         index='product_title', columns='customer_id', values='star_rating')\n\u001b[0;32m      4\u001b[0m     for i in range(0,len(chunks)-1)])\n",
      "\u001b[1;32m<ipython-input-189-af36ed8a550e>\u001b[0m in \u001b[0;36m<listcomp>\u001b[1;34m(.0)\u001b[0m\n\u001b[0;32m      1\u001b[0m ch_df = pd.concat(\n\u001b[1;32m----> 2\u001b[1;33m     [df2.loc[chunks[i]:chunks[i+1]-1].pivot(\n\u001b[0m\u001b[0;32m      3\u001b[0m         index='product_title', columns='customer_id', values='star_rating')\n\u001b[0;32m      4\u001b[0m     for i in range(0,len(chunks)-1)])\n",
      "\u001b[1;32m~\\anaconda3\\lib\\site-packages\\pandas\\core\\frame.py\u001b[0m in \u001b[0;36mpivot\u001b[1;34m(self, index, columns, values)\u001b[0m\n\u001b[0;32m   5921\u001b[0m         \u001b[1;32mfrom\u001b[0m \u001b[0mpandas\u001b[0m\u001b[1;33m.\u001b[0m\u001b[0mcore\u001b[0m\u001b[1;33m.\u001b[0m\u001b[0mreshape\u001b[0m\u001b[1;33m.\u001b[0m\u001b[0mpivot\u001b[0m \u001b[1;32mimport\u001b[0m \u001b[0mpivot\u001b[0m\u001b[1;33m\u001b[0m\u001b[1;33m\u001b[0m\u001b[0m\n\u001b[0;32m   5922\u001b[0m \u001b[1;33m\u001b[0m\u001b[0m\n\u001b[1;32m-> 5923\u001b[1;33m         \u001b[1;32mreturn\u001b[0m \u001b[0mpivot\u001b[0m\u001b[1;33m(\u001b[0m\u001b[0mself\u001b[0m\u001b[1;33m,\u001b[0m \u001b[0mindex\u001b[0m\u001b[1;33m=\u001b[0m\u001b[0mindex\u001b[0m\u001b[1;33m,\u001b[0m \u001b[0mcolumns\u001b[0m\u001b[1;33m=\u001b[0m\u001b[0mcolumns\u001b[0m\u001b[1;33m,\u001b[0m \u001b[0mvalues\u001b[0m\u001b[1;33m=\u001b[0m\u001b[0mvalues\u001b[0m\u001b[1;33m)\u001b[0m\u001b[1;33m\u001b[0m\u001b[1;33m\u001b[0m\u001b[0m\n\u001b[0m\u001b[0;32m   5924\u001b[0m \u001b[1;33m\u001b[0m\u001b[0m\n\u001b[0;32m   5925\u001b[0m     _shared_docs[\n",
      "\u001b[1;32m~\\anaconda3\\lib\\site-packages\\pandas\\core\\reshape\\pivot.py\u001b[0m in \u001b[0;36mpivot\u001b[1;34m(data, index, columns, values)\u001b[0m\n\u001b[0;32m    448\u001b[0m         \u001b[1;32melse\u001b[0m\u001b[1;33m:\u001b[0m\u001b[1;33m\u001b[0m\u001b[1;33m\u001b[0m\u001b[0m\n\u001b[0;32m    449\u001b[0m             \u001b[0mindexed\u001b[0m \u001b[1;33m=\u001b[0m \u001b[0mdata\u001b[0m\u001b[1;33m.\u001b[0m\u001b[0m_constructor_sliced\u001b[0m\u001b[1;33m(\u001b[0m\u001b[0mdata\u001b[0m\u001b[1;33m[\u001b[0m\u001b[0mvalues\u001b[0m\u001b[1;33m]\u001b[0m\u001b[1;33m.\u001b[0m\u001b[0mvalues\u001b[0m\u001b[1;33m,\u001b[0m \u001b[0mindex\u001b[0m\u001b[1;33m=\u001b[0m\u001b[0mindex\u001b[0m\u001b[1;33m)\u001b[0m\u001b[1;33m\u001b[0m\u001b[1;33m\u001b[0m\u001b[0m\n\u001b[1;32m--> 450\u001b[1;33m     \u001b[1;32mreturn\u001b[0m \u001b[0mindexed\u001b[0m\u001b[1;33m.\u001b[0m\u001b[0munstack\u001b[0m\u001b[1;33m(\u001b[0m\u001b[0mcolumns\u001b[0m\u001b[1;33m)\u001b[0m\u001b[1;33m\u001b[0m\u001b[1;33m\u001b[0m\u001b[0m\n\u001b[0m\u001b[0;32m    451\u001b[0m \u001b[1;33m\u001b[0m\u001b[0m\n\u001b[0;32m    452\u001b[0m \u001b[1;33m\u001b[0m\u001b[0m\n",
      "\u001b[1;32m~\\anaconda3\\lib\\site-packages\\pandas\\core\\series.py\u001b[0m in \u001b[0;36munstack\u001b[1;34m(self, level, fill_value)\u001b[0m\n\u001b[0;32m   3548\u001b[0m         \u001b[1;32mfrom\u001b[0m \u001b[0mpandas\u001b[0m\u001b[1;33m.\u001b[0m\u001b[0mcore\u001b[0m\u001b[1;33m.\u001b[0m\u001b[0mreshape\u001b[0m\u001b[1;33m.\u001b[0m\u001b[0mreshape\u001b[0m \u001b[1;32mimport\u001b[0m \u001b[0munstack\u001b[0m\u001b[1;33m\u001b[0m\u001b[1;33m\u001b[0m\u001b[0m\n\u001b[0;32m   3549\u001b[0m \u001b[1;33m\u001b[0m\u001b[0m\n\u001b[1;32m-> 3550\u001b[1;33m         \u001b[1;32mreturn\u001b[0m \u001b[0munstack\u001b[0m\u001b[1;33m(\u001b[0m\u001b[0mself\u001b[0m\u001b[1;33m,\u001b[0m \u001b[0mlevel\u001b[0m\u001b[1;33m,\u001b[0m \u001b[0mfill_value\u001b[0m\u001b[1;33m)\u001b[0m\u001b[1;33m\u001b[0m\u001b[1;33m\u001b[0m\u001b[0m\n\u001b[0m\u001b[0;32m   3551\u001b[0m \u001b[1;33m\u001b[0m\u001b[0m\n\u001b[0;32m   3552\u001b[0m     \u001b[1;31m# ----------------------------------------------------------------------\u001b[0m\u001b[1;33m\u001b[0m\u001b[1;33m\u001b[0m\u001b[1;33m\u001b[0m\u001b[0m\n",
      "\u001b[1;32m~\\anaconda3\\lib\\site-packages\\pandas\\core\\reshape\\reshape.py\u001b[0m in \u001b[0;36munstack\u001b[1;34m(obj, level, fill_value)\u001b[0m\n\u001b[0;32m    412\u001b[0m         \u001b[1;32mif\u001b[0m \u001b[0mis_extension_array_dtype\u001b[0m\u001b[1;33m(\u001b[0m\u001b[0mobj\u001b[0m\u001b[1;33m.\u001b[0m\u001b[0mdtype\u001b[0m\u001b[1;33m)\u001b[0m\u001b[1;33m:\u001b[0m\u001b[1;33m\u001b[0m\u001b[1;33m\u001b[0m\u001b[0m\n\u001b[0;32m    413\u001b[0m             \u001b[1;32mreturn\u001b[0m \u001b[0m_unstack_extension_series\u001b[0m\u001b[1;33m(\u001b[0m\u001b[0mobj\u001b[0m\u001b[1;33m,\u001b[0m \u001b[0mlevel\u001b[0m\u001b[1;33m,\u001b[0m \u001b[0mfill_value\u001b[0m\u001b[1;33m)\u001b[0m\u001b[1;33m\u001b[0m\u001b[1;33m\u001b[0m\u001b[0m\n\u001b[1;32m--> 414\u001b[1;33m         unstacker = _Unstacker(\n\u001b[0m\u001b[0;32m    415\u001b[0m             \u001b[0mobj\u001b[0m\u001b[1;33m.\u001b[0m\u001b[0mvalues\u001b[0m\u001b[1;33m,\u001b[0m\u001b[1;33m\u001b[0m\u001b[1;33m\u001b[0m\u001b[0m\n\u001b[0;32m    416\u001b[0m             \u001b[0mobj\u001b[0m\u001b[1;33m.\u001b[0m\u001b[0mindex\u001b[0m\u001b[1;33m,\u001b[0m\u001b[1;33m\u001b[0m\u001b[1;33m\u001b[0m\u001b[0m\n",
      "\u001b[1;32m~\\anaconda3\\lib\\site-packages\\pandas\\core\\reshape\\reshape.py\u001b[0m in \u001b[0;36m__init__\u001b[1;34m(self, values, index, level, value_columns, fill_value, constructor)\u001b[0m\n\u001b[0;32m    139\u001b[0m \u001b[1;33m\u001b[0m\u001b[0m\n\u001b[0;32m    140\u001b[0m         \u001b[0mself\u001b[0m\u001b[1;33m.\u001b[0m\u001b[0m_make_sorted_values_labels\u001b[0m\u001b[1;33m(\u001b[0m\u001b[1;33m)\u001b[0m\u001b[1;33m\u001b[0m\u001b[1;33m\u001b[0m\u001b[0m\n\u001b[1;32m--> 141\u001b[1;33m         \u001b[0mself\u001b[0m\u001b[1;33m.\u001b[0m\u001b[0m_make_selectors\u001b[0m\u001b[1;33m(\u001b[0m\u001b[1;33m)\u001b[0m\u001b[1;33m\u001b[0m\u001b[1;33m\u001b[0m\u001b[0m\n\u001b[0m\u001b[0;32m    142\u001b[0m \u001b[1;33m\u001b[0m\u001b[0m\n\u001b[0;32m    143\u001b[0m     \u001b[1;32mdef\u001b[0m \u001b[0m_make_sorted_values_labels\u001b[0m\u001b[1;33m(\u001b[0m\u001b[0mself\u001b[0m\u001b[1;33m)\u001b[0m\u001b[1;33m:\u001b[0m\u001b[1;33m\u001b[0m\u001b[1;33m\u001b[0m\u001b[0m\n",
      "\u001b[1;32m~\\anaconda3\\lib\\site-packages\\pandas\\core\\reshape\\reshape.py\u001b[0m in \u001b[0;36m_make_selectors\u001b[1;34m(self)\u001b[0m\n\u001b[0;32m    177\u001b[0m \u001b[1;33m\u001b[0m\u001b[0m\n\u001b[0;32m    178\u001b[0m         \u001b[1;32mif\u001b[0m \u001b[0mmask\u001b[0m\u001b[1;33m.\u001b[0m\u001b[0msum\u001b[0m\u001b[1;33m(\u001b[0m\u001b[1;33m)\u001b[0m \u001b[1;33m<\u001b[0m \u001b[0mlen\u001b[0m\u001b[1;33m(\u001b[0m\u001b[0mself\u001b[0m\u001b[1;33m.\u001b[0m\u001b[0mindex\u001b[0m\u001b[1;33m)\u001b[0m\u001b[1;33m:\u001b[0m\u001b[1;33m\u001b[0m\u001b[1;33m\u001b[0m\u001b[0m\n\u001b[1;32m--> 179\u001b[1;33m             \u001b[1;32mraise\u001b[0m \u001b[0mValueError\u001b[0m\u001b[1;33m(\u001b[0m\u001b[1;34m\"Index contains duplicate entries, cannot reshape\"\u001b[0m\u001b[1;33m)\u001b[0m\u001b[1;33m\u001b[0m\u001b[1;33m\u001b[0m\u001b[0m\n\u001b[0m\u001b[0;32m    180\u001b[0m \u001b[1;33m\u001b[0m\u001b[0m\n\u001b[0;32m    181\u001b[0m         \u001b[0mself\u001b[0m\u001b[1;33m.\u001b[0m\u001b[0mgroup_index\u001b[0m \u001b[1;33m=\u001b[0m \u001b[0mcomp_index\u001b[0m\u001b[1;33m\u001b[0m\u001b[1;33m\u001b[0m\u001b[0m\n",
      "\u001b[1;31mValueError\u001b[0m: Index contains duplicate entries, cannot reshape"
     ]
    }
   ],
   "source": [
    "ch_df = pd.concat(\n",
    "    [df2.loc[chunks[i]:chunks[i+1]-1].pivot(\n",
    "        index='product_title', columns='customer_id', values='star_rating')\n",
    "    for i in range(0,len(chunks)-1)])"
   ]
  },
  {
   "cell_type": "code",
   "execution_count": null,
   "metadata": {},
   "outputs": [],
   "source": []
  }
 ],
 "metadata": {
  "kernelspec": {
   "display_name": "Python 3",
   "language": "python",
   "name": "python3"
  },
  "language_info": {
   "codemirror_mode": {
    "name": "ipython",
    "version": 3
   },
   "file_extension": ".py",
   "mimetype": "text/x-python",
   "name": "python",
   "nbconvert_exporter": "python",
   "pygments_lexer": "ipython3",
   "version": "3.8.3"
  }
 },
 "nbformat": 4,
 "nbformat_minor": 4
}
