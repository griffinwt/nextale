{
 "cells": [
  {
   "cell_type": "code",
   "execution_count": 1,
   "metadata": {},
   "outputs": [],
   "source": [
    "#imports\n",
    "import pandas as pd\n",
    "import numpy as np\n",
    "import re\n",
    "import time\n",
    "import sys\n",
    "pd.set_option('display.max_colwidth', None)\n",
    "import pickle\n",
    "from sklearn.metrics.pairwise import pairwise_distances, cosine_distances, cosine_similarity\n",
    "from scipy import sparse\n",
    "from matplotlib import pyplot as plt\n",
    "import utils as ut"
   ]
  },
  {
   "cell_type": "code",
   "execution_count": 3,
   "metadata": {},
   "outputs": [],
   "source": [
    "#load in new recommender dictionaries (not dataframes)\n",
    "with open('./pickles/new_vg_rec.pkl', 'rb') as f:\n",
    "    vg_rec = pickle.load(f)\n",
    "\n",
    "with open('./pickles/new_movies_rec.pkl', 'rb') as f:\n",
    "    movies_rec = pickle.load(f)\n",
    "\n",
    "with open('./pickles/new_books_rec.pkl', 'rb') as f:\n",
    "    books_rec = pickle.load(f)"
   ]
  },
  {
   "cell_type": "code",
   "execution_count": 4,
   "metadata": {},
   "outputs": [],
   "source": [
    "#load in lookup dataframes\n",
    "vg_look = pd.read_pickle('./pickles/vg_look_small.pkl')\n",
    "movies_look = pd.read_pickle('./pickles/movies_look_small.pkl')\n",
    "books_look = pd.read_pickle('./pickles/books_look_small.pkl')"
   ]
  },
  {
   "cell_type": "code",
   "execution_count": 80,
   "metadata": {},
   "outputs": [],
   "source": [
    "#test\n",
    "\n",
    "lookup = books_look\n",
    "recommender = books_rec\n",
    "\n",
    "def make_recs_new(query, wout=''):  #need to set lookup and recommender global variables prior to calling   \n",
    "    try:\n",
    "        query=query.lower() #lowercase entry, lowercase titles (only during search, below)\n",
    "        titles = list(lookup[lookup['product_title'].map(lambda x: x.lower()).str.contains(query)]['product_title'])\n",
    "        q = titles[0] #this is the item to search for\n",
    "        \n",
    "        message = f'''\n",
    "        **Most Popular Item Containing Your Search Term(s):** {q}  \n",
    "        There are {round(lookup[lookup['product_title']==q]['tot_prod_reviews'].mean())} total reviews for this item and it has an average star rating of {round(lookup[lookup['product_title']==q]['avg_prod_stars'].mean(), 2)}\n",
    "        '''      \n",
    "\n",
    "        if wout == '':           \n",
    "            top10_prods = []\n",
    "            num_prod_revs = []\n",
    "            avg_prod_stars = []\n",
    "            for key in list(recommender[q].keys())[1:11]:\n",
    "                top10_prods.append(key)\n",
    "                num_prod_revs.append(round(lookup[lookup['product_title']==key]['tot_prod_reviews'].mean()))\n",
    "                avg_prod_stars.append(round(lookup[lookup['product_title']==key]['avg_prod_stars'].mean(), 2))\n",
    "            final_output_df = pd.DataFrame(data = {\n",
    "                'Recommended Items':top10_prods,\n",
    "                'Total Reviews for Product':num_prod_revs,\n",
    "                'Avg Product Star Rating(1-5)':avg_prod_stars\n",
    "            }, index=range(1,11))\n",
    "            return message, final_output_df            \n",
    "            \n",
    "        else:\n",
    "            \n",
    "            wout = wout.lower() #lowercase\n",
    "            filtered_query = [] #make empty list\n",
    "            for key in list(recommender[q].keys()):\n",
    "                if wout not in key.lower(): #check if avoided keyword is in results\n",
    "                    filtered_query.append(key)\n",
    "            top10_prods = []\n",
    "            num_prod_revs = []\n",
    "            avg_prod_stars = []\n",
    "            for item in filtered_query[1:11]:\n",
    "                top10_prods.append(item)\n",
    "                num_prod_revs.append(round(lookup[lookup['product_title']==item]['tot_prod_reviews'].mean()))\n",
    "                avg_prod_stars.append(round(lookup[lookup['product_title']==item]['avg_prod_stars'].mean(), 2))\n",
    "            final_output_df = pd.DataFrame(data = {\n",
    "                'Recommended Items':top10_prods,\n",
    "                'Total Reviews for Product':num_prod_revs,\n",
    "                'Avg Product Star Rating(1-5)':avg_prod_stars\n",
    "                }, index=range(1,11))\n",
    "            return message, final_output_df\n",
    "        \n",
    "    except:\n",
    "        return f'Sorry, \"{query}\" does not appear to be in the product database'"
   ]
  },
  {
   "cell_type": "code",
   "execution_count": 81,
   "metadata": {},
   "outputs": [
    {
     "data": {
      "text/plain": [
       "('\\n        **Most Popular Item Containing Your Search Term(s):** Batman: The Dark Knight Returns  \\n        There are 177 total reviews for this item and it has an average star rating of 4.64\\n        ',\n",
       "                                   Recommended Items  \\\n",
       " 1                                          Watchmen   \n",
       " 2                                  Batman: Year One   \n",
       " 3                          Batman: The Killing Joke   \n",
       " 4                             Batman: Arkham Asylum   \n",
       " 5   Batman: Year One (Batman (DC Comics Hardcover))   \n",
       " 6                                    V for Vendetta   \n",
       " 7                        Batman: The Long Halloween   \n",
       " 8      Daredevil Visionaries - Frank Miller, Vol. 1   \n",
       " 9                              Batman: Dark Victory   \n",
       " 10                                          Marvels   \n",
       " \n",
       "     Total Reviews for Product  Avg Product Star Rating(1-5)  \n",
       " 1                         203                          4.68  \n",
       " 2                          39                          4.72  \n",
       " 3                          80                          4.51  \n",
       " 4                          33                          3.82  \n",
       " 5                          22                          4.59  \n",
       " 6                          92                          4.54  \n",
       " 7                          56                          4.38  \n",
       " 8                          18                          4.28  \n",
       " 9                          14                          4.71  \n",
       " 10                         31                          4.48  )"
      ]
     },
     "execution_count": 81,
     "metadata": {},
     "output_type": "execute_result"
    }
   ],
   "source": [
    "make_recs_new('batman')"
   ]
  },
  {
   "cell_type": "code",
   "execution_count": 41,
   "metadata": {},
   "outputs": [],
   "source": [
    "#https://docs.python.org/3/library/bz2.html\n",
    "#https://medium.com/better-programming/load-fast-load-big-with-compressed-pickles-5f311584507e#:~:text=Compressed%20Pickles%20If%20you%20have%20been%20working%20in,bytes.%20It%20cuts%20loading%20time%20to%20a%20fraction.\n",
    "import bz2"
   ]
  },
  {
   "cell_type": "code",
   "execution_count": 42,
   "metadata": {},
   "outputs": [],
   "source": [
    "import _pickle as cPickle"
   ]
  },
  {
   "cell_type": "code",
   "execution_count": 43,
   "metadata": {},
   "outputs": [],
   "source": [
    "#save compressed pickle\n",
    "with bz2.BZ2File('./compressed/movies_rec_c.pbz2', 'w') as f:\n",
    "    cPickle.dump(movies_rec, f)"
   ]
  },
  {
   "cell_type": "code",
   "execution_count": 44,
   "metadata": {},
   "outputs": [
    {
     "name": "stdout",
     "output_type": "stream",
     "text": [
      "True\n"
     ]
    }
   ],
   "source": [
    "#test opening compressed pickle, assert = to original\n",
    "test_movies = bz2.BZ2File('./compressed/movies_rec_c.pbz2', 'rb')\n",
    "test_movies = cPickle.load(test_movies)\n",
    "\n",
    "print(test_movies == movies_rec)"
   ]
  },
  {
   "cell_type": "markdown",
   "metadata": {},
   "source": [
    "Okay - that worked! Time to save compressed forms of the other two dataframes in the same format (for good measure)."
   ]
  },
  {
   "cell_type": "code",
   "execution_count": 45,
   "metadata": {},
   "outputs": [],
   "source": [
    "with bz2.BZ2File('./compressed/vg_rec_c.pbz2', 'w') as f:\n",
    "    cPickle.dump(vg_rec, f)\n",
    "    \n",
    "with bz2.BZ2File('./compressed/books_rec_c.pbz2', 'w') as f:\n",
    "    cPickle.dump(books_rec, f)"
   ]
  },
  {
   "cell_type": "code",
   "execution_count": 48,
   "metadata": {},
   "outputs": [],
   "source": [
    "#adding duplicate pickled lookup dataframes to the \"compressed\" folder\n",
    "books_look.to_pickle('./compressed/books_look_c.pkl')\n",
    "movies_look.to_pickle('./compressed/movies_look_c.pkl')\n",
    "vg_look.to_pickle('./compressed/vg_look_c.pkl')"
   ]
  },
  {
   "cell_type": "markdown",
   "metadata": {},
   "source": [
    "Ideally I can make a function to read in the compressed dictionaries - that way my app can cache that return and bring it up faster when a user is interacting with it."
   ]
  },
  {
   "cell_type": "code",
   "execution_count": 49,
   "metadata": {},
   "outputs": [],
   "source": [
    "def b_rec():\n",
    "    return cPickle.load(bz2.BZ2File('./compressed/books_rec_c.pbz2'))\n",
    "\n",
    "def m_rec():\n",
    "    return cPickle.load(bz2.BZ2File('./compressed/movies_rec_c.pbz2'))\n",
    "\n",
    "def v_rec():\n",
    "    return cPickle.load(bz2.BZ2File('./compressed/vg_rec_c.pbz2'))"
   ]
  },
  {
   "cell_type": "markdown",
   "metadata": {},
   "source": [
    "As it happens - streamlit does not accept the default protocol (5) of pickled dataframes. I need to resave them with protocol 3 in order to use them on the application."
   ]
  },
  {
   "cell_type": "code",
   "execution_count": 51,
   "metadata": {},
   "outputs": [],
   "source": [
    "vg_look.to_pickle('./compressed/vg_look_p3', protocol=3)"
   ]
  },
  {
   "cell_type": "code",
   "execution_count": 52,
   "metadata": {},
   "outputs": [],
   "source": [
    "movies_look.to_pickle('./compressed/movies_look_p3', protocol=3)\n",
    "books_look.to_pickle('./compressed/books_look_p3', protocol=3)"
   ]
  },
  {
   "cell_type": "markdown",
   "metadata": {},
   "source": [
    "The latest iteration of the recommender function (which returns a dataframe of 10 recommendations) no longer shows the item that everything else is being compared to. I'd like to re-introduce that functionality with a separate function so that people know what they're searching."
   ]
  },
  {
   "cell_type": "code",
   "execution_count": null,
   "metadata": {},
   "outputs": [],
   "source": []
  },
  {
   "cell_type": "code",
   "execution_count": 78,
   "metadata": {},
   "outputs": [],
   "source": [
    "def show_query_desc(query):\n",
    "    try:\n",
    "        query=query.lower()\n",
    "        titles = list(lookup[lookup['product_title'].map(lambda x: x.lower()).str.contains(query)]['product_title'])\n",
    "        item = titles[0]\n",
    "        return f'''\n",
    "        Most Popular Item Containing Your Search Term(s): {item}\n",
    "        There are {round(lookup[lookup['product_title']==item]['tot_prod_reviews'].mean())} total reviews for this item and it has an average star rating of {round(lookup[lookup['product_title']==item]['avg_prod_stars'].mean(), 2)}\n",
    "        '''\n",
    "        \n",
    "    except:\n",
    "        return f'{query} not found; please enter a valid search term'\n",
    "        \n",
    "        \n",
    "        #return pd.DataFrame(data = {'Most Popular Item Containing Your Search Term(s):' : item,\n",
    "        #                           'Total Reviews for Product': round(lookup[lookup['product_title']==item]['tot_prod_reviews'].mean()),\n",
    "        #                            'Avg Product Star Rating(1-5)': round(lookup[lookup['product_title']==item]['avg_prod_stars'].mean(), 2)\n",
    "        #                           }, index=['Search'])\n",
    "   # except:\n",
    "    #    return pd.Dataframe(data = {'Error' : 'Sorry, no search results found'})"
   ]
  },
  {
   "cell_type": "code",
   "execution_count": 79,
   "metadata": {},
   "outputs": [
    {
     "data": {
      "text/plain": [
       "'\\n        Most Popular Item Containing Your Search Term(s): LEGO Harry Potter: Years 1-4\\n        There are 1012 total reviews for this item and it has an average star rating of 4.17\\n        '"
      ]
     },
     "execution_count": 79,
     "metadata": {},
     "output_type": "execute_result"
    }
   ],
   "source": [
    "lookup = vg_look\n",
    "\n",
    "show_query_desc('harry potter')"
   ]
  },
  {
   "cell_type": "markdown",
   "metadata": {},
   "source": [
    "Looks good!"
   ]
  }
 ],
 "metadata": {
  "kernelspec": {
   "display_name": "Python 3",
   "language": "python",
   "name": "python3"
  },
  "language_info": {
   "codemirror_mode": {
    "name": "ipython",
    "version": 3
   },
   "file_extension": ".py",
   "mimetype": "text/x-python",
   "name": "python",
   "nbconvert_exporter": "python",
   "pygments_lexer": "ipython3",
   "version": "3.8.3"
  }
 },
 "nbformat": 4,
 "nbformat_minor": 4
}
