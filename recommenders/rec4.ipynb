{
 "cells": [
  {
   "cell_type": "code",
   "execution_count": 7,
   "metadata": {},
   "outputs": [],
   "source": [
    "#imports\n",
    "import pandas as pd\n",
    "import numpy as np\n",
    "import requests\n",
    "from bs4 import BeautifulSoup, NavigableString, Tag\n",
    "import re\n",
    "import time\n",
    "import random\n",
    "import sys\n",
    "pd.set_option('display.max_colwidth', None)\n",
    "\n",
    "from sklearn.metrics.pairwise import pairwise_distances, cosine_distances, cosine_similarity\n",
    "from scipy import sparse\n",
    "from matplotlib import pyplot as plt\n",
    "import utils as ut"
   ]
  },
  {
   "cell_type": "markdown",
   "metadata": {},
   "source": [
    "The first thing to do on this page is to resave my lookup dataframes using the function I perfected at the end of rec3 - this should significantly improve the speed of my recommender function when returning results. I'll use the same variable for the read-in dataframes (lookup) in order to overwrite it and save memory."
   ]
  },
  {
   "cell_type": "markdown",
   "metadata": {},
   "source": [
    "Movies:"
   ]
  },
  {
   "cell_type": "code",
   "execution_count": 6,
   "metadata": {},
   "outputs": [],
   "source": [
    "lookup= pd.read_pickle('./pickles/movies_look.pkl')"
   ]
  },
  {
   "cell_type": "code",
   "execution_count": 7,
   "metadata": {},
   "outputs": [
    {
     "name": "stdout",
     "output_type": "stream",
     "text": [
      "(4405432, 7)\n",
      "72385\n"
     ]
    }
   ],
   "source": [
    "movies_small = ut.make_smaller_lookup(lookup)"
   ]
  },
  {
   "cell_type": "code",
   "execution_count": 8,
   "metadata": {},
   "outputs": [
    {
     "data": {
      "text/html": [
       "<div>\n",
       "<style scoped>\n",
       "    .dataframe tbody tr th:only-of-type {\n",
       "        vertical-align: middle;\n",
       "    }\n",
       "\n",
       "    .dataframe tbody tr th {\n",
       "        vertical-align: top;\n",
       "    }\n",
       "\n",
       "    .dataframe thead th {\n",
       "        text-align: right;\n",
       "    }\n",
       "</style>\n",
       "<table border=\"1\" class=\"dataframe\">\n",
       "  <thead>\n",
       "    <tr style=\"text-align: right;\">\n",
       "      <th></th>\n",
       "      <th>product_title</th>\n",
       "      <th>tot_prod_reviews</th>\n",
       "      <th>avg_prod_stars</th>\n",
       "    </tr>\n",
       "  </thead>\n",
       "  <tbody>\n",
       "    <tr>\n",
       "      <th>0</th>\n",
       "      <td>Firefly: The Complete Series</td>\n",
       "      <td>4959</td>\n",
       "      <td>4.859649</td>\n",
       "    </tr>\n",
       "    <tr>\n",
       "      <th>1</th>\n",
       "      <td>Jillian Michaels - 30 Day Shred</td>\n",
       "      <td>4958</td>\n",
       "      <td>4.547802</td>\n",
       "    </tr>\n",
       "    <tr>\n",
       "      <th>2</th>\n",
       "      <td>Frozen</td>\n",
       "      <td>4569</td>\n",
       "      <td>4.688116</td>\n",
       "    </tr>\n",
       "    <tr>\n",
       "      <th>3</th>\n",
       "      <td>Frozen [Blu-ray]</td>\n",
       "      <td>4492</td>\n",
       "      <td>4.701915</td>\n",
       "    </tr>\n",
       "    <tr>\n",
       "      <th>4</th>\n",
       "      <td>Mean Girls (Full Screen Edition)</td>\n",
       "      <td>4409</td>\n",
       "      <td>4.993876</td>\n",
       "    </tr>\n",
       "    <tr>\n",
       "      <th>...</th>\n",
       "      <td>...</td>\n",
       "      <td>...</td>\n",
       "      <td>...</td>\n",
       "    </tr>\n",
       "    <tr>\n",
       "      <th>72380</th>\n",
       "      <td>Repeat Performance</td>\n",
       "      <td>11</td>\n",
       "      <td>3.363636</td>\n",
       "    </tr>\n",
       "    <tr>\n",
       "      <th>72381</th>\n",
       "      <td>Repentance</td>\n",
       "      <td>11</td>\n",
       "      <td>4.636364</td>\n",
       "    </tr>\n",
       "    <tr>\n",
       "      <th>72382</th>\n",
       "      <td>Replicant [Blu-ray]</td>\n",
       "      <td>11</td>\n",
       "      <td>4.363636</td>\n",
       "    </tr>\n",
       "    <tr>\n",
       "      <th>72383</th>\n",
       "      <td>Glenn Gould: Hereafter</td>\n",
       "      <td>11</td>\n",
       "      <td>4.272727</td>\n",
       "    </tr>\n",
       "    <tr>\n",
       "      <th>72384</th>\n",
       "      <td>Zandalee</td>\n",
       "      <td>10</td>\n",
       "      <td>3.600000</td>\n",
       "    </tr>\n",
       "  </tbody>\n",
       "</table>\n",
       "<p>72385 rows × 3 columns</p>\n",
       "</div>"
      ],
      "text/plain": [
       "                          product_title  tot_prod_reviews  avg_prod_stars\n",
       "0          Firefly: The Complete Series              4959        4.859649\n",
       "1       Jillian Michaels - 30 Day Shred              4958        4.547802\n",
       "2                                Frozen              4569        4.688116\n",
       "3                      Frozen [Blu-ray]              4492        4.701915\n",
       "4      Mean Girls (Full Screen Edition)              4409        4.993876\n",
       "...                                 ...               ...             ...\n",
       "72380                Repeat Performance                11        3.363636\n",
       "72381                        Repentance                11        4.636364\n",
       "72382               Replicant [Blu-ray]                11        4.363636\n",
       "72383            Glenn Gould: Hereafter                11        4.272727\n",
       "72384                          Zandalee                10        3.600000\n",
       "\n",
       "[72385 rows x 3 columns]"
      ]
     },
     "execution_count": 8,
     "metadata": {},
     "output_type": "execute_result"
    }
   ],
   "source": [
    "movies_small #preview"
   ]
  },
  {
   "cell_type": "code",
   "execution_count": 10,
   "metadata": {},
   "outputs": [],
   "source": [
    "#movies_small.to_pickle('./pickles/movies_look_small.pkl')"
   ]
  },
  {
   "cell_type": "markdown",
   "metadata": {},
   "source": [
    "Books:"
   ]
  },
  {
   "cell_type": "code",
   "execution_count": 11,
   "metadata": {},
   "outputs": [],
   "source": [
    "lookup= pd.read_pickle('./pickles/books_look.pkl')"
   ]
  },
  {
   "cell_type": "code",
   "execution_count": 12,
   "metadata": {},
   "outputs": [
    {
     "name": "stdout",
     "output_type": "stream",
     "text": [
      "(1489354, 7)\n",
      "46575\n"
     ]
    }
   ],
   "source": [
    "books_small = ut.make_smaller_lookup(lookup)"
   ]
  },
  {
   "cell_type": "code",
   "execution_count": 13,
   "metadata": {},
   "outputs": [
    {
     "data": {
      "text/html": [
       "<div>\n",
       "<style scoped>\n",
       "    .dataframe tbody tr th:only-of-type {\n",
       "        vertical-align: middle;\n",
       "    }\n",
       "\n",
       "    .dataframe tbody tr th {\n",
       "        vertical-align: top;\n",
       "    }\n",
       "\n",
       "    .dataframe thead th {\n",
       "        text-align: right;\n",
       "    }\n",
       "</style>\n",
       "<table border=\"1\" class=\"dataframe\">\n",
       "  <thead>\n",
       "    <tr style=\"text-align: right;\">\n",
       "      <th></th>\n",
       "      <th>product_title</th>\n",
       "      <th>tot_prod_reviews</th>\n",
       "      <th>avg_prod_stars</th>\n",
       "    </tr>\n",
       "  </thead>\n",
       "  <tbody>\n",
       "    <tr>\n",
       "      <th>0</th>\n",
       "      <td>Harry Potter and the Order of the Phoenix (Book 5)</td>\n",
       "      <td>4857</td>\n",
       "      <td>4.401277</td>\n",
       "    </tr>\n",
       "    <tr>\n",
       "      <th>1</th>\n",
       "      <td>Harry Potter And The Goblet Of Fire (Book 4)</td>\n",
       "      <td>3739</td>\n",
       "      <td>4.775876</td>\n",
       "    </tr>\n",
       "    <tr>\n",
       "      <th>2</th>\n",
       "      <td>The Da Vinci Code</td>\n",
       "      <td>2684</td>\n",
       "      <td>3.482861</td>\n",
       "    </tr>\n",
       "    <tr>\n",
       "      <th>3</th>\n",
       "      <td>Lies and the Lying Liars Who Tell Them</td>\n",
       "      <td>2665</td>\n",
       "      <td>3.849531</td>\n",
       "    </tr>\n",
       "    <tr>\n",
       "      <th>4</th>\n",
       "      <td>Unfit For Command: Swift Boat Veterans Speak Out Against John Kerry</td>\n",
       "      <td>2614</td>\n",
       "      <td>3.447590</td>\n",
       "    </tr>\n",
       "    <tr>\n",
       "      <th>...</th>\n",
       "      <td>...</td>\n",
       "      <td>...</td>\n",
       "      <td>...</td>\n",
       "    </tr>\n",
       "    <tr>\n",
       "      <th>46570</th>\n",
       "      <td>The Girls' Book of Success: Winning Wisdom, Stars' Secrets, Tales of Triumph, and More</td>\n",
       "      <td>10</td>\n",
       "      <td>5.000000</td>\n",
       "    </tr>\n",
       "    <tr>\n",
       "      <th>46571</th>\n",
       "      <td>All I Did Was Ask: Conversations with Writers, Actors Musicians, and Artists</td>\n",
       "      <td>10</td>\n",
       "      <td>4.400000</td>\n",
       "    </tr>\n",
       "    <tr>\n",
       "      <th>46572</th>\n",
       "      <td>Wobblies!: A Graphic History of the Industrial Workers of the World</td>\n",
       "      <td>10</td>\n",
       "      <td>4.600000</td>\n",
       "    </tr>\n",
       "    <tr>\n",
       "      <th>46573</th>\n",
       "      <td>One of Ours (Vintage Classics)</td>\n",
       "      <td>10</td>\n",
       "      <td>3.500000</td>\n",
       "    </tr>\n",
       "    <tr>\n",
       "      <th>46574</th>\n",
       "      <td>The Blues Ain't Nothin': Tales of the Lonesome Blues Pub</td>\n",
       "      <td>10</td>\n",
       "      <td>4.100000</td>\n",
       "    </tr>\n",
       "  </tbody>\n",
       "</table>\n",
       "<p>46575 rows × 3 columns</p>\n",
       "</div>"
      ],
      "text/plain": [
       "                                                                                product_title  \\\n",
       "0                                          Harry Potter and the Order of the Phoenix (Book 5)   \n",
       "1                                                Harry Potter And The Goblet Of Fire (Book 4)   \n",
       "2                                                                           The Da Vinci Code   \n",
       "3                                                      Lies and the Lying Liars Who Tell Them   \n",
       "4                         Unfit For Command: Swift Boat Veterans Speak Out Against John Kerry   \n",
       "...                                                                                       ...   \n",
       "46570  The Girls' Book of Success: Winning Wisdom, Stars' Secrets, Tales of Triumph, and More   \n",
       "46571            All I Did Was Ask: Conversations with Writers, Actors Musicians, and Artists   \n",
       "46572                     Wobblies!: A Graphic History of the Industrial Workers of the World   \n",
       "46573                                                          One of Ours (Vintage Classics)   \n",
       "46574                                The Blues Ain't Nothin': Tales of the Lonesome Blues Pub   \n",
       "\n",
       "       tot_prod_reviews  avg_prod_stars  \n",
       "0                  4857        4.401277  \n",
       "1                  3739        4.775876  \n",
       "2                  2684        3.482861  \n",
       "3                  2665        3.849531  \n",
       "4                  2614        3.447590  \n",
       "...                 ...             ...  \n",
       "46570                10        5.000000  \n",
       "46571                10        4.400000  \n",
       "46572                10        4.600000  \n",
       "46573                10        3.500000  \n",
       "46574                10        4.100000  \n",
       "\n",
       "[46575 rows x 3 columns]"
      ]
     },
     "execution_count": 13,
     "metadata": {},
     "output_type": "execute_result"
    }
   ],
   "source": [
    "books_small #preview"
   ]
  },
  {
   "cell_type": "code",
   "execution_count": 14,
   "metadata": {},
   "outputs": [],
   "source": [
    "#books_small.to_pickle('./pickles/books_look_small.pkl')"
   ]
  },
  {
   "cell_type": "markdown",
   "metadata": {},
   "source": [
    "Video Games:"
   ]
  },
  {
   "cell_type": "code",
   "execution_count": 15,
   "metadata": {},
   "outputs": [],
   "source": [
    "lookup= pd.read_pickle('./pickles/videog_look.pkl')"
   ]
  },
  {
   "cell_type": "code",
   "execution_count": 16,
   "metadata": {},
   "outputs": [
    {
     "name": "stdout",
     "output_type": "stream",
     "text": [
      "(1648136, 7)\n",
      "15938\n"
     ]
    }
   ],
   "source": [
    "vg_small = ut.make_smaller_lookup(lookup)"
   ]
  },
  {
   "cell_type": "code",
   "execution_count": 17,
   "metadata": {},
   "outputs": [
    {
     "data": {
      "text/html": [
       "<div>\n",
       "<style scoped>\n",
       "    .dataframe tbody tr th:only-of-type {\n",
       "        vertical-align: middle;\n",
       "    }\n",
       "\n",
       "    .dataframe tbody tr th {\n",
       "        vertical-align: top;\n",
       "    }\n",
       "\n",
       "    .dataframe thead th {\n",
       "        text-align: right;\n",
       "    }\n",
       "</style>\n",
       "<table border=\"1\" class=\"dataframe\">\n",
       "  <thead>\n",
       "    <tr style=\"text-align: right;\">\n",
       "      <th></th>\n",
       "      <th>product_title</th>\n",
       "      <th>tot_prod_reviews</th>\n",
       "      <th>avg_prod_stars</th>\n",
       "    </tr>\n",
       "  </thead>\n",
       "  <tbody>\n",
       "    <tr>\n",
       "      <th>0</th>\n",
       "      <td>PlayStation 4 500GB Console [Old Model]</td>\n",
       "      <td>10317</td>\n",
       "      <td>4.162256</td>\n",
       "    </tr>\n",
       "    <tr>\n",
       "      <th>1</th>\n",
       "      <td>Grand Theft Auto V</td>\n",
       "      <td>8656</td>\n",
       "      <td>4.545055</td>\n",
       "    </tr>\n",
       "    <tr>\n",
       "      <th>2</th>\n",
       "      <td>Call of Duty: Ghosts</td>\n",
       "      <td>7762</td>\n",
       "      <td>3.787426</td>\n",
       "    </tr>\n",
       "    <tr>\n",
       "      <th>3</th>\n",
       "      <td>Battlefield 4</td>\n",
       "      <td>4795</td>\n",
       "      <td>3.666945</td>\n",
       "    </tr>\n",
       "    <tr>\n",
       "      <th>4</th>\n",
       "      <td>Assassin's Creed 4</td>\n",
       "      <td>4702</td>\n",
       "      <td>4.564866</td>\n",
       "    </tr>\n",
       "    <tr>\n",
       "      <th>...</th>\n",
       "      <td>...</td>\n",
       "      <td>...</td>\n",
       "      <td>...</td>\n",
       "    </tr>\n",
       "    <tr>\n",
       "      <th>15933</th>\n",
       "      <td>Ultimate Civil War Battles: Robert E. Lee vs. Ulysses S. Grant - PC</td>\n",
       "      <td>11</td>\n",
       "      <td>1.181818</td>\n",
       "    </tr>\n",
       "    <tr>\n",
       "      <th>15934</th>\n",
       "      <td>Duke Nukem: Critical Mass</td>\n",
       "      <td>11</td>\n",
       "      <td>3.454545</td>\n",
       "    </tr>\n",
       "    <tr>\n",
       "      <th>15935</th>\n",
       "      <td>Duke Nukem</td>\n",
       "      <td>11</td>\n",
       "      <td>4.090909</td>\n",
       "    </tr>\n",
       "    <tr>\n",
       "      <th>15936</th>\n",
       "      <td>DualPenSports - Nintendo 3DS</td>\n",
       "      <td>11</td>\n",
       "      <td>4.000000</td>\n",
       "    </tr>\n",
       "    <tr>\n",
       "      <th>15937</th>\n",
       "      <td>The Lost Vikings</td>\n",
       "      <td>11</td>\n",
       "      <td>4.727273</td>\n",
       "    </tr>\n",
       "  </tbody>\n",
       "</table>\n",
       "<p>15938 rows × 3 columns</p>\n",
       "</div>"
      ],
      "text/plain": [
       "                                                             product_title  \\\n",
       "0                                  PlayStation 4 500GB Console [Old Model]   \n",
       "1                                                       Grand Theft Auto V   \n",
       "2                                                     Call of Duty: Ghosts   \n",
       "3                                                            Battlefield 4   \n",
       "4                                                       Assassin's Creed 4   \n",
       "...                                                                    ...   \n",
       "15933  Ultimate Civil War Battles: Robert E. Lee vs. Ulysses S. Grant - PC   \n",
       "15934                                            Duke Nukem: Critical Mass   \n",
       "15935                                                           Duke Nukem   \n",
       "15936                                         DualPenSports - Nintendo 3DS   \n",
       "15937                                                     The Lost Vikings   \n",
       "\n",
       "       tot_prod_reviews  avg_prod_stars  \n",
       "0                 10317        4.162256  \n",
       "1                  8656        4.545055  \n",
       "2                  7762        3.787426  \n",
       "3                  4795        3.666945  \n",
       "4                  4702        4.564866  \n",
       "...                 ...             ...  \n",
       "15933                11        1.181818  \n",
       "15934                11        3.454545  \n",
       "15935                11        4.090909  \n",
       "15936                11        4.000000  \n",
       "15937                11        4.727273  \n",
       "\n",
       "[15938 rows x 3 columns]"
      ]
     },
     "execution_count": 17,
     "metadata": {},
     "output_type": "execute_result"
    }
   ],
   "source": [
    "vg_small #preview"
   ]
  },
  {
   "cell_type": "code",
   "execution_count": 19,
   "metadata": {},
   "outputs": [],
   "source": [
    "#vg_small.to_pickle('./pickles/vg_look_small.pkl')"
   ]
  },
  {
   "cell_type": "markdown",
   "metadata": {},
   "source": [
    "Okay, now that those are all done, I want to edit my lookup function to accept these new dataframes. I'm also going to incorporate a few other ideas:  \n",
    "- searching the query item as a lowercase over all titles (also in lowercase) rather than using title-case\n",
    "- using .lower() on the \"wout\" item and corresponding search to capture all variations of that input\n",
    "- returning a dataframe of results ONLY (not showing the item that was searched); this may be controversial but I'm not sure showing people the precise item their search was matched with is going to be helpful. Either the results are what they expect or they're not. I think the results are more consistently correct than the particular item chosen, and I don't want the printout listing the chosen item to negatively tint the otherwise impressive results"
   ]
  },
  {
   "cell_type": "code",
   "execution_count": 6,
   "metadata": {},
   "outputs": [],
   "source": [
    "vg_df, vg_rec = pd.read_pickle('./pickles/vg_look_small.pkl'), pd.read_pickle('./pickles/videog_rec.pkl')\n",
    "movies_df, movies_rec = pd.read_pickle('./pickles/movies_look_small.pkl'), pd.read_pickle('./pickles/movie_rec.pkl')\n",
    "books_df, books_rec = pd.read_pickle('./pickles/books_look_small.pkl'), pd.read_pickle('./pickles/books_rec.pkl')"
   ]
  },
  {
   "cell_type": "code",
   "execution_count": 7,
   "metadata": {},
   "outputs": [],
   "source": [
    "def rec_search(category, query, wout='no'):\n",
    "    \n",
    "\n",
    "    if category.lower() == 'video games':\n",
    "        lookup, recommender = vg_df, vg_rec #pd.read_pickle('./pickles/videog_look.pkl'),pd.read_pickle('./pickles/videog_rec.pkl')\n",
    "    elif category.lower() == 'movies':\n",
    "        lookup, recommender = movies_df, movies_rec #pd.read_pickle('./pickles/movies_look.pkl'), pd.read_pickle('./pickles/movie_rec.pkl') \n",
    "    elif category.lower() == 'books':\n",
    "        lookup, recommender = books_df, books_rec #pd.read_pickle('./pickles/books_look.pkl'), pd.read_pickle('./pickles/books_rec.pkl')\n",
    "    else:\n",
    "        return \"Sorry, that wasn't one of the available categories\"\n",
    "\n",
    "    try:\n",
    "        query=query.lower() #lowercase entry, lowercase titles (only during search, below)\n",
    "        titles = list(lookup[lookup['product_title'].map(lambda x: x.lower()).str.contains(query)]['product_title'])\n",
    "        q = titles[0] #this is the item to search for\n",
    "\n",
    "        if wout.lower() == 'no':\n",
    "            query_dict = dict(recommender.loc[q].sort_values())\n",
    "            \n",
    "            top10_prods = []\n",
    "            num_prod_revs = []\n",
    "            avg_prod_stars = []\n",
    "            for key in list(query_dict.keys())[1:11]:\n",
    "                top10_prods.append(key)\n",
    "                num_prod_revs.append(round(lookup[lookup['product_title']==key]['tot_prod_reviews'].mean()))\n",
    "                avg_prod_stars.append(round(lookup[lookup['product_title']==key]['avg_prod_stars'].mean(), 2))\n",
    "            #print(top10_prods, num_prod_revs, avg_prod_stars)\n",
    "            final_output_df = pd.DataFrame(data = {\n",
    "                'Recommended Items':top10_prods,\n",
    "                'Total Reviews for Product':num_prod_revs,\n",
    "                'Avg Product Star Rating(1-5)':avg_prod_stars\n",
    "            }, index=range(1,11))\n",
    "            \n",
    "            is_df = True #returning a dataframe now\n",
    "            \n",
    "            return final_output_df            \n",
    "            \n",
    "            \n",
    "            \n",
    "        else:\n",
    "            \n",
    "            wout = wout.lower() #capitlize first letters\n",
    "            query_dict = dict(recommender.loc[q].sort_values())\n",
    "            filtered_query = [] #make empty list\n",
    "            for key, value in query_dict.items(): #index into dictionary of results\n",
    "                if wout not in key.lower(): #check if avoided keyword is in results\n",
    "                    filtered_query.append((key, value)) #make list of results that DON'T include \"wout\" keyword\n",
    "            \n",
    "            top10_prods = []\n",
    "            num_prod_revs = []\n",
    "            avg_prod_stars = []\n",
    "            for item in filtered_query[1:11]:\n",
    "                top10_prods.append(item[0])\n",
    "                num_prod_revs.append(round(lookup[lookup['product_title']==item[0]]['tot_prod_reviews'].mean()))\n",
    "                avg_prod_stars.append(round(lookup[lookup['product_title']==item[0]]['avg_prod_stars'].mean(), 2))\n",
    "            \n",
    "                \n",
    "            final_output_df = pd.DataFrame(data = {\n",
    "                'Recommended Items':top10_prods,\n",
    "                'Total Reviews for Product':num_prod_revs,\n",
    "                'Avg Product Star Rating(1-5)':avg_prod_stars\n",
    "                }, index=range(1,11))\n",
    "                \n",
    "                \n",
    "            is_df = True #returning a dataframe now\n",
    "                \n",
    "            return final_output_df\n",
    "        \n",
    "    except:\n",
    "        return f'Sorry, \"{query}\" does not appear to be in the product database'"
   ]
  },
  {
   "cell_type": "code",
   "execution_count": 9,
   "metadata": {},
   "outputs": [
    {
     "data": {
      "text/html": [
       "<div>\n",
       "<style scoped>\n",
       "    .dataframe tbody tr th:only-of-type {\n",
       "        vertical-align: middle;\n",
       "    }\n",
       "\n",
       "    .dataframe tbody tr th {\n",
       "        vertical-align: top;\n",
       "    }\n",
       "\n",
       "    .dataframe thead th {\n",
       "        text-align: right;\n",
       "    }\n",
       "</style>\n",
       "<table border=\"1\" class=\"dataframe\">\n",
       "  <thead>\n",
       "    <tr style=\"text-align: right;\">\n",
       "      <th></th>\n",
       "      <th>Recommended Items</th>\n",
       "      <th>Total Reviews for Product</th>\n",
       "      <th>Avg Product Star Rating(1-5)</th>\n",
       "    </tr>\n",
       "  </thead>\n",
       "  <tbody>\n",
       "    <tr>\n",
       "      <th>1</th>\n",
       "      <td>Harry Potter and the Order of the Phoenix</td>\n",
       "      <td>223</td>\n",
       "      <td>3.60</td>\n",
       "    </tr>\n",
       "    <tr>\n",
       "      <th>2</th>\n",
       "      <td>Alien 3 - Nintendo Super NES</td>\n",
       "      <td>11</td>\n",
       "      <td>4.36</td>\n",
       "    </tr>\n",
       "    <tr>\n",
       "      <th>3</th>\n",
       "      <td>HORI 3DS Protector and Pouch Set (Super Mario 3D Land version)</td>\n",
       "      <td>14</td>\n",
       "      <td>3.79</td>\n",
       "    </tr>\n",
       "    <tr>\n",
       "      <th>4</th>\n",
       "      <td>Duck Tales</td>\n",
       "      <td>24</td>\n",
       "      <td>4.62</td>\n",
       "    </tr>\n",
       "    <tr>\n",
       "      <th>5</th>\n",
       "      <td>Marvel Super Hero Squad: The Infinity Gauntlet</td>\n",
       "      <td>159</td>\n",
       "      <td>4.16</td>\n",
       "    </tr>\n",
       "    <tr>\n",
       "      <th>6</th>\n",
       "      <td>Harry Potter and the Deathly Hallows Part 1</td>\n",
       "      <td>169</td>\n",
       "      <td>3.28</td>\n",
       "    </tr>\n",
       "    <tr>\n",
       "      <th>7</th>\n",
       "      <td>Disney's A Christmas Carol - Nintendo DS</td>\n",
       "      <td>18</td>\n",
       "      <td>4.44</td>\n",
       "    </tr>\n",
       "    <tr>\n",
       "      <th>8</th>\n",
       "      <td>Cake Mania 3 NDS</td>\n",
       "      <td>29</td>\n",
       "      <td>3.93</td>\n",
       "    </tr>\n",
       "    <tr>\n",
       "      <th>9</th>\n",
       "      <td>Pac Pix - Nintendo DS</td>\n",
       "      <td>16</td>\n",
       "      <td>4.19</td>\n",
       "    </tr>\n",
       "    <tr>\n",
       "      <th>10</th>\n",
       "      <td>Romancing SaGa - PlayStation 2</td>\n",
       "      <td>18</td>\n",
       "      <td>4.06</td>\n",
       "    </tr>\n",
       "  </tbody>\n",
       "</table>\n",
       "</div>"
      ],
      "text/plain": [
       "                                                 Recommended Items  \\\n",
       "1                        Harry Potter and the Order of the Phoenix   \n",
       "2                                     Alien 3 - Nintendo Super NES   \n",
       "3   HORI 3DS Protector and Pouch Set (Super Mario 3D Land version)   \n",
       "4                                                       Duck Tales   \n",
       "5                   Marvel Super Hero Squad: The Infinity Gauntlet   \n",
       "6                      Harry Potter and the Deathly Hallows Part 1   \n",
       "7                         Disney's A Christmas Carol - Nintendo DS   \n",
       "8                                                 Cake Mania 3 NDS   \n",
       "9                                            Pac Pix - Nintendo DS   \n",
       "10                                  Romancing SaGa - PlayStation 2   \n",
       "\n",
       "    Total Reviews for Product  Avg Product Star Rating(1-5)  \n",
       "1                         223                          3.60  \n",
       "2                          11                          4.36  \n",
       "3                          14                          3.79  \n",
       "4                          24                          4.62  \n",
       "5                         159                          4.16  \n",
       "6                         169                          3.28  \n",
       "7                          18                          4.44  \n",
       "8                          29                          3.93  \n",
       "9                          16                          4.19  \n",
       "10                         18                          4.06  "
      ]
     },
     "execution_count": 9,
     "metadata": {},
     "output_type": "execute_result"
    }
   ],
   "source": [
    "rec_search('video games', 'harry potter', 'lego')"
   ]
  },
  {
   "cell_type": "markdown",
   "metadata": {},
   "source": [
    "The reduction of lookup dataframe size did speed up my web app, but unfortunately it's still pretty slow. In order to improve its performance, I'm going to try and cache some of the results of my function. In order to do THAT, I'm going to break my recommender function down into smaller components so I can store the anticipated entries more easily."
   ]
  },
  {
   "cell_type": "code",
   "execution_count": 15,
   "metadata": {},
   "outputs": [],
   "source": [
    "#enter category, returns dataframes for lookup and recommender\n",
    "def choose_look_and_rec(category):\n",
    "    if category.lower() == 'video games':\n",
    "        lookup, recommender = pd.read_pickle('./pickles/vg_look_small.pkl'), pd.read_pickle('./pickles/videog_rec.pkl') #vg_df, vg_rec #pd.read_pickle('./pickles/videog_look.pkl'),pd.read_pickle('./pickles/videog_rec.pkl')\n",
    "    elif category.lower() == 'movies':\n",
    "        lookup, recommender = pd.read_pickle('./pickles/movies_look_small.pkl'), pd.read_pickle('./pickles/movie_rec.pkl') #movies_df, movies_rec #pd.read_pickle('./pickles/movies_look.pkl'), pd.read_pickle('./pickles/movie_rec.pkl') \n",
    "    elif category.lower() == 'books':\n",
    "        lookup, recommender = pd.read_pickle('./pickles/books_look_small.pkl'), pd.read_pickle('./pickles/books_rec.pkl') #books_df, books_rec #pd.read_pickle('./pickles/books_look.pkl'), pd.read_pickle('./pickles/books_rec.pkl')\n",
    "    else:\n",
    "        return \"Sorry, that wasn't one of the available categories\"\n",
    "    return lookup, recommender"
   ]
  },
  {
   "cell_type": "code",
   "execution_count": 16,
   "metadata": {},
   "outputs": [],
   "source": [
    "def load_vg():\n",
    "    return pd.read_pickle('./pickles/vg_look_small.pkl'), pd.read_pickle('./pickles/videog_rec.pkl')\n",
    "def load_movies():\n",
    "    return pd.read_pickle('./pickles/movies_look_small.pkl'), pd.read_pickle('./pickles/movie_rec.pkl')\n",
    "def load_books():\n",
    "    return pd.read_pickle('./pickles/books_look_small.pkl'), pd.read_pickle('./pickles/books_rec.pkl')\n",
    "    "
   ]
  },
  {
   "cell_type": "code",
   "execution_count": 2,
   "metadata": {},
   "outputs": [],
   "source": [
    "#enter query term, returns item from available product list\n",
    "def query_to_item(query, lookup):\n",
    "    try:\n",
    "        query=query.lower() #lowercase entry, lowercase titles (only during search, below)\n",
    "        titles = list(lookup[lookup['product_title'].map(lambda x: x.lower()).str.contains(query)]['product_title'])\n",
    "        return titles[0] #this is the item to search for\n",
    "    except:\n",
    "        return f'Sorry, \"{query}\" does not appear to be in the product database'"
   ]
  },
  {
   "cell_type": "code",
   "execution_count": 10,
   "metadata": {},
   "outputs": [],
   "source": [
    "#returns dictionary of ALL recommended items once product has been selected\n",
    "def give_recs(product):\n",
    "    #if wout == 'no':\n",
    "    return dict(recommender.loc[product].sort_values()) #sort distances smallest to largest    "
   ]
  },
  {
   "cell_type": "code",
   "execution_count": 12,
   "metadata": {},
   "outputs": [],
   "source": [
    "def filter_recs(prod_dictionary, wout=''):\n",
    "    if wout == '':\n",
    "        top10_prods = []\n",
    "        num_prod_revs = []\n",
    "        avg_prod_stars = []\n",
    "        for key in list(prod_dictionary.keys())[1:11]:\n",
    "            top10_prods.append(key)\n",
    "            num_prod_revs.append(round(lookup[lookup['product_title']==key]['tot_prod_reviews'].mean()))\n",
    "            avg_prod_stars.append(round(lookup[lookup['product_title']==key]['avg_prod_stars'].mean(), 2))\n",
    "        #print(top10_prods, num_prod_revs, avg_prod_stars)\n",
    "        final_output_df = pd.DataFrame(data = {\n",
    "            'Recommended Items':top10_prods,\n",
    "            'Total Reviews for Product':num_prod_revs,\n",
    "            'Avg Product Star Rating(1-5)':avg_prod_stars\n",
    "        }, index=range(1,11))\n",
    "\n",
    "        return final_output_df            \n",
    "    else:\n",
    "        wout = wout.lower() #capitlize first letters\n",
    "        filtered_query = [] #make empty list\n",
    "        for key, value in prod_dictionary.items(): #index into dictionary of results\n",
    "            if wout not in key.lower(): #check if avoided keyword is in results\n",
    "                filtered_query.append((key, value)) #make list of results that DON'T include \"wout\" keyword\n",
    "\n",
    "        top10_prods = []\n",
    "        num_prod_revs = []\n",
    "        avg_prod_stars = []\n",
    "        for item in filtered_query[1:11]:\n",
    "            top10_prods.append(item[0])\n",
    "            num_prod_revs.append(round(lookup[lookup['product_title']==item[0]]['tot_prod_reviews'].mean()))\n",
    "            avg_prod_stars.append(round(lookup[lookup['product_title']==item[0]]['avg_prod_stars'].mean(), 2))\n",
    "\n",
    "\n",
    "        final_output_df = pd.DataFrame(data = {\n",
    "            'Recommended Items':top10_prods,\n",
    "            'Total Reviews for Product':num_prod_revs,\n",
    "            'Avg Product Star Rating(1-5)':avg_prod_stars\n",
    "            }, index=range(1,11))\n",
    "\n",
    "        return final_output_df"
   ]
  },
  {
   "cell_type": "code",
   "execution_count": 17,
   "metadata": {},
   "outputs": [
    {
     "data": {
      "text/html": [
       "<div>\n",
       "<style scoped>\n",
       "    .dataframe tbody tr th:only-of-type {\n",
       "        vertical-align: middle;\n",
       "    }\n",
       "\n",
       "    .dataframe tbody tr th {\n",
       "        vertical-align: top;\n",
       "    }\n",
       "\n",
       "    .dataframe thead th {\n",
       "        text-align: right;\n",
       "    }\n",
       "</style>\n",
       "<table border=\"1\" class=\"dataframe\">\n",
       "  <thead>\n",
       "    <tr style=\"text-align: right;\">\n",
       "      <th></th>\n",
       "      <th>Recommended Items</th>\n",
       "      <th>Total Reviews for Product</th>\n",
       "      <th>Avg Product Star Rating(1-5)</th>\n",
       "    </tr>\n",
       "  </thead>\n",
       "  <tbody>\n",
       "    <tr>\n",
       "      <th>1</th>\n",
       "      <td>Harry Potter and the Order of the Phoenix</td>\n",
       "      <td>223</td>\n",
       "      <td>3.60</td>\n",
       "    </tr>\n",
       "    <tr>\n",
       "      <th>2</th>\n",
       "      <td>Alien 3 - Nintendo Super NES</td>\n",
       "      <td>11</td>\n",
       "      <td>4.36</td>\n",
       "    </tr>\n",
       "    <tr>\n",
       "      <th>3</th>\n",
       "      <td>HORI 3DS Protector and Pouch Set (Super Mario 3D Land version)</td>\n",
       "      <td>14</td>\n",
       "      <td>3.79</td>\n",
       "    </tr>\n",
       "    <tr>\n",
       "      <th>4</th>\n",
       "      <td>Duck Tales</td>\n",
       "      <td>24</td>\n",
       "      <td>4.62</td>\n",
       "    </tr>\n",
       "    <tr>\n",
       "      <th>5</th>\n",
       "      <td>Marvel Super Hero Squad: The Infinity Gauntlet</td>\n",
       "      <td>159</td>\n",
       "      <td>4.16</td>\n",
       "    </tr>\n",
       "    <tr>\n",
       "      <th>6</th>\n",
       "      <td>Harry Potter and the Deathly Hallows Part 1</td>\n",
       "      <td>169</td>\n",
       "      <td>3.28</td>\n",
       "    </tr>\n",
       "    <tr>\n",
       "      <th>7</th>\n",
       "      <td>Disney's A Christmas Carol - Nintendo DS</td>\n",
       "      <td>18</td>\n",
       "      <td>4.44</td>\n",
       "    </tr>\n",
       "    <tr>\n",
       "      <th>8</th>\n",
       "      <td>Cake Mania 3 NDS</td>\n",
       "      <td>29</td>\n",
       "      <td>3.93</td>\n",
       "    </tr>\n",
       "    <tr>\n",
       "      <th>9</th>\n",
       "      <td>Pac Pix - Nintendo DS</td>\n",
       "      <td>16</td>\n",
       "      <td>4.19</td>\n",
       "    </tr>\n",
       "    <tr>\n",
       "      <th>10</th>\n",
       "      <td>Romancing SaGa - PlayStation 2</td>\n",
       "      <td>18</td>\n",
       "      <td>4.06</td>\n",
       "    </tr>\n",
       "  </tbody>\n",
       "</table>\n",
       "</div>"
      ],
      "text/plain": [
       "                                                 Recommended Items  \\\n",
       "1                        Harry Potter and the Order of the Phoenix   \n",
       "2                                     Alien 3 - Nintendo Super NES   \n",
       "3   HORI 3DS Protector and Pouch Set (Super Mario 3D Land version)   \n",
       "4                                                       Duck Tales   \n",
       "5                   Marvel Super Hero Squad: The Infinity Gauntlet   \n",
       "6                      Harry Potter and the Deathly Hallows Part 1   \n",
       "7                         Disney's A Christmas Carol - Nintendo DS   \n",
       "8                                                 Cake Mania 3 NDS   \n",
       "9                                            Pac Pix - Nintendo DS   \n",
       "10                                  Romancing SaGa - PlayStation 2   \n",
       "\n",
       "    Total Reviews for Product  Avg Product Star Rating(1-5)  \n",
       "1                         223                          3.60  \n",
       "2                          11                          4.36  \n",
       "3                          14                          3.79  \n",
       "4                          24                          4.62  \n",
       "5                         159                          4.16  \n",
       "6                         169                          3.28  \n",
       "7                          18                          4.44  \n",
       "8                          29                          3.93  \n",
       "9                          16                          4.19  \n",
       "10                         18                          4.06  "
      ]
     },
     "execution_count": 17,
     "metadata": {},
     "output_type": "execute_result"
    }
   ],
   "source": [
    "#test - as if on video game lookup page\n",
    "lookup, recommender = load_vg() #would be cached\n",
    "search_prod = query_to_item('harry potter', lookup) #needs to search live\n",
    "prod_dict = give_recs(search_prod) #would have all products cached\n",
    "filter_recs(prod_dict, 'lego')"
   ]
  },
  {
   "cell_type": "markdown",
   "metadata": {},
   "source": [
    "I want to see if I can use the give_recs() function to store the return of each product in relation to the others. If I can, I could save that and use it instead of actually loading in the full recommender (1.8 GB) to my web app.\n",
    "\n",
    "I'll need to do this for each category (books, movies, video games)"
   ]
  },
  {
   "cell_type": "code",
   "execution_count": 20,
   "metadata": {},
   "outputs": [
    {
     "data": {
      "text/plain": [
       "'0.077166065 GB'"
      ]
     },
     "execution_count": 20,
     "metadata": {},
     "output_type": "execute_result"
    }
   ],
   "source": [
    "ut.size_in_gb(vg_rec) #original"
   ]
  },
  {
   "cell_type": "code",
   "execution_count": 21,
   "metadata": {},
   "outputs": [
    {
     "data": {
      "text/plain": [
       "'1.843095412 GB'"
      ]
     },
     "execution_count": 21,
     "metadata": {},
     "output_type": "execute_result"
    }
   ],
   "source": [
    "ut.size_in_gb(movies_rec) #original"
   ]
  },
  {
   "cell_type": "code",
   "execution_count": 22,
   "metadata": {},
   "outputs": [
    {
     "data": {
      "text/plain": [
       "'0.422205132 GB'"
      ]
     },
     "execution_count": 22,
     "metadata": {},
     "output_type": "execute_result"
    }
   ],
   "source": [
    "ut.size_in_gb(books_rec) #original"
   ]
  },
  {
   "cell_type": "code",
   "execution_count": 23,
   "metadata": {},
   "outputs": [
    {
     "data": {
      "text/html": [
       "<div>\n",
       "<style scoped>\n",
       "    .dataframe tbody tr th:only-of-type {\n",
       "        vertical-align: middle;\n",
       "    }\n",
       "\n",
       "    .dataframe tbody tr th {\n",
       "        vertical-align: top;\n",
       "    }\n",
       "\n",
       "    .dataframe thead th {\n",
       "        text-align: right;\n",
       "    }\n",
       "</style>\n",
       "<table border=\"1\" class=\"dataframe\">\n",
       "  <thead>\n",
       "    <tr style=\"text-align: right;\">\n",
       "      <th></th>\n",
       "      <th>product_title</th>\n",
       "      <th>tot_prod_reviews</th>\n",
       "      <th>avg_prod_stars</th>\n",
       "    </tr>\n",
       "  </thead>\n",
       "  <tbody>\n",
       "    <tr>\n",
       "      <th>0</th>\n",
       "      <td>PlayStation 4 500GB Console [Old Model]</td>\n",
       "      <td>10317</td>\n",
       "      <td>4.162256</td>\n",
       "    </tr>\n",
       "    <tr>\n",
       "      <th>1</th>\n",
       "      <td>Grand Theft Auto V</td>\n",
       "      <td>8656</td>\n",
       "      <td>4.545055</td>\n",
       "    </tr>\n",
       "    <tr>\n",
       "      <th>2</th>\n",
       "      <td>Call of Duty: Ghosts</td>\n",
       "      <td>7762</td>\n",
       "      <td>3.787426</td>\n",
       "    </tr>\n",
       "    <tr>\n",
       "      <th>3</th>\n",
       "      <td>Battlefield 4</td>\n",
       "      <td>4795</td>\n",
       "      <td>3.666945</td>\n",
       "    </tr>\n",
       "    <tr>\n",
       "      <th>4</th>\n",
       "      <td>Assassin's Creed 4</td>\n",
       "      <td>4702</td>\n",
       "      <td>4.564866</td>\n",
       "    </tr>\n",
       "  </tbody>\n",
       "</table>\n",
       "</div>"
      ],
      "text/plain": [
       "                             product_title  tot_prod_reviews  avg_prod_stars\n",
       "0  PlayStation 4 500GB Console [Old Model]             10317        4.162256\n",
       "1                       Grand Theft Auto V              8656        4.545055\n",
       "2                     Call of Duty: Ghosts              7762        3.787426\n",
       "3                            Battlefield 4              4795        3.666945\n",
       "4                       Assassin's Creed 4              4702        4.564866"
      ]
     },
     "execution_count": 23,
     "metadata": {},
     "output_type": "execute_result"
    }
   ],
   "source": [
    "vg_df.head()"
   ]
  },
  {
   "cell_type": "code",
   "execution_count": 39,
   "metadata": {},
   "outputs": [],
   "source": [
    "#reminder of what give_recs looks like\n",
    "\n",
    "def give_recs(product):\n",
    "    return dict(recommender.loc[product].sort_values()[:100]) #sort distances smallest to largest, max 100 returns "
   ]
  },
  {
   "cell_type": "code",
   "execution_count": 40,
   "metadata": {},
   "outputs": [
    {
     "data": {
      "text/plain": [
       "100"
      ]
     },
     "execution_count": 40,
     "metadata": {},
     "output_type": "execute_result"
    }
   ],
   "source": [
    "lookup = vg_df\n",
    "recommender = vg_rec\n",
    "len(give_recs('Call of Duty: Ghosts'))"
   ]
  },
  {
   "cell_type": "code",
   "execution_count": null,
   "metadata": {},
   "outputs": [],
   "source": []
  },
  {
   "cell_type": "code",
   "execution_count": 60,
   "metadata": {},
   "outputs": [],
   "source": [
    "def make_rec_df(look, rec):\n",
    "    #recommender = rec #necessary in give_recs function\n",
    "    prod_list = list(look['product_title'])\n",
    "    #return {item : give_recs(item) for item in prod_list}\n",
    "    return pd.DataFrame(data={\n",
    "        'item':[item for item in prod_list],\n",
    "        'similar':[give_recs(item) for item in prod_list]\n",
    "    })"
   ]
  },
  {
   "cell_type": "code",
   "execution_count": 50,
   "metadata": {},
   "outputs": [
    {
     "name": "stdout",
     "output_type": "stream",
     "text": [
      "15938\n",
      "0.00058992 GB\n",
      "<class 'dict'>\n"
     ]
    }
   ],
   "source": [
    "new_vg_rec = make_rec_list(vg_df, vg_rec)\n",
    "\n",
    "print(len(new_vg_rec))\n",
    "print(ut.size_in_gb(new_vg_rec))\n",
    "print(type(new_vg_rec))"
   ]
  },
  {
   "cell_type": "code",
   "execution_count": 55,
   "metadata": {},
   "outputs": [
    {
     "data": {
      "text/plain": [
       "'0.077166065 GB'"
      ]
     },
     "execution_count": 55,
     "metadata": {},
     "output_type": "execute_result"
    }
   ],
   "source": [
    "#compared to rec df size...\n",
    "ut.size_in_gb(vg_rec)"
   ]
  },
  {
   "cell_type": "code",
   "execution_count": 57,
   "metadata": {},
   "outputs": [
    {
     "data": {
      "text/plain": [
       "['Battlefield 4',\n",
       " \"Assassin's Creed 4\",\n",
       " 'Killzone: Shadow Fall (PlayStation 4)',\n",
       " 'Need for Speed Rivals',\n",
       " 'Grand Theft Auto V',\n",
       " 'Call of Duty: Black Ops II',\n",
       " 'DualShock 4 Wireless Controller for PlayStation 4 - Jet Black [Old Model]',\n",
       " 'FIFA 14',\n",
       " 'Call of Duty: Advanced Warfare',\n",
       " 'Watch Dogs']"
      ]
     },
     "execution_count": 57,
     "metadata": {},
     "output_type": "execute_result"
    }
   ],
   "source": [
    "list(new_vg_rec['Call of Duty: Ghosts'].keys())[1:11]"
   ]
  },
  {
   "cell_type": "markdown",
   "metadata": {},
   "source": [
    "That looks good - I can still call in the closest items and it is a fraction of the size of the recommender df.  \n",
    "\n",
    "\n",
    "Time to apply that function to my other (larger) dataframes and see how they turn out."
   ]
  },
  {
   "cell_type": "code",
   "execution_count": 62,
   "metadata": {},
   "outputs": [
    {
     "name": "stdout",
     "output_type": "stream",
     "text": [
      "46575\n",
      "New size: 0.002621536 GB\n",
      "Original size: 0.002621536 GB\n",
      "<class 'dict'>\n"
     ]
    }
   ],
   "source": [
    "#reset global variable\n",
    "recommender = books_rec\n",
    "\n",
    "new_books_rec = make_rec_list(books_df, books_rec)\n",
    "\n",
    "print(len(new_books_rec))\n",
    "print(f'New size: {ut.size_in_gb(new_books_rec)}')\n",
    "print(f'Original size: {ut.size_in_gb(new_books_rec)}')\n",
    "print(type(new_books_rec))"
   ]
  },
  {
   "cell_type": "code",
   "execution_count": 63,
   "metadata": {},
   "outputs": [],
   "source": [
    "import pickle"
   ]
  },
  {
   "cell_type": "code",
   "execution_count": 66,
   "metadata": {},
   "outputs": [],
   "source": [
    "#save dictionaries"
   ]
  },
  {
   "cell_type": "code",
   "execution_count": 65,
   "metadata": {},
   "outputs": [],
   "source": [
    "with open('./pickles/new_vg_rec.pkl', 'wb') as f:\n",
    "    pickle.dump(new_vg_rec, f)\n",
    "    \n",
    "with open ('./pickles/new_movies_rec.pkl', 'wb') as f:\n",
    "    pickle.dump(new_movies_rec, f)\n",
    "    \n",
    "with open('./pickles/new_books_rec.pkl', 'wb') as f:\n",
    "    pickle.dump(new_books_rec, f)"
   ]
  },
  {
   "cell_type": "code",
   "execution_count": 67,
   "metadata": {},
   "outputs": [
    {
     "name": "stdout",
     "output_type": "stream",
     "text": [
      "True\n",
      "True\n",
      "True\n"
     ]
    }
   ],
   "source": [
    "#test saves successful - should print 3x \"True\"\n",
    "with open('./pickles/new_vg_rec.pkl', 'rb') as f:\n",
    "    testp = pickle.load(f)\n",
    "print(new_vg_rec == testp) #assert the pickled dict is the same as the current one\n",
    "\n",
    "with open('./pickles/new_movies_rec.pkl', 'rb') as f:\n",
    "    testp = pickle.load(f)\n",
    "print(new_movies_rec == testp) #assert the pickled dict is the same as the current one\n",
    "\n",
    "with open('./pickles/new_books_rec.pkl', 'rb') as f:\n",
    "    testp = pickle.load(f)\n",
    "print(new_books_rec == testp) #assert the pickled dict is the same as the current one"
   ]
  },
  {
   "cell_type": "code",
   "execution_count": 70,
   "metadata": {},
   "outputs": [
    {
     "name": "stdout",
     "output_type": "stream",
     "text": [
      "Original Book Recommender size: 0.42352907 GB\n",
      "New Book Recommender size: 0.002621536 GB\n",
      "\n",
      "Original Movie Recommender size: 1.845735916 GB\n",
      "New Movie Recommender size: 0.002621536 GB\n",
      "\n",
      "Original Video Game Recommender size: 0.077186335 GB\n",
      "New Video Game Recommender size: 0.00058992 GB\n"
     ]
    }
   ],
   "source": [
    "#check sizes compared to former sizes\n",
    "print(f'Original Book Recommender size: {ut.size_in_gb(books_rec)}')\n",
    "print(f'New Book Recommender size: {ut.size_in_gb(new_books_rec)}')\n",
    "print()\n",
    "print(f'Original Movie Recommender size: {ut.size_in_gb(movies_rec)}')\n",
    "print(f'New Movie Recommender size: {ut.size_in_gb(new_movies_rec)}')\n",
    "print()\n",
    "print(f'Original Video Game Recommender size: {ut.size_in_gb(vg_rec)}')\n",
    "print(f'New Video Game Recommender size: {ut.size_in_gb(new_vg_rec)}')"
   ]
  },
  {
   "cell_type": "markdown",
   "metadata": {},
   "source": [
    "Woof! That took a long time to run (and I messed up comparing the sizes (above) so it's not quite as pretty an output as I had hoped, but there's no doubt I'm saving a substantial amount of memory with this process. On to build a new recommender that can handle these dictionaries!"
   ]
  }
 ],
 "metadata": {
  "kernelspec": {
   "display_name": "Python 3",
   "language": "python",
   "name": "python3"
  },
  "language_info": {
   "codemirror_mode": {
    "name": "ipython",
    "version": 3
   },
   "file_extension": ".py",
   "mimetype": "text/x-python",
   "name": "python",
   "nbconvert_exporter": "python",
   "pygments_lexer": "ipython3",
   "version": "3.8.3"
  }
 },
 "nbformat": 4,
 "nbformat_minor": 4
}
