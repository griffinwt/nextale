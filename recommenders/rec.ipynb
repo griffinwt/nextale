{
 "cells": [
  {
   "cell_type": "code",
   "execution_count": 1,
   "metadata": {},
   "outputs": [],
   "source": [
    "#imports\n",
    "import pandas as pd\n",
    "import numpy as np\n",
    "import requests\n",
    "from bs4 import BeautifulSoup, NavigableString, Tag\n",
    "import re\n",
    "import time\n",
    "import random\n",
    "import sys\n",
    "pd.set_option('display.max_colwidth', None)\n",
    "\n",
    "from sklearn.metrics.pairwise import pairwise_distances, cosine_distances, cosine_similarity\n",
    "from scipy import sparse\n",
    "from matplotlib import pyplot as plt\n",
    "import utils as ut"
   ]
  },
  {
   "cell_type": "markdown",
   "metadata": {},
   "source": [
    "This is my first attempt at building the full recommender in an easily replicated format."
   ]
  },
  {
   "cell_type": "code",
   "execution_count": 2,
   "metadata": {},
   "outputs": [],
   "source": [
    "vg_df = pd.read_csv('./data/video_games.csv', usecols=['customer_id', 'product_id', 'product_title', \n",
    "                                                        'star_rating', 'review_date'])\n",
    "vg_rec = pd.read_pickle('./pickles/videog_rec.pkl')"
   ]
  },
  {
   "cell_type": "code",
   "execution_count": 3,
   "metadata": {},
   "outputs": [],
   "source": [
    "movie_df = pd.read_csv('./data/movie_dvd.csv', usecols=['customer_id', 'product_id', 'product_title', \n",
    "                                                        'star_rating', 'review_date'])\n",
    "\n",
    "movie_rec = pd.read_pickle('./pickles/movie_rec.pkl')"
   ]
  },
  {
   "cell_type": "code",
   "execution_count": 4,
   "metadata": {},
   "outputs": [],
   "source": [
    "books_df = pd.read_csv('./data/books.csv', usecols=['customer_id', 'product_id', 'product_title', \n",
    "                                                        'star_rating', 'review_date'])\n",
    "\n",
    "books_rec = pd.read_pickle('./pickles/books_rec.pkl')"
   ]
  },
  {
   "cell_type": "markdown",
   "metadata": {},
   "source": [
    "With all 3 dataframes and recommender dataframes loaded in, I need to write the functions that I'll use to query my recommender. I need to account for a few things:  \n",
    "\n",
    "- which item category (video games, movies, or books) is being queried?\n",
    "- if the search term is vague or ambiguous, how do I determine which item to choose for comparison?\n",
    "- how do I give the option to add \"not like\" terms to the search bar (but only as an option, not essential)"
   ]
  },
  {
   "cell_type": "code",
   "execution_count": 22,
   "metadata": {},
   "outputs": [
    {
     "data": {
      "text/html": [
       "<div>\n",
       "<style scoped>\n",
       "    .dataframe tbody tr th:only-of-type {\n",
       "        vertical-align: middle;\n",
       "    }\n",
       "\n",
       "    .dataframe tbody tr th {\n",
       "        vertical-align: top;\n",
       "    }\n",
       "\n",
       "    .dataframe thead th {\n",
       "        text-align: right;\n",
       "    }\n",
       "</style>\n",
       "<table border=\"1\" class=\"dataframe\">\n",
       "  <thead>\n",
       "    <tr style=\"text-align: right;\">\n",
       "      <th></th>\n",
       "      <th>customer_id</th>\n",
       "      <th>product_id</th>\n",
       "      <th>product_title</th>\n",
       "      <th>star_rating</th>\n",
       "      <th>review_date</th>\n",
       "    </tr>\n",
       "  </thead>\n",
       "  <tbody>\n",
       "    <tr>\n",
       "      <th>0</th>\n",
       "      <td>12039526</td>\n",
       "      <td>B001CXYMFS</td>\n",
       "      <td>Thrustmaster T-Flight Hotas X Flight Stick</td>\n",
       "      <td>5</td>\n",
       "      <td>2015-08-31</td>\n",
       "    </tr>\n",
       "    <tr>\n",
       "      <th>1</th>\n",
       "      <td>2331478</td>\n",
       "      <td>B0029CSOD2</td>\n",
       "      <td>Hidden Mysteries: Titanic Secrets of the Fateful Voyage</td>\n",
       "      <td>1</td>\n",
       "      <td>2015-08-31</td>\n",
       "    </tr>\n",
       "    <tr>\n",
       "      <th>2</th>\n",
       "      <td>52495923</td>\n",
       "      <td>B00GOOSV98</td>\n",
       "      <td>GelTabz Performance Thumb Grips - PlayStation 4 and PlayStation 3</td>\n",
       "      <td>3</td>\n",
       "      <td>2015-08-31</td>\n",
       "    </tr>\n",
       "    <tr>\n",
       "      <th>3</th>\n",
       "      <td>14533949</td>\n",
       "      <td>B00Y074JOM</td>\n",
       "      <td>Zero Suit Samus amiibo - Japan Import (Super Smash Bros Series)</td>\n",
       "      <td>4</td>\n",
       "      <td>2015-08-31</td>\n",
       "    </tr>\n",
       "    <tr>\n",
       "      <th>4</th>\n",
       "      <td>17521011</td>\n",
       "      <td>B008XHCLFO</td>\n",
       "      <td>Protection for your 3DS XL</td>\n",
       "      <td>5</td>\n",
       "      <td>2015-08-31</td>\n",
       "    </tr>\n",
       "  </tbody>\n",
       "</table>\n",
       "</div>"
      ],
      "text/plain": [
       "   customer_id  product_id  \\\n",
       "0     12039526  B001CXYMFS   \n",
       "1      2331478  B0029CSOD2   \n",
       "2     52495923  B00GOOSV98   \n",
       "3     14533949  B00Y074JOM   \n",
       "4     17521011  B008XHCLFO   \n",
       "\n",
       "                                                       product_title  \\\n",
       "0                         Thrustmaster T-Flight Hotas X Flight Stick   \n",
       "1            Hidden Mysteries: Titanic Secrets of the Fateful Voyage   \n",
       "2  GelTabz Performance Thumb Grips - PlayStation 4 and PlayStation 3   \n",
       "3    Zero Suit Samus amiibo - Japan Import (Super Smash Bros Series)   \n",
       "4                                         Protection for your 3DS XL   \n",
       "\n",
       "   star_rating review_date  \n",
       "0            5  2015-08-31  \n",
       "1            1  2015-08-31  \n",
       "2            3  2015-08-31  \n",
       "3            4  2015-08-31  \n",
       "4            5  2015-08-31  "
      ]
     },
     "execution_count": 22,
     "metadata": {},
     "output_type": "execute_result"
    }
   ],
   "source": [
    "vg_df.head()"
   ]
  },
  {
   "cell_type": "code",
   "execution_count": 29,
   "metadata": {},
   "outputs": [
    {
     "data": {
      "text/plain": [
       "101"
      ]
     },
     "execution_count": 29,
     "metadata": {},
     "output_type": "execute_result"
    }
   ],
   "source": [
    "vg_df[vg_df['product_title']=='Hidden Mysteries: Titanic Secrets of the Fateful Voyage']['star_rating'].count()"
   ]
  },
  {
   "cell_type": "code",
   "execution_count": 38,
   "metadata": {},
   "outputs": [
    {
     "name": "stdout",
     "output_type": "stream",
     "text": [
      "Final Selection: Star Wars: The Force Unleashed II Platinum Edition with 959 ratings\n"
     ]
    }
   ],
   "source": [
    "#test\n",
    "title_list = list(vg_df[vg_df['product_title'].str.contains('Force Unleashed II')]['product_title'])\n",
    "\n",
    "chosen = title_list[0]\n",
    "for item in title_list:\n",
    "    if vg_df[vg_df['product_title']==item]['star_rating'].count() > vg_df[vg_df['product_title']==chosen]['star_rating'].count():\n",
    "        chosen = item\n",
    "print(f\"Final Selection: {chosen} with {vg_df[vg_df['product_title']==chosen]['star_rating'].count()} ratings\")"
   ]
  },
  {
   "cell_type": "code",
   "execution_count": 39,
   "metadata": {},
   "outputs": [
    {
     "data": {
      "text/plain": [
       "978"
      ]
     },
     "execution_count": 39,
     "metadata": {},
     "output_type": "execute_result"
    }
   ],
   "source": [
    "len(title_list)"
   ]
  },
  {
   "cell_type": "code",
   "execution_count": 40,
   "metadata": {},
   "outputs": [
    {
     "data": {
      "text/plain": [
       "'Star Wars: The Force Unleashed II Platinum Edition'"
      ]
     },
     "execution_count": 40,
     "metadata": {},
     "output_type": "execute_result"
    }
   ],
   "source": [
    "title_list[0]"
   ]
  },
  {
   "cell_type": "markdown",
   "metadata": {},
   "source": [
    "Okay - so when a search is ambiguous or vague, I can have my recommender return the item that contains the search term AND has the most ratings which indicates it's probably the most popular item i.e. what the searcher intended.  \n",
    "\n",
    "It would be nice if I could return that number of ratings and the average star rating for the searched product, and maybe the recommendations too? The fastest way to do this (so I don't have to compute them for every query) would be to add them as columns in my dataframes so I can just print them when called upon."
   ]
  },
  {
   "cell_type": "code",
   "execution_count": 50,
   "metadata": {},
   "outputs": [
    {
     "name": "stdout",
     "output_type": "stream",
     "text": [
      "   customer_id  product_id  \\\n",
      "0     12039526  B001CXYMFS   \n",
      "1      2331478  B0029CSOD2   \n",
      "2     52495923  B00GOOSV98   \n",
      "\n",
      "                                                       product_title  \\\n",
      "0                         Thrustmaster T-Flight Hotas X Flight Stick   \n",
      "1            Hidden Mysteries: Titanic Secrets of the Fateful Voyage   \n",
      "2  GelTabz Performance Thumb Grips - PlayStation 4 and PlayStation 3   \n",
      "\n",
      "   star_rating review_date  tot_prod_reviews  avg_prod_stars  \n",
      "0            5  2015-08-31               821        4.356882  \n",
      "1            1  2015-08-31               101        2.831683  \n",
      "2            3  2015-08-31               621        4.246377  \n",
      "   customer_id  product_id                                  product_title  \\\n",
      "0     12076615  0385730586     Sisterhood of the Traveling Pants (Book 1)   \n",
      "1     12703090  0811828964  The Bad Girl's Guide to Getting What You Want   \n",
      "2     31048862  0316769487                         The Catcher in the Rye   \n",
      "\n",
      "   star_rating review_date  tot_prod_reviews  avg_prod_stars  \n",
      "0          4.0  2005-10-14               304        4.585526  \n",
      "1          3.0  2005-10-14                73        4.164384  \n",
      "2          4.0  2005-10-14              1675        4.108060  \n",
      "   customer_id  product_id  \\\n",
      "0     27288431  B005T4ND06   \n",
      "1     13722556  B004EPZ070   \n",
      "2     20381037  B005S9EKCW   \n",
      "\n",
      "                                                                                                         product_title  \\\n",
      "0  Yoga for Movement Disorders DVD: Rebuilding Strength, Balance, and Flexibility for Parkinson's Disease and Dystonia   \n",
      "1                                                                                                   Something Borrowed   \n",
      "2                                                                                      Les Miserables (2012) [Blu-ray]   \n",
      "\n",
      "   star_rating review_date  tot_prod_reviews  avg_prod_stars  \n",
      "0          5.0  2015-08-31                27        4.407407  \n",
      "1          5.0  2015-08-31               259        4.038610  \n",
      "2          5.0  2015-08-31              1067        4.463918  \n"
     ]
    }
   ],
   "source": [
    "df_list = [vg_df, books_df, movie_df]\n",
    "\n",
    "for dataframe in df_list:\n",
    "    prod_num_dict = dict(dataframe.groupby('product_title')['star_rating'].count())\n",
    "    prod_avg_dict = dict(dataframe.groupby('product_title')['star_rating'].mean())\n",
    "    dataframe['tot_prod_reviews'] = dataframe['product_title'].map(lambda x: prod_num_dict[x])\n",
    "    dataframe['avg_prod_stars'] = dataframe['product_title'].map(lambda x: prod_avg_dict[x])\n",
    "    print(dataframe.head(3))"
   ]
  },
  {
   "cell_type": "markdown",
   "metadata": {},
   "source": [
    "Okay, now we've got new columns that account for number of reviews and average star rating. If I sort the dataframes by number of reviews, then I should be able to always choose the first item in my query list to make recommendations. This out to be much faster than checking each one against the other every time."
   ]
  },
  {
   "cell_type": "code",
   "execution_count": 54,
   "metadata": {},
   "outputs": [],
   "source": [
    "for dataframe in df_list:\n",
    "    dataframe.sort_values(by='tot_prod_reviews', ascending=False, inplace=True)"
   ]
  },
  {
   "cell_type": "markdown",
   "metadata": {},
   "source": [
    "That should do it! I'm going to pickle these edited lookup dataframes so I can use them later"
   ]
  },
  {
   "cell_type": "code",
   "execution_count": 73,
   "metadata": {},
   "outputs": [],
   "source": [
    "#vg_df.to_pickle('./pickles/videog_look.pkl')\n",
    "#books_df.to_pickle('./pickles/books_look.pkl')\n",
    "#movie_df.to_pickle('./pickles/movies_look.pkl')"
   ]
  },
  {
   "cell_type": "code",
   "execution_count": null,
   "metadata": {},
   "outputs": [],
   "source": []
  },
  {
   "cell_type": "code",
   "execution_count": 84,
   "metadata": {},
   "outputs": [
    {
     "name": "stdin",
     "output_type": "stream",
     "text": [
      "Would you like to search for \"video games\", \"movies\", or \"books\"? Please enter one option:  video games\n"
     ]
    },
    {
     "name": "stdout",
     "output_type": "stream",
     "text": [
      "Okay, video game recommendations!\n"
     ]
    },
    {
     "name": "stdin",
     "output_type": "stream",
     "text": [
      "Please enter search term; the more specific your term is, the more accurate the results will be! Witcher\n"
     ]
    },
    {
     "name": "stdout",
     "output_type": "stream",
     "text": [
      "Recommending items similar to: The Witcher 3: Wild Hunt\n",
      "This item has 713 reviews\n",
      "    and a 4.46 average star rating\n",
      "Here are the 10 recommended items for you based on your search parameters: \n",
      "1997\n",
      "Lords of the Fallen: Limited Edition - PlayStation 4    0.943657\n",
      "Batman: Arkham Knight                                   0.950284\n",
      "The Order: 1886                                         0.957811\n",
      "Dark Souls II: Scholar of the First Sin                 0.958174\n",
      "The Witcher 2: Assassins Of Kings Enhanced Edition      0.959459\n",
      "State of Decay- Year-One Survival Edition               0.959624\n",
      "Bloodborne                                              0.959825\n",
      "Dragon Age Inquisition                                  0.965065\n",
      "Middle Earth: Shadow of Mordor                          0.966122\n",
      "Battlefield Hardline                                    0.966467\n",
      "Name: The Witcher 3: Wild Hunt, dtype: Sparse[float64, 1]\n"
     ]
    }
   ],
   "source": [
    "#def choose_item(question):\n",
    "\n",
    "#select category based on user input:\n",
    "\n",
    "category = input('Would you like to search for \"video games\", \"movies\", or \"books\"? Please enter one option: ')\n",
    "while category.lower() not in ['video games', 'movies', 'books']:\n",
    "    print('Sorry, you need to enter \"video games\", \"movies\", or \"books\"') #error message\n",
    "    time.sleep(1) #wait 1 second, then make input available for user to try again\n",
    "    category = input('Would you like to search for \"video games\", \"movies\", or \"books\"? Please enter one option: ')\n",
    "if category.lower() == 'video games':\n",
    "    print('Okay, video game recommendations!') #vg_df\n",
    "    lookup, recommender = vg_df, vg_rec\n",
    "elif category.lower() == 'movies':\n",
    "    print('Okay, movie recommendations!') #movie_df\n",
    "    lookup, recommender = movie_df, movie_rec\n",
    "elif category.lower() == 'books':\n",
    "    print('Okay, book recommendations!') #books_df\n",
    "    lookup, recommender = books_df, books_rec\n",
    "else:\n",
    "    print(\"Sorry, that wasn't one of the options\")\n",
    "\n",
    "#provide input option for search parameters\n",
    "query = input('Please enter search term; the more specific your term is, the more accurate the results will be!')\n",
    "#wout = input('Wou')\n",
    "try:\n",
    "    titles = list(lookup[lookup['product_title'].str.contains(query)]['product_title'])\n",
    "    print(f'Recommending items similar to: {titles[0]}')\n",
    "    print(f\"\"\"This item has {round(lookup[lookup['product_title']==titles[0]]['tot_prod_reviews'].mean())} reviews\n",
    "    and a {round(lookup[lookup['product_title']==titles[0]]['avg_prod_stars'].mean(), 2)} average star rating\"\"\")\n",
    "    print('Here are the 10 recommended items for you based on your search parameters: ')\n",
    "    print(len(titles))\n",
    "    print(recommender.loc[titles[0],:].sort_values()[1:11]) #first matching item will be itself so start at second\n",
    "except:\n",
    "    print(f'Sorry, \"{query}\" does not appear to be in the product database')\n",
    "#list of titles that contain given keyword\n",
    "#print('Here are the 10 recommended items for you based on your search parameters: ')\n",
    "#print(len(titles))\n",
    "#print(recommender.loc[titles[0],:].sort_values()[1:11]) #first matching item will be itself so start at second\n"
   ]
  },
  {
   "cell_type": "markdown",
   "metadata": {},
   "source": [
    "There's my MVP! A strong start."
   ]
  }
 ],
 "metadata": {
  "kernelspec": {
   "display_name": "Python 3",
   "language": "python",
   "name": "python3"
  },
  "language_info": {
   "codemirror_mode": {
    "name": "ipython",
    "version": 3
   },
   "file_extension": ".py",
   "mimetype": "text/x-python",
   "name": "python",
   "nbconvert_exporter": "python",
   "pygments_lexer": "ipython3",
   "version": "3.8.3"
  }
 },
 "nbformat": 4,
 "nbformat_minor": 4
}
