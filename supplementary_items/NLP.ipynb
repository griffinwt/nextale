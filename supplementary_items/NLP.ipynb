{
 "cells": [
  {
   "cell_type": "code",
   "execution_count": 3,
   "metadata": {},
   "outputs": [],
   "source": [
    "#https://stackoverflow.com/questions/48828824/disable-warnings-in-jupyter-notebook\n",
    "#imports\n",
    "import pandas as pd\n",
    "import numpy as np\n",
    "import requests\n",
    "from bs4 import BeautifulSoup, NavigableString, Tag\n",
    "import re\n",
    "import time\n",
    "import random\n",
    "import sys\n",
    "pd.set_option('display.max_colwidth', None)\n",
    "\n",
    "from sklearn.metrics.pairwise import pairwise_distances, cosine_distances, cosine_similarity\n",
    "from scipy import sparse\n",
    "from matplotlib import pyplot as plt\n",
    "import utils as ut\n",
    "\n",
    "from sklearn.feature_extraction.text import CountVectorizer\n",
    "\n",
    "import warnings\n",
    "warnings.filterwarnings('ignore')"
   ]
  },
  {
   "cell_type": "code",
   "execution_count": 2,
   "metadata": {},
   "outputs": [
    {
     "name": "stdout",
     "output_type": "stream",
     "text": [
      "1.265136394 GB\n"
     ]
    }
   ],
   "source": [
    "df = pd.read_csv('./data/video_games.csv')\n",
    "print(ut.size_in_gb(df))"
   ]
  },
  {
   "cell_type": "code",
   "execution_count": 3,
   "metadata": {},
   "outputs": [],
   "source": [
    "df.dropna(inplace=True)"
   ]
  },
  {
   "cell_type": "code",
   "execution_count": 4,
   "metadata": {},
   "outputs": [
    {
     "data": {
      "text/html": [
       "<div>\n",
       "<style scoped>\n",
       "    .dataframe tbody tr th:only-of-type {\n",
       "        vertical-align: middle;\n",
       "    }\n",
       "\n",
       "    .dataframe tbody tr th {\n",
       "        vertical-align: top;\n",
       "    }\n",
       "\n",
       "    .dataframe thead th {\n",
       "        text-align: right;\n",
       "    }\n",
       "</style>\n",
       "<table border=\"1\" class=\"dataframe\">\n",
       "  <thead>\n",
       "    <tr style=\"text-align: right;\">\n",
       "      <th></th>\n",
       "      <th>customer_id</th>\n",
       "      <th>review_id</th>\n",
       "      <th>product_id</th>\n",
       "      <th>product_parent</th>\n",
       "      <th>product_title</th>\n",
       "      <th>star_rating</th>\n",
       "      <th>helpful_votes</th>\n",
       "      <th>total_votes</th>\n",
       "      <th>verified_purchase</th>\n",
       "      <th>review_date</th>\n",
       "      <th>full_review</th>\n",
       "    </tr>\n",
       "  </thead>\n",
       "  <tbody>\n",
       "    <tr>\n",
       "      <th>0</th>\n",
       "      <td>12039526</td>\n",
       "      <td>RTIS3L2M1F5SM</td>\n",
       "      <td>B001CXYMFS</td>\n",
       "      <td>737716809</td>\n",
       "      <td>Thrustmaster T-Flight Hotas X Flight Stick</td>\n",
       "      <td>5</td>\n",
       "      <td>0</td>\n",
       "      <td>0</td>\n",
       "      <td>1</td>\n",
       "      <td>2015-08-31</td>\n",
       "      <td>amazing joystick I especially love twist Used Elite Dangerous mac amazing joystick I especially love twist stick different movement binding well move normal way</td>\n",
       "    </tr>\n",
       "    <tr>\n",
       "      <th>1</th>\n",
       "      <td>2331478</td>\n",
       "      <td>R3BH071QLH8QMC</td>\n",
       "      <td>B0029CSOD2</td>\n",
       "      <td>98937668</td>\n",
       "      <td>Hidden Mysteries: Titanic Secrets of the Fateful Voyage</td>\n",
       "      <td>1</td>\n",
       "      <td>0</td>\n",
       "      <td>1</td>\n",
       "      <td>1</td>\n",
       "      <td>2015-08-31</td>\n",
       "      <td>One Star poor quality work advertised</td>\n",
       "    </tr>\n",
       "    <tr>\n",
       "      <th>2</th>\n",
       "      <td>52495923</td>\n",
       "      <td>R127K9NTSXA2YH</td>\n",
       "      <td>B00GOOSV98</td>\n",
       "      <td>23143350</td>\n",
       "      <td>GelTabz Performance Thumb Grips - PlayStation 4 and PlayStation 3</td>\n",
       "      <td>3</td>\n",
       "      <td>0</td>\n",
       "      <td>0</td>\n",
       "      <td>1</td>\n",
       "      <td>2015-08-31</td>\n",
       "      <td>good could bettee nice tend slip away stick intense hard pressed gaming session</td>\n",
       "    </tr>\n",
       "    <tr>\n",
       "      <th>3</th>\n",
       "      <td>14533949</td>\n",
       "      <td>R32ZWUXDJPW27Q</td>\n",
       "      <td>B00Y074JOM</td>\n",
       "      <td>821342511</td>\n",
       "      <td>Zero Suit Samus amiibo - Japan Import (Super Smash Bros Series)</td>\n",
       "      <td>4</td>\n",
       "      <td>0</td>\n",
       "      <td>0</td>\n",
       "      <td>1</td>\n",
       "      <td>2015-08-31</td>\n",
       "      <td>Great flawed Great amiibo great collecting Quality material desired since perfect</td>\n",
       "    </tr>\n",
       "    <tr>\n",
       "      <th>4</th>\n",
       "      <td>17521011</td>\n",
       "      <td>R2F0POU5K6F73F</td>\n",
       "      <td>B008XHCLFO</td>\n",
       "      <td>24234603</td>\n",
       "      <td>Protection for your 3DS XL</td>\n",
       "      <td>5</td>\n",
       "      <td>0</td>\n",
       "      <td>0</td>\n",
       "      <td>1</td>\n",
       "      <td>2015-08-31</td>\n",
       "      <td>A Must I 2012 2013 XL durable comfortable really cool looking</td>\n",
       "    </tr>\n",
       "  </tbody>\n",
       "</table>\n",
       "</div>"
      ],
      "text/plain": [
       "   customer_id       review_id  product_id  product_parent  \\\n",
       "0     12039526   RTIS3L2M1F5SM  B001CXYMFS       737716809   \n",
       "1      2331478  R3BH071QLH8QMC  B0029CSOD2        98937668   \n",
       "2     52495923  R127K9NTSXA2YH  B00GOOSV98        23143350   \n",
       "3     14533949  R32ZWUXDJPW27Q  B00Y074JOM       821342511   \n",
       "4     17521011  R2F0POU5K6F73F  B008XHCLFO        24234603   \n",
       "\n",
       "                                                       product_title  \\\n",
       "0                         Thrustmaster T-Flight Hotas X Flight Stick   \n",
       "1            Hidden Mysteries: Titanic Secrets of the Fateful Voyage   \n",
       "2  GelTabz Performance Thumb Grips - PlayStation 4 and PlayStation 3   \n",
       "3    Zero Suit Samus amiibo - Japan Import (Super Smash Bros Series)   \n",
       "4                                         Protection for your 3DS XL   \n",
       "\n",
       "   star_rating  helpful_votes  total_votes  verified_purchase review_date  \\\n",
       "0            5              0            0                  1  2015-08-31   \n",
       "1            1              0            1                  1  2015-08-31   \n",
       "2            3              0            0                  1  2015-08-31   \n",
       "3            4              0            0                  1  2015-08-31   \n",
       "4            5              0            0                  1  2015-08-31   \n",
       "\n",
       "                                                                                                                                                        full_review  \n",
       "0  amazing joystick I especially love twist Used Elite Dangerous mac amazing joystick I especially love twist stick different movement binding well move normal way  \n",
       "1                                                                                                                             One Star poor quality work advertised  \n",
       "2                                                                                   good could bettee nice tend slip away stick intense hard pressed gaming session  \n",
       "3                                                                                 Great flawed Great amiibo great collecting Quality material desired since perfect  \n",
       "4                                                                                                     A Must I 2012 2013 XL durable comfortable really cool looking  "
      ]
     },
     "execution_count": 4,
     "metadata": {},
     "output_type": "execute_result"
    }
   ],
   "source": [
    "df.head() #preview"
   ]
  },
  {
   "cell_type": "markdown",
   "metadata": {},
   "source": [
    "I'd like to see if I can isolate the most common words in an individual item's review text. The review text was already tokenized, lemmatized, and had stop words removed during the initial read-in/cleaning process that I created so the text should be ripe for analysis."
   ]
  },
  {
   "cell_type": "code",
   "execution_count": 5,
   "metadata": {},
   "outputs": [
    {
     "data": {
      "text/plain": [
       "15938"
      ]
     },
     "execution_count": 5,
     "metadata": {},
     "output_type": "execute_result"
    }
   ],
   "source": [
    "len(df['product_title'].unique()) #number of unique products represented in data"
   ]
  },
  {
   "cell_type": "code",
   "execution_count": 6,
   "metadata": {},
   "outputs": [],
   "source": [
    "prod_list = list(df['product_title'].unique())"
   ]
  },
  {
   "cell_type": "code",
   "execution_count": 7,
   "metadata": {},
   "outputs": [
    {
     "data": {
      "text/plain": [
       "'Thrustmaster T-Flight Hotas X Flight Stick'"
      ]
     },
     "execution_count": 7,
     "metadata": {},
     "output_type": "execute_result"
    }
   ],
   "source": [
    "prod_list[0]"
   ]
  },
  {
   "cell_type": "code",
   "execution_count": 8,
   "metadata": {},
   "outputs": [
    {
     "data": {
      "text/plain": [
       "['Thrustmaster', 'T-Flight', 'Hotas', 'X', 'Flight', 'Stick']"
      ]
     },
     "execution_count": 8,
     "metadata": {},
     "output_type": "execute_result"
    }
   ],
   "source": [
    "prod_list[0].split(' ')"
   ]
  },
  {
   "cell_type": "code",
   "execution_count": 9,
   "metadata": {},
   "outputs": [],
   "source": [
    "sing_prod_df = df[df['product_title']==prod_list[0]]"
   ]
  },
  {
   "cell_type": "code",
   "execution_count": 10,
   "metadata": {},
   "outputs": [
    {
     "data": {
      "text/plain": [
       "'amazing joystick I especially love twist Used Elite Dangerous mac amazing joystick I especially love twist stick different movement binding well move normal way'"
      ]
     },
     "execution_count": 10,
     "metadata": {},
     "output_type": "execute_result"
    }
   ],
   "source": [
    "list(sing_prod_df['full_review'])[0]"
   ]
  },
  {
   "cell_type": "code",
   "execution_count": 11,
   "metadata": {},
   "outputs": [],
   "source": [
    "from sklearn.feature_extraction.text import CountVectorizer\n",
    "#swords = ['the', 'it', 'wa', 'br', 'use', 'game', 'like', 'one'] #custom stop word list\n",
    "#cvec = CountVectorizer(stop_words=swords)\n",
    "\n",
    "def frequency_finder(dataframe, product): #finds most common words in revie for given product\n",
    "    revs_df = dataframe[dataframe['product_title']==product] #make dataframe for that single product\n",
    "    prod_text = list(revs_df['full_review']) #make a list of review text\n",
    "    swords = ['the', 'it', 'wa', 'br', 'use', 'game', 'like', 'one', 'would', 'play', 'one',\n",
    "             'two', 'three', 'four', 'five', 'stars', 'get', 'this', 'they', 'good', 'great',\n",
    "             'best', 'time'] #custom stop word list\n",
    "    for word in product.split(' '): #split title into list on spaces\n",
    "        # add words from title to stop words list - remove common punctuation characters in titles\n",
    "        swords.append(word.replace('(', '').replace(')', '').replace('-','').lower())   \n",
    "    #print(swords) #preview stop word list\n",
    "    cvec = CountVectorizer(stop_words=swords) #feed custom stop word list into cvec\n",
    "    cvec_text = cvec.fit_transform(prod_text) #pass posts through count vectorizer\n",
    "    text_df = pd.DataFrame(cvec_text.todense(), columns=cvec.get_feature_names()) #make df showing word frequency\n",
    "    #return text_df #return dataframe of values \n",
    "    return ', '.join(dict(text_df.sum().sort_values(ascending=False).head(5)).keys()) #return top 5 words as string"
   ]
  },
  {
   "cell_type": "code",
   "execution_count": 12,
   "metadata": {},
   "outputs": [
    {
     "data": {
      "text/plain": [
       "'joystick, throttle, button, work, control'"
      ]
     },
     "execution_count": 12,
     "metadata": {},
     "output_type": "execute_result"
    }
   ],
   "source": [
    "frequency_finder(df, prod_list[0]) #test"
   ]
  },
  {
   "cell_type": "code",
   "execution_count": 13,
   "metadata": {},
   "outputs": [],
   "source": [
    "#df['top_5_rev_words'] = df['product_title'].map(lambda x: frequency_finder(df, x)) #create new column in df\n",
    "#ran for WAY too long"
   ]
  },
  {
   "cell_type": "raw",
   "metadata": {},
   "source": [
    "#create dictionary of keywords matched w/products\n",
    "vg_rev_words = {x : frequency_finder(df,x) for x in prod_list}"
   ]
  },
  {
   "cell_type": "raw",
   "metadata": {},
   "source": [
    "len(vg_rev_words)"
   ]
  },
  {
   "cell_type": "raw",
   "metadata": {},
   "source": [
    "vg_rev_words[prod_list[0]] #test"
   ]
  },
  {
   "cell_type": "raw",
   "metadata": {},
   "source": [
    "import pickle #saving dictionary for future use\n",
    "with open('./pickles/vg_text_dict.pkl', 'wb') as f:\n",
    "    pickle.dump(vg_rev_words, f)"
   ]
  },
  {
   "cell_type": "raw",
   "metadata": {},
   "source": [
    "#confirm saving\n",
    "with open('./pickles/vg_text_dict.pkl', 'rb') as f:\n",
    "    testp = pickle.load(f)\n",
    "print(vg_rev_words == testp) #assert the pickled dict is the same as the current one"
   ]
  },
  {
   "cell_type": "raw",
   "metadata": {},
   "source": [
    "plt.figure(figsize=(18,7))\n",
    "\n",
    "item1_df.sum().sort_values(ascending=False).head(5).plot.barh(\n",
    "    fontsize = '20',\n",
    "    color='maroon'); #make bar chart of most frequent 10 words    \n",
    "plt.title('Most Frequent Words For Item 1', size=25);"
   ]
  },
  {
   "cell_type": "markdown",
   "metadata": {},
   "source": [
    "Okay - that's a good snapshot of the 5 most common words for a given product. I can generalize that function and use it across all products if I decide I want to add it to my returned search values.\n",
    "\n",
    "I'd also like to see other NLP trends like what words are common when products are grouped by average star rating - or I could group products by average star rating and compare text that way."
   ]
  },
  {
   "cell_type": "code",
   "execution_count": 12,
   "metadata": {},
   "outputs": [
    {
     "name": "stdout",
     "output_type": "stream",
     "text": [
      "\n",
      "Star Rating: 1\n",
      "171966\n",
      "\n",
      "Star Rating: 2\n",
      "86201\n",
      "\n",
      "Star Rating: 3\n",
      "140101\n",
      "\n",
      "Star Rating: 4\n",
      "293505\n",
      "\n",
      "Star Rating: 5\n",
      "956316\n"
     ]
    }
   ],
   "source": [
    "for n in range(1,6): #how many reviews are there for each star possibility?\n",
    "    print()\n",
    "    print(f'Star Rating: {n}')\n",
    "    print(len(df[df['star_rating']==n]))"
   ]
  },
  {
   "cell_type": "code",
   "execution_count": 19,
   "metadata": {},
   "outputs": [
    {
     "data": {
      "image/png": "[encoded data removed]",
      "text/plain": [
       "<Figure size 1296x504 with 1 Axes>"
      ]
     },
     "metadata": {
      "needs_background": "light"
     },
     "output_type": "display_data"
    }
   ],
   "source": [
    "star_counts = dict(df.groupby('star_rating')['review_id'].count())\n",
    "X = []\n",
    "Y = []\n",
    "for x, y in star_counts.items():\n",
    "    X.append(x)\n",
    "    Y.append(y)\n",
    "plt.figure(figsize=(18,7))\n",
    "plt.ylabel('Star Rating', size=20)\n",
    "plt.yticks(size=15)\n",
    "plt.title('Quantity of Reviews by Star Rating (Video Games)', size=25)\n",
    "plt.barh(X,Y, color='navy');\n",
    "#plt.savefig('./images/vg_q_stars.png', dpi=200, bbox_fit='tight');"
   ]
  },
  {
   "cell_type": "code",
   "execution_count": 17,
   "metadata": {},
   "outputs": [],
   "source": [
    "#group by review star rating (1-5)\n",
    "\n",
    "def frequency_finder_stars(dataframe, rating): #finds most common words in revie for given product\n",
    "    revs_df = dataframe[dataframe['star_rating']==rating] #make dataframe for that single product\n",
    "    prod_text = list(revs_df['full_review']) #make a list of review text\n",
    "    #print(prod_text[:5])\n",
    "    swords = ['the', 'it', 'wa', 'br', 'use', 'game', 'like', 'one', 'would', 'play', 'one',\n",
    "             'two', 'three', 'four', 'five', 'stars', 'this', 'get', 'even', 'work',\n",
    "             'really', 'time', 'ha', 'much', 'good', 'great', 'fun', 'well', 'thing',\n",
    "             'first', 'also', 'make', 'way', 'you', 'character', 'better', 'still', 'if',\n",
    "             'playing'] #custom stop word list\n",
    "    #for word in product.split(' '):\n",
    "        #swords.append(word.replace('(', ''). replace(')', '').lower())   # add words from title to stop words list\n",
    "    #print(swords) #preview stop word list\n",
    "    cvec = CountVectorizer(stop_words=swords,\n",
    "                           ngram_range=(1,2), #search for words in range (#,#)\n",
    "                           max_df = .4, #word can't appear more than given% of the time\n",
    "                           min_df = .01,  # or less than min # times\n",
    "                           max_features=5_000) #max # words\n",
    "    cvec_text = cvec.fit_transform(prod_text) #pass posts through count vectorizer\n",
    "    text_df = pd.DataFrame(cvec_text.todense(), columns=cvec.get_feature_names()) #make df showing word frequency\n",
    "\n",
    "    plt.figure(figsize=(18,7))\n",
    "    text_df.sum().sort_values(ascending=False).head(5).plot.barh(\n",
    "    fontsize = '20',\n",
    "    color='chartreuse'); #make bar chart of most frequent 10 words   \n",
    "    plt.title(f'Most Frequent Words in {rating} Star Reviews', size=25)\n",
    "    plt.savefig(f'./images/vg_{rating}star.png', dpi=200, bbox_fit='tight')\n",
    "    return plt.show() #return plot (do not save df for sake of memory) "
   ]
  },
  {
   "cell_type": "code",
   "execution_count": 15,
   "metadata": {},
   "outputs": [],
   "source": [
    "#frequency_finder_stars(df, 1)"
   ]
  },
  {
   "cell_type": "raw",
   "metadata": {},
   "source": [
    "plt.figure(figsize=(18,7))\n",
    "\n",
    "one_star_df.sum().sort_values(ascending=False).head(5).plot.barh(\n",
    "    fontsize = '20',\n",
    "    color='maroon'); #make bar chart of most frequent 10 words    \n",
    "plt.title('Most Frequent Words in 1 Star Reviews', size=25);"
   ]
  },
  {
   "cell_type": "code",
   "execution_count": 16,
   "metadata": {},
   "outputs": [
    {
     "data": {
      "image/png": "[encoded data removed]",
      "text/plain": [
       "<Figure size 1296x504 with 1 Axes>"
      ]
     },
     "metadata": {
      "needs_background": "light"
     },
     "output_type": "display_data"
    },
    {
     "data": {
      "text/plain": [
       "<Figure size 432x288 with 0 Axes>"
      ]
     },
     "metadata": {},
     "output_type": "display_data"
    },
    {
     "data": {
      "image/png": "[encoded data removed]",
      "text/plain": [
       "<Figure size 1296x504 with 1 Axes>"
      ]
     },
     "metadata": {
      "needs_background": "light"
     },
     "output_type": "display_data"
    },
    {
     "data": {
      "text/plain": [
       "<Figure size 432x288 with 0 Axes>"
      ]
     },
     "metadata": {},
     "output_type": "display_data"
    },
    {
     "data": {
      "image/png": "[encoded data removed]",
      "text/plain": [
       "<Figure size 1296x504 with 1 Axes>"
      ]
     },
     "metadata": {
      "needs_background": "light"
     },
     "output_type": "display_data"
    },
    {
     "data": {
      "text/plain": [
       "<Figure size 432x288 with 0 Axes>"
      ]
     },
     "metadata": {},
     "output_type": "display_data"
    },
    {
     "data": {
      "image/png": "[encoded data removed]",
      "text/plain": [
       "<Figure size 1296x504 with 1 Axes>"
      ]
     },
     "metadata": {
      "needs_background": "light"
     },
     "output_type": "display_data"
    },
    {
     "data": {
      "text/plain": [
       "<Figure size 432x288 with 0 Axes>"
      ]
     },
     "metadata": {},
     "output_type": "display_data"
    },
    {
     "data": {
      "image/png": "[encoded data removed]",
      "text/plain": [
       "<Figure size 1296x504 with 1 Axes>"
      ]
     },
     "metadata": {
      "needs_background": "light"
     },
     "output_type": "display_data"
    },
    {
     "data": {
      "text/plain": [
       "<Figure size 432x288 with 0 Axes>"
      ]
     },
     "metadata": {},
     "output_type": "display_data"
    }
   ],
   "source": [
    "for n in range(1,6): #numbers 1-5\n",
    "    frequency_finder_stars(df, n)\n",
    "    #plt.savefig(f'./images/vg_{n}star.png', dpi=200, bbox_fit='tight')"
   ]
  },
  {
   "cell_type": "markdown",
   "metadata": {},
   "source": [
    "Okay - those metrics + the dictionary will be helpful for the video game section of my summary / web app. Time to create a function consolidating everything I did to this point so I can run books and movies through it."
   ]
  },
  {
   "cell_type": "code",
   "execution_count": 21,
   "metadata": {},
   "outputs": [],
   "source": [
    "def frequency_finder(dataframe, product): #finds most common words in revie for given product\n",
    "    revs_df = dataframe[dataframe['product_title']==product] #make dataframe for that single product\n",
    "    prod_text = list(revs_df['full_review']) #make a list of review text\n",
    "    swords = ['the', 'it', 'wa', 'br', 'use', 'like', 'one', 'would', 'one',\n",
    "             'two', 'three', 'four', 'five', 'stars', 'get', 'this', 'they', 'good', 'great',\n",
    "             'best', 'ha', 'book', 'read', 'quot', 'story'] #custom stop word list\n",
    "    for word in product.split(' '): #split title into list on spaces\n",
    "        # add words from title to stop words list - remove common punctuation characters in titles\n",
    "        swords.append(word.replace('(', '').replace(')', '').replace('-','').lower())   \n",
    "    #print(swords) #preview stop word list\n",
    "    cvec = CountVectorizer(stop_words=swords) #feed custom stop word list into cvec\n",
    "    cvec_text = cvec.fit_transform(prod_text) #pass posts through count vectorizer\n",
    "    text_df = pd.DataFrame(cvec_text.todense(), columns=cvec.get_feature_names()) #make df showing word frequency\n",
    "    return ', '.join(dict(text_df.sum().sort_values(ascending=False).head(5)).keys()) #return top 5 words as string"
   ]
  },
  {
   "cell_type": "code",
   "execution_count": 12,
   "metadata": {},
   "outputs": [],
   "source": [
    "df = pd.read_csv('./data/books.csv', usecols=['product_title', 'full_review'])"
   ]
  },
  {
   "cell_type": "code",
   "execution_count": 17,
   "metadata": {},
   "outputs": [
    {
     "name": "stdout",
     "output_type": "stream",
     "text": [
      "(1489352, 2)\n"
     ]
    },
    {
     "data": {
      "text/html": [
       "<div>\n",
       "<style scoped>\n",
       "    .dataframe tbody tr th:only-of-type {\n",
       "        vertical-align: middle;\n",
       "    }\n",
       "\n",
       "    .dataframe tbody tr th {\n",
       "        vertical-align: top;\n",
       "    }\n",
       "\n",
       "    .dataframe thead th {\n",
       "        text-align: right;\n",
       "    }\n",
       "</style>\n",
       "<table border=\"1\" class=\"dataframe\">\n",
       "  <thead>\n",
       "    <tr style=\"text-align: right;\">\n",
       "      <th></th>\n",
       "      <th>product_title</th>\n",
       "      <th>full_review</th>\n",
       "    </tr>\n",
       "  </thead>\n",
       "  <tbody>\n",
       "    <tr>\n",
       "      <th>0</th>\n",
       "      <td>Sisterhood of the Traveling Pants (Book 1)</td>\n",
       "      <td>book wa great learning novel boook wa great one could learn teach imponrtance family value also deal basic issue teen kid even deal book 4 best friend first time life spending summer apart one day one girl room find pair pant tucked away closet four try realize really something special pant seeming 4 girl differnt shape size somehow pant fit realize pant start something special immediatley following decided make certian rule abut pant must write best thing u wearing pant summer right leg also silly thing never pick yuor nose wearing pant book follows girl throuh summer differnt place world different obstacle life take really teach alot going around imporntantly yuorself would give book 4 star would reccommend anyone seems slihgtest bit interested</td>\n",
       "    </tr>\n",
       "    <tr>\n",
       "      <th>1</th>\n",
       "      <td>The Bad Girl's Guide to Getting What You Want</td>\n",
       "      <td>Fun Fluff If looking something stimulate brain However looking good laugh enjoy The Bad Girl Guide It funny light definitely good way pas little bit time</td>\n",
       "    </tr>\n",
       "    <tr>\n",
       "      <th>2</th>\n",
       "      <td>The Catcher in the Rye</td>\n",
       "      <td>Interesting fun My complaint book wa bit repetative Holden vocabulary consists 4 word sonuvabitch goddamn lousy phony It wa still quite humorous actual story wa interesting br br It wa easy read relate pick looking fun read Some people complain lack plot understand book need read deeper It actually lot annoying kid list complaint life br br The story Holden Caulfield coming age realizing growing process stopped He lousy childhood put want save child going though thing experienced life He telling story mental institution wa placed returning home fourth Prep school kicked He flash back event leading arrival home tell story 3 day</td>\n",
       "    </tr>\n",
       "    <tr>\n",
       "      <th>3</th>\n",
       "      <td>Bait and Switch: The (Futile) Pursuit of the American Dream</td>\n",
       "      <td>I viewed opposite Publisher Weekly This book chilling depressing indeed though well written sprinkled frequent humor I wa sort surprised however comment Publisher Weekly said PW suspect many buyer disappointed Ehrenreich deliver promised story never managed get employed midlevel corporate world wanted analyze I never viewed promised story first place To primary point book wa describe wa like actually try ENTER world first place rather describing life wa like got In fact I actually thought lucked sense bizarre surreal experience make entertaining thought provoking reading mind HAD obtained job right away would taken away whole raison etre book It would completely different book merely described presumably boring mid level corporate job probably would day day Thus least purpose writing book I think wa lucky thing worked way As reader criticized taking job offered AFLAC Mary Kay I thought comment bizarre I agree Ms Ehrenreich point job employer offer salary benefit office help essentially take risk whatsoever hardly considered job traditional sense wa seeking In event really pretty scary depressing book one I recommend</td>\n",
       "    </tr>\n",
       "    <tr>\n",
       "      <th>4</th>\n",
       "      <td>Hour Game (King &amp; Maxwell)</td>\n",
       "      <td>A good read If enjoy well told yarn intrigue told skillfully able predict ending really good done</td>\n",
       "    </tr>\n",
       "  </tbody>\n",
       "</table>\n",
       "</div>"
      ],
      "text/plain": [
       "                                                 product_title  \\\n",
       "0                   Sisterhood of the Traveling Pants (Book 1)   \n",
       "1                The Bad Girl's Guide to Getting What You Want   \n",
       "2                                       The Catcher in the Rye   \n",
       "3  Bait and Switch: The (Futile) Pursuit of the American Dream   \n",
       "4                                   Hour Game (King & Maxwell)   \n",
       "\n",
       "                                                                                                                                                                                                                                                                                                                                                                                                                                                                                                                                                                                                                                                                                                                                                                                                                                                                                                                                                                                                                                                                                                                                                                     full_review  \n",
       "0                                                                                                                                                                                                                                                                                                                                                                                           book wa great learning novel boook wa great one could learn teach imponrtance family value also deal basic issue teen kid even deal book 4 best friend first time life spending summer apart one day one girl room find pair pant tucked away closet four try realize really something special pant seeming 4 girl differnt shape size somehow pant fit realize pant start something special immediatley following decided make certian rule abut pant must write best thing u wearing pant summer right leg also silly thing never pick yuor nose wearing pant book follows girl throuh summer differnt place world different obstacle life take really teach alot going around imporntantly yuorself would give book 4 star would reccommend anyone seems slihgtest bit interested  \n",
       "1                                                                                                                                                                                                                                                                                                                                                                                                                                                                                                                                                                                                                                                                                                                                                                                                                                                                                                                                                                                                                      Fun Fluff If looking something stimulate brain However looking good laugh enjoy The Bad Girl Guide It funny light definitely good way pas little bit time  \n",
       "2                                                                                                                                                                                                                                                                                                                                                                                                                                                                                                                     Interesting fun My complaint book wa bit repetative Holden vocabulary consists 4 word sonuvabitch goddamn lousy phony It wa still quite humorous actual story wa interesting br br It wa easy read relate pick looking fun read Some people complain lack plot understand book need read deeper It actually lot annoying kid list complaint life br br The story Holden Caulfield coming age realizing growing process stopped He lousy childhood put want save child going though thing experienced life He telling story mental institution wa placed returning home fourth Prep school kicked He flash back event leading arrival home tell story 3 day  \n",
       "3  I viewed opposite Publisher Weekly This book chilling depressing indeed though well written sprinkled frequent humor I wa sort surprised however comment Publisher Weekly said PW suspect many buyer disappointed Ehrenreich deliver promised story never managed get employed midlevel corporate world wanted analyze I never viewed promised story first place To primary point book wa describe wa like actually try ENTER world first place rather describing life wa like got In fact I actually thought lucked sense bizarre surreal experience make entertaining thought provoking reading mind HAD obtained job right away would taken away whole raison etre book It would completely different book merely described presumably boring mid level corporate job probably would day day Thus least purpose writing book I think wa lucky thing worked way As reader criticized taking job offered AFLAC Mary Kay I thought comment bizarre I agree Ms Ehrenreich point job employer offer salary benefit office help essentially take risk whatsoever hardly considered job traditional sense wa seeking In event really pretty scary depressing book one I recommend  \n",
       "4                                                                                                                                                                                                                                                                                                                                                                                                                                                                                                                                                                                                                                                                                                                                                                                                                                                                                                                                                                                                                                                                              A good read If enjoy well told yarn intrigue told skillfully able predict ending really good done  "
      ]
     },
     "execution_count": 17,
     "metadata": {},
     "output_type": "execute_result"
    }
   ],
   "source": [
    "df.dropna(inplace=True) #drop 2 empty review texts\n",
    "print(df.shape)\n",
    "df.head() #preview"
   ]
  },
  {
   "cell_type": "code",
   "execution_count": 14,
   "metadata": {},
   "outputs": [
    {
     "data": {
      "text/plain": [
       "46575"
      ]
     },
     "execution_count": 14,
     "metadata": {},
     "output_type": "execute_result"
    }
   ],
   "source": [
    "prod_df = pd.read_pickle('./compressed/books_look_c.pkl')\n",
    "prod_list = list(prod_df['product_title'])\n",
    "len(prod_list) #preview"
   ]
  },
  {
   "cell_type": "code",
   "execution_count": 22,
   "metadata": {},
   "outputs": [],
   "source": [
    "#create dictionary of keywords matched w/products\n",
    "books_rev_words = {x : frequency_finder(df,x) for x in prod_list}"
   ]
  },
  {
   "cell_type": "code",
   "execution_count": 24,
   "metadata": {},
   "outputs": [],
   "source": [
    "books_rev_words;"
   ]
  },
  {
   "cell_type": "code",
   "execution_count": null,
   "metadata": {},
   "outputs": [],
   "source": []
  },
  {
   "cell_type": "code",
   "execution_count": 25,
   "metadata": {},
   "outputs": [],
   "source": [
    "#now, for movies\n",
    "df = pd.read_csv('./data/movie_dvd.csv', usecols=['product_title', 'full_review'])"
   ]
  },
  {
   "cell_type": "code",
   "execution_count": 26,
   "metadata": {},
   "outputs": [
    {
     "name": "stdout",
     "output_type": "stream",
     "text": [
      "(4405369, 2)\n"
     ]
    },
    {
     "data": {
      "text/html": [
       "<div>\n",
       "<style scoped>\n",
       "    .dataframe tbody tr th:only-of-type {\n",
       "        vertical-align: middle;\n",
       "    }\n",
       "\n",
       "    .dataframe tbody tr th {\n",
       "        vertical-align: top;\n",
       "    }\n",
       "\n",
       "    .dataframe thead th {\n",
       "        text-align: right;\n",
       "    }\n",
       "</style>\n",
       "<table border=\"1\" class=\"dataframe\">\n",
       "  <thead>\n",
       "    <tr style=\"text-align: right;\">\n",
       "      <th></th>\n",
       "      <th>product_title</th>\n",
       "      <th>full_review</th>\n",
       "    </tr>\n",
       "  </thead>\n",
       "  <tbody>\n",
       "    <tr>\n",
       "      <th>0</th>\n",
       "      <td>Yoga for Movement Disorders DVD: Rebuilding Strength, Balance, and Flexibility for Parkinson's Disease and Dystonia</td>\n",
       "      <td>This wa gift aunt ha Parkinson This wa gift aunt ha Parkinson While I previewed I also gotten complaint My prior experience yoga tell doctor ordered</td>\n",
       "    </tr>\n",
       "    <tr>\n",
       "      <th>1</th>\n",
       "      <td>Something Borrowed</td>\n",
       "      <td>Five Stars Teats heart</td>\n",
       "    </tr>\n",
       "    <tr>\n",
       "      <th>2</th>\n",
       "      <td>Les Miserables (2012) [Blu-ray]</td>\n",
       "      <td>Great movie Great movie</td>\n",
       "    </tr>\n",
       "    <tr>\n",
       "      <th>3</th>\n",
       "      <td>Alien Anthology and Prometheus Bundle [Blu-ray]</td>\n",
       "      <td>Amazing My husband wa excited receive gift Great picture quality great value</td>\n",
       "    </tr>\n",
       "    <tr>\n",
       "      <th>4</th>\n",
       "      <td>Sex and the City 2</td>\n",
       "      <td>Five Stars Love series</td>\n",
       "    </tr>\n",
       "  </tbody>\n",
       "</table>\n",
       "</div>"
      ],
      "text/plain": [
       "                                                                                                         product_title  \\\n",
       "0  Yoga for Movement Disorders DVD: Rebuilding Strength, Balance, and Flexibility for Parkinson's Disease and Dystonia   \n",
       "1                                                                                                   Something Borrowed   \n",
       "2                                                                                      Les Miserables (2012) [Blu-ray]   \n",
       "3                                                                      Alien Anthology and Prometheus Bundle [Blu-ray]   \n",
       "4                                                                                                   Sex and the City 2   \n",
       "\n",
       "                                                                                                                                            full_review  \n",
       "0  This wa gift aunt ha Parkinson This wa gift aunt ha Parkinson While I previewed I also gotten complaint My prior experience yoga tell doctor ordered  \n",
       "1                                                                                                                                Five Stars Teats heart  \n",
       "2                                                                                                                               Great movie Great movie  \n",
       "3                                                                          Amazing My husband wa excited receive gift Great picture quality great value  \n",
       "4                                                                                                                                Five Stars Love series  "
      ]
     },
     "execution_count": 26,
     "metadata": {},
     "output_type": "execute_result"
    }
   ],
   "source": [
    "df.dropna(inplace=True) #drop empty review texts\n",
    "print(df.shape)\n",
    "df.head() #preview"
   ]
  },
  {
   "cell_type": "code",
   "execution_count": 27,
   "metadata": {},
   "outputs": [
    {
     "data": {
      "text/plain": [
       "72385"
      ]
     },
     "execution_count": 27,
     "metadata": {},
     "output_type": "execute_result"
    }
   ],
   "source": [
    "prod_df = pd.read_pickle('./compressed/movies_look_c.pkl')\n",
    "prod_list = list(prod_df['product_title'])\n",
    "len(prod_list) #preview"
   ]
  },
  {
   "cell_type": "code",
   "execution_count": 33,
   "metadata": {},
   "outputs": [],
   "source": [
    "# will add stop words for subject matter as needed\n",
    "\n",
    "def frequency_finder(dataframe, product): #finds most common words in revie for given product\n",
    "    revs_df = dataframe[dataframe['product_title']==product] #make dataframe for that single product\n",
    "    prod_text = list(revs_df['full_review']) #make a list of review text\n",
    "    swords = ['the', 'it', 'wa', 'br', 'use', 'like', 'one', 'would', 'one',\n",
    "             'two', 'three', 'four', 'five', 'stars', 'get', 'this', 'they', 'good', 'great',\n",
    "             'best', 'ha', 'dvd', 'blu', 'movie', 'ray','film','quot'] #custom stop word list\n",
    "    for word in product.split(' '): #split title into list on spaces\n",
    "        # add words from title to stop words list - remove common punctuation characters in titles\n",
    "        swords.append(word.replace('(', '').replace(')', '').replace('-','').lower())   \n",
    "    #print(swords) #preview stop word list\n",
    "    cvec = CountVectorizer(stop_words=swords) #feed custom stop word list into cvec\n",
    "    cvec_text = cvec.fit_transform(prod_text) #pass posts through count vectorizer\n",
    "    text_df = pd.DataFrame(cvec_text.todense(), columns=cvec.get_feature_names()) #make df showing word frequency\n",
    "    return ', '.join(dict(text_df.sum().sort_values(ascending=False).head(5)).keys()) #return top 5 words as string"
   ]
  },
  {
   "cell_type": "code",
   "execution_count": 34,
   "metadata": {},
   "outputs": [],
   "source": [
    "movies_rev_words = {x : frequency_finder(df,x) for x in prod_list}"
   ]
  },
  {
   "cell_type": "code",
   "execution_count": 36,
   "metadata": {},
   "outputs": [],
   "source": [
    "movies_rev_words;"
   ]
  },
  {
   "cell_type": "code",
   "execution_count": 37,
   "metadata": {},
   "outputs": [],
   "source": [
    "import pickle #saving dictionary for future use"
   ]
  },
  {
   "cell_type": "code",
   "execution_count": 38,
   "metadata": {},
   "outputs": [],
   "source": [
    "with open('./compressed/books_text_dict.pkl', 'wb') as f:\n",
    "    pickle.dump(books_rev_words, f)\n",
    "    \n",
    "with open('./compressed/movies_text_dict.pkl', 'wb') as f:\n",
    "    pickle.dump(movies_rev_words, f)"
   ]
  },
  {
   "cell_type": "markdown",
   "metadata": {},
   "source": [
    "Great! Time to get these uploaded to github and try pulling in the data for my recommender!"
   ]
  },
  {
   "cell_type": "code",
   "execution_count": null,
   "metadata": {},
   "outputs": [],
   "source": []
  }
 ],
 "metadata": {
  "kernelspec": {
   "display_name": "Python 3",
   "language": "python",
   "name": "python3"
  },
  "language_info": {
   "codemirror_mode": {
    "name": "ipython",
    "version": 3
   },
   "file_extension": ".py",
   "mimetype": "text/x-python",
   "name": "python",
   "nbconvert_exporter": "python",
   "pygments_lexer": "ipython3",
   "version": "3.8.3"
  }
 },
 "nbformat": 4,
 "nbformat_minor": 4
}
