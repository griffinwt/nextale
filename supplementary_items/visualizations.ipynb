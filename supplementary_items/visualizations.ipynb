{
 "cells": [
  {
   "cell_type": "code",
   "execution_count": 41,
   "metadata": {},
   "outputs": [],
   "source": [
    "#imports\n",
    "import pandas as pd\n",
    "import numpy as np\n",
    "from matplotlib import pyplot as plt\n",
    "from sklearn.metrics.pairwise import pairwise_distances, cosine_distances, cosine_similarity\n",
    "from scipy import sparse"
   ]
  },
  {
   "cell_type": "markdown",
   "metadata": {},
   "source": [
    "This notebook is for creating visualizations to be used in my web app / executive summary (readme)"
   ]
  },
  {
   "cell_type": "code",
   "execution_count": 88,
   "metadata": {},
   "outputs": [
    {
     "data": {
      "text/html": [
       "<div>\n",
       "<style scoped>\n",
       "    .dataframe tbody tr th:only-of-type {\n",
       "        vertical-align: middle;\n",
       "    }\n",
       "\n",
       "    .dataframe tbody tr th {\n",
       "        vertical-align: top;\n",
       "    }\n",
       "\n",
       "    .dataframe thead th {\n",
       "        text-align: right;\n",
       "    }\n",
       "</style>\n",
       "<table border=\"1\" class=\"dataframe\">\n",
       "  <thead>\n",
       "    <tr style=\"text-align: right;\">\n",
       "      <th></th>\n",
       "      <th>Movie</th>\n",
       "      <th>User</th>\n",
       "      <th>Rating</th>\n",
       "    </tr>\n",
       "  </thead>\n",
       "  <tbody>\n",
       "    <tr>\n",
       "      <th>0</th>\n",
       "      <td>Mulan</td>\n",
       "      <td>user_1</td>\n",
       "      <td>5</td>\n",
       "    </tr>\n",
       "    <tr>\n",
       "      <th>1</th>\n",
       "      <td>Frozen</td>\n",
       "      <td>user_1</td>\n",
       "      <td>5</td>\n",
       "    </tr>\n",
       "    <tr>\n",
       "      <th>2</th>\n",
       "      <td>The Shining</td>\n",
       "      <td>user_1</td>\n",
       "      <td>0</td>\n",
       "    </tr>\n",
       "    <tr>\n",
       "      <th>3</th>\n",
       "      <td>Batman Returns</td>\n",
       "      <td>user_1</td>\n",
       "      <td>3</td>\n",
       "    </tr>\n",
       "    <tr>\n",
       "      <th>4</th>\n",
       "      <td>Mulan</td>\n",
       "      <td>user_2</td>\n",
       "      <td>0</td>\n",
       "    </tr>\n",
       "    <tr>\n",
       "      <th>5</th>\n",
       "      <td>Frozen</td>\n",
       "      <td>user_2</td>\n",
       "      <td>1</td>\n",
       "    </tr>\n",
       "    <tr>\n",
       "      <th>6</th>\n",
       "      <td>The Shining</td>\n",
       "      <td>user_2</td>\n",
       "      <td>5</td>\n",
       "    </tr>\n",
       "    <tr>\n",
       "      <th>7</th>\n",
       "      <td>Batman Returns</td>\n",
       "      <td>user_2</td>\n",
       "      <td>4</td>\n",
       "    </tr>\n",
       "    <tr>\n",
       "      <th>8</th>\n",
       "      <td>Mulan</td>\n",
       "      <td>user_3</td>\n",
       "      <td>4</td>\n",
       "    </tr>\n",
       "    <tr>\n",
       "      <th>9</th>\n",
       "      <td>Frozen</td>\n",
       "      <td>user_3</td>\n",
       "      <td>5</td>\n",
       "    </tr>\n",
       "    <tr>\n",
       "      <th>10</th>\n",
       "      <td>The Shining</td>\n",
       "      <td>user_3</td>\n",
       "      <td>1</td>\n",
       "    </tr>\n",
       "    <tr>\n",
       "      <th>11</th>\n",
       "      <td>Batman Returns</td>\n",
       "      <td>user_3</td>\n",
       "      <td>1</td>\n",
       "    </tr>\n",
       "  </tbody>\n",
       "</table>\n",
       "</div>"
      ],
      "text/plain": [
       "             Movie    User  Rating\n",
       "0            Mulan  user_1       5\n",
       "1           Frozen  user_1       5\n",
       "2      The Shining  user_1       0\n",
       "3   Batman Returns  user_1       3\n",
       "4            Mulan  user_2       0\n",
       "5           Frozen  user_2       1\n",
       "6      The Shining  user_2       5\n",
       "7   Batman Returns  user_2       4\n",
       "8            Mulan  user_3       4\n",
       "9           Frozen  user_3       5\n",
       "10     The Shining  user_3       1\n",
       "11  Batman Returns  user_3       1"
      ]
     },
     "execution_count": 88,
     "metadata": {},
     "output_type": "execute_result"
    }
   ],
   "source": [
    "movies = ['Mulan', 'Frozen', 'The Shining','Batman Returns',\n",
    "         'Mulan', 'Frozen', 'The Shining', 'Batman Returns',\n",
    "         'Mulan', 'Frozen', 'The Shining', 'Batman Returns']\n",
    "\n",
    "users = ['user_1', 'user_1','user_1', 'user_1',\n",
    "         'user_2','user_2','user_2', 'user_2',\n",
    "        'user_3','user_3','user_3', 'user_3']\n",
    "\n",
    "ratings = [5,5,0,3,\n",
    "          0,1,5,4,\n",
    "          4,5,1,1]\n",
    "\n",
    "test_df = pd.DataFrame(data={\n",
    "    'Movie': movies,\n",
    "    'User' : users,\n",
    "    'Rating' : ratings\n",
    "})\n",
    "test_df"
   ]
  },
  {
   "cell_type": "code",
   "execution_count": 89,
   "metadata": {},
   "outputs": [
    {
     "data": {
      "text/html": [
       "<div>\n",
       "<style scoped>\n",
       "    .dataframe tbody tr th:only-of-type {\n",
       "        vertical-align: middle;\n",
       "    }\n",
       "\n",
       "    .dataframe tbody tr th {\n",
       "        vertical-align: top;\n",
       "    }\n",
       "\n",
       "    .dataframe thead th {\n",
       "        text-align: right;\n",
       "    }\n",
       "</style>\n",
       "<table border=\"1\" class=\"dataframe\">\n",
       "  <thead>\n",
       "    <tr style=\"text-align: right;\">\n",
       "      <th>User</th>\n",
       "      <th>user_1</th>\n",
       "      <th>user_2</th>\n",
       "      <th>user_3</th>\n",
       "    </tr>\n",
       "    <tr>\n",
       "      <th>Movie</th>\n",
       "      <th></th>\n",
       "      <th></th>\n",
       "      <th></th>\n",
       "    </tr>\n",
       "  </thead>\n",
       "  <tbody>\n",
       "    <tr>\n",
       "      <th>Batman Returns</th>\n",
       "      <td>3</td>\n",
       "      <td>4</td>\n",
       "      <td>1</td>\n",
       "    </tr>\n",
       "    <tr>\n",
       "      <th>Frozen</th>\n",
       "      <td>5</td>\n",
       "      <td>1</td>\n",
       "      <td>5</td>\n",
       "    </tr>\n",
       "    <tr>\n",
       "      <th>Mulan</th>\n",
       "      <td>5</td>\n",
       "      <td>0</td>\n",
       "      <td>4</td>\n",
       "    </tr>\n",
       "    <tr>\n",
       "      <th>The Shining</th>\n",
       "      <td>0</td>\n",
       "      <td>5</td>\n",
       "      <td>1</td>\n",
       "    </tr>\n",
       "  </tbody>\n",
       "</table>\n",
       "</div>"
      ],
      "text/plain": [
       "User            user_1  user_2  user_3\n",
       "Movie                                 \n",
       "Batman Returns       3       4       1\n",
       "Frozen               5       1       5\n",
       "Mulan                5       0       4\n",
       "The Shining          0       5       1"
      ]
     },
     "execution_count": 89,
     "metadata": {},
     "output_type": "execute_result"
    }
   ],
   "source": [
    "pivot = pd.pivot_table(test_df, index='Movie', columns='User', values='Rating')\n",
    "pivot"
   ]
  },
  {
   "cell_type": "markdown",
   "metadata": {},
   "source": [
    "The movie \"vectors\" are:  \n",
    "- Batman Returns [2,4,1,4,5]\n",
    "- Frozen [5,0,5,1,0]\n",
    "- Mulan [5,1,4,4,0]\n",
    "- The Shining [0,5,1,0,3]"
   ]
  },
  {
   "cell_type": "code",
   "execution_count": 102,
   "metadata": {},
   "outputs": [
    {
     "data": {
      "text/html": [
       "<div>\n",
       "<style scoped>\n",
       "    .dataframe tbody tr th:only-of-type {\n",
       "        vertical-align: middle;\n",
       "    }\n",
       "\n",
       "    .dataframe tbody tr th {\n",
       "        vertical-align: top;\n",
       "    }\n",
       "\n",
       "    .dataframe thead th {\n",
       "        text-align: right;\n",
       "    }\n",
       "</style>\n",
       "<table border=\"1\" class=\"dataframe\">\n",
       "  <thead>\n",
       "    <tr style=\"text-align: right;\">\n",
       "      <th></th>\n",
       "      <th>Batman Returns</th>\n",
       "      <th>Frozen</th>\n",
       "      <th>Mulan</th>\n",
       "      <th>The Shining</th>\n",
       "    </tr>\n",
       "  </thead>\n",
       "  <tbody>\n",
       "    <tr>\n",
       "      <th>Batman Returns</th>\n",
       "      <td>0.00</td>\n",
       "      <td>0.34</td>\n",
       "      <td>0.42</td>\n",
       "      <td>0.19</td>\n",
       "    </tr>\n",
       "    <tr>\n",
       "      <th>Frozen</th>\n",
       "      <td>0.34</td>\n",
       "      <td>0.00</td>\n",
       "      <td>0.02</td>\n",
       "      <td>0.73</td>\n",
       "    </tr>\n",
       "    <tr>\n",
       "      <th>Mulan</th>\n",
       "      <td>0.42</td>\n",
       "      <td>0.02</td>\n",
       "      <td>0.00</td>\n",
       "      <td>0.88</td>\n",
       "    </tr>\n",
       "    <tr>\n",
       "      <th>The Shining</th>\n",
       "      <td>0.19</td>\n",
       "      <td>0.73</td>\n",
       "      <td>0.88</td>\n",
       "      <td>0.00</td>\n",
       "    </tr>\n",
       "  </tbody>\n",
       "</table>\n",
       "</div>"
      ],
      "text/plain": [
       "                Batman Returns  Frozen  Mulan  The Shining\n",
       "Batman Returns            0.00    0.34   0.42         0.19\n",
       "Frozen                    0.34    0.00   0.02         0.73\n",
       "Mulan                     0.42    0.02   0.00         0.88\n",
       "The Shining               0.19    0.73   0.88         0.00"
      ]
     },
     "execution_count": 102,
     "metadata": {},
     "output_type": "execute_result"
    }
   ],
   "source": [
    "dists = pairwise_distances(pivot, metric='cosine')\n",
    "recommender_df = pd.DataFrame(data = dists, \n",
    "                              index=['Batman Returns', 'Frozen', 'Mulan', 'The Shining'], \n",
    "                                     columns=['Batman Returns', 'Frozen', 'Mulan', 'The Shining'])\n",
    "round(recommender_df,2)"
   ]
  },
  {
   "cell_type": "markdown",
   "metadata": {},
   "source": [
    "The greater the distance between two items, the more dissimilar the recommender finds them to be (max dist is 1)\n",
    "\n",
    "- As we would expect, each film has a 0 distance from itself!\n",
    "- Frozen and Mulan are very similar (0.09)\n",
    "- People who liked The Shining generally liked Batman Returns (0.10)\n",
    "- The two most different films according to our recommender are Batman Returns and Mulan"
   ]
  },
  {
   "cell_type": "code",
   "execution_count": 103,
   "metadata": {},
   "outputs": [
    {
     "data": {
      "text/plain": [
       "Frozen            0.00\n",
       "Mulan             0.02\n",
       "Batman Returns    0.34\n",
       "The Shining       0.73\n",
       "Name: Frozen, dtype: float64"
      ]
     },
     "execution_count": 103,
     "metadata": {},
     "output_type": "execute_result"
    }
   ],
   "source": [
    "round(recommender_df['Frozen'].sort_values(),2)"
   ]
  },
  {
   "cell_type": "code",
   "execution_count": 104,
   "metadata": {},
   "outputs": [],
   "source": [
    "#printing tables to markdown for use in readme"
   ]
  },
  {
   "cell_type": "code",
   "execution_count": 105,
   "metadata": {},
   "outputs": [
    {
     "name": "stdout",
     "output_type": "stream",
     "text": [
      "| Movie          |   user_1 |   user_2 |   user_3 |\n",
      "|:---------------|---------:|---------:|---------:|\n",
      "| Batman Returns |        3 |        4 |        1 |\n",
      "| Frozen         |        5 |        1 |        5 |\n",
      "| Mulan          |        5 |        0 |        4 |\n",
      "| The Shining    |        0 |        5 |        1 |\n"
     ]
    }
   ],
   "source": [
    "print(pivot.to_markdown())"
   ]
  },
  {
   "cell_type": "code",
   "execution_count": 108,
   "metadata": {},
   "outputs": [
    {
     "name": "stdout",
     "output_type": "stream",
     "text": [
      "|                |   Batman Returns |   Frozen |   Mulan |   The Shining |\n",
      "|:---------------|-----------------:|---------:|--------:|--------------:|\n",
      "| Batman Returns |             0    |     0.34 |    0.42 |          0.19 |\n",
      "| Frozen         |             0.34 |     0    |    0.02 |          0.73 |\n",
      "| Mulan          |             0.42 |     0.02 |    0    |          0.88 |\n",
      "| The Shining    |             0.19 |     0.73 |    0.88 |          0    |\n"
     ]
    }
   ],
   "source": [
    "print(round(recommender_df,2).to_markdown())"
   ]
  },
  {
   "cell_type": "code",
   "execution_count": 110,
   "metadata": {},
   "outputs": [
    {
     "name": "stdout",
     "output_type": "stream",
     "text": [
      "|                |   Frozen |\n",
      "|:---------------|---------:|\n",
      "| Frozen         |     0    |\n",
      "| Mulan          |     0.02 |\n",
      "| Batman Returns |     0.34 |\n",
      "| The Shining    |     0.73 |\n"
     ]
    }
   ],
   "source": [
    "print(round(recommender_df['Frozen'].sort_values(),2).to_markdown())"
   ]
  },
  {
   "cell_type": "markdown",
   "metadata": {},
   "source": [
    "Perfect! I'll use these tables + a visualization I created from geogebra.org in my ReadMe, project, and hopefully web app as well!"
   ]
  },
  {
   "cell_type": "code",
   "execution_count": 167,
   "metadata": {},
   "outputs": [],
   "source": [
    "pivot.to_pickle('./compressed/sample_pivot.pkl', protocol=3)"
   ]
  },
  {
   "cell_type": "code",
   "execution_count": 169,
   "metadata": {},
   "outputs": [],
   "source": [
    "recommender_df = round(recommender_df, 2)"
   ]
  },
  {
   "cell_type": "code",
   "execution_count": 171,
   "metadata": {},
   "outputs": [],
   "source": [
    "recommender_df.to_pickle('./compressed/sample_rec.pkl', protocol=3)"
   ]
  },
  {
   "cell_type": "code",
   "execution_count": 170,
   "metadata": {},
   "outputs": [
    {
     "data": {
      "text/html": [
       "<div>\n",
       "<style scoped>\n",
       "    .dataframe tbody tr th:only-of-type {\n",
       "        vertical-align: middle;\n",
       "    }\n",
       "\n",
       "    .dataframe tbody tr th {\n",
       "        vertical-align: top;\n",
       "    }\n",
       "\n",
       "    .dataframe thead th {\n",
       "        text-align: right;\n",
       "    }\n",
       "</style>\n",
       "<table border=\"1\" class=\"dataframe\">\n",
       "  <thead>\n",
       "    <tr style=\"text-align: right;\">\n",
       "      <th></th>\n",
       "      <th>Batman Returns</th>\n",
       "      <th>Frozen</th>\n",
       "      <th>Mulan</th>\n",
       "      <th>The Shining</th>\n",
       "    </tr>\n",
       "  </thead>\n",
       "  <tbody>\n",
       "    <tr>\n",
       "      <th>Batman Returns</th>\n",
       "      <td>0.00</td>\n",
       "      <td>0.34</td>\n",
       "      <td>0.42</td>\n",
       "      <td>0.19</td>\n",
       "    </tr>\n",
       "    <tr>\n",
       "      <th>Frozen</th>\n",
       "      <td>0.34</td>\n",
       "      <td>0.00</td>\n",
       "      <td>0.02</td>\n",
       "      <td>0.73</td>\n",
       "    </tr>\n",
       "    <tr>\n",
       "      <th>Mulan</th>\n",
       "      <td>0.42</td>\n",
       "      <td>0.02</td>\n",
       "      <td>0.00</td>\n",
       "      <td>0.88</td>\n",
       "    </tr>\n",
       "    <tr>\n",
       "      <th>The Shining</th>\n",
       "      <td>0.19</td>\n",
       "      <td>0.73</td>\n",
       "      <td>0.88</td>\n",
       "      <td>0.00</td>\n",
       "    </tr>\n",
       "  </tbody>\n",
       "</table>\n",
       "</div>"
      ],
      "text/plain": [
       "                Batman Returns  Frozen  Mulan  The Shining\n",
       "Batman Returns            0.00    0.34   0.42         0.19\n",
       "Frozen                    0.34    0.00   0.02         0.73\n",
       "Mulan                     0.42    0.02   0.00         0.88\n",
       "The Shining               0.19    0.73   0.88         0.00"
      ]
     },
     "execution_count": 170,
     "metadata": {},
     "output_type": "execute_result"
    }
   ],
   "source": [
    "recommender_df"
   ]
  },
  {
   "cell_type": "code",
   "execution_count": 173,
   "metadata": {},
   "outputs": [],
   "source": [
    "fro_df = round(recommender_df['Frozen'].sort_values(),2)"
   ]
  },
  {
   "cell_type": "code",
   "execution_count": 174,
   "metadata": {},
   "outputs": [],
   "source": [
    "fro_df.to_pickle('./compressed/fro_df.pkl', protocol=3)"
   ]
  },
  {
   "cell_type": "markdown",
   "metadata": {},
   "source": [
    "Alright - that's the markdown I needed for my ReadMe and the pickled dataframes I'll use in the online web app. All set!"
   ]
  },
  {
   "cell_type": "code",
   "execution_count": null,
   "metadata": {},
   "outputs": [],
   "source": []
  }
 ],
 "metadata": {
  "kernelspec": {
   "display_name": "Python 3",
   "language": "python",
   "name": "python3"
  },
  "language_info": {
   "codemirror_mode": {
    "name": "ipython",
    "version": 3
   },
   "file_extension": ".py",
   "mimetype": "text/x-python",
   "name": "python",
   "nbconvert_exporter": "python",
   "pygments_lexer": "ipython3",
   "version": "3.8.3"
  }
 },
 "nbformat": 4,
 "nbformat_minor": 4
}
