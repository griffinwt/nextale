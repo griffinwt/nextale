{
 "cells": [
  {
   "cell_type": "code",
   "execution_count": 5,
   "metadata": {},
   "outputs": [],
   "source": [
    "#https://stackoverflow.com/questions/5041008/how-to-find-elements-by-class\n",
    "#https://stackoverflow.com/questions/41447527/beautifulsoup-not-getting-all-html\n",
    "#https://stackoverflow.com/questions/18791882/how-to-make-program-go-back-to-the-top-of-the-code-instead-of-closing\n",
    "import pandas as pd\n",
    "import numpy as np\n",
    "import requests\n",
    "from bs4 import BeautifulSoup, NavigableString, Tag\n",
    "import re\n",
    "import time\n",
    "import random\n",
    "pd.set_option('display.max_colwidth', None)"
   ]
  },
  {
   "cell_type": "code",
   "execution_count": 9,
   "metadata": {},
   "outputs": [
    {
     "name": "stdout",
     "output_type": "stream",
     "text": [
      "200\n"
     ]
    }
   ],
   "source": [
    "book = 2\n",
    "url = f'https://www.goodreads.com/book/show/{book}'\n",
    "res = requests.get(url)\n",
    "print(res.status_code)"
   ]
  },
  {
   "cell_type": "code",
   "execution_count": 10,
   "metadata": {},
   "outputs": [],
   "source": [
    "soup = BeautifulSoup(res.content, 'html5lib')"
   ]
  },
  {
   "cell_type": "code",
   "execution_count": 110,
   "metadata": {},
   "outputs": [],
   "source": [
    "#body = [item for item in soup.find_all('div', {'id':'metacol'})]\n",
    "#body = soup.find(name='div', attrs={'id':'metacol'})\n",
    "#body = [item.text for item in soup.find_all('h1')]"
   ]
  },
  {
   "cell_type": "code",
   "execution_count": 11,
   "metadata": {},
   "outputs": [],
   "source": [
    "body = soup.find('h1')"
   ]
  },
  {
   "cell_type": "code",
   "execution_count": 12,
   "metadata": {},
   "outputs": [
    {
     "data": {
      "text/plain": [
       "'\\n      Harry Potter and the Order of the Phoenix\\n'"
      ]
     },
     "execution_count": 12,
     "metadata": {},
     "output_type": "execute_result"
    }
   ],
   "source": [
    "body.text #title"
   ]
  },
  {
   "cell_type": "code",
   "execution_count": 13,
   "metadata": {},
   "outputs": [
    {
     "data": {
      "text/plain": [
       "'\\n  4.50\\n'"
      ]
     },
     "execution_count": 13,
     "metadata": {},
     "output_type": "execute_result"
    }
   ],
   "source": [
    "body = soup.find('span', {'itemprop':'ratingValue'})\n",
    "body.text #number of stars (rating)"
   ]
  },
  {
   "cell_type": "code",
   "execution_count": 15,
   "metadata": {},
   "outputs": [
    {
     "data": {
      "text/plain": [
       "'There is a door at the end of a silent corridor. And itâ€™s haunting Harry Pottterâ€™s dreams. Why else would he be waking in the middle of the night, screaming in terror?Harry has a lot on his mind for this, his fifth year at Hogwarts: a Defense Against the Dark Arts teacher with a personality like poisoned honey; a big surprise on the Gryffindor Quidditch team; and the looming terror of the Ordinary Wizarding Level exams. But all these things pale next to the growing threat of He-Who-Must-Not-Be-Named - a threat that neither the magical government nor the authorities at Hogwarts can stop.As the grasp of darkness tightens, Harry must discover the true depth and strength of his friends, the importance of boundless loyalty, and the shocking price of unbearable sacrifice.His fate depends on them all.'"
      ]
     },
     "execution_count": 15,
     "metadata": {},
     "output_type": "execute_result"
    }
   ],
   "source": [
    "body = soup.find('span', {'id':'freeText10736653061588882282', 'style':'display:none'})\n",
    "body.text #synopsis"
   ]
  },
  {
   "cell_type": "code",
   "execution_count": 116,
   "metadata": {},
   "outputs": [
    {
     "data": {
      "text/plain": [
       "'J.K. Rowling'"
      ]
     },
     "execution_count": 116,
     "metadata": {},
     "output_type": "execute_result"
    }
   ],
   "source": [
    "body = soup.find('span', {'itemprop':'name'})\n",
    "body.text #author"
   ]
  },
  {
   "cell_type": "code",
   "execution_count": 146,
   "metadata": {},
   "outputs": [
    {
     "data": {
      "text/plain": [
       "['Fantasy', 'Young Adult', 'Fiction']"
      ]
     },
     "execution_count": 146,
     "metadata": {},
     "output_type": "execute_result"
    }
   ],
   "source": [
    "body = [item for item in soup.find_all('a', {'class':'actionLinkLite bookPageGenreLink'})]  \n",
    "[i.text for i in body[:3]]  #top 3 genres"
   ]
  },
  {
   "cell_type": "code",
   "execution_count": 16,
   "metadata": {},
   "outputs": [],
   "source": [
    "def book_scrape(book_num):\n",
    "    url = f'https://www.goodreads.com/book/show/{book_num}'\n",
    "    res = requests.get(url)\n",
    "    soup = BeautifulSoup(res.content, 'html5lib')\n",
    "    status = res.status_code\n",
    "    while status == 403: #keep trying until either 200 or 404\n",
    "        time.sleep(5) #wait 5 seconds\n",
    "        url = f'https://www.goodreads.com/book/show/{book_num}' #try same number again\n",
    "        res = requests.get(url)\n",
    "        soup = BeautifulSoup(res.content, 'html5lib')\n",
    "        status = res.status_code #check status code\n",
    "    if status == 200:\n",
    "        body = soup.find('h1')\n",
    "        title = body.text #title\n",
    "        title = title.replace('\\n', '') #remove new line characters\n",
    "        body = soup.find('span', {'itemprop':'ratingValue'})\n",
    "        rating = body.text #number of stars (rating)\n",
    "        rating = rating.replace('\\n', '') #remove new line characters\n",
    "        body = soup.find('div', {'id':'descriptionContainer'})\n",
    "        body = soup.find('span', {'id':'freeText10736653061588882282', 'style':'display:none'})\n",
    "        synopsis = body.text #synopsis\n",
    "        body = soup.find('span', {'itemprop':'name'})\n",
    "        author = body.text #author\n",
    "        body = [item for item in soup.find_all('a', {'class':'actionLinkLite bookPageGenreLink'})]  \n",
    "        genres = [i.text for i in body[:3]]  #top 3 genres\n",
    "        genres = ', '.join(genres) #make string from list\n",
    "    elif status == 404: #create empty row if page does not exist, will show book # and status code\n",
    "        title, author, synopsis, genres, rating = np.nan, np.nan, np.nan, np.nan, np.nan \n",
    "    \n",
    "    new_df = pd.DataFrame([book_num, status, title, author, synopsis, genres, rating],#aggregate scraped info into a dataframe\n",
    "                      index=['book_number', 'status', 'title', 'author', 'synopsis', 'genres', 'rating']) #name df columns\n",
    "    return new_df.T #need to transpose"
   ]
  },
  {
   "cell_type": "code",
   "execution_count": 17,
   "metadata": {},
   "outputs": [
    {
     "data": {
      "text/html": [
       "<div>\n",
       "<style scoped>\n",
       "    .dataframe tbody tr th:only-of-type {\n",
       "        vertical-align: middle;\n",
       "    }\n",
       "\n",
       "    .dataframe tbody tr th {\n",
       "        vertical-align: top;\n",
       "    }\n",
       "\n",
       "    .dataframe thead th {\n",
       "        text-align: right;\n",
       "    }\n",
       "</style>\n",
       "<table border=\"1\" class=\"dataframe\">\n",
       "  <thead>\n",
       "    <tr style=\"text-align: right;\">\n",
       "      <th></th>\n",
       "      <th>book_number</th>\n",
       "      <th>status</th>\n",
       "      <th>title</th>\n",
       "      <th>author</th>\n",
       "      <th>synopsis</th>\n",
       "      <th>genres</th>\n",
       "      <th>rating</th>\n",
       "    </tr>\n",
       "  </thead>\n",
       "  <tbody>\n",
       "    <tr>\n",
       "      <th>0</th>\n",
       "      <td>2</td>\n",
       "      <td>200</td>\n",
       "      <td>Harry Potter and the Order of the Phoenix</td>\n",
       "      <td>J.K. Rowling</td>\n",
       "      <td>There is a door at the end of a silent corridor. And itâ€™s haunting Harry Pottterâ€™s dreams. Why else would he be waking in the middle of the night, screaming in terror?Harry has a lot on his mind for this, his fifth year at Hogwarts: a Defense Against the Dark Arts teacher with a personality like poisoned honey; a big surprise on the Gryffindor Quidditch team; and the looming terror of the Ordinary Wizarding Level exams. But all these things pale next to the growing threat of He-Who-Must-Not-Be-Named - a threat that neither the magical government nor the authorities at Hogwarts can stop.As the grasp of darkness tightens, Harry must discover the true depth and strength of his friends, the importance of boundless loyalty, and the shocking price of unbearable sacrifice.His fate depends on them all.</td>\n",
       "      <td>Fantasy, Young Adult, Fiction</td>\n",
       "      <td>4.50</td>\n",
       "    </tr>\n",
       "  </tbody>\n",
       "</table>\n",
       "</div>"
      ],
      "text/plain": [
       "  book_number status                                            title  \\\n",
       "0           2    200        Harry Potter and the Order of the Phoenix   \n",
       "\n",
       "         author  \\\n",
       "0  J.K. Rowling   \n",
       "\n",
       "                                                                                                                                                                                                                                                                                                                                                                                                                                                                                                                                                                                                                                                                                                                                                                                                                                    synopsis  \\\n",
       "0  There is a door at the end of a silent corridor. And itâ€™s haunting Harry Pottterâ€™s dreams. Why else would he be waking in the middle of the night, screaming in terror?Harry has a lot on his mind for this, his fifth year at Hogwarts: a Defense Against the Dark Arts teacher with a personality like poisoned honey; a big surprise on the Gryffindor Quidditch team; and the looming terror of the Ordinary Wizarding Level exams. But all these things pale next to the growing threat of He-Who-Must-Not-Be-Named - a threat that neither the magical government nor the authorities at Hogwarts can stop.As the grasp of darkness tightens, Harry must discover the true depth and strength of his friends, the importance of boundless loyalty, and the shocking price of unbearable sacrifice.His fate depends on them all.   \n",
       "\n",
       "                          genres  rating  \n",
       "0  Fantasy, Young Adult, Fiction    4.50  "
      ]
     },
     "execution_count": 17,
     "metadata": {},
     "output_type": "execute_result"
    }
   ],
   "source": [
    "book_scrape(2) #test"
   ]
  },
  {
   "cell_type": "code",
   "execution_count": 179,
   "metadata": {},
   "outputs": [
    {
     "data": {
      "text/html": [
       "<div>\n",
       "<style scoped>\n",
       "    .dataframe tbody tr th:only-of-type {\n",
       "        vertical-align: middle;\n",
       "    }\n",
       "\n",
       "    .dataframe tbody tr th {\n",
       "        vertical-align: top;\n",
       "    }\n",
       "\n",
       "    .dataframe thead th {\n",
       "        text-align: right;\n",
       "    }\n",
       "</style>\n",
       "<table border=\"1\" class=\"dataframe\">\n",
       "  <thead>\n",
       "    <tr style=\"text-align: right;\">\n",
       "      <th></th>\n",
       "      <th>book_number</th>\n",
       "      <th>status</th>\n",
       "      <th>title</th>\n",
       "      <th>author</th>\n",
       "      <th>synopsis</th>\n",
       "      <th>genres</th>\n",
       "      <th>rating</th>\n",
       "    </tr>\n",
       "  </thead>\n",
       "  <tbody>\n",
       "    <tr>\n",
       "      <th>0</th>\n",
       "      <td>20.0</td>\n",
       "      <td>404.0</td>\n",
       "      <td>NaN</td>\n",
       "      <td>NaN</td>\n",
       "      <td>NaN</td>\n",
       "      <td>NaN</td>\n",
       "      <td>NaN</td>\n",
       "    </tr>\n",
       "  </tbody>\n",
       "</table>\n",
       "</div>"
      ],
      "text/plain": [
       "   book_number  status  title  author  synopsis  genres  rating\n",
       "0         20.0   404.0    NaN     NaN       NaN     NaN     NaN"
      ]
     },
     "execution_count": 179,
     "metadata": {},
     "output_type": "execute_result"
    }
   ],
   "source": [
    "book_scrape(20) #testing problem book number"
   ]
  },
  {
   "cell_type": "markdown",
   "metadata": {},
   "source": [
    "``` Python\n",
    "test_books = list(range(1,10_001)) #list of numbers 1-10,000\n",
    "main_df = pd.DataFrame() #create empty data frame\n",
    "for n in test_books:\n",
    "    main_df = pd.concat([main_df, book_scrape(n)])\n",
    "    time.sleep(random.randint(2,4)) #random delay after each loop\n",
    "    if len(main_df) % 10 == 0: #save every 10 rows\n",
    "        main_df.to_csv('./data/10k_test_scrape.csv', index=False)\n",
    "        if len(main_df) % 1_000 == 0:\n",
    "            print(f'Current rows: {len(main_df)}; Scraping {len(main_df)/100}% complete') #print status update every 1k rows\n",
    "main_df.to_csv('./data/10k_test_scrape.csv', index=False) #save final df\n",
    "main_df #preview final df    \n",
    "```"
   ]
  },
  {
   "cell_type": "code",
   "execution_count": 172,
   "metadata": {},
   "outputs": [
    {
     "name": "stdout",
     "output_type": "stream",
     "text": [
      "200\n"
     ]
    },
    {
     "data": {
      "text/html": [
       "<div>\n",
       "<style scoped>\n",
       "    .dataframe tbody tr th:only-of-type {\n",
       "        vertical-align: middle;\n",
       "    }\n",
       "\n",
       "    .dataframe tbody tr th {\n",
       "        vertical-align: top;\n",
       "    }\n",
       "\n",
       "    .dataframe thead th {\n",
       "        text-align: right;\n",
       "    }\n",
       "</style>\n",
       "<table border=\"1\" class=\"dataframe\">\n",
       "  <thead>\n",
       "    <tr style=\"text-align: right;\">\n",
       "      <th></th>\n",
       "      <th>book_number</th>\n",
       "      <th>title</th>\n",
       "      <th>author</th>\n",
       "      <th>synopsis</th>\n",
       "      <th>genres</th>\n",
       "      <th>rating</th>\n",
       "    </tr>\n",
       "  </thead>\n",
       "  <tbody>\n",
       "    <tr>\n",
       "      <th>0</th>\n",
       "      <td>9997</td>\n",
       "      <td>The Ruined Map</td>\n",
       "      <td>Kōbō Abe</td>\n",
       "      <td>Of all the great Japanese novelists, Kobe Abe was indubitably the most versatile. With The Ruined Map, he crafted a mesmerizing literary crime novel that combines the narrative suspense of Chandler with the psychological depth of Dostoevsky.Mr. Nemuro, a respected salesman, disappeared over half a year ago, but only now does his alluring yet alcoholic wife hire a private e  Of all the great Japanese novelists, Kobe Abe was indubitably the most versatile. With The Ruined Map, he crafted a mesmerizing literary crime novel that combines the narrative suspense of Chandler with the psychological depth of Dostoevsky.Mr. Nemuro, a respected salesman, disappeared over half a year ago, but only now does his alluring yet alcoholic wife hire a private eye. The nameless detective has but two clues: a photo and a matchbook. With these he embarks upon an ever more puzzling pursuit that leads him into the depths of Tokyo’s dangerous underworld, where he begins to lose the boundaries of his own identity. Surreal, fast-paced, and hauntingly dreamlike, Abe’s masterly novel delves into the unknowable mysteries of the human mind.Translated from the Japanese by E. Dale Saunders.</td>\n",
       "      <td>Fiction, Cultural, Japan</td>\n",
       "      <td>3.53</td>\n",
       "    </tr>\n",
       "  </tbody>\n",
       "</table>\n",
       "</div>"
      ],
      "text/plain": [
       "  book_number                 title    author  \\\n",
       "0        9997        The Ruined Map  Kōbō Abe   \n",
       "\n",
       "                                                                                                                                                                                                                                                                                                                                                                                                                                                                                                                                                                                                                                                                                                                                                                                                                                                                                                                                                                                                                                                                                                                                                                                                                                     synopsis  \\\n",
       "0                  Of all the great Japanese novelists, Kobe Abe was indubitably the most versatile. With The Ruined Map, he crafted a mesmerizing literary crime novel that combines the narrative suspense of Chandler with the psychological depth of Dostoevsky.Mr. Nemuro, a respected salesman, disappeared over half a year ago, but only now does his alluring yet alcoholic wife hire a private e  Of all the great Japanese novelists, Kobe Abe was indubitably the most versatile. With The Ruined Map, he crafted a mesmerizing literary crime novel that combines the narrative suspense of Chandler with the psychological depth of Dostoevsky.Mr. Nemuro, a respected salesman, disappeared over half a year ago, but only now does his alluring yet alcoholic wife hire a private eye. The nameless detective has but two clues: a photo and a matchbook. With these he embarks upon an ever more puzzling pursuit that leads him into the depths of Tokyo’s dangerous underworld, where he begins to lose the boundaries of his own identity. Surreal, fast-paced, and hauntingly dreamlike, Abe’s masterly novel delves into the unknowable mysteries of the human mind.Translated from the Japanese by E. Dale Saunders.     \n",
       "\n",
       "                     genres  rating  \n",
       "0  Fiction, Cultural, Japan    3.53  "
      ]
     },
     "execution_count": 172,
     "metadata": {},
     "output_type": "execute_result"
    }
   ],
   "source": [
    "book_scrape(9997) #testing values that came out null in 10k test"
   ]
  },
  {
   "cell_type": "code",
   "execution_count": 167,
   "metadata": {},
   "outputs": [
    {
     "data": {
      "text/html": [
       "<div>\n",
       "<style scoped>\n",
       "    .dataframe tbody tr th:only-of-type {\n",
       "        vertical-align: middle;\n",
       "    }\n",
       "\n",
       "    .dataframe tbody tr th {\n",
       "        vertical-align: top;\n",
       "    }\n",
       "\n",
       "    .dataframe thead th {\n",
       "        text-align: right;\n",
       "    }\n",
       "</style>\n",
       "<table border=\"1\" class=\"dataframe\">\n",
       "  <thead>\n",
       "    <tr style=\"text-align: right;\">\n",
       "      <th></th>\n",
       "      <th>book_number</th>\n",
       "      <th>title</th>\n",
       "      <th>author</th>\n",
       "      <th>synopsis</th>\n",
       "      <th>genres</th>\n",
       "      <th>rating</th>\n",
       "    </tr>\n",
       "  </thead>\n",
       "  <tbody>\n",
       "    <tr>\n",
       "      <th>0</th>\n",
       "      <td>25</td>\n",
       "      <td>I'm a Stranger Here Myself: Notes on Returning to America After Twenty Years Away</td>\n",
       "      <td>Bill Bryson</td>\n",
       "      <td>After living in Britain for two decades, Bill Bryson recently moved back to the United States with his English wife and four children (he had read somewhere that nearly 3 million Americans believed they had been abducted by aliens--as he later put it, \"it was clear my people needed me\"). They were greeted by a new and improved America that boasts microwave pancakes, twenty  After living in Britain for two decades, Bill Bryson recently moved back to the United States with his English wife and four children (he had read somewhere that nearly 3 million Americans believed they had been abducted by aliens--as he later put it, \"it was clear my people needed me\"). They were greeted by a new and improved America that boasts microwave pancakes, twenty-four-hour dental-floss hotlines, and the staunch conviction that ice is not a luxury item. Delivering the brilliant comic musings that are a Bryson hallmark, I'm a Stranger Here Myself recounts his sometimes disconcerting reunion with the land of his birth. The result is a book filled with hysterical scenes of one man's attempt to reacquaint himself with his own country, but it is also an extended if at times bemused love letter to the homeland he has returned to after twenty years away.</td>\n",
       "      <td>Nonfiction, Travel, Humor</td>\n",
       "      <td>3.90</td>\n",
       "    </tr>\n",
       "  </tbody>\n",
       "</table>\n",
       "</div>"
      ],
      "text/plain": [
       "  book_number  \\\n",
       "0          25   \n",
       "\n",
       "                                                                                     title  \\\n",
       "0        I'm a Stranger Here Myself: Notes on Returning to America After Twenty Years Away   \n",
       "\n",
       "        author  \\\n",
       "0  Bill Bryson   \n",
       "\n",
       "                                                                                                                                                                                                                                                                                                                                                                                                                                                                                                                                                                                                                                                                                                                                                                                                                                                                                                                                                                                                                                                                                                                                                                                                                                                                                                          synopsis  \\\n",
       "0                  After living in Britain for two decades, Bill Bryson recently moved back to the United States with his English wife and four children (he had read somewhere that nearly 3 million Americans believed they had been abducted by aliens--as he later put it, \"it was clear my people needed me\"). They were greeted by a new and improved America that boasts microwave pancakes, twenty  After living in Britain for two decades, Bill Bryson recently moved back to the United States with his English wife and four children (he had read somewhere that nearly 3 million Americans believed they had been abducted by aliens--as he later put it, \"it was clear my people needed me\"). They were greeted by a new and improved America that boasts microwave pancakes, twenty-four-hour dental-floss hotlines, and the staunch conviction that ice is not a luxury item. Delivering the brilliant comic musings that are a Bryson hallmark, I'm a Stranger Here Myself recounts his sometimes disconcerting reunion with the land of his birth. The result is a book filled with hysterical scenes of one man's attempt to reacquaint himself with his own country, but it is also an extended if at times bemused love letter to the homeland he has returned to after twenty years away.     \n",
       "\n",
       "                      genres  rating  \n",
       "0  Nonfiction, Travel, Humor    3.90  "
      ]
     },
     "execution_count": 167,
     "metadata": {},
     "output_type": "execute_result"
    }
   ],
   "source": [
    "book_scrape(25) #testing values that came out null in 10k test"
   ]
  },
  {
   "cell_type": "code",
   "execution_count": 173,
   "metadata": {},
   "outputs": [
    {
     "name": "stdout",
     "output_type": "stream",
     "text": [
      "|             |    0 |\n",
      "|:------------|-----:|\n",
      "| book_number |    0 |\n",
      "| title       | 9471 |\n",
      "| author      | 9471 |\n",
      "| synopsis    | 9471 |\n",
      "| genres      | 9471 |\n",
      "| rating      | 9471 |\n"
     ]
    }
   ],
   "source": [
    "#print(main_df.isnull().sum().to_markdown())"
   ]
  },
  {
   "cell_type": "markdown",
   "metadata": {},
   "source": [
    "#### Results from first attempt at 10k posts  \n",
    "\n",
    "|  column     | is_null() |\n",
    "|:------------|-----:|\n",
    "| book_number |    0 |\n",
    "| title       | 9471 |\n",
    "| author      | 9471 |\n",
    "| synopsis    | 9471 |\n",
    "| genres      | 9471 |\n",
    "| rating      | 9471 |"
   ]
  },
  {
   "cell_type": "markdown",
   "metadata": {},
   "source": [
    "``` Python\n",
    "#second test - 100 books and recording status number for each pull\n",
    "test_books = list(range(1,101)) #list of numbers 1-10,000\n",
    "main_df = pd.DataFrame() #create empty data frame\n",
    "for n in test_books:\n",
    "    main_df = pd.concat([main_df, book_scrape(n)])\n",
    "    time.sleep(random.randint(2,4)) #random delay after each loop\n",
    "    if len(main_df) % 10 == 0: #save every 10 rows\n",
    "        main_df.to_csv('./data/100_test_scrape.csv', index=False)\n",
    "        if len(main_df) % 1_000 == 0:\n",
    "            print(f'Current rows: {len(main_df)}; Scraping {len(main_df)/100}% complete') #print status update every 1k rows\n",
    "main_df.to_csv('./data/100_test_scrape.csv', index=False) #save final df\n",
    "main_df #preview final df  \n",
    "```"
   ]
  },
  {
   "cell_type": "code",
   "execution_count": 181,
   "metadata": {},
   "outputs": [
    {
     "data": {
      "text/plain": [
       "200.0    68\n",
       "403.0    24\n",
       "404.0     8\n",
       "Name: status, dtype: int64"
      ]
     },
     "execution_count": 181,
     "metadata": {},
     "output_type": "execute_result"
    }
   ],
   "source": [
    "#main_df['status'].value_counts()"
   ]
  },
  {
   "cell_type": "markdown",
   "metadata": {},
   "source": [
    "|http status  |   # |\n",
    "|----:|---------:|\n",
    "| 200 |       68 |\n",
    "| 403 |        24 |\n",
    "| 404 |  8  |"
   ]
  },
  {
   "cell_type": "code",
   "execution_count": 182,
   "metadata": {},
   "outputs": [
    {
     "data": {
      "text/plain": [
       "book_number     0\n",
       "status          0\n",
       "title          32\n",
       "author         32\n",
       "synopsis       32\n",
       "genres         32\n",
       "rating         32\n",
       "dtype: int64"
      ]
     },
     "execution_count": 182,
     "metadata": {},
     "output_type": "execute_result"
    }
   ],
   "source": [
    "#main_df.isnull().sum()"
   ]
  },
  {
   "cell_type": "markdown",
   "metadata": {},
   "source": [
    "``` Python\n",
    "#third test - 100 books, attempting while loop to keep trying 403's\n",
    "test_books = list(range(1,101)) #list of book numbers (according to goodreads)\n",
    "main_df = pd.DataFrame() #create empty data frame\n",
    "for n in test_books:\n",
    "    main_df = pd.concat([main_df, book_scrape(n)])\n",
    "    time.sleep(random.randint(2,4)) #random delay after each loop\n",
    "    if len(main_df) % 10 == 0: #save every 10 rows\n",
    "        main_df.to_csv('./data/100_test2_scrape.csv', index=False)\n",
    "        if len(main_df) % 1_000 == 0:\n",
    "            print(f'Current rows: {len(main_df)}; Scraping {len(main_df)/100}% complete') #print status update every 1k rows\n",
    "main_df.to_csv('./data/100_test2_scrape.csv', index=False) #save final df\n",
    "main_df #preview final df \n",
    "```"
   ]
  },
  {
   "cell_type": "markdown",
   "metadata": {},
   "source": [
    "|  column    |   is_null() |\n",
    "|:------------|----:|\n",
    "| book_number |   0 |\n",
    "| status      |   0 |\n",
    "| title       |   8 |\n",
    "| author      |   8 |\n",
    "| synopsis    |   8 |\n",
    "| genres      |   8 |\n",
    "| rating      |   8 |"
   ]
  },
  {
   "cell_type": "markdown",
   "metadata": {},
   "source": [
    "|http status  |   # |\n",
    "|----:|---------:|\n",
    "| 200 |       92 |\n",
    "| 404 |        8 |"
   ]
  },
  {
   "cell_type": "code",
   "execution_count": 24,
   "metadata": {},
   "outputs": [
    {
     "data": {
      "text/html": [
       "<div>\n",
       "<style scoped>\n",
       "    .dataframe tbody tr th:only-of-type {\n",
       "        vertical-align: middle;\n",
       "    }\n",
       "\n",
       "    .dataframe tbody tr th {\n",
       "        vertical-align: top;\n",
       "    }\n",
       "\n",
       "    .dataframe thead th {\n",
       "        text-align: right;\n",
       "    }\n",
       "</style>\n",
       "<table border=\"1\" class=\"dataframe\">\n",
       "  <thead>\n",
       "    <tr style=\"text-align: right;\">\n",
       "      <th></th>\n",
       "      <th>book_number</th>\n",
       "      <th>status</th>\n",
       "      <th>title</th>\n",
       "      <th>author</th>\n",
       "      <th>synopsis</th>\n",
       "      <th>genres</th>\n",
       "      <th>rating</th>\n",
       "    </tr>\n",
       "  </thead>\n",
       "  <tbody>\n",
       "    <tr>\n",
       "      <th>0</th>\n",
       "      <td>1</td>\n",
       "      <td>200</td>\n",
       "      <td>Harry Potter and the Half-Blood Prince</td>\n",
       "      <td>J.K. Rowling</td>\n",
       "      <td>The war against Voldemort is not going well; even Muggle governments are noticing. Ron scans the obituary pages of the Daily Prophet, looking for familiar names. Dumbledore is absent from Hogwarts for long stretches of time, and the Order of the Phoenix has already suffered losses.And yet . . .As in all wars, life goes on. The Weasley twins expand their business. Sixth-yea  The war against Voldemort is not going well; even Muggle governments are noticing. Ron scans the obituary pages of the Daily Prophet, looking for familiar names. Dumbledore is absent from Hogwarts for long stretches of time, and the Order of the Phoenix has already suffered losses.And yet . . .As in all wars, life goes on. The Weasley twins expand their business. Sixth-year students learn to Apparate - and lose a few eyebrows in the process. Teenagers flirt and fight and fall in love. Classes are never straightforward, through Harry receives some extraordinary help from the mysterious Half-Blood Prince.So it's the home front that takes center stage in the multilayered sixth installment of the story of Harry Potter. Here at Hogwarts, Harry will search for the full and complete story of the boy who became Lord Voldemort - and thereby find what may be his only vulnerability.</td>\n",
       "      <td>Fantasy, Young Adult, Fiction</td>\n",
       "      <td>4.57</td>\n",
       "    </tr>\n",
       "    <tr>\n",
       "      <th>0</th>\n",
       "      <td>2</td>\n",
       "      <td>200</td>\n",
       "      <td>Harry Potter and the Order of the Phoenix</td>\n",
       "      <td>J.K. Rowling</td>\n",
       "      <td>There is a door at the end of a silent corridor. And itâ€™s haunting Harry Pottterâ€™s dreams. Why else would he be waking in the middle of the night, screaming in terror?Harry has a lot on his mind for this, his fifth year at Hogwarts: a Defense Against the Dark Arts teacher with a personality like poisoned honey; a big surprise on the Gryffindor Quidditch team; and the loomi  There is a door at the end of a silent corridor. And itâ€™s haunting Harry Pottterâ€™s dreams. Why else would he be waking in the middle of the night, screaming in terror?Harry has a lot on his mind for this, his fifth year at Hogwarts: a Defense Against the Dark Arts teacher with a personality like poisoned honey; a big surprise on the Gryffindor Quidditch team; and the looming terror of the Ordinary Wizarding Level exams. But all these things pale next to the growing threat of He-Who-Must-Not-Be-Named - a threat that neither the magical government nor the authorities at Hogwarts can stop.As the grasp of darkness tightens, Harry must discover the true depth and strength of his friends, the importance of boundless loyalty, and the shocking price of unbearable sacrifice.His fate depends on them all.</td>\n",
       "      <td>Fantasy, Young Adult, Fiction</td>\n",
       "      <td>4.50</td>\n",
       "    </tr>\n",
       "    <tr>\n",
       "      <th>0</th>\n",
       "      <td>3</td>\n",
       "      <td>200</td>\n",
       "      <td>Harry Potter and the Sorcerer's Stone</td>\n",
       "      <td>J.K. Rowling</td>\n",
       "      <td>Harry Potter's life is miserable. His parents are dead and he's stuck with his heartless relatives, who force him to live in a tiny closet under the stairs. But his fortune changes when he receives a letter that tells him the truth about himself: he's a wizard. A mysterious visitor rescues him from his relatives and takes him to his new home, Hogwarts School of Witchcraft   Harry Potter's life is miserable. His parents are dead and he's stuck with his heartless relatives, who force him to live in a tiny closet under the stairs. But his fortune changes when he receives a letter that tells him the truth about himself: he's a wizard. A mysterious visitor rescues him from his relatives and takes him to his new home, Hogwarts School of Witchcraft and Wizardry.After a lifetime of bottling up his magical powers, Harry finally feels like a normal kid. But even within the Wizarding community, he is special. He is the boy who lived: the only person to have ever survived a killing curse inflicted by the evil Lord Voldemort, who launched a brutal takeover of the Wizarding world, only to vanish after failing to kill Harry.Though Harry's first year at Hogwarts is the best of his life, not everything is perfect. There is a dangerous secret object hidden within the castle walls, and Harry believes it's his responsibility to prevent it from falling into evil hands. But doing so will bring him into contact with forces more terrifying than he ever could have imagined.Full of sympathetic characters, wildly imaginative situations, and countless exciting details, the first installment in the series assembles an unforgettable magical world and sets the stage for many high-stakes adventures to come.</td>\n",
       "      <td>Fantasy, Fiction, Young Adult</td>\n",
       "      <td>4.47</td>\n",
       "    </tr>\n",
       "    <tr>\n",
       "      <th>0</th>\n",
       "      <td>4</td>\n",
       "      <td>200</td>\n",
       "      <td>Harry Potter and the Chamber of Secrets</td>\n",
       "      <td>J.K. Rowling</td>\n",
       "      <td>The Dursleys were so mean and hideous that summer that all Harry Potter wanted was to get back to the Hogwarts School for Witchcraft and Wizardry. But just as he's packing his bags, Harry receives a warning from a strange, impish creature named Dobby who says that if Harry Potter returns to Hogwarts, disaster will strike.And strike it does. For in Harry's second year at Ho  The Dursleys were so mean and hideous that summer that all Harry Potter wanted was to get back to the Hogwarts School for Witchcraft and Wizardry. But just as he's packing his bags, Harry receives a warning from a strange, impish creature named Dobby who says that if Harry Potter returns to Hogwarts, disaster will strike.And strike it does. For in Harry's second year at Hogwarts, fresh torments and horrors arise, including an outrageously stuck-up new professor, Gilderoy Lockhart, a spirit named Moaning Myrtle who haunts the girls' bathroom, and the unwanted attentions of Ron Weasley's younger sister, Ginny. But each of these seem minor annoyances when the real trouble begins, and someone, or something, starts turning Hogwarts students to stone. Could it be Draco Malfoy, a more poisonous rival than ever? Could it possibly be Hagrid, whose mysterious past is finally told? Or could it be the one everyone at Hogwarts most suspects: Harry Potter himself?</td>\n",
       "      <td>Fantasy, Young Adult, Fiction</td>\n",
       "      <td>4.43</td>\n",
       "    </tr>\n",
       "    <tr>\n",
       "      <th>0</th>\n",
       "      <td>5</td>\n",
       "      <td>200</td>\n",
       "      <td>Harry Potter and the Prisoner of Azkaban</td>\n",
       "      <td>J.K. Rowling</td>\n",
       "      <td>Harry Potter's third year at Hogwarts is full of new dangers. A convicted murderer, Sirius Black, has broken out of Azkaban prison, and it seems he's after Harry. Now Hogwarts is being patrolled by the dementors, the Azkaban guards who are hunting Sirius. But Harry can't imagine that Sirius or, for that matter, the evil Lord Voldemort could be more frightening than the dem  Harry Potter's third year at Hogwarts is full of new dangers. A convicted murderer, Sirius Black, has broken out of Azkaban prison, and it seems he's after Harry. Now Hogwarts is being patrolled by the dementors, the Azkaban guards who are hunting Sirius. But Harry can't imagine that Sirius or, for that matter, the evil Lord Voldemort could be more frightening than the dementors themselves, who have the terrible power to fill anyone they come across with aching loneliness and despair. Meanwhile, life continues as usual at Hogwarts. A top-of-the-line broom takes Harry's success at Quidditch, the sport of the Wizarding world, to new heights. A cute fourth-year student catches his eye. And he becomes close with the new Defense of the Dark Arts teacher, who was a childhood friend of his father. Yet despite the relative safety of life at Hogwarts and the best efforts of the dementors, the threat of Sirius Black grows ever closer. But if Harry has learned anything from his education in wizardry, it is that things are often not what they seem. Tragic revelations, heartwarming surprises, and high-stakes magical adventures await the boy wizard in this funny and poignant third installment of the beloved series.--scholastic.com</td>\n",
       "      <td>Fantasy, Young Adult, Fiction</td>\n",
       "      <td>4.57</td>\n",
       "    </tr>\n",
       "    <tr>\n",
       "      <th>...</th>\n",
       "      <td>...</td>\n",
       "      <td>...</td>\n",
       "      <td>...</td>\n",
       "      <td>...</td>\n",
       "      <td>...</td>\n",
       "      <td>...</td>\n",
       "      <td>...</td>\n",
       "    </tr>\n",
       "    <tr>\n",
       "      <th>0</th>\n",
       "      <td>96</td>\n",
       "      <td>200</td>\n",
       "      <td>There's Always Enough: The Miraculous Move of God in Mozambique</td>\n",
       "      <td>Rolland Baker</td>\n",
       "      <td>Today in one of Southern Africa's most disaster-torn nations, Rolland and Heidi Baker are at the center of a major move of God's Spirit. The last four years have seen them plant and take responsibility for around 6,000 churches as thousands of Mozambiquans have given their lives to Christ in an unprecedented revival. During this time, they have also witnessed numerous acts  Today in one of Southern Africa's most disaster-torn nations, Rolland and Heidi Baker are at the center of a major move of God's Spirit. The last four years have seen them plant and take responsibility for around 6,000 churches as thousands of Mozambiquans have given their lives to Christ in an unprecedented revival. During this time, they have also witnessed numerous acts of God's power. Miracles of provision, healing, deliverance, and even raising the dead, have become every day occurrences. This adventure began when Rolland and Heidi Baker, founders of IRIS Ministries, and both natives of California, USA, answered God's call to minister to the poorest of the poor. Rolland describes this best in the introduction to the forthcoming book that tells the story, \" There's Always Enough\". In his introduction to the book, Rolland Baker says: \"Jesus developed our faith over the years in many countries and ministry situations for a reason. Today He has given us oversight over five thousand churches in one of the poorest areas of the world. We live in Mozambique, in the south-east corner of Africa, a land that has suffered horribly from decades of warfare and natural disaster. Finally the people are desperate for Jesus and no other. Revival is spreading. In large sections of central Mozambique and southern Malawi we have simple, mud-hut churches in virtually every village. They grow until there are as many as can hear the sound of a preacher's voice.\" \"More are being added continuously, and now others in countries around us are calling for ministry and help, desperate to be a part of this fire. The gospel of Jesus Christ is enough for them all. He is good and faithful,the Master Lover. They just want Him. They have been poor and wretched, but now they possess all things in Him. We dare to approach them, we dare to preach to them, we dare to pick up the helpless, abandoned and dying, because He died for us and rose again on our behalf. We eat and drink from His body and blood, and as a result, there will always be enough...\"</td>\n",
       "      <td>Christian, Biography, Nonfiction</td>\n",
       "      <td>4.46</td>\n",
       "    </tr>\n",
       "    <tr>\n",
       "      <th>0</th>\n",
       "      <td>97</td>\n",
       "      <td>200</td>\n",
       "      <td>The Birthdays</td>\n",
       "      <td>Heidi Pitlor</td>\n",
       "      <td>On an island off the coast of Maine, the Miller family reunites to celebrate the father's seventy-fifth birthday. Each of the adult children is expecting his or her own first child. The eldest, Daniel, grapples with the fact that his wife had to be artificially inseminated. Jake, the middle child, discovers that his wife is carrying twins after many trying years of fertili  On an island off the coast of Maine, the Miller family reunites to celebrate the father's seventy-fifth birthday. Each of the adult children is expecting his or her own first child. The eldest, Daniel, grapples with the fact that his wife had to be artificially inseminated. Jake, the middle child, discovers that his wife is carrying twins after many trying years of fertility treatments. Hilary—the free-spirited youngest daughter—arrives in Maine five months pregnant with no identifiable father in sight. Their coming together sets off a series of fireworks and, after the weekend, none of the Millers will emerge the same.Written with great acuity, The Birthdays deftly explores the myriad ways of seeking sustenance after disappointment and loss and announces the arrival of a poignant, elegant, and powerful new voice in fiction.</td>\n",
       "      <td>Fiction, Contemporary</td>\n",
       "      <td>2.85</td>\n",
       "    </tr>\n",
       "    <tr>\n",
       "      <th>0</th>\n",
       "      <td>98</td>\n",
       "      <td>200</td>\n",
       "      <td>What to Expect the First Year</td>\n",
       "      <td>Heidi Murkoff</td>\n",
       "      <td>Some things about babies, happily, will never change. They still arrive warm, cuddly, soft, and smelling impossibly sweet. But how moms and dads care for their brand-new bundles of baby joy has changed—and now, so has the new-baby bible.  Announcing the completely revised third edition of What to Expect the First Year. With over 10.5 million copies in print, First Year is   Some things about babies, happily, will never change. They still arrive warm, cuddly, soft, and smelling impossibly sweet. But how moms and dads care for their brand-new bundles of baby joy has changed—and now, so has the new-baby bible.  Announcing the completely revised third edition of What to Expect the First Year. With over 10.5 million copies in print, First Year is the world’s best-selling, best-loved guide to the instructions that babies don’t come with, but should. And now, it’s better than ever. Every parent’s must-have/go-to is completely updated.  Keeping the trademark month-by-month format that allows parents to take the potentially overwhelming first year one step at a time, First Year is easier-to-read, faster-to-flip-through, and new-family-friendlier than ever—packed with even more practical tips, realistic advice, and relatable, accessible information than before. Illustrations are new, too.  Among the changes: Baby care fundamentals—crib and sleep safety, feeding, vitamin supplements—are revised to reflect the most recent guidelines. Breastfeeding gets more coverage, too, from getting started to keeping it going. Hot-button topics and trends are tackled: attachment parenting, sleep training, early potty learning (elimination communication), baby-led weaning, and green parenting (from cloth diapers to non-toxic furniture). An all-new chapter on buying for baby helps parents navigate through today’s dizzying gamut of baby products, nursery items, and gear. Also new: tips on preparing homemade baby food, the latest recommendations on starting solids, research on the impact of screen time (TVs, tablets, apps, computers), and “For Parents” boxes that focus on mom’s and dad’s needs. Throughout, topics are organized more intuitively than ever, for the best user experience possible.</td>\n",
       "      <td>Parenting, Nonfiction, Reference</td>\n",
       "      <td>3.89</td>\n",
       "    </tr>\n",
       "    <tr>\n",
       "      <th>0</th>\n",
       "      <td>99</td>\n",
       "      <td>200</td>\n",
       "      <td>The Player's Handbook: The Ultimate Guide on Dating and Relationships</td>\n",
       "      <td>Heidi Fleiss</td>\n",
       "      <td>Men have traditionally held tight to the treasured title of \"Player,\" but why shouldn't women be able to call the shots in an affair - whether one-night stand, indeterminate fling, or live-in relationship? In this full-color book featuring vibrant collage-style graphics, Hollywood Madam Heidi Fleiss shows how to gain and keep control. Well versed in the intricacies of the   Men have traditionally held tight to the treasured title of \"Player,\" but why shouldn't women be able to call the shots in an affair - whether one-night stand, indeterminate fling, or live-in relationship? In this full-color book featuring vibrant collage-style graphics, Hollywood Madam Heidi Fleiss shows how to gain and keep control. Well versed in the intricacies of the male psyche, Fleiss offers time-tested strategies and hard-won wisdom on how to survive the love-go-round and come out on top. The book covers everything the modern woman needs to know, from cultivating self-esteem (\"Be yourself, relax, get naked together\") to post-sex etiquette (\"Get up and be on your way with a smile\") to unusual gifts that will keep a man grateful - and drooling (\"Put on a crazy sex show \") The Player's Handbook is a witty how-to guide to love and lust for the contemporary woman.</td>\n",
       "      <td>Self Help</td>\n",
       "      <td>3.74</td>\n",
       "    </tr>\n",
       "    <tr>\n",
       "      <th>0</th>\n",
       "      <td>100</td>\n",
       "      <td>200</td>\n",
       "      <td>Simply Beautiful Beading: 53 Quick and Easy Projects</td>\n",
       "      <td>Heidi Boyd</td>\n",
       "      <td>Blend your creative spirit with the quick and easy projects found inside Simply Beautiful Beading.From casual to sophisticated, and everything in between, you'll find beading designs to fit your personal style. Inside, you'll discover 53 simple yet stylish beading projects for exquisite jewelry, accessories and home decor, including: •modern glass bead chokers•semiprecious  Blend your creative spirit with the quick and easy projects found inside Simply Beautiful Beading.From casual to sophisticated, and everything in between, you'll find beading designs to fit your personal style. Inside, you'll discover 53 simple yet stylish beading projects for exquisite jewelry, accessories and home decor, including: •modern glass bead chokers•semiprecious stone set•charm bracelets•wired-pearl barrettes•wineglass charms•hanging votive candle holder•and more than 35 variation projects for even more simply beautiful ideas!</td>\n",
       "      <td>Art, Crafts, Nonfiction</td>\n",
       "      <td>3.80</td>\n",
       "    </tr>\n",
       "  </tbody>\n",
       "</table>\n",
       "<p>100 rows × 7 columns</p>\n",
       "</div>"
      ],
      "text/plain": [
       "   book_number status  \\\n",
       "0            1    200   \n",
       "0            2    200   \n",
       "0            3    200   \n",
       "0            4    200   \n",
       "0            5    200   \n",
       "..         ...    ...   \n",
       "0           96    200   \n",
       "0           97    200   \n",
       "0           98    200   \n",
       "0           99    200   \n",
       "0          100    200   \n",
       "\n",
       "                                                                          title  \\\n",
       "0                                        Harry Potter and the Half-Blood Prince   \n",
       "0                                     Harry Potter and the Order of the Phoenix   \n",
       "0                                         Harry Potter and the Sorcerer's Stone   \n",
       "0                                       Harry Potter and the Chamber of Secrets   \n",
       "0                                      Harry Potter and the Prisoner of Azkaban   \n",
       "..                                                                          ...   \n",
       "0               There's Always Enough: The Miraculous Move of God in Mozambique   \n",
       "0                                                                 The Birthdays   \n",
       "0                                                 What to Expect the First Year   \n",
       "0         The Player's Handbook: The Ultimate Guide on Dating and Relationships   \n",
       "0                          Simply Beautiful Beading: 53 Quick and Easy Projects   \n",
       "\n",
       "           author  \\\n",
       "0    J.K. Rowling   \n",
       "0    J.K. Rowling   \n",
       "0    J.K. Rowling   \n",
       "0    J.K. Rowling   \n",
       "0    J.K. Rowling   \n",
       "..            ...   \n",
       "0   Rolland Baker   \n",
       "0    Heidi Pitlor   \n",
       "0   Heidi Murkoff   \n",
       "0    Heidi Fleiss   \n",
       "0      Heidi Boyd   \n",
       "\n",
       "                                                                                                                                                                                                                                                                                                                                                                                                                                                                                                                                                                                                                                                                                                                                                                                                                                                                                                                                                                                                                                                                                                                                                                                                                                                                                                                                                                                                                                                                                                                                                                                                                                                                                                                                                                                                                                                                                                                                                                                                                                                                                                                                                                                                                                                                                                                                                                                                                                                                                                                                          synopsis  \\\n",
       "0                                                                                                                                                                                                                                                                                                                                                                                                                                                                                                                                                                                                                                                                                                                                                                                                                                                                                                                                                                                                                                                                                                                                                                                                                                  The war against Voldemort is not going well; even Muggle governments are noticing. Ron scans the obituary pages of the Daily Prophet, looking for familiar names. Dumbledore is absent from Hogwarts for long stretches of time, and the Order of the Phoenix has already suffered losses.And yet . . .As in all wars, life goes on. The Weasley twins expand their business. Sixth-yea  The war against Voldemort is not going well; even Muggle governments are noticing. Ron scans the obituary pages of the Daily Prophet, looking for familiar names. Dumbledore is absent from Hogwarts for long stretches of time, and the Order of the Phoenix has already suffered losses.And yet . . .As in all wars, life goes on. The Weasley twins expand their business. Sixth-year students learn to Apparate - and lose a few eyebrows in the process. Teenagers flirt and fight and fall in love. Classes are never straightforward, through Harry receives some extraordinary help from the mysterious Half-Blood Prince.So it's the home front that takes center stage in the multilayered sixth installment of the story of Harry Potter. Here at Hogwarts, Harry will search for the full and complete story of the boy who became Lord Voldemort - and thereby find what may be his only vulnerability.     \n",
       "0                                                                                                                                                                                                                                                                                                                                                                                                                                                                                                                                                                                                                                                                                                                                                                                                                                                                                                                                                                                                                                                                                                                                                                                                                                                                                                         There is a door at the end of a silent corridor. And itâ€™s haunting Harry Pottterâ€™s dreams. Why else would he be waking in the middle of the night, screaming in terror?Harry has a lot on his mind for this, his fifth year at Hogwarts: a Defense Against the Dark Arts teacher with a personality like poisoned honey; a big surprise on the Gryffindor Quidditch team; and the loomi  There is a door at the end of a silent corridor. And itâ€™s haunting Harry Pottterâ€™s dreams. Why else would he be waking in the middle of the night, screaming in terror?Harry has a lot on his mind for this, his fifth year at Hogwarts: a Defense Against the Dark Arts teacher with a personality like poisoned honey; a big surprise on the Gryffindor Quidditch team; and the looming terror of the Ordinary Wizarding Level exams. But all these things pale next to the growing threat of He-Who-Must-Not-Be-Named - a threat that neither the magical government nor the authorities at Hogwarts can stop.As the grasp of darkness tightens, Harry must discover the true depth and strength of his friends, the importance of boundless loyalty, and the shocking price of unbearable sacrifice.His fate depends on them all.     \n",
       "0                                                                                                                                                                                                                                                                                                                                                                                                                                                                                                                                                                                                                                                                                                                                                                       Harry Potter's life is miserable. His parents are dead and he's stuck with his heartless relatives, who force him to live in a tiny closet under the stairs. But his fortune changes when he receives a letter that tells him the truth about himself: he's a wizard. A mysterious visitor rescues him from his relatives and takes him to his new home, Hogwarts School of Witchcraft   Harry Potter's life is miserable. His parents are dead and he's stuck with his heartless relatives, who force him to live in a tiny closet under the stairs. But his fortune changes when he receives a letter that tells him the truth about himself: he's a wizard. A mysterious visitor rescues him from his relatives and takes him to his new home, Hogwarts School of Witchcraft and Wizardry.After a lifetime of bottling up his magical powers, Harry finally feels like a normal kid. But even within the Wizarding community, he is special. He is the boy who lived: the only person to have ever survived a killing curse inflicted by the evil Lord Voldemort, who launched a brutal takeover of the Wizarding world, only to vanish after failing to kill Harry.Though Harry's first year at Hogwarts is the best of his life, not everything is perfect. There is a dangerous secret object hidden within the castle walls, and Harry believes it's his responsibility to prevent it from falling into evil hands. But doing so will bring him into contact with forces more terrifying than he ever could have imagined.Full of sympathetic characters, wildly imaginative situations, and countless exciting details, the first installment in the series assembles an unforgettable magical world and sets the stage for many high-stakes adventures to come.     \n",
       "0                                                                                                                                                                                                                                                                                                                                                                                                                                                                                                                                                                                                                                                                                                                                                                                                                                                                                                                                                                                                                                                                                                                                                  The Dursleys were so mean and hideous that summer that all Harry Potter wanted was to get back to the Hogwarts School for Witchcraft and Wizardry. But just as he's packing his bags, Harry receives a warning from a strange, impish creature named Dobby who says that if Harry Potter returns to Hogwarts, disaster will strike.And strike it does. For in Harry's second year at Ho  The Dursleys were so mean and hideous that summer that all Harry Potter wanted was to get back to the Hogwarts School for Witchcraft and Wizardry. But just as he's packing his bags, Harry receives a warning from a strange, impish creature named Dobby who says that if Harry Potter returns to Hogwarts, disaster will strike.And strike it does. For in Harry's second year at Hogwarts, fresh torments and horrors arise, including an outrageously stuck-up new professor, Gilderoy Lockhart, a spirit named Moaning Myrtle who haunts the girls' bathroom, and the unwanted attentions of Ron Weasley's younger sister, Ginny. But each of these seem minor annoyances when the real trouble begins, and someone, or something, starts turning Hogwarts students to stone. Could it be Draco Malfoy, a more poisonous rival than ever? Could it possibly be Hagrid, whose mysterious past is finally told? Or could it be the one everyone at Hogwarts most suspects: Harry Potter himself?     \n",
       "0                                                                                                                                                                                                                                                                                                                                                                                                                                                                                                                                                                                                                                                                                                                                                                                                                                                                  Harry Potter's third year at Hogwarts is full of new dangers. A convicted murderer, Sirius Black, has broken out of Azkaban prison, and it seems he's after Harry. Now Hogwarts is being patrolled by the dementors, the Azkaban guards who are hunting Sirius. But Harry can't imagine that Sirius or, for that matter, the evil Lord Voldemort could be more frightening than the dem  Harry Potter's third year at Hogwarts is full of new dangers. A convicted murderer, Sirius Black, has broken out of Azkaban prison, and it seems he's after Harry. Now Hogwarts is being patrolled by the dementors, the Azkaban guards who are hunting Sirius. But Harry can't imagine that Sirius or, for that matter, the evil Lord Voldemort could be more frightening than the dementors themselves, who have the terrible power to fill anyone they come across with aching loneliness and despair. Meanwhile, life continues as usual at Hogwarts. A top-of-the-line broom takes Harry's success at Quidditch, the sport of the Wizarding world, to new heights. A cute fourth-year student catches his eye. And he becomes close with the new Defense of the Dark Arts teacher, who was a childhood friend of his father. Yet despite the relative safety of life at Hogwarts and the best efforts of the dementors, the threat of Sirius Black grows ever closer. But if Harry has learned anything from his education in wizardry, it is that things are often not what they seem. Tragic revelations, heartwarming surprises, and high-stakes magical adventures await the boy wizard in this funny and poignant third installment of the beloved series.--scholastic.com     \n",
       "..                                                                                                                                                                                                                                                                                                                                                                                                                                                                                                                                                                                                                                                                                                                                                                                                                                                                                                                                                                                                                                                                                                                                                                                                                                                                                                                                                                                                                                                                                                                                                                                                                                                                                                                                                                                                                                                                                                                                                                                                                                                                                                                                                                                                                                                                                                                                                                                                                                                                                                                                             ...   \n",
       "0                   Today in one of Southern Africa's most disaster-torn nations, Rolland and Heidi Baker are at the center of a major move of God's Spirit. The last four years have seen them plant and take responsibility for around 6,000 churches as thousands of Mozambiquans have given their lives to Christ in an unprecedented revival. During this time, they have also witnessed numerous acts  Today in one of Southern Africa's most disaster-torn nations, Rolland and Heidi Baker are at the center of a major move of God's Spirit. The last four years have seen them plant and take responsibility for around 6,000 churches as thousands of Mozambiquans have given their lives to Christ in an unprecedented revival. During this time, they have also witnessed numerous acts of God's power. Miracles of provision, healing, deliverance, and even raising the dead, have become every day occurrences. This adventure began when Rolland and Heidi Baker, founders of IRIS Ministries, and both natives of California, USA, answered God's call to minister to the poorest of the poor. Rolland describes this best in the introduction to the forthcoming book that tells the story, \" There's Always Enough\". In his introduction to the book, Rolland Baker says: \"Jesus developed our faith over the years in many countries and ministry situations for a reason. Today He has given us oversight over five thousand churches in one of the poorest areas of the world. We live in Mozambique, in the south-east corner of Africa, a land that has suffered horribly from decades of warfare and natural disaster. Finally the people are desperate for Jesus and no other. Revival is spreading. In large sections of central Mozambique and southern Malawi we have simple, mud-hut churches in virtually every village. They grow until there are as many as can hear the sound of a preacher's voice.\" \"More are being added continuously, and now others in countries around us are calling for ministry and help, desperate to be a part of this fire. The gospel of Jesus Christ is enough for them all. He is good and faithful,the Master Lover. They just want Him. They have been poor and wretched, but now they possess all things in Him. We dare to approach them, we dare to preach to them, we dare to pick up the helpless, abandoned and dying, because He died for us and rose again on our behalf. We eat and drink from His body and blood, and as a result, there will always be enough...\"     \n",
       "0                                                                                                                                                                                                                                                                                                                                                                                                                                                                                                                                                                                                                                                                                                                                                                                                                                                                                                                                                                                                                                                                                                                                                                                                                                                                                  On an island off the coast of Maine, the Miller family reunites to celebrate the father's seventy-fifth birthday. Each of the adult children is expecting his or her own first child. The eldest, Daniel, grapples with the fact that his wife had to be artificially inseminated. Jake, the middle child, discovers that his wife is carrying twins after many trying years of fertili  On an island off the coast of Maine, the Miller family reunites to celebrate the father's seventy-fifth birthday. Each of the adult children is expecting his or her own first child. The eldest, Daniel, grapples with the fact that his wife had to be artificially inseminated. Jake, the middle child, discovers that his wife is carrying twins after many trying years of fertility treatments. Hilary—the free-spirited youngest daughter—arrives in Maine five months pregnant with no identifiable father in sight. Their coming together sets off a series of fireworks and, after the weekend, none of the Millers will emerge the same.Written with great acuity, The Birthdays deftly explores the myriad ways of seeking sustenance after disappointment and loss and announces the arrival of a poignant, elegant, and powerful new voice in fiction.     \n",
       "0                                                                                                                                                                                                                                                      Some things about babies, happily, will never change. They still arrive warm, cuddly, soft, and smelling impossibly sweet. But how moms and dads care for their brand-new bundles of baby joy has changed—and now, so has the new-baby bible.  Announcing the completely revised third edition of What to Expect the First Year. With over 10.5 million copies in print, First Year is   Some things about babies, happily, will never change. They still arrive warm, cuddly, soft, and smelling impossibly sweet. But how moms and dads care for their brand-new bundles of baby joy has changed—and now, so has the new-baby bible.  Announcing the completely revised third edition of What to Expect the First Year. With over 10.5 million copies in print, First Year is the world’s best-selling, best-loved guide to the instructions that babies don’t come with, but should. And now, it’s better than ever. Every parent’s must-have/go-to is completely updated.  Keeping the trademark month-by-month format that allows parents to take the potentially overwhelming first year one step at a time, First Year is easier-to-read, faster-to-flip-through, and new-family-friendlier than ever—packed with even more practical tips, realistic advice, and relatable, accessible information than before. Illustrations are new, too.  Among the changes: Baby care fundamentals—crib and sleep safety, feeding, vitamin supplements—are revised to reflect the most recent guidelines. Breastfeeding gets more coverage, too, from getting started to keeping it going. Hot-button topics and trends are tackled: attachment parenting, sleep training, early potty learning (elimination communication), baby-led weaning, and green parenting (from cloth diapers to non-toxic furniture). An all-new chapter on buying for baby helps parents navigate through today’s dizzying gamut of baby products, nursery items, and gear. Also new: tips on preparing homemade baby food, the latest recommendations on starting solids, research on the impact of screen time (TVs, tablets, apps, computers), and “For Parents” boxes that focus on mom’s and dad’s needs. Throughout, topics are organized more intuitively than ever, for the best user experience possible.     \n",
       "0                                                                                                                                                                                                                                                                                                                                                                                                                                                                                                                                                                                                                                                                                                                                                                                                                                                                                                                                                                                                                                                                                                                                                                                                                                       Men have traditionally held tight to the treasured title of \"Player,\" but why shouldn't women be able to call the shots in an affair - whether one-night stand, indeterminate fling, or live-in relationship? In this full-color book featuring vibrant collage-style graphics, Hollywood Madam Heidi Fleiss shows how to gain and keep control. Well versed in the intricacies of the   Men have traditionally held tight to the treasured title of \"Player,\" but why shouldn't women be able to call the shots in an affair - whether one-night stand, indeterminate fling, or live-in relationship? In this full-color book featuring vibrant collage-style graphics, Hollywood Madam Heidi Fleiss shows how to gain and keep control. Well versed in the intricacies of the male psyche, Fleiss offers time-tested strategies and hard-won wisdom on how to survive the love-go-round and come out on top. The book covers everything the modern woman needs to know, from cultivating self-esteem (\"Be yourself, relax, get naked together\") to post-sex etiquette (\"Get up and be on your way with a smile\") to unusual gifts that will keep a man grateful - and drooling (\"Put on a crazy sex show \") The Player's Handbook is a witty how-to guide to love and lust for the contemporary woman.     \n",
       "0                                                                                                                                                                                                                                                                                                                                                                                                                                                                                                                                                                                                                                                                                                                                                                                                                                                                                                                                                                                                                                                                                                                                                                                                                                                                                                                                                                                                                                                                                                                                                                                       Blend your creative spirit with the quick and easy projects found inside Simply Beautiful Beading.From casual to sophisticated, and everything in between, you'll find beading designs to fit your personal style. Inside, you'll discover 53 simple yet stylish beading projects for exquisite jewelry, accessories and home decor, including: •modern glass bead chokers•semiprecious  Blend your creative spirit with the quick and easy projects found inside Simply Beautiful Beading.From casual to sophisticated, and everything in between, you'll find beading designs to fit your personal style. Inside, you'll discover 53 simple yet stylish beading projects for exquisite jewelry, accessories and home decor, including: •modern glass bead chokers•semiprecious stone set•charm bracelets•wired-pearl barrettes•wineglass charms•hanging votive candle holder•and more than 35 variation projects for even more simply beautiful ideas!     \n",
       "\n",
       "                              genres  rating  \n",
       "0      Fantasy, Young Adult, Fiction    4.57  \n",
       "0      Fantasy, Young Adult, Fiction    4.50  \n",
       "0      Fantasy, Fiction, Young Adult    4.47  \n",
       "0      Fantasy, Young Adult, Fiction    4.43  \n",
       "0      Fantasy, Young Adult, Fiction    4.57  \n",
       "..                               ...     ...  \n",
       "0   Christian, Biography, Nonfiction    4.46  \n",
       "0              Fiction, Contemporary    2.85  \n",
       "0   Parenting, Nonfiction, Reference    3.89  \n",
       "0                          Self Help    3.74  \n",
       "0            Art, Crafts, Nonfiction    3.80  \n",
       "\n",
       "[100 rows x 7 columns]"
      ]
     },
     "execution_count": 24,
     "metadata": {},
     "output_type": "execute_result"
    }
   ],
   "source": [
    "main_df"
   ]
  },
  {
   "cell_type": "code",
   "execution_count": 26,
   "metadata": {},
   "outputs": [
    {
     "data": {
      "text/plain": [
       "                                                     8\n",
       "Fantasy, Classics, Fiction                           6\n",
       "Fantasy, Young Adult, Fiction                        6\n",
       "Science Fiction, Fiction, Humor                      6\n",
       "Historical, Historical Fiction, Fiction              5\n",
       "Travel, Nonfiction, Humor                            4\n",
       "Nonfiction, Writing, Essays                          4\n",
       "Fantasy, Fiction, Young Adult                        3\n",
       "Christian, Biography, Nonfiction                     2\n",
       "Education, Teaching                                  2\n",
       "Young Adult, Fiction, Adventure                      2\n",
       "Science Fiction, Audiobook, Humor                    2\n",
       "Business                                             1\n",
       "Fantasy, Fiction, Classics                           1\n",
       "Art, Crafts, Crafts                                  1\n",
       "Nonfiction, History, Humanities                      1\n",
       "Fiction, Contemporary                                1\n",
       "Fantasy, Young Adult, Romance                        1\n",
       "Nonfiction, Science, Science                         1\n",
       "Nonfiction, Biography                                1\n",
       "Fantasy, Young Adult, Fantasy                        1\n",
       "Classics, Fiction, Childrens                         1\n",
       "Nonfiction, Health, Medicine                         1\n",
       "Self Help                                            1\n",
       "Romance, Fantasy, Paranormal                         1\n",
       "Nonfiction, Travel, Environment                      1\n",
       "Fiction, Young Adult, Fantasy                        1\n",
       "Fantasy, Fiction, Audiobook                          1\n",
       "Art, Crafts, Nonfiction                              1\n",
       "Economics, Finance, Economics                        1\n",
       "Historical, Historical Fiction, Romance              1\n",
       "Nonfiction, History, Travel                          1\n",
       "Travel, Nonfiction, Cultural                         1\n",
       "Nonfiction, Art, Crafts                              1\n",
       "Computer Science, Programming, Science               1\n",
       "Teaching, Education                                  1\n",
       "Nonfiction, Biography, Adventure                     1\n",
       "Nonfiction, Criticism, Literary Criticism            1\n",
       "Science, Nonfiction, Science                         1\n",
       "Fiction, Humor, Cultural                             1\n",
       "Fantasy, Games, Role Playing Games                   1\n",
       "Nonfiction, Travel, Humor                            1\n",
       "Classics, Fiction, Historical                        1\n",
       "Science Fiction, Fantasy, Science Fiction Fantasy    1\n",
       "Plays, Drama, Fiction                                1\n",
       "Nonfiction, Science, History                         1\n",
       "Plays, Drama, Plays                                  1\n",
       "Parenting, Nonfiction, Reference                     1\n",
       "Fantasy, Reference, Media Tie In                     1\n",
       "Romance, Historical Romance, Romance                 1\n",
       "Fantasy, Urban Fantasy, Fantasy                      1\n",
       "Nonfiction, Language, Writing                        1\n",
       "Fantasy, Art, Fiction                                1\n",
       "Nonfiction, Science, Environment                     1\n",
       "Name: genres, dtype: int64"
      ]
     },
     "execution_count": 26,
     "metadata": {},
     "output_type": "execute_result"
    }
   ],
   "source": [
    "main_df['genres'].value_counts()"
   ]
  },
  {
   "cell_type": "code",
   "execution_count": null,
   "metadata": {},
   "outputs": [],
   "source": []
  }
 ],
 "metadata": {
  "kernelspec": {
   "display_name": "Python 3",
   "language": "python",
   "name": "python3"
  },
  "language_info": {
   "codemirror_mode": {
    "name": "ipython",
    "version": 3
   },
   "file_extension": ".py",
   "mimetype": "text/x-python",
   "name": "python",
   "nbconvert_exporter": "python",
   "pygments_lexer": "ipython3",
   "version": "3.8.3"
  }
 },
 "nbformat": 4,
 "nbformat_minor": 4
}
