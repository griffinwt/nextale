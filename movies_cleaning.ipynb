{
 "cells": [
  {
   "cell_type": "code",
   "execution_count": 2,
   "metadata": {},
   "outputs": [],
   "source": [
    "import pandas as pd\n",
    "import numpy as np\n",
    "import requests\n",
    "from bs4 import BeautifulSoup, NavigableString, Tag\n",
    "import re\n",
    "import time\n",
    "import random\n",
    "pd.set_option('display.max_colwidth', None)\n",
    "import utils as ut"
   ]
  },
  {
   "cell_type": "code",
   "execution_count": 3,
   "metadata": {},
   "outputs": [
    {
     "name": "stderr",
     "output_type": "stream",
     "text": [
      "b'Skipping line 1890: expected 15 fields, saw 22\\nSkipping line 6666: expected 15 fields, saw 22\\nSkipping line 111408: expected 15 fields, saw 22\\nSkipping line 170181: expected 15 fields, saw 22\\nSkipping line 170231: expected 15 fields, saw 22\\nSkipping line 256196: expected 15 fields, saw 22\\nSkipping line 295037: expected 15 fields, saw 22\\nSkipping line 548974: expected 15 fields, saw 22\\nSkipping line 551265: expected 15 fields, saw 22\\nSkipping line 551973: expected 15 fields, saw 22\\nSkipping line 619923: expected 15 fields, saw 22\\nSkipping line 763610: expected 15 fields, saw 22\\nSkipping line 798928: expected 15 fields, saw 22\\nSkipping line 859446: expected 15 fields, saw 22\\nSkipping line 972328: expected 15 fields, saw 22\\nSkipping line 988275: expected 15 fields, saw 22\\nSkipping line 1133741: expected 15 fields, saw 22\\nSkipping line 1278960: expected 15 fields, saw 22\\nSkipping line 1317934: expected 15 fields, saw 22\\nSkipping line 1388188: expected 15 fields, saw 22\\nSkipping line 1420410: expected 15 fields, saw 22\\nSkipping line 1497179: expected 15 fields, saw 22\\nSkipping line 1821149: expected 15 fields, saw 22\\nSkipping line 1897694: expected 15 fields, saw 22\\n'\n"
     ]
    },
    {
     "name": "stdout",
     "output_type": "stream",
     "text": [
      "Initial size: 5.20014832\n",
      "Initial shape: (5049291, 12)\n",
      "Size after dropping products w/reviews < 10: 4.493609664\n",
      "Null Preview: customer_id            0\n",
      "review_id              0\n",
      "product_id             0\n",
      "product_parent         0\n",
      "product_title          0\n",
      "star_rating            0\n",
      "helpful_votes          0\n",
      "total_votes            0\n",
      "verified_purchase      0\n",
      "review_headline       58\n",
      "review_body           26\n",
      "review_date          374\n",
      "dtype: int64\n",
      "Null Percentage: 0.01%\n",
      "Size after dropna(): 4.489704914\n",
      "Size after concatenation: 4.245067022\n",
      "Tokenizing, lemmatizing, and removing stopwords...hold please\n",
      "Size after tokemmitization: 3.313707545\n",
      "Final size: 3.313707545\n",
      "Final shape: (4405432, 11)\n"
     ]
    },
    {
     "data": {
      "text/plain": [
       "'File saved as movie_dvd.csv'"
      ]
     },
     "execution_count": 3,
     "metadata": {},
     "output_type": "execute_result"
    }
   ],
   "source": [
    "ut.clean_amazon_data('./data/amazon_reviews_us_Video_DVD_v1_00.tsv.gz', 'movie_dvd')"
   ]
  },
  {
   "cell_type": "code",
   "execution_count": null,
   "metadata": {},
   "outputs": [],
   "source": []
  }
 ],
 "metadata": {
  "kernelspec": {
   "display_name": "Python 3",
   "language": "python",
   "name": "python3"
  },
  "language_info": {
   "codemirror_mode": {
    "name": "ipython",
    "version": 3
   },
   "file_extension": ".py",
   "mimetype": "text/x-python",
   "name": "python",
   "nbconvert_exporter": "python",
   "pygments_lexer": "ipython3",
   "version": "3.8.3"
  }
 },
 "nbformat": 4,
 "nbformat_minor": 4
}
