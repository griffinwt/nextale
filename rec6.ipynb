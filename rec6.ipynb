{
 "cells": [
  {
   "cell_type": "code",
   "execution_count": 1,
   "metadata": {},
   "outputs": [],
   "source": [
    "#imports\n",
    "import pandas as pd\n",
    "import numpy as np\n",
    "import re\n",
    "import time\n",
    "import sys\n",
    "pd.set_option('display.max_colwidth', None)\n",
    "import pickle\n",
    "from sklearn.metrics.pairwise import pairwise_distances, cosine_distances, cosine_similarity\n",
    "from scipy import sparse\n",
    "from matplotlib import pyplot as plt\n",
    "import utils as ut"
   ]
  },
  {
   "cell_type": "markdown",
   "metadata": {},
   "source": [
    "I'm going to attempt to modify the recommender dictionaries I already made and remove 50% of the recommended products (from 100 to 50). I think this is going to save large amount of memory and translate to faster load times on my app - I also suspect it will be faster than re-creating them all over again."
   ]
  },
  {
   "cell_type": "code",
   "execution_count": 2,
   "metadata": {},
   "outputs": [],
   "source": [
    "#load in new recommender dictionaries (not dataframes)\n",
    "with open('./compressed/new_vg_rec.pkl', 'rb') as f:\n",
    "    vg_rec = pickle.load(f)\n",
    "\n",
    "with open('./pickles/new_movies_rec.pkl', 'rb') as f:\n",
    "    movies_rec = pickle.load(f)\n",
    "\n",
    "with open('./compressed/new_books_rec.pkl', 'rb') as f:\n",
    "    books_rec = pickle.load(f)"
   ]
  },
  {
   "cell_type": "code",
   "execution_count": null,
   "metadata": {},
   "outputs": [],
   "source": []
  },
  {
   "cell_type": "code",
   "execution_count": 12,
   "metadata": {},
   "outputs": [
    {
     "data": {
      "text/plain": [
       "50"
      ]
     },
     "execution_count": 12,
     "metadata": {},
     "output_type": "execute_result"
    }
   ],
   "source": [
    "len(list(vg_rec['PlayStation 4 500GB Console [Old Model]'])[:50])"
   ]
  },
  {
   "cell_type": "code",
   "execution_count": 14,
   "metadata": {},
   "outputs": [],
   "source": [
    "def shorten_recs(recommender):\n",
    "    new_rec = {}\n",
    "    for key, value in recommender.items(): #open dictionary\n",
    "        new_rec[key] = list(recommender[key])[:50] #new dictionary where values list is a portion of previous size\n",
    "    return new_rec"
   ]
  },
  {
   "cell_type": "code",
   "execution_count": 15,
   "metadata": {},
   "outputs": [],
   "source": [
    "new_vg_rec = shorten_recs(vg_rec)"
   ]
  },
  {
   "cell_type": "code",
   "execution_count": 17,
   "metadata": {},
   "outputs": [
    {
     "data": {
      "text/plain": [
       "15938"
      ]
     },
     "execution_count": 17,
     "metadata": {},
     "output_type": "execute_result"
    }
   ],
   "source": [
    "len(new_vg_rec)"
   ]
  },
  {
   "cell_type": "code",
   "execution_count": 18,
   "metadata": {},
   "outputs": [
    {
     "data": {
      "text/plain": [
       "50"
      ]
     },
     "execution_count": 18,
     "metadata": {},
     "output_type": "execute_result"
    }
   ],
   "source": [
    "len(list(new_vg_rec['PlayStation 4 500GB Console [Old Model]']))"
   ]
  },
  {
   "cell_type": "markdown",
   "metadata": {},
   "source": [
    "Wow... that ran INSTANTLY. Time to run it over the other two dictionaries."
   ]
  },
  {
   "cell_type": "code",
   "execution_count": 19,
   "metadata": {},
   "outputs": [],
   "source": [
    "new_movies_rec = shorten_recs(movies_rec)"
   ]
  },
  {
   "cell_type": "code",
   "execution_count": 20,
   "metadata": {},
   "outputs": [],
   "source": [
    "new_books_rec = shorten_recs(books_rec)"
   ]
  },
  {
   "cell_type": "markdown",
   "metadata": {},
   "source": [
    "Time to pickle these and see how much smaller they are than the originals."
   ]
  },
  {
   "cell_type": "code",
   "execution_count": 21,
   "metadata": {},
   "outputs": [],
   "source": [
    "with open('./compressed/vg_rec_small.pkl', 'wb') as f:\n",
    "    pickle.dump(new_vg_rec, f)\n",
    "    \n",
    "with open ('./compressed/movies_rec_small.pkl', 'wb') as f:\n",
    "    pickle.dump(new_movies_rec, f)\n",
    "    \n",
    "with open('./compressed/books_rec_small.pkl', 'wb') as f:\n",
    "    pickle.dump(new_books_rec, f)"
   ]
  },
  {
   "cell_type": "markdown",
   "metadata": {},
   "source": [
    "Okay, let's test these out and make sure the lookup function still works"
   ]
  },
  {
   "cell_type": "code",
   "execution_count": 23,
   "metadata": {},
   "outputs": [],
   "source": [
    "vg_look = pd.read_pickle('./pickles/vg_look_small.pkl')\n",
    "movies_look = pd.read_pickle('./pickles/movies_look_small.pkl')\n",
    "books_look = pd.read_pickle('./pickles/books_look_small.pkl')"
   ]
  },
  {
   "cell_type": "code",
   "execution_count": 35,
   "metadata": {},
   "outputs": [],
   "source": [
    "#NEW - load in NLP dictionaries from review text to display top 5 words for product\n",
    "\n",
    "with open('./compressed/vg_text_dict.pkl', 'rb') as f:\n",
    "    vg_text = pickle.load(f)\n",
    "\n",
    "with open('./compressed/movies_text_dict.pkl', 'rb') as f:\n",
    "    movies_text = pickle.load(f)\n",
    "\n",
    "with open('./compressed/books_text_dict.pkl', 'rb') as f:\n",
    "    books_text = pickle.load(f)"
   ]
  },
  {
   "cell_type": "code",
   "execution_count": 41,
   "metadata": {},
   "outputs": [],
   "source": [
    "def make_recs_new(query, wout=''):  #need to set lookup and recommender global variables prior to calling   \n",
    "    try:\n",
    "        query=query.lower() #lowercase entry, lowercase titles (only during search, below)\n",
    "        titles = list(lookup[lookup['product_title'].map(lambda x: x.lower()).str.contains(query)]['product_title'])\n",
    "        q = titles[0] #this is the item to search for\n",
    "        \n",
    "        message = f'''\n",
    "        **Most Popular Item Containing Your Search Term(s):** {q}  \n",
    "        There are {round(lookup[lookup['product_title']==q]['tot_prod_reviews'].mean())} total reviews for this item and it has an average star rating of {round(lookup[lookup['product_title']==q]['avg_prod_stars'].mean(), 2)}\n",
    "        '''      \n",
    "\n",
    "        if wout == '':           \n",
    "            top10_prods = []\n",
    "            num_prod_revs = []\n",
    "            avg_prod_stars = []\n",
    "            top_5_words = []\n",
    "            for key in list(recommender[q])[1:11]:\n",
    "                top10_prods.append(key)\n",
    "                num_prod_revs.append(round(lookup[lookup['product_title']==key]['tot_prod_reviews'].mean()))\n",
    "                avg_prod_stars.append(round(lookup[lookup['product_title']==key]['avg_prod_stars'].mean(), 2))\n",
    "                top_5_words.append(text[key])\n",
    "            final_output_df = pd.DataFrame(data = {\n",
    "                'Recommended Items':top10_prods,\n",
    "                'Total Reviews for Product':num_prod_revs,\n",
    "                'Avg Product Star Rating(1-5)':avg_prod_stars,\n",
    "                'Most Common Words in Review Text':top_5_words\n",
    "            }, index=range(1,11))\n",
    "            return message, final_output_df            \n",
    "            \n",
    "        else:\n",
    "            \n",
    "            wout = wout.lower() #lowercase\n",
    "            filtered_query = [] #make empty list\n",
    "            for key in list(recommender[q]):\n",
    "                if wout not in key.lower(): #check if avoided keyword is in results\n",
    "                    filtered_query.append(key)\n",
    "            top10_prods = []\n",
    "            num_prod_revs = []\n",
    "            avg_prod_stars = []\n",
    "            top_5_words = []\n",
    "            for item in filtered_query[1:11]:\n",
    "                top10_prods.append(item)\n",
    "                num_prod_revs.append(round(lookup[lookup['product_title']==item]['tot_prod_reviews'].mean()))\n",
    "                avg_prod_stars.append(round(lookup[lookup['product_title']==item]['avg_prod_stars'].mean(), 2))\n",
    "                top_5_words.append(text[item])\n",
    "            final_output_df = pd.DataFrame(data = {\n",
    "                'Recommended Items':top10_prods,\n",
    "                'Total Reviews for Product':num_prod_revs,\n",
    "                'Avg Product Star Rating(1-5)':avg_prod_stars,\n",
    "                'Most Common Words in Review Text':top_5_words\n",
    "                }, index=range(1,11))\n",
    "            return message, final_output_df\n",
    "        \n",
    "    except:\n",
    "        return f'Sorry, \"{query}\" does not appear to be in the product database'"
   ]
  },
  {
   "cell_type": "code",
   "execution_count": 36,
   "metadata": {},
   "outputs": [],
   "source": [
    "lookup, recommender, text = vg_look, new_vg_rec, vg_text"
   ]
  },
  {
   "cell_type": "code",
   "execution_count": 42,
   "metadata": {},
   "outputs": [
    {
     "data": {
      "text/plain": [
       "('\\n        **Most Popular Item Containing Your Search Term(s):** LEGO Harry Potter: Years 1-4  \\n        There are 1012 total reviews for this item and it has an average star rating of 4.17\\n        ',\n",
       "                                                  Recommended Items  \\\n",
       " 1                        Harry Potter and the Order of the Phoenix   \n",
       " 2                                     Alien 3 - Nintendo Super NES   \n",
       " 3   HORI 3DS Protector and Pouch Set (Super Mario 3D Land version)   \n",
       " 4                                                       Duck Tales   \n",
       " 5                   Marvel Super Hero Squad: The Infinity Gauntlet   \n",
       " 6                      Harry Potter and the Deathly Hallows Part 1   \n",
       " 7                         Disney's A Christmas Carol - Nintendo DS   \n",
       " 8                                                 Cake Mania 3 NDS   \n",
       " 9                                            Pac Pix - Nintendo DS   \n",
       " 10                                  Romancing SaGa - PlayStation 2   \n",
       " \n",
       "     Total Reviews for Product  Avg Product Star Rating(1-5)  \\\n",
       " 1                         223                          3.60   \n",
       " 2                          11                          4.36   \n",
       " 3                          14                          3.79   \n",
       " 4                          24                          4.62   \n",
       " 5                         159                          4.16   \n",
       " 6                         169                          3.28   \n",
       " 7                          18                          4.44   \n",
       " 8                          29                          3.93   \n",
       " 9                          16                          4.19   \n",
       " 10                         18                          4.06   \n",
       " \n",
       "        Most Common Words in Review Text  \n",
       " 1   spell, fun, hogwarts, really, movie  \n",
       " 2   you, complete, snes, level, version  \n",
       " 3             case, ha, well, bag, feel  \n",
       " 4   fun, nes, ducktales, scrooge, level  \n",
       " 5               love, fun, old, kid, my  \n",
       " 6      spell, fun, even, movie, mission  \n",
       " 7         fun, story, well, love, still  \n",
       " 8          ds, version, make, hard, see  \n",
       " 9    screen, level, ghost, draw, pacman  \n",
       " 10  character, quest, well, rpg, battle  )"
      ]
     },
     "execution_count": 42,
     "metadata": {},
     "output_type": "execute_result"
    }
   ],
   "source": [
    "make_recs_new('harry potter', 'lego')"
   ]
  },
  {
   "cell_type": "markdown",
   "metadata": {},
   "source": [
    "Great! It also looks like the new NLP feature is working too! Time to update the app."
   ]
  },
  {
   "cell_type": "code",
   "execution_count": null,
   "metadata": {},
   "outputs": [],
   "source": []
  }
 ],
 "metadata": {
  "kernelspec": {
   "display_name": "Python 3",
   "language": "python",
   "name": "python3"
  },
  "language_info": {
   "codemirror_mode": {
    "name": "ipython",
    "version": 3
   },
   "file_extension": ".py",
   "mimetype": "text/x-python",
   "name": "python",
   "nbconvert_exporter": "python",
   "pygments_lexer": "ipython3",
   "version": "3.8.3"
  }
 },
 "nbformat": 4,
 "nbformat_minor": 4
}
