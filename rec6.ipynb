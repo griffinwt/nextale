{
 "cells": [
  {
   "cell_type": "code",
   "execution_count": 1,
   "metadata": {},
   "outputs": [],
   "source": [
    "#imports\n",
    "import pandas as pd\n",
    "import numpy as np\n",
    "import re\n",
    "import time\n",
    "import sys\n",
    "pd.set_option('display.max_colwidth', None)\n",
    "import pickle\n",
    "from sklearn.metrics.pairwise import pairwise_distances, cosine_distances, cosine_similarity\n",
    "from scipy import sparse\n",
    "from matplotlib import pyplot as plt\n",
    "import utils as ut"
   ]
  },
  {
   "cell_type": "markdown",
   "metadata": {},
   "source": [
    "As an alternative to re-making the stored product recommendation dictionaries necessary for my web app to run quickly, I'm going to attempt to modify the ones I already made and remove some portion of the contents. I suspect it will be faster than re-creating them."
   ]
  },
  {
   "cell_type": "code",
   "execution_count": 2,
   "metadata": {},
   "outputs": [],
   "source": [
    "#load in new recommender dictionaries (not dataframes)\n",
    "with open('./compressed/new_vg_rec.pkl', 'rb') as f:\n",
    "    vg_rec = pickle.load(f)\n",
    "\n",
    "with open('./pickles/new_movies_rec.pkl', 'rb') as f:\n",
    "    movies_rec = pickle.load(f)\n",
    "\n",
    "with open('./compressed/new_books_rec.pkl', 'rb') as f:\n",
    "    books_rec = pickle.load(f)"
   ]
  },
  {
   "cell_type": "code",
   "execution_count": null,
   "metadata": {},
   "outputs": [],
   "source": []
  },
  {
   "cell_type": "code",
   "execution_count": 12,
   "metadata": {},
   "outputs": [
    {
     "data": {
      "text/plain": [
       "50"
      ]
     },
     "execution_count": 12,
     "metadata": {},
     "output_type": "execute_result"
    }
   ],
   "source": [
    "len(list(vg_rec['PlayStation 4 500GB Console [Old Model]'])[:50])"
   ]
  },
  {
   "cell_type": "code",
   "execution_count": 14,
   "metadata": {},
   "outputs": [],
   "source": [
    "def shorten_recs(recommender):\n",
    "    new_rec = {}\n",
    "    for key, value in recommender.items(): #open dictionary\n",
    "        new_rec[key] = list(recommender[key])[:50] #new dictionary where values list is a portion of previous size\n",
    "    return new_rec"
   ]
  },
  {
   "cell_type": "code",
   "execution_count": 15,
   "metadata": {},
   "outputs": [],
   "source": [
    "new_vg_rec = shorten_recs(vg_rec)"
   ]
  },
  {
   "cell_type": "code",
   "execution_count": 17,
   "metadata": {},
   "outputs": [
    {
     "data": {
      "text/plain": [
       "15938"
      ]
     },
     "execution_count": 17,
     "metadata": {},
     "output_type": "execute_result"
    }
   ],
   "source": [
    "len(new_vg_rec)"
   ]
  },
  {
   "cell_type": "code",
   "execution_count": 18,
   "metadata": {},
   "outputs": [
    {
     "data": {
      "text/plain": [
       "50"
      ]
     },
     "execution_count": 18,
     "metadata": {},
     "output_type": "execute_result"
    }
   ],
   "source": [
    "len(list(new_vg_rec['PlayStation 4 500GB Console [Old Model]']))"
   ]
  },
  {
   "cell_type": "markdown",
   "metadata": {},
   "source": [
    "Wow... that ran INSTANTLY. Time to run it over the other two dictionaries."
   ]
  },
  {
   "cell_type": "code",
   "execution_count": 19,
   "metadata": {},
   "outputs": [],
   "source": [
    "new_movies_rec = shorten_recs(movies_rec)"
   ]
  },
  {
   "cell_type": "code",
   "execution_count": 20,
   "metadata": {},
   "outputs": [],
   "source": [
    "new_books_rec = shorten_recs(books_rec)"
   ]
  },
  {
   "cell_type": "markdown",
   "metadata": {},
   "source": [
    "Time to pickle these and see how much smaller they are than the originals."
   ]
  },
  {
   "cell_type": "code",
   "execution_count": 21,
   "metadata": {},
   "outputs": [],
   "source": [
    "with open('./compressed/vg_rec_small.pkl', 'wb') as f:\n",
    "    pickle.dump(new_vg_rec, f)\n",
    "    \n",
    "with open ('./compressed/movies_rec_small.pkl', 'wb') as f:\n",
    "    pickle.dump(new_movies_rec, f)\n",
    "    \n",
    "with open('./compressed/books_rec_small.pkl', 'wb') as f:\n",
    "    pickle.dump(new_books_rec, f)"
   ]
  },
  {
   "cell_type": "code",
   "execution_count": null,
   "metadata": {},
   "outputs": [],
   "source": []
  }
 ],
 "metadata": {
  "kernelspec": {
   "display_name": "Python 3",
   "language": "python",
   "name": "python3"
  },
  "language_info": {
   "codemirror_mode": {
    "name": "ipython",
    "version": 3
   },
   "file_extension": ".py",
   "mimetype": "text/x-python",
   "name": "python",
   "nbconvert_exporter": "python",
   "pygments_lexer": "ipython3",
   "version": "3.8.3"
  }
 },
 "nbformat": 4,
 "nbformat_minor": 4
}
