{
 "cells": [
  {
   "cell_type": "code",
   "execution_count": 1,
   "metadata": {},
   "outputs": [],
   "source": [
    "#imports\n",
    "#https://stackoverflow.com/questions/1549641/how-can-i-capitalize-the-first-letter-of-each-word-in-a-string\n",
    "import pandas as pd\n",
    "import numpy as np\n",
    "import requests\n",
    "from bs4 import BeautifulSoup, NavigableString, Tag\n",
    "import re\n",
    "import time\n",
    "import random\n",
    "import sys\n",
    "pd.set_option('display.max_colwidth', None)\n",
    "\n",
    "from sklearn.metrics.pairwise import pairwise_distances, cosine_distances, cosine_similarity\n",
    "from scipy import sparse\n",
    "from matplotlib import pyplot as plt\n",
    "import utils as ut"
   ]
  },
  {
   "cell_type": "code",
   "execution_count": 2,
   "metadata": {},
   "outputs": [],
   "source": [
    "books_df, books_rec, movies_df, movies_rec, vg_df, vg_rec = pd.read_pickle('./pickles/books_look.pkl'), pd.read_pickle('./pickles/books_rec.pkl'), pd.read_pickle('./pickles/movies_look.pkl'), pd.read_pickle('./pickles/movie_rec.pkl'), pd.read_pickle('./pickles/videog_look.pkl'), pd.read_pickle('./pickles/videog_rec.pkl')"
   ]
  },
  {
   "cell_type": "code",
   "execution_count": 3,
   "metadata": {},
   "outputs": [],
   "source": [
    "df_list = [books_df, books_rec, movies_df, movies_rec, vg_df, vg_rec]"
   ]
  },
  {
   "cell_type": "code",
   "execution_count": 4,
   "metadata": {},
   "outputs": [
    {
     "name": "stdout",
     "output_type": "stream",
     "text": [
      "(1489354, 7)\n",
      "0.406603011 GB\n",
      "(46575, 46575)\n",
      "0.422205132 GB\n",
      "(4405432, 7)\n",
      "1.166293371 GB\n",
      "(72385, 72385)\n",
      "1.843095412 GB\n",
      "(1648136, 7)\n",
      "0.436016768 GB\n",
      "(15938, 15938)\n",
      "0.076510705 GB\n"
     ]
    }
   ],
   "source": [
    "for df in df_list:\n",
    "    print(df.shape)\n",
    "    print(ut.size_in_gb(df))"
   ]
  },
  {
   "cell_type": "code",
   "execution_count": 123,
   "metadata": {},
   "outputs": [
    {
     "name": "stdin",
     "output_type": "stream",
     "text": [
      "Would you like to search for \"video games\", \"movies\", or \"books\"? Please enter one option:  video games\n"
     ]
    },
    {
     "name": "stdout",
     "output_type": "stream",
     "text": [
      "Okay, video game recommendations!\n"
     ]
    },
    {
     "name": "stdin",
     "output_type": "stream",
     "text": [
      "Please enter search term; the more specific your term is, the more accurate the results will be! rogue squadron\n",
      "Would you like to add a keyword to filter OUT of your results?\n",
      "                If so, please enter that keyword or phrase here;\n",
      "                If not, simply enter \"no\" no\n"
     ]
    },
    {
     "name": "stdout",
     "output_type": "stream",
     "text": [
      "Recommending items similar to: Star Wars Rogue Squadron II: Rogue Leader\n",
      "\n",
      "    Star Wars Rogue Squadron II: Rogue Leader has 284 reviews\n",
      "    and a 4.3 average star rating\n",
      "\n",
      "Here are the 10 recommended items for you based on your search parameters: \n",
      "15938\n",
      "\n",
      "Tony Hawks' Pro Skater 3\n",
      "\n",
      "    This item has 102 reviews\n",
      "    and a 4.44 average star rating\n",
      "\n",
      "Wave Race: Blue Storm\n",
      "\n",
      "    This item has 99 reviews\n",
      "    and a 3.89 average star rating\n",
      "\n",
      "Gamecube Memory Card 59\n",
      "\n",
      "    This item has 111 reviews\n",
      "    and a 4.07 average star rating\n",
      "\n",
      "Super Smash Bros Melee\n",
      "\n",
      "    This item has 1060 reviews\n",
      "    and a 4.59 average star rating\n",
      "\n",
      "Luigi's Mansion - Gamecube\n",
      "\n",
      "    This item has 501 reviews\n",
      "    and a 3.92 average star rating\n",
      "\n",
      "Super Monkey Ball\n",
      "\n",
      "    This item has 161 reviews\n",
      "    and a 4.31 average star rating\n",
      "\n",
      "SSX Tricky Nintendo Gamecube\n",
      "\n",
      "    This item has 120 reviews\n",
      "    and a 4.48 average star rating\n",
      "\n",
      "Star Wars: Rebel Strike - Rogue Squadron III\n",
      "\n",
      "    This item has 104 reviews\n",
      "    and a 3.9 average star rating\n",
      "\n",
      "GameCube Controller (Indigo / Clear)\n",
      "\n",
      "    This item has 32 reviews\n",
      "    and a 4.53 average star rating\n",
      "\n",
      "Star Wars: Bounty Hunter\n",
      "\n",
      "    This item has 84 reviews\n",
      "    and a 4.04 average star rating\n"
     ]
    }
   ],
   "source": [
    "#def choose_item(question):\n",
    "\n",
    "#select category based on user input:\n",
    "\n",
    "category = input('Would you like to search for \"video games\", \"movies\", or \"books\"? Please enter one option: ')\n",
    "while category.lower() not in ['video games', 'movies', 'books']:\n",
    "    print('Sorry, you need to enter \"video games\", \"movies\", or \"books\"') #error message\n",
    "    time.sleep(1) #wait 1 second, then make input available for user to try again\n",
    "    category = input('Would you like to search for \"video games\", \"movies\", or \"books\"? Please enter one option: ')\n",
    "if category.lower() == 'video games':\n",
    "    print('Okay, video game recommendations!') #vg_df\n",
    "    lookup, recommender = vg_df, vg_rec\n",
    "elif category.lower() == 'movies':\n",
    "    print('Okay, movie recommendations!') #movie_df\n",
    "    lookup, recommender = movies_df, movies_rec\n",
    "elif category.lower() == 'books':\n",
    "    print('Okay, book recommendations!') #books_df\n",
    "    lookup, recommender = books_df, books_rec\n",
    "else:\n",
    "    print(\"Sorry, that wasn't one of the options\")\n",
    "\n",
    "#provide input option for search parameters\n",
    "query = input('Please enter search term; the more specific your term is, the more accurate the results will be!')\n",
    "wout = input('''Would you like to add a keyword to filter OUT of your results?\n",
    "                If so, please enter that keyword or phrase here;\n",
    "                If not, simply enter \"no\"''')\n",
    "try:\n",
    "    query=query.title() #uppercase first letter of each word in the query in case it's not entered that way\n",
    "    titles = list(lookup[lookup['product_title'].str.contains(query)]['product_title'])\n",
    "    q = titles[0] #this is the item to search for\n",
    "    print(f'Recommending items similar to: {q}')\n",
    "    print(f\"\"\"\n",
    "    {q} has {round(lookup[lookup['product_title']==q]['tot_prod_reviews'].mean())} reviews\n",
    "    and a {round(lookup[lookup['product_title']==q]['avg_prod_stars'].mean(), 2)} average star rating\"\"\")\n",
    "    print()\n",
    "    #print('Here are the 10 recommended items for you based on your search parameters: ')\n",
    "    #print(len(titles))\n",
    "    if wout.lower() == 'no':\n",
    "        print('Here are the 10 recommended items for you based on your search parameters: ')\n",
    "        query_dict = dict(recommender.loc[q].sort_values())\n",
    "        print(len(query_dict))\n",
    "        for key in list(query_dict.keys())[1:11]:\n",
    "            print()\n",
    "            print(key)\n",
    "            print(f\"\"\"\n",
    "    This item has {round(lookup[lookup['product_title']==key]['tot_prod_reviews'].mean())} reviews\n",
    "    and a {round(lookup[lookup['product_title']==key]['avg_prod_stars'].mean(), 2)} average star rating\"\"\")\n",
    "        #print(recommender.loc[titles[0]].sort_values()[1:11]) #1st matching item will be itself so start at 2nd\n",
    "    else:\n",
    "        print(f'Here are the 10 recommended items for you based on your search EXCLUDING \"{wout}\": ')\n",
    "        wout = wout.title() #capitlize first letters\n",
    "        query_dict = dict(recommender.loc[q].sort_values())\n",
    "        filtered_query = [] #make empty list\n",
    "        for key, value in query_dict.items(): #index into dictionary of results\n",
    "            if wout not in key: #check if avoided keyword is in results\n",
    "                filtered_query.append((key, value)) #make list of results that DON'T include \"wout\" keyword\n",
    "        for item in filtered_query[1:11]:\n",
    "            print()\n",
    "            print(item[0])\n",
    "            print(f\"\"\"\n",
    "    This item has {round(lookup[lookup['product_title']==item[0]]['tot_prod_reviews'].mean())} reviews\n",
    "    and a {round(lookup[lookup['product_title']==item[0]]['avg_prod_stars'].mean(), 2)} average star rating\"\"\")\n",
    "        #print([item for item in filtered_query[1:11]])      #return top 10\n",
    "        \n",
    "except:\n",
    "    print(f'Sorry, \"{query}\" does not appear to be in the product database')\n",
    "#list of titles that contain given keyword\n",
    "#print('Here are the 10 recommended items for you based on your search parameters: ')\n",
    "#print(len(titles))\n",
    "#print(recommender.loc[titles[0],:].sort_values()[1:11]) #first matching item will be itself so start at second\n"
   ]
  },
  {
   "cell_type": "code",
   "execution_count": null,
   "metadata": {},
   "outputs": [],
   "source": []
  }
 ],
 "metadata": {
  "kernelspec": {
   "display_name": "Python 3",
   "language": "python",
   "name": "python3"
  },
  "language_info": {
   "codemirror_mode": {
    "name": "ipython",
    "version": 3
   },
   "file_extension": ".py",
   "mimetype": "text/x-python",
   "name": "python",
   "nbconvert_exporter": "python",
   "pygments_lexer": "ipython3",
   "version": "3.8.3"
  }
 },
 "nbformat": 4,
 "nbformat_minor": 4
}
