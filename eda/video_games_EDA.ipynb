{
 "cells": [
  {
   "cell_type": "code",
   "execution_count": 1,
   "metadata": {},
   "outputs": [],
   "source": [
    "#referred to lesson 9.05\n",
    "#https://stackoverflow.com/questions/61757170/python-unstacked-dataframe-is-too-big-causing-int32-overflow\n",
    "#https://stackoverflow.com/questions/28651079/pandas-unstack-problems-valueerror-index-contains-duplicate-entries-cannot-re#:~:text=The%20reason%20why%20you%20get%20ValueError%3A%20Index%20contains,%22%20date%20%22%20combinations%20are%20no%20longer%20unique.\n",
    "#https://stackoverflow.com/questions/43945653/python-pandas-return-dataframe-where-value-count-is-above-a-set-number\n",
    "#https://stackoverflow.com/questions/54822879/how-can-i-combine-multiple-sparse-and-dense-matrices-together\n",
    "#got help from Dan Wilhelm (GA) on creating sparse matrix\n",
    "#https://docs.scipy.org/doc/scipy/reference/generated/scipy.sparse.csr_matrix.html\n",
    "#https://stackoverflow.com/questions/17097643/search-for-does-not-contain-on-a-dataframe-in-pandas\n",
    "#https://pandas.pydata.org/pandas-docs/stable/user_guide/sparse.html\n",
    "#https://www.geeksforgeeks.org/python-ways-to-create-a-dictionary-of-lists/\n",
    "import pandas as pd\n",
    "import numpy as np\n",
    "from scipy import sparse\n",
    "from sklearn.metrics.pairwise import pairwise_distances, cosine_distances, cosine_similarity\n",
    "import utils as ut\n",
    "import sys"
   ]
  },
  {
   "cell_type": "code",
   "execution_count": 2,
   "metadata": {},
   "outputs": [],
   "source": [
    "df=pd.read_csv('./data/video_games.csv')"
   ]
  },
  {
   "cell_type": "code",
   "execution_count": 3,
   "metadata": {},
   "outputs": [],
   "source": [
    "#ut.make_recommender_df(vg_df)"
   ]
  },
  {
   "cell_type": "markdown",
   "metadata": {},
   "source": [
    "Again, I circled back to run the function I created over my dataframe after I was done (above), but the code below shows the process I followed to create it."
   ]
  },
  {
   "cell_type": "code",
   "execution_count": 4,
   "metadata": {},
   "outputs": [
    {
     "data": {
      "text/plain": [
       "customer_id           0\n",
       "review_id             0\n",
       "product_id            0\n",
       "product_parent        0\n",
       "product_title         0\n",
       "star_rating           0\n",
       "helpful_votes         0\n",
       "total_votes           0\n",
       "verified_purchase     0\n",
       "review_date           0\n",
       "full_review          47\n",
       "dtype: int64"
      ]
     },
     "execution_count": 4,
     "metadata": {},
     "output_type": "execute_result"
    }
   ],
   "source": [
    "df.isnull().sum()"
   ]
  },
  {
   "cell_type": "markdown",
   "metadata": {},
   "source": [
    "47 is an extremely small percentage of my overall data set; I'm good to drop these."
   ]
  },
  {
   "cell_type": "code",
   "execution_count": 5,
   "metadata": {},
   "outputs": [],
   "source": [
    "df.dropna(inplace=True)"
   ]
  },
  {
   "cell_type": "markdown",
   "metadata": {},
   "source": [
    "Don't want to forget to convert my review_date column to datetime format! Then I'll see how the whole thing looks."
   ]
  },
  {
   "cell_type": "code",
   "execution_count": 6,
   "metadata": {},
   "outputs": [],
   "source": [
    "df['review_date'] = pd.to_datetime(df['review_date'])"
   ]
  },
  {
   "cell_type": "code",
   "execution_count": 7,
   "metadata": {},
   "outputs": [
    {
     "data": {
      "text/html": [
       "<div>\n",
       "<style scoped>\n",
       "    .dataframe tbody tr th:only-of-type {\n",
       "        vertical-align: middle;\n",
       "    }\n",
       "\n",
       "    .dataframe tbody tr th {\n",
       "        vertical-align: top;\n",
       "    }\n",
       "\n",
       "    .dataframe thead th {\n",
       "        text-align: right;\n",
       "    }\n",
       "</style>\n",
       "<table border=\"1\" class=\"dataframe\">\n",
       "  <thead>\n",
       "    <tr style=\"text-align: right;\">\n",
       "      <th></th>\n",
       "      <th>customer_id</th>\n",
       "      <th>review_id</th>\n",
       "      <th>product_id</th>\n",
       "      <th>product_parent</th>\n",
       "      <th>product_title</th>\n",
       "      <th>star_rating</th>\n",
       "      <th>helpful_votes</th>\n",
       "      <th>total_votes</th>\n",
       "      <th>verified_purchase</th>\n",
       "      <th>review_date</th>\n",
       "      <th>full_review</th>\n",
       "    </tr>\n",
       "  </thead>\n",
       "  <tbody>\n",
       "    <tr>\n",
       "      <th>0</th>\n",
       "      <td>12039526</td>\n",
       "      <td>RTIS3L2M1F5SM</td>\n",
       "      <td>B001CXYMFS</td>\n",
       "      <td>737716809</td>\n",
       "      <td>Thrustmaster T-Flight Hotas X Flight Stick</td>\n",
       "      <td>5</td>\n",
       "      <td>0</td>\n",
       "      <td>0</td>\n",
       "      <td>1</td>\n",
       "      <td>2015-08-31</td>\n",
       "      <td>amazing joystick I especially love twist Used Elite Dangerous mac amazing joystick I especially love twist stick different movement binding well move normal way</td>\n",
       "    </tr>\n",
       "    <tr>\n",
       "      <th>1</th>\n",
       "      <td>2331478</td>\n",
       "      <td>R3BH071QLH8QMC</td>\n",
       "      <td>B0029CSOD2</td>\n",
       "      <td>98937668</td>\n",
       "      <td>Hidden Mysteries: Titanic Secrets of the Fateful Voyage</td>\n",
       "      <td>1</td>\n",
       "      <td>0</td>\n",
       "      <td>1</td>\n",
       "      <td>1</td>\n",
       "      <td>2015-08-31</td>\n",
       "      <td>One Star poor quality work advertised</td>\n",
       "    </tr>\n",
       "    <tr>\n",
       "      <th>2</th>\n",
       "      <td>52495923</td>\n",
       "      <td>R127K9NTSXA2YH</td>\n",
       "      <td>B00GOOSV98</td>\n",
       "      <td>23143350</td>\n",
       "      <td>GelTabz Performance Thumb Grips - PlayStation 4 and PlayStation 3</td>\n",
       "      <td>3</td>\n",
       "      <td>0</td>\n",
       "      <td>0</td>\n",
       "      <td>1</td>\n",
       "      <td>2015-08-31</td>\n",
       "      <td>good could bettee nice tend slip away stick intense hard pressed gaming session</td>\n",
       "    </tr>\n",
       "    <tr>\n",
       "      <th>3</th>\n",
       "      <td>14533949</td>\n",
       "      <td>R32ZWUXDJPW27Q</td>\n",
       "      <td>B00Y074JOM</td>\n",
       "      <td>821342511</td>\n",
       "      <td>Zero Suit Samus amiibo - Japan Import (Super Smash Bros Series)</td>\n",
       "      <td>4</td>\n",
       "      <td>0</td>\n",
       "      <td>0</td>\n",
       "      <td>1</td>\n",
       "      <td>2015-08-31</td>\n",
       "      <td>Great flawed Great amiibo great collecting Quality material desired since perfect</td>\n",
       "    </tr>\n",
       "    <tr>\n",
       "      <th>4</th>\n",
       "      <td>17521011</td>\n",
       "      <td>R2F0POU5K6F73F</td>\n",
       "      <td>B008XHCLFO</td>\n",
       "      <td>24234603</td>\n",
       "      <td>Protection for your 3DS XL</td>\n",
       "      <td>5</td>\n",
       "      <td>0</td>\n",
       "      <td>0</td>\n",
       "      <td>1</td>\n",
       "      <td>2015-08-31</td>\n",
       "      <td>A Must I 2012 2013 XL durable comfortable really cool looking</td>\n",
       "    </tr>\n",
       "  </tbody>\n",
       "</table>\n",
       "</div>"
      ],
      "text/plain": [
       "   customer_id       review_id  product_id  product_parent  \\\n",
       "0     12039526   RTIS3L2M1F5SM  B001CXYMFS       737716809   \n",
       "1      2331478  R3BH071QLH8QMC  B0029CSOD2        98937668   \n",
       "2     52495923  R127K9NTSXA2YH  B00GOOSV98        23143350   \n",
       "3     14533949  R32ZWUXDJPW27Q  B00Y074JOM       821342511   \n",
       "4     17521011  R2F0POU5K6F73F  B008XHCLFO        24234603   \n",
       "\n",
       "                                                       product_title  \\\n",
       "0                         Thrustmaster T-Flight Hotas X Flight Stick   \n",
       "1            Hidden Mysteries: Titanic Secrets of the Fateful Voyage   \n",
       "2  GelTabz Performance Thumb Grips - PlayStation 4 and PlayStation 3   \n",
       "3    Zero Suit Samus amiibo - Japan Import (Super Smash Bros Series)   \n",
       "4                                         Protection for your 3DS XL   \n",
       "\n",
       "   star_rating  helpful_votes  total_votes  verified_purchase review_date  \\\n",
       "0            5              0            0                  1  2015-08-31   \n",
       "1            1              0            1                  1  2015-08-31   \n",
       "2            3              0            0                  1  2015-08-31   \n",
       "3            4              0            0                  1  2015-08-31   \n",
       "4            5              0            0                  1  2015-08-31   \n",
       "\n",
       "                                                                                                                                                        full_review  \n",
       "0  amazing joystick I especially love twist Used Elite Dangerous mac amazing joystick I especially love twist stick different movement binding well move normal way  \n",
       "1                                                                                                                             One Star poor quality work advertised  \n",
       "2                                                                                   good could bettee nice tend slip away stick intense hard pressed gaming session  \n",
       "3                                                                                 Great flawed Great amiibo great collecting Quality material desired since perfect  \n",
       "4                                                                                                     A Must I 2012 2013 XL durable comfortable really cool looking  "
      ]
     },
     "execution_count": 7,
     "metadata": {},
     "output_type": "execute_result"
    }
   ],
   "source": [
    "df.head()"
   ]
  },
  {
   "cell_type": "code",
   "execution_count": 8,
   "metadata": {},
   "outputs": [
    {
     "data": {
      "text/plain": [
       "Index(['customer_id', 'review_id', 'product_id', 'product_parent',\n",
       "       'product_title', 'star_rating', 'helpful_votes', 'total_votes',\n",
       "       'verified_purchase', 'review_date', 'full_review'],\n",
       "      dtype='object')"
      ]
     },
     "execution_count": 8,
     "metadata": {},
     "output_type": "execute_result"
    }
   ],
   "source": [
    "df.columns"
   ]
  },
  {
   "cell_type": "markdown",
   "metadata": {},
   "source": [
    "I need to see if any customers wrote multiple reviews for the same product. That would throw an error in the pivot table."
   ]
  },
  {
   "cell_type": "code",
   "execution_count": 9,
   "metadata": {},
   "outputs": [
    {
     "data": {
      "text/plain": [
       "customer_id  product_id\n",
       "38142327     B00005NH6B    13\n",
       "43411792     B00000JRSB    13\n",
       "50763007     B0000AHOOJ    10\n",
       "25214010     B0000C4M22    10\n",
       "30995260     B00005BW6Z    10\n",
       "                           ..\n",
       "38010719     B000035Y6N     1\n",
       "38010773     B001C91H4G     1\n",
       "             B001DL8PES     1\n",
       "38010873     B0083RDT8C     1\n",
       "10018        B006VE40JQ     1\n",
       "Name: product_id, Length: 1641949, dtype: int64"
      ]
     },
     "execution_count": 9,
     "metadata": {},
     "output_type": "execute_result"
    }
   ],
   "source": [
    "df.groupby('customer_id')['product_id'].value_counts().sort_values(ascending=False)"
   ]
  },
  {
   "cell_type": "markdown",
   "metadata": {},
   "source": [
    "Hm... for example, customer 38142327 wrote 13 reviews for product B00005NH6B... what do those reviews look like?"
   ]
  },
  {
   "cell_type": "code",
   "execution_count": 10,
   "metadata": {},
   "outputs": [
    {
     "data": {
      "text/html": [
       "<div>\n",
       "<style scoped>\n",
       "    .dataframe tbody tr th:only-of-type {\n",
       "        vertical-align: middle;\n",
       "    }\n",
       "\n",
       "    .dataframe tbody tr th {\n",
       "        vertical-align: top;\n",
       "    }\n",
       "\n",
       "    .dataframe thead th {\n",
       "        text-align: right;\n",
       "    }\n",
       "</style>\n",
       "<table border=\"1\" class=\"dataframe\">\n",
       "  <thead>\n",
       "    <tr style=\"text-align: right;\">\n",
       "      <th></th>\n",
       "      <th>customer_id</th>\n",
       "      <th>review_id</th>\n",
       "      <th>product_id</th>\n",
       "      <th>product_parent</th>\n",
       "      <th>product_title</th>\n",
       "      <th>star_rating</th>\n",
       "      <th>helpful_votes</th>\n",
       "      <th>total_votes</th>\n",
       "      <th>verified_purchase</th>\n",
       "      <th>review_date</th>\n",
       "      <th>full_review</th>\n",
       "    </tr>\n",
       "  </thead>\n",
       "  <tbody>\n",
       "    <tr>\n",
       "      <th>1571527</th>\n",
       "      <td>38142327</td>\n",
       "      <td>R3NY8KHMR5X2KP</td>\n",
       "      <td>B00005NH6B</td>\n",
       "      <td>199086987</td>\n",
       "      <td>Batman Vengeance</td>\n",
       "      <td>1</td>\n",
       "      <td>1</td>\n",
       "      <td>2</td>\n",
       "      <td>0</td>\n",
       "      <td>2002-06-29</td>\n",
       "      <td>Pitiful I huge Batman fan Anything Batman bet I watch So I heard game I wa excited I actually bought PS2 mostly I could play game I thought game would cool boy wa I wrong It I like dark control supposed dark control work perfectly good control But basically game wa boring It wa really really boring And think one second use BatGrapple anytime want Another thing I hate Robin would made game flaw better would made interesting I mean good guy Batman Batgirl Now isnt messed I know I mean Robin Nightwing Wheres Catwoman She one classic villain And villain cartoon They got Joker Girlfriend Dr Freeze Poison Ivy They pitiful job Joker Dr Freeze face Dr Freeze eye look nothing like I mean classic character besides Batman Joker br Gameplay bad Its messed They make Batman seem weak For instance fall building way save Why make bad know could make cool Graphics detail good make gameplay better Another thing I like cuff junk I mean seriously guy Everytime run cuff henchman keep coming back And slow react movement And Batman style This game almost make hate Batman want go running Superman game PS2 coming September Man I played better Batman game cartoonnetwork com I love Batman much crushed see messed game wa Take advice Batman fan get game And Batman fan still get game I traded cousin game Scooby Doo one And seemed like best game ever I got playing Batman Vengeance Overall worst game based best comic</td>\n",
       "    </tr>\n",
       "    <tr>\n",
       "      <th>1572890</th>\n",
       "      <td>38142327</td>\n",
       "      <td>R2U1NNLJS8OHHQ</td>\n",
       "      <td>B00005NH6B</td>\n",
       "      <td>199086987</td>\n",
       "      <td>Batman Vengeance</td>\n",
       "      <td>5</td>\n",
       "      <td>0</td>\n",
       "      <td>1</td>\n",
       "      <td>0</td>\n",
       "      <td>2002-06-17</td>\n",
       "      <td>Batman come alooong way From 1930 new millenium Batman ha nothing outstanding All way Batman still continues appear screen new adventure Batman Beyond Justice League e c And hit today finest gaming quality since Gameboy Advance PS2 It seems Batman actually hold Superman The greatest 1st Superhero ever invented Batman wa one superheroes made cape one first thing cross mind hear word quot Superhero quot And Superhero finally get big break PS2 worst classical enimies And character game dedicated game ha fine quality real gamer ask If miss game truly sorry The flaw game control pretty hard beginner Other game absolutely full proof</td>\n",
       "    </tr>\n",
       "    <tr>\n",
       "      <th>1572901</th>\n",
       "      <td>38142327</td>\n",
       "      <td>R122RU8UP19R4T</td>\n",
       "      <td>B00005NH6B</td>\n",
       "      <td>199086987</td>\n",
       "      <td>Batman Vengeance</td>\n",
       "      <td>5</td>\n",
       "      <td>0</td>\n",
       "      <td>0</td>\n",
       "      <td>0</td>\n",
       "      <td>2002-06-17</td>\n",
       "      <td>FUN FOR FAMILY If like playing game family special occasion like birthday Father Day Christmas e c perfect game Parents love remembering Batman old fight playing time kid love new animated series PERFECT CHRISTMAS GIFT Make sure one PS2 list</td>\n",
       "    </tr>\n",
       "    <tr>\n",
       "      <th>1572912</th>\n",
       "      <td>38142327</td>\n",
       "      <td>R22Z951P3JMRBQ</td>\n",
       "      <td>B00005NH6B</td>\n",
       "      <td>199086987</td>\n",
       "      <td>Batman Vengeance</td>\n",
       "      <td>5</td>\n",
       "      <td>0</td>\n",
       "      <td>0</td>\n",
       "      <td>0</td>\n",
       "      <td>2002-06-17</td>\n",
       "      <td>Best game hit store There isnt superhero like DC Comics superhero Runner beside Superman Batman still hold And duo ha new show Justice League And Batmans hit PlayStation2 br Now ABOUT game Sony PlayStation2 The ONE AND ONLY PROBLEM game hard But quality game surely make Amazing graphic look like watching Batman The Animated Series DVD Fun age Good gameplay PERFECT storyline Trust miss game</td>\n",
       "    </tr>\n",
       "    <tr>\n",
       "      <th>1572927</th>\n",
       "      <td>38142327</td>\n",
       "      <td>R2RCRESG64DH7D</td>\n",
       "      <td>B00005NH6B</td>\n",
       "      <td>199086987</td>\n",
       "      <td>Batman Vengeance</td>\n",
       "      <td>5</td>\n",
       "      <td>1</td>\n",
       "      <td>1</td>\n",
       "      <td>0</td>\n",
       "      <td>2002-06-17</td>\n",
       "      <td>Fairly good game kid 12 First I would like say please stop reviewing game never played life make look bad This game ha great graphic great storyline Absolutely positively good age 12 kid enjoy battling night kinda stuff However kid 10 probably find difficult confusing game control hard If like Tenchu love After beating game game lose Grown ups find game family fun well Isn one popular game year overwhelmingly amazing Be dark knight superhero DC Comics 1 Comic writer America creator Superman</td>\n",
       "    </tr>\n",
       "    <tr>\n",
       "      <th>1572929</th>\n",
       "      <td>38142327</td>\n",
       "      <td>RHMREFYJF0IWP</td>\n",
       "      <td>B00005NH6B</td>\n",
       "      <td>199086987</td>\n",
       "      <td>Batman Vengeance</td>\n",
       "      <td>4</td>\n",
       "      <td>0</td>\n",
       "      <td>2</td>\n",
       "      <td>0</td>\n",
       "      <td>2002-06-17</td>\n",
       "      <td>WHATCHA LOOKIN AT WAAAAAAAAAAAAAAAAAAAAAAAAAAAAAAAAAAAAAAAAAH WAAAAAAAAAAAAAAAAAAAAAAAAAAAAAAAAAAAAAAAAAAAAAAAAAAAAAAAAAAAAAH WAAAAAAAAAAAAAAAAAAAAAAAAAAAAAAAAAAAAAAAAAAAAAAAAAAAAAAAAAAAAAAAAAAAAAAAAAAAAAAAAAAAAAAAAAH Why cry ask sniffle cat farted blew house poor Oh yeah batman vengeance best according vibe magazine well gotta go floss cat</td>\n",
       "    </tr>\n",
       "    <tr>\n",
       "      <th>1572933</th>\n",
       "      <td>38142327</td>\n",
       "      <td>R1TZYG1TID6GE6</td>\n",
       "      <td>B00005NH6B</td>\n",
       "      <td>199086987</td>\n",
       "      <td>Batman Vengeance</td>\n",
       "      <td>4</td>\n",
       "      <td>1</td>\n",
       "      <td>2</td>\n",
       "      <td>0</td>\n",
       "      <td>2002-06-17</td>\n",
       "      <td>ha spider man beat I really dont feel like writing long page stuff bare line better spider man movie game The thing Spidey got Batman beat movie movie spider man wa great short period time I mean Spider man long forgotten next 5 year Star Wars Episode 2 knocked long I mean spider man trying avoid drowning getting sliced giant fan getting electricuted fighting marvel game goodness sake Now see wa superman bend slicing fan lift crashing plane Spider man weak</td>\n",
       "    </tr>\n",
       "    <tr>\n",
       "      <th>1572935</th>\n",
       "      <td>38142327</td>\n",
       "      <td>R1QDQSKQ7XJPLI</td>\n",
       "      <td>B00005NH6B</td>\n",
       "      <td>199086987</td>\n",
       "      <td>Batman Vengeance</td>\n",
       "      <td>5</td>\n",
       "      <td>0</td>\n",
       "      <td>1</td>\n",
       "      <td>0</td>\n",
       "      <td>2002-06-17</td>\n",
       "      <td>You sorry miss UBI Soft best Good work Warner Brothers</td>\n",
       "    </tr>\n",
       "    <tr>\n",
       "      <th>1572936</th>\n",
       "      <td>38142327</td>\n",
       "      <td>R2RI3Y4DAWBISL</td>\n",
       "      <td>B00005NH6B</td>\n",
       "      <td>199086987</td>\n",
       "      <td>Batman Vengeance</td>\n",
       "      <td>5</td>\n",
       "      <td>1</td>\n",
       "      <td>2</td>\n",
       "      <td>0</td>\n",
       "      <td>2002-06-17</td>\n",
       "      <td>Best yet If PS2 nice fun game get It pass time And ha quality game need Most reviewer complain hard hard use control stuff OF COURSE ITS HARD THIS IS BATMAN NOT SPIDER MAN EVERY THING YOU DO IN THIS GAME WONT BE AS SIMPLE AS AVOIDING DROIDS AND AND SISSY stuff Okay get Overall one best game year give ability Gotham City dark hero This one miss Its flaw little confusing every exactly going pick flower I sick tired people saying hard I MEAN HELLO THIS ISN T A BABY GAME SOME THINGS WILL BE HARD IF YOU WANT A BABY GAME THEN GO RENT BARNEY ADVENTURES OR SOMETHING people think going win everything first 5 minute</td>\n",
       "    </tr>\n",
       "    <tr>\n",
       "      <th>1572979</th>\n",
       "      <td>38142327</td>\n",
       "      <td>RVES7ZUE7F43B</td>\n",
       "      <td>B00005NH6B</td>\n",
       "      <td>199086987</td>\n",
       "      <td>Batman Vengeance</td>\n",
       "      <td>4</td>\n",
       "      <td>0</td>\n",
       "      <td>0</td>\n",
       "      <td>0</td>\n",
       "      <td>2002-06-17</td>\n",
       "      <td>One DC Comic greatest superheroes finally go PS2 I prefer Wonderwoman actually guess Superman Batman okay Superman Wonderwoman Batman leader new Justice League Okay game cool It one best Superhero game made Its almost like Batman world stare TV long And seriously mean But I recomend kid 10 clue I wish Batmans ally like Superman Wonderwoman would schway</td>\n",
       "    </tr>\n",
       "    <tr>\n",
       "      <th>1572980</th>\n",
       "      <td>38142327</td>\n",
       "      <td>R2AN652064BA96</td>\n",
       "      <td>B00005NH6B</td>\n",
       "      <td>199086987</td>\n",
       "      <td>Batman Vengeance</td>\n",
       "      <td>5</td>\n",
       "      <td>1</td>\n",
       "      <td>1</td>\n",
       "      <td>0</td>\n",
       "      <td>2002-06-17</td>\n",
       "      <td>MAKES PS2 THE BEST GAME CONSOLE Cool game Cool graphic Cool weapon awesome storyline Nice game play family battle parent might remember Why Spider Man The Movie Game good</td>\n",
       "    </tr>\n",
       "    <tr>\n",
       "      <th>1572983</th>\n",
       "      <td>38142327</td>\n",
       "      <td>R1MMLLRVDR3XS5</td>\n",
       "      <td>B00005NH6B</td>\n",
       "      <td>199086987</td>\n",
       "      <td>Batman Vengeance</td>\n",
       "      <td>5</td>\n",
       "      <td>0</td>\n",
       "      <td>0</td>\n",
       "      <td>0</td>\n",
       "      <td>2002-06-17</td>\n",
       "      <td>ONE NOT TO MISS ABSOLUTELY NOTHING BUT FUN PERFECT GRAPHICS JUST LIKE BATMAN THE ANIMATE SERIES ONLY BETTER RIDE IN THE BATMOBILE GO TOE TO TOE WITH JOKER AND WITH THE AID OF BATGIRL BY YOUR SIDE ITS SO REAL ITS ALMOST AS IF YOU ARE BATMAN HOWEVER SOMETIMES YOU GET REALLY FRUSTRATED WHEN LOSING BUT ITS AVERAGE DIFFICULTY NOT TOO HARD AND NOT TOO EASY AND ITS SO LIFE LIKE HE EVEN HAS AN A I CAPE GREAT GAME FOR PEOPLE WHO LOVE FIGHTING AND ACTION HE IS THE DARKNESS HE IS THE NIGHT HE IS BATMAN THE WAY HE WALKS EVEN LOOKS REAL NOT ONE TO MISS TRUST ME ONCE YOU RENT IT A DAY LATER YOU LL BE BUYING IT</td>\n",
       "    </tr>\n",
       "    <tr>\n",
       "      <th>1573111</th>\n",
       "      <td>38142327</td>\n",
       "      <td>R32VTLFJ3E67H6</td>\n",
       "      <td>B00005NH6B</td>\n",
       "      <td>199086987</td>\n",
       "      <td>Batman Vengeance</td>\n",
       "      <td>5</td>\n",
       "      <td>4</td>\n",
       "      <td>4</td>\n",
       "      <td>0</td>\n",
       "      <td>2002-06-16</td>\n",
       "      <td>Best Super Hero Game PS2 console I mean game absolutely awesome Don fooled review say bad gamers If real gamer game I glad I bought instead Spider Man What really make mad Spider Man cool yet make game pathetic Unfortunately Spider Man game ha alot problem seeing Spider Man different angle sometimes But Batman Vengeance free flaw But seriously people raw action Its hard figuring sometimes though But one game hard easy either It one game challenged get cheat The bad thing thats 2 thing Batman ha beat Spidey cartoon game And another good thing movie clip way 3 D Spider Man Games trouble deciding I mean come movie clip Marvel game people big deformed shaped blob hand UBI Soft way detailed And love cartoon Batman involved Justice League Batman Beyond absolutely love regardless anyone tell The flaw game control sort hard get used become good game hard control even better game easy control</td>\n",
       "    </tr>\n",
       "  </tbody>\n",
       "</table>\n",
       "</div>"
      ],
      "text/plain": [
       "         customer_id       review_id  product_id  product_parent  \\\n",
       "1571527     38142327  R3NY8KHMR5X2KP  B00005NH6B       199086987   \n",
       "1572890     38142327  R2U1NNLJS8OHHQ  B00005NH6B       199086987   \n",
       "1572901     38142327  R122RU8UP19R4T  B00005NH6B       199086987   \n",
       "1572912     38142327  R22Z951P3JMRBQ  B00005NH6B       199086987   \n",
       "1572927     38142327  R2RCRESG64DH7D  B00005NH6B       199086987   \n",
       "1572929     38142327   RHMREFYJF0IWP  B00005NH6B       199086987   \n",
       "1572933     38142327  R1TZYG1TID6GE6  B00005NH6B       199086987   \n",
       "1572935     38142327  R1QDQSKQ7XJPLI  B00005NH6B       199086987   \n",
       "1572936     38142327  R2RI3Y4DAWBISL  B00005NH6B       199086987   \n",
       "1572979     38142327   RVES7ZUE7F43B  B00005NH6B       199086987   \n",
       "1572980     38142327  R2AN652064BA96  B00005NH6B       199086987   \n",
       "1572983     38142327  R1MMLLRVDR3XS5  B00005NH6B       199086987   \n",
       "1573111     38142327  R32VTLFJ3E67H6  B00005NH6B       199086987   \n",
       "\n",
       "            product_title  star_rating  helpful_votes  total_votes  \\\n",
       "1571527  Batman Vengeance            1              1            2   \n",
       "1572890  Batman Vengeance            5              0            1   \n",
       "1572901  Batman Vengeance            5              0            0   \n",
       "1572912  Batman Vengeance            5              0            0   \n",
       "1572927  Batman Vengeance            5              1            1   \n",
       "1572929  Batman Vengeance            4              0            2   \n",
       "1572933  Batman Vengeance            4              1            2   \n",
       "1572935  Batman Vengeance            5              0            1   \n",
       "1572936  Batman Vengeance            5              1            2   \n",
       "1572979  Batman Vengeance            4              0            0   \n",
       "1572980  Batman Vengeance            5              1            1   \n",
       "1572983  Batman Vengeance            5              0            0   \n",
       "1573111  Batman Vengeance            5              4            4   \n",
       "\n",
       "         verified_purchase review_date  \\\n",
       "1571527                  0  2002-06-29   \n",
       "1572890                  0  2002-06-17   \n",
       "1572901                  0  2002-06-17   \n",
       "1572912                  0  2002-06-17   \n",
       "1572927                  0  2002-06-17   \n",
       "1572929                  0  2002-06-17   \n",
       "1572933                  0  2002-06-17   \n",
       "1572935                  0  2002-06-17   \n",
       "1572936                  0  2002-06-17   \n",
       "1572979                  0  2002-06-17   \n",
       "1572980                  0  2002-06-17   \n",
       "1572983                  0  2002-06-17   \n",
       "1573111                  0  2002-06-16   \n",
       "\n",
       "                                                                                                                                                                                                                                                                                                                                                                                                                                                                                                                                                                                                                                                                                                                                                                                                                                                                                                                                                                                                                                                                                                                                                                                                                                                                                                                                                                                                                                                              full_review  \n",
       "1571527  Pitiful I huge Batman fan Anything Batman bet I watch So I heard game I wa excited I actually bought PS2 mostly I could play game I thought game would cool boy wa I wrong It I like dark control supposed dark control work perfectly good control But basically game wa boring It wa really really boring And think one second use BatGrapple anytime want Another thing I hate Robin would made game flaw better would made interesting I mean good guy Batman Batgirl Now isnt messed I know I mean Robin Nightwing Wheres Catwoman She one classic villain And villain cartoon They got Joker Girlfriend Dr Freeze Poison Ivy They pitiful job Joker Dr Freeze face Dr Freeze eye look nothing like I mean classic character besides Batman Joker br Gameplay bad Its messed They make Batman seem weak For instance fall building way save Why make bad know could make cool Graphics detail good make gameplay better Another thing I like cuff junk I mean seriously guy Everytime run cuff henchman keep coming back And slow react movement And Batman style This game almost make hate Batman want go running Superman game PS2 coming September Man I played better Batman game cartoonnetwork com I love Batman much crushed see messed game wa Take advice Batman fan get game And Batman fan still get game I traded cousin game Scooby Doo one And seemed like best game ever I got playing Batman Vengeance Overall worst game based best comic  \n",
       "1572890                                                                                                                                                                                                                                                                                                                                                                                                                                                                                                                                                                                                                                                                                                                                                                                                        Batman come alooong way From 1930 new millenium Batman ha nothing outstanding All way Batman still continues appear screen new adventure Batman Beyond Justice League e c And hit today finest gaming quality since Gameboy Advance PS2 It seems Batman actually hold Superman The greatest 1st Superhero ever invented Batman wa one superheroes made cape one first thing cross mind hear word quot Superhero quot And Superhero finally get big break PS2 worst classical enimies And character game dedicated game ha fine quality real gamer ask If miss game truly sorry The flaw game control pretty hard beginner Other game absolutely full proof  \n",
       "1572901                                                                                                                                                                                                                                                                                                                                                                                                                                                                                                                                                                                                                                                                                                                                                                                                                                                                                                                                                                                                                                                                                                                                                                                                                 FUN FOR FAMILY If like playing game family special occasion like birthday Father Day Christmas e c perfect game Parents love remembering Batman old fight playing time kid love new animated series PERFECT CHRISTMAS GIFT Make sure one PS2 list  \n",
       "1572912                                                                                                                                                                                                                                                                                                                                                                                                                                                                                                                                                                                                                                                                                                                                                                                                                                                                                                                                                                                                                                                          Best game hit store There isnt superhero like DC Comics superhero Runner beside Superman Batman still hold And duo ha new show Justice League And Batmans hit PlayStation2 br Now ABOUT game Sony PlayStation2 The ONE AND ONLY PROBLEM game hard But quality game surely make Amazing graphic look like watching Batman The Animated Series DVD Fun age Good gameplay PERFECT storyline Trust miss game  \n",
       "1572927                                                                                                                                                                                                                                                                                                                                                                                                                                                                                                                                                                                                                                                                                                                                                                                                                                                                                                                                                   Fairly good game kid 12 First I would like say please stop reviewing game never played life make look bad This game ha great graphic great storyline Absolutely positively good age 12 kid enjoy battling night kinda stuff However kid 10 probably find difficult confusing game control hard If like Tenchu love After beating game game lose Grown ups find game family fun well Isn one popular game year overwhelmingly amazing Be dark knight superhero DC Comics 1 Comic writer America creator Superman  \n",
       "1572929                                                                                                                                                                                                                                                                                                                                                                                                                                                                                                                                                                                                                                                                                                                                                                                                                                                                                                                                                                                                                                                                                                            WHATCHA LOOKIN AT WAAAAAAAAAAAAAAAAAAAAAAAAAAAAAAAAAAAAAAAAAH WAAAAAAAAAAAAAAAAAAAAAAAAAAAAAAAAAAAAAAAAAAAAAAAAAAAAAAAAAAAAAH WAAAAAAAAAAAAAAAAAAAAAAAAAAAAAAAAAAAAAAAAAAAAAAAAAAAAAAAAAAAAAAAAAAAAAAAAAAAAAAAAAAAAAAAAAH Why cry ask sniffle cat farted blew house poor Oh yeah batman vengeance best according vibe magazine well gotta go floss cat  \n",
       "1572933                                                                                                                                                                                                                                                                                                                                                                                                                                                                                                                                                                                                                                                                                                                                                                                                                                                                                                                                                                                      ha spider man beat I really dont feel like writing long page stuff bare line better spider man movie game The thing Spidey got Batman beat movie movie spider man wa great short period time I mean Spider man long forgotten next 5 year Star Wars Episode 2 knocked long I mean spider man trying avoid drowning getting sliced giant fan getting electricuted fighting marvel game goodness sake Now see wa superman bend slicing fan lift crashing plane Spider man weak  \n",
       "1572935                                                                                                                                                                                                                                                                                                                                                                                                                                                                                                                                                                                                                                                                                                                                                                                                                                                                                                                                                                                                                                                                                                                                                                                                                                                                                                                                                                                                            You sorry miss UBI Soft best Good work Warner Brothers  \n",
       "1572936                                                                                                                                                                                                                                                                                                                                                                                                                                                                                                                                                                                                                                                                                                                                                                                                                             Best yet If PS2 nice fun game get It pass time And ha quality game need Most reviewer complain hard hard use control stuff OF COURSE ITS HARD THIS IS BATMAN NOT SPIDER MAN EVERY THING YOU DO IN THIS GAME WONT BE AS SIMPLE AS AVOIDING DROIDS AND AND SISSY stuff Okay get Overall one best game year give ability Gotham City dark hero This one miss Its flaw little confusing every exactly going pick flower I sick tired people saying hard I MEAN HELLO THIS ISN T A BABY GAME SOME THINGS WILL BE HARD IF YOU WANT A BABY GAME THEN GO RENT BARNEY ADVENTURES OR SOMETHING people think going win everything first 5 minute  \n",
       "1572979                                                                                                                                                                                                                                                                                                                                                                                                                                                                                                                                                                                                                                                                                                                                                                                                                                                                                                                                                                                                                                                                                                One DC Comic greatest superheroes finally go PS2 I prefer Wonderwoman actually guess Superman Batman okay Superman Wonderwoman Batman leader new Justice League Okay game cool It one best Superhero game made Its almost like Batman world stare TV long And seriously mean But I recomend kid 10 clue I wish Batmans ally like Superman Wonderwoman would schway  \n",
       "1572980                                                                                                                                                                                                                                                                                                                                                                                                                                                                                                                                                                                                                                                                                                                                                                                                                                                                                                                                                                                                                                                                                                                                                                                                                                                                                        MAKES PS2 THE BEST GAME CONSOLE Cool game Cool graphic Cool weapon awesome storyline Nice game play family battle parent might remember Why Spider Man The Movie Game good  \n",
       "1572983                                                                                                                                                                                                                                                                                                                                                                                                                                                                                                                                                                                                                                                                                                                                                                                                                                       ONE NOT TO MISS ABSOLUTELY NOTHING BUT FUN PERFECT GRAPHICS JUST LIKE BATMAN THE ANIMATE SERIES ONLY BETTER RIDE IN THE BATMOBILE GO TOE TO TOE WITH JOKER AND WITH THE AID OF BATGIRL BY YOUR SIDE ITS SO REAL ITS ALMOST AS IF YOU ARE BATMAN HOWEVER SOMETIMES YOU GET REALLY FRUSTRATED WHEN LOSING BUT ITS AVERAGE DIFFICULTY NOT TOO HARD AND NOT TOO EASY AND ITS SO LIFE LIKE HE EVEN HAS AN A I CAPE GREAT GAME FOR PEOPLE WHO LOVE FIGHTING AND ACTION HE IS THE DARKNESS HE IS THE NIGHT HE IS BATMAN THE WAY HE WALKS EVEN LOOKS REAL NOT ONE TO MISS TRUST ME ONCE YOU RENT IT A DAY LATER YOU LL BE BUYING IT  \n",
       "1573111                                                                                                                                                                                                                                                                                                                                                                                                                                                                                                                                  Best Super Hero Game PS2 console I mean game absolutely awesome Don fooled review say bad gamers If real gamer game I glad I bought instead Spider Man What really make mad Spider Man cool yet make game pathetic Unfortunately Spider Man game ha alot problem seeing Spider Man different angle sometimes But Batman Vengeance free flaw But seriously people raw action Its hard figuring sometimes though But one game hard easy either It one game challenged get cheat The bad thing thats 2 thing Batman ha beat Spidey cartoon game And another good thing movie clip way 3 D Spider Man Games trouble deciding I mean come movie clip Marvel game people big deformed shaped blob hand UBI Soft way detailed And love cartoon Batman involved Justice League Batman Beyond absolutely love regardless anyone tell The flaw game control sort hard get used become good game hard control even better game easy control  "
      ]
     },
     "execution_count": 10,
     "metadata": {},
     "output_type": "execute_result"
    }
   ],
   "source": [
    "df.loc[(df['product_id']=='B00005NH6B') & (df['customer_id']==38142327)]"
   ]
  },
  {
   "cell_type": "markdown",
   "metadata": {},
   "source": [
    "So this person made 13 reviews for the same item, rating 4 or 5 stars EXCEPT for the most recent one (6/29) which was 1 star. Perhaps the ending was disappointing?"
   ]
  },
  {
   "cell_type": "code",
   "execution_count": 11,
   "metadata": {},
   "outputs": [],
   "source": [
    "review_bools = df.groupby('customer_id')['product_id'].value_counts()>1\n",
    "#T/F if more than 1 review for same product"
   ]
  },
  {
   "cell_type": "code",
   "execution_count": 12,
   "metadata": {},
   "outputs": [
    {
     "data": {
      "text/plain": [
       "5309"
      ]
     },
     "execution_count": 12,
     "metadata": {},
     "output_type": "execute_result"
    }
   ],
   "source": [
    "review_bools[review_bools==True].count()"
   ]
  },
  {
   "cell_type": "markdown",
   "metadata": {},
   "source": [
    "Okay, based on this there are 5,309 customers with at least 2 reviews for the same product.  \n",
    "\n",
    "I could try to get the most recent review for each customer based on date. It's likely reasonable to assume that their latest review is probably the one that best reflects their final sentiment about the product. Unfortunately, because I don't have precise timestamps, if they wrote two reviews on the same day, I can't know which was their last word on the product. Other options would be to average all of their reviews' star values or to simply drop them, as they're a fairly small proportion of the overall set."
   ]
  },
  {
   "cell_type": "code",
   "execution_count": 13,
   "metadata": {},
   "outputs": [
    {
     "data": {
      "text/plain": [
       "[{198273: 'B00DNGQQUQ'},\n",
       " {224068: 'B0049LAVB4'},\n",
       " {815919: 'B0000TSR4C'},\n",
       " {884129: 'B000WMEEB2'},\n",
       " {884129: 'B00ERDGMT4'}]"
      ]
     },
     "execution_count": 13,
     "metadata": {},
     "output_type": "execute_result"
    }
   ],
   "source": [
    "xtra_rev_cs = []\n",
    "for key, value in dict(review_bools[review_bools==True]).items():\n",
    "    xtra_rev_cs.append({key[0]:key[1]}) #return customer id and product id ONLY\n",
    "#list of customer id numbers for those with more than 1 review for same item\n",
    "xtra_rev_cs[:5]  #preview"
   ]
  },
  {
   "cell_type": "code",
   "execution_count": 14,
   "metadata": {},
   "outputs": [
    {
     "data": {
      "text/plain": [
       "Int64Index([1572890, 1572901, 1572912, 1572927, 1572929, 1572933, 1572935,\n",
       "            1572936, 1572979, 1572980, 1572983, 1573111],\n",
       "           dtype='int64')"
      ]
     },
     "execution_count": 14,
     "metadata": {},
     "output_type": "execute_result"
    }
   ],
   "source": [
    "df[(df['customer_id'] == 38142327) & \n",
    "   (df['product_id']=='B00005NH6B')].sort_values(\n",
    "    by='review_date', ascending=False).index[1:] #test"
   ]
  },
  {
   "cell_type": "markdown",
   "metadata": {},
   "source": [
    "Okay - with the above code in conjunction with the xtra_rev_cs dictionary, I can filter the dataframe by customer_id and product_id to isolate the rows that pertain to a single product reviewed mutliple times by the same user, and then order it by date where the most recent date will be on top. While this does open the possibility that two reviews with the same date may be conflated as far as which ACTUALLY came first, the examples I've previewed in this situation are typically duplicates (i.e. someone submitted the same review twice). In that circumstance, either review is equally valid to keep.  \n",
    "\n",
    "The next step is to loop through my xtra_rev_cs dictionary and create a list of all the indexes EXCEPT the most recent one. I'll drop those others, and be left with one review per person per item."
   ]
  },
  {
   "cell_type": "code",
   "execution_count": 15,
   "metadata": {},
   "outputs": [
    {
     "data": {
      "text/plain": [
       "[Int64Index([26651], dtype='int64'),\n",
       " Int64Index([70501], dtype='int64'),\n",
       " Int64Index([90766], dtype='int64'),\n",
       " Int64Index([422385], dtype='int64'),\n",
       " Int64Index([421883], dtype='int64')]"
      ]
     },
     "execution_count": 15,
     "metadata": {},
     "output_type": "execute_result"
    }
   ],
   "source": [
    "rev_indexes_to_drop = []\n",
    "for pair in xtra_rev_cs:\n",
    "    for key, value in pair.items():\n",
    "        rev_indexes_to_drop.append(  #add index numbers to the empty list\n",
    "        df[(df['customer_id'] == key) &    #where customer id is the key from xtra_rev_cs...\n",
    "       (df['product_id']==value)].sort_values( #and product id is the value from xtra_rev_cs\n",
    "        by='review_date', ascending=False).index[1:] #starting with the SECOND index number\n",
    "        )\n",
    "rev_indexes_to_drop[:5] #preview"
   ]
  },
  {
   "cell_type": "code",
   "execution_count": 16,
   "metadata": {},
   "outputs": [
    {
     "data": {
      "text/plain": [
       "26651"
      ]
     },
     "execution_count": 16,
     "metadata": {},
     "output_type": "execute_result"
    }
   ],
   "source": [
    "rev_indexes_to_drop[0][0] #test"
   ]
  },
  {
   "cell_type": "code",
   "execution_count": 17,
   "metadata": {},
   "outputs": [
    {
     "data": {
      "text/plain": [
       "[26651, 70501, 90766, 422385, 421883]"
      ]
     },
     "execution_count": 17,
     "metadata": {},
     "output_type": "execute_result"
    }
   ],
   "source": [
    "ritd_2 = []\n",
    "for n in rev_indexes_to_drop:\n",
    "    for k in n:\n",
    "        ritd_2.append(k)\n",
    "ritd_2[:5] #preview"
   ]
  },
  {
   "cell_type": "code",
   "execution_count": 18,
   "metadata": {},
   "outputs": [
    {
     "data": {
      "text/plain": [
       "6140"
      ]
     },
     "execution_count": 18,
     "metadata": {},
     "output_type": "execute_result"
    }
   ],
   "source": [
    "len(ritd_2) #6140 rows of duplicate reviews to be dropped"
   ]
  },
  {
   "cell_type": "code",
   "execution_count": 19,
   "metadata": {},
   "outputs": [
    {
     "data": {
      "text/plain": [
       "customer_id  product_id\n",
       "53096565     B00006599W    1\n",
       "17664004     B000U5RRX8    1\n",
       "17663554     B000SH3XGS    1\n",
       "17663609     B002TK1PX0    1\n",
       "17663621     B00E20STAW    1\n",
       "                          ..\n",
       "38073024     B0088MVOES    1\n",
       "38073066     B006VB2UNM    1\n",
       "38073092     B007P6Y684    1\n",
       "             B00A9ZHWH0    1\n",
       "10018        B006VE40JQ    1\n",
       "Name: product_id, Length: 1641949, dtype: int64"
      ]
     },
     "execution_count": 19,
     "metadata": {},
     "output_type": "execute_result"
    }
   ],
   "source": [
    "df.drop(index=ritd_2, inplace=True) #drop all index numbers in list ritd_2\n",
    "df.groupby('customer_id')['product_id'].value_counts().sort_values(ascending=False) #check if gone"
   ]
  },
  {
   "cell_type": "code",
   "execution_count": 20,
   "metadata": {},
   "outputs": [],
   "source": [
    "df2 = df[['customer_id', 'product_id', 'product_title', 'star_rating']].copy()"
   ]
  },
  {
   "cell_type": "code",
   "execution_count": 21,
   "metadata": {},
   "outputs": [],
   "source": [
    "#pivot = pd.pivot_table(df2, index='product_title', columns='customer_id', values='star_rating')"
   ]
  },
  {
   "cell_type": "markdown",
   "metadata": {},
   "source": [
    "My first attempt at making a pivot table from this data failed because the created dataframe is too big. I'll have to do it in chunks."
   ]
  },
  {
   "cell_type": "code",
   "execution_count": 22,
   "metadata": {},
   "outputs": [],
   "source": [
    "#got help from Dan Wilhelm on creating sparse matrix"
   ]
  },
  {
   "cell_type": "code",
   "execution_count": 23,
   "metadata": {},
   "outputs": [
    {
     "data": {
      "text/plain": [
       "(1641949, 4)"
      ]
     },
     "execution_count": 23,
     "metadata": {},
     "output_type": "execute_result"
    }
   ],
   "source": [
    "df2.shape #rows"
   ]
  },
  {
   "cell_type": "code",
   "execution_count": 24,
   "metadata": {},
   "outputs": [
    {
     "data": {
      "text/plain": [
       "979917"
      ]
     },
     "execution_count": 24,
     "metadata": {},
     "output_type": "execute_result"
    }
   ],
   "source": [
    "df2['customer_id'].nunique() #unique customers"
   ]
  },
  {
   "cell_type": "code",
   "execution_count": 25,
   "metadata": {},
   "outputs": [
    {
     "data": {
      "text/plain": [
       "20952"
      ]
     },
     "execution_count": 25,
     "metadata": {},
     "output_type": "execute_result"
    }
   ],
   "source": [
    "df2['product_id'].nunique() #unique products"
   ]
  },
  {
   "cell_type": "code",
   "execution_count": 26,
   "metadata": {},
   "outputs": [
    {
     "data": {
      "text/plain": [
       "44377.0"
      ]
     },
     "execution_count": 26,
     "metadata": {},
     "output_type": "execute_result"
    }
   ],
   "source": [
    "len(df2)/37"
   ]
  },
  {
   "cell_type": "code",
   "execution_count": 27,
   "metadata": {},
   "outputs": [
    {
     "data": {
      "text/plain": [
       "customer_id       int64\n",
       "product_id       object\n",
       "product_title    object\n",
       "star_rating       int64\n",
       "dtype: object"
      ]
     },
     "execution_count": 27,
     "metadata": {},
     "output_type": "execute_result"
    }
   ],
   "source": [
    "df2.dtypes"
   ]
  },
  {
   "cell_type": "markdown",
   "metadata": {},
   "source": [
    "My matrix will need the title input to be a numerical value (int); I will create a list of unique products and match them with a number 1 - (# of products) in a dictionary, and then add a new column with that number to my dataframe."
   ]
  },
  {
   "cell_type": "code",
   "execution_count": 28,
   "metadata": {},
   "outputs": [],
   "source": [
    "unique_prods = list(set(df2['product_title'])) #create list of unique products\n",
    "prod_index = {p:i for i,p in enumerate(unique_prods)} #match unique products with integer values"
   ]
  },
  {
   "cell_type": "code",
   "execution_count": 29,
   "metadata": {},
   "outputs": [],
   "source": [
    "df2['prod_numerical'] = df2['product_title'].apply(lambda x: prod_index[x])"
   ]
  },
  {
   "cell_type": "code",
   "execution_count": 30,
   "metadata": {},
   "outputs": [
    {
     "data": {
      "text/html": [
       "<div>\n",
       "<style scoped>\n",
       "    .dataframe tbody tr th:only-of-type {\n",
       "        vertical-align: middle;\n",
       "    }\n",
       "\n",
       "    .dataframe tbody tr th {\n",
       "        vertical-align: top;\n",
       "    }\n",
       "\n",
       "    .dataframe thead th {\n",
       "        text-align: right;\n",
       "    }\n",
       "</style>\n",
       "<table border=\"1\" class=\"dataframe\">\n",
       "  <thead>\n",
       "    <tr style=\"text-align: right;\">\n",
       "      <th></th>\n",
       "      <th>customer_id</th>\n",
       "      <th>product_id</th>\n",
       "      <th>product_title</th>\n",
       "      <th>star_rating</th>\n",
       "      <th>prod_numerical</th>\n",
       "    </tr>\n",
       "  </thead>\n",
       "  <tbody>\n",
       "    <tr>\n",
       "      <th>0</th>\n",
       "      <td>12039526</td>\n",
       "      <td>B001CXYMFS</td>\n",
       "      <td>Thrustmaster T-Flight Hotas X Flight Stick</td>\n",
       "      <td>5</td>\n",
       "      <td>12951</td>\n",
       "    </tr>\n",
       "    <tr>\n",
       "      <th>1</th>\n",
       "      <td>2331478</td>\n",
       "      <td>B0029CSOD2</td>\n",
       "      <td>Hidden Mysteries: Titanic Secrets of the Fateful Voyage</td>\n",
       "      <td>1</td>\n",
       "      <td>8231</td>\n",
       "    </tr>\n",
       "    <tr>\n",
       "      <th>2</th>\n",
       "      <td>52495923</td>\n",
       "      <td>B00GOOSV98</td>\n",
       "      <td>GelTabz Performance Thumb Grips - PlayStation 4 and PlayStation 3</td>\n",
       "      <td>3</td>\n",
       "      <td>5116</td>\n",
       "    </tr>\n",
       "    <tr>\n",
       "      <th>3</th>\n",
       "      <td>14533949</td>\n",
       "      <td>B00Y074JOM</td>\n",
       "      <td>Zero Suit Samus amiibo - Japan Import (Super Smash Bros Series)</td>\n",
       "      <td>4</td>\n",
       "      <td>5453</td>\n",
       "    </tr>\n",
       "    <tr>\n",
       "      <th>4</th>\n",
       "      <td>17521011</td>\n",
       "      <td>B008XHCLFO</td>\n",
       "      <td>Protection for your 3DS XL</td>\n",
       "      <td>5</td>\n",
       "      <td>8393</td>\n",
       "    </tr>\n",
       "  </tbody>\n",
       "</table>\n",
       "</div>"
      ],
      "text/plain": [
       "   customer_id  product_id  \\\n",
       "0     12039526  B001CXYMFS   \n",
       "1      2331478  B0029CSOD2   \n",
       "2     52495923  B00GOOSV98   \n",
       "3     14533949  B00Y074JOM   \n",
       "4     17521011  B008XHCLFO   \n",
       "\n",
       "                                                       product_title  \\\n",
       "0                         Thrustmaster T-Flight Hotas X Flight Stick   \n",
       "1            Hidden Mysteries: Titanic Secrets of the Fateful Voyage   \n",
       "2  GelTabz Performance Thumb Grips - PlayStation 4 and PlayStation 3   \n",
       "3    Zero Suit Samus amiibo - Japan Import (Super Smash Bros Series)   \n",
       "4                                         Protection for your 3DS XL   \n",
       "\n",
       "   star_rating  prod_numerical  \n",
       "0            5           12951  \n",
       "1            1            8231  \n",
       "2            3            5116  \n",
       "3            4            5453  \n",
       "4            5            8393  "
      ]
     },
     "execution_count": 30,
     "metadata": {},
     "output_type": "execute_result"
    }
   ],
   "source": [
    "df2.head() #preview"
   ]
  },
  {
   "cell_type": "markdown",
   "metadata": {},
   "source": [
    "I should try to save memory in other ways too. I can convert my star rating to an 8bit format since it will only ever be numbers 1-5. I can also convert my unique customer id numbers (already integers) to smaller numbers so that my matrix doesn't make empty rows in between them."
   ]
  },
  {
   "cell_type": "code",
   "execution_count": 31,
   "metadata": {},
   "outputs": [],
   "source": [
    "df2['star_rating'] = df2['star_rating'].astype(np.int8) #convert to take less memory"
   ]
  },
  {
   "cell_type": "code",
   "execution_count": 32,
   "metadata": {},
   "outputs": [],
   "source": [
    "unique_cs = list(set(df2['customer_id']))\n",
    "cs_index = {p:i for i,p in enumerate(unique_cs)}\n",
    "df2['cs_numerical'] = df2['customer_id'].apply(lambda x: cs_index[x])"
   ]
  },
  {
   "cell_type": "code",
   "execution_count": 33,
   "metadata": {},
   "outputs": [
    {
     "data": {
      "text/html": [
       "<div>\n",
       "<style scoped>\n",
       "    .dataframe tbody tr th:only-of-type {\n",
       "        vertical-align: middle;\n",
       "    }\n",
       "\n",
       "    .dataframe tbody tr th {\n",
       "        vertical-align: top;\n",
       "    }\n",
       "\n",
       "    .dataframe thead th {\n",
       "        text-align: right;\n",
       "    }\n",
       "</style>\n",
       "<table border=\"1\" class=\"dataframe\">\n",
       "  <thead>\n",
       "    <tr style=\"text-align: right;\">\n",
       "      <th></th>\n",
       "      <th>customer_id</th>\n",
       "      <th>product_id</th>\n",
       "      <th>product_title</th>\n",
       "      <th>star_rating</th>\n",
       "      <th>prod_numerical</th>\n",
       "      <th>cs_numerical</th>\n",
       "    </tr>\n",
       "  </thead>\n",
       "  <tbody>\n",
       "    <tr>\n",
       "      <th>0</th>\n",
       "      <td>12039526</td>\n",
       "      <td>B001CXYMFS</td>\n",
       "      <td>Thrustmaster T-Flight Hotas X Flight Stick</td>\n",
       "      <td>5</td>\n",
       "      <td>12951</td>\n",
       "      <td>727492</td>\n",
       "    </tr>\n",
       "    <tr>\n",
       "      <th>1</th>\n",
       "      <td>2331478</td>\n",
       "      <td>B0029CSOD2</td>\n",
       "      <td>Hidden Mysteries: Titanic Secrets of the Fateful Voyage</td>\n",
       "      <td>1</td>\n",
       "      <td>8231</td>\n",
       "      <td>113959</td>\n",
       "    </tr>\n",
       "    <tr>\n",
       "      <th>2</th>\n",
       "      <td>52495923</td>\n",
       "      <td>B00GOOSV98</td>\n",
       "      <td>GelTabz Performance Thumb Grips - PlayStation 4 and PlayStation 3</td>\n",
       "      <td>3</td>\n",
       "      <td>5116</td>\n",
       "      <td>32535</td>\n",
       "    </tr>\n",
       "    <tr>\n",
       "      <th>3</th>\n",
       "      <td>14533949</td>\n",
       "      <td>B00Y074JOM</td>\n",
       "      <td>Zero Suit Samus amiibo - Japan Import (Super Smash Bros Series)</td>\n",
       "      <td>4</td>\n",
       "      <td>5453</td>\n",
       "      <td>912813</td>\n",
       "    </tr>\n",
       "    <tr>\n",
       "      <th>4</th>\n",
       "      <td>17521011</td>\n",
       "      <td>B008XHCLFO</td>\n",
       "      <td>Protection for your 3DS XL</td>\n",
       "      <td>5</td>\n",
       "      <td>8393</td>\n",
       "      <td>358299</td>\n",
       "    </tr>\n",
       "  </tbody>\n",
       "</table>\n",
       "</div>"
      ],
      "text/plain": [
       "   customer_id  product_id  \\\n",
       "0     12039526  B001CXYMFS   \n",
       "1      2331478  B0029CSOD2   \n",
       "2     52495923  B00GOOSV98   \n",
       "3     14533949  B00Y074JOM   \n",
       "4     17521011  B008XHCLFO   \n",
       "\n",
       "                                                       product_title  \\\n",
       "0                         Thrustmaster T-Flight Hotas X Flight Stick   \n",
       "1            Hidden Mysteries: Titanic Secrets of the Fateful Voyage   \n",
       "2  GelTabz Performance Thumb Grips - PlayStation 4 and PlayStation 3   \n",
       "3    Zero Suit Samus amiibo - Japan Import (Super Smash Bros Series)   \n",
       "4                                         Protection for your 3DS XL   \n",
       "\n",
       "   star_rating  prod_numerical  cs_numerical  \n",
       "0            5           12951        727492  \n",
       "1            1            8231        113959  \n",
       "2            3            5116         32535  \n",
       "3            4            5453        912813  \n",
       "4            5            8393        358299  "
      ]
     },
     "execution_count": 33,
     "metadata": {},
     "output_type": "execute_result"
    }
   ],
   "source": [
    "df2.head() #preview"
   ]
  },
  {
   "cell_type": "markdown",
   "metadata": {},
   "source": [
    "Okay - that's probably about as minimal as we can get our inputs; let's make this sparse matrix!"
   ]
  },
  {
   "cell_type": "code",
   "execution_count": 34,
   "metadata": {},
   "outputs": [],
   "source": [
    "sparse_reviews = sparse.csr_matrix((df2.star_rating, (df2.prod_numerical, df2.cs_numerical)), dtype=np.int8)"
   ]
  },
  {
   "cell_type": "code",
   "execution_count": 35,
   "metadata": {},
   "outputs": [
    {
     "data": {
      "text/plain": [
       "(15938, 979917)"
      ]
     },
     "execution_count": 35,
     "metadata": {},
     "output_type": "execute_result"
    }
   ],
   "source": [
    "sparse_reviews.shape"
   ]
  },
  {
   "cell_type": "code",
   "execution_count": 36,
   "metadata": {},
   "outputs": [
    {
     "name": "stdout",
     "output_type": "stream",
     "text": [
      "  (0, 7466)\t5\n",
      "  (0, 24556)\t5\n",
      "  (0, 43120)\t4\n",
      "  (0, 56791)\t5\n",
      "  (0, 68845)\t4\n",
      "  (0, 80103)\t5\n",
      "  (0, 85878)\t4\n",
      "  (0, 89855)\t5\n",
      "  (0, 100872)\t3\n",
      "  (0, 111387)\t4\n",
      "  (0, 116121)\t2\n",
      "  (0, 121817)\t2\n",
      "  (0, 147474)\t5\n",
      "  (0, 155347)\t1\n",
      "  (0, 165769)\t5\n",
      "  (0, 175603)\t5\n",
      "  (0, 182488)\t4\n",
      "  (0, 182869)\t3\n",
      "  (0, 209617)\t5\n",
      "  (0, 229909)\t5\n",
      "  (0, 240390)\t5\n",
      "  (0, 248679)\t4\n",
      "  (0, 249271)\t4\n",
      "  (0, 251424)\t2\n",
      "  (0, 253226)\t5\n",
      "  :\t:\n",
      "  (0, 476996)\t5\n",
      "  (0, 493866)\t3\n",
      "  (0, 495000)\t4\n",
      "  (0, 501839)\t5\n",
      "  (0, 503132)\t2\n",
      "  (0, 518339)\t5\n",
      "  (0, 526403)\t4\n",
      "  (0, 537005)\t1\n",
      "  (0, 554537)\t5\n",
      "  (0, 565224)\t4\n",
      "  (0, 568129)\t5\n",
      "  (0, 610841)\t4\n",
      "  (0, 614414)\t2\n",
      "  (0, 618300)\t5\n",
      "  (0, 636867)\t5\n",
      "  (0, 646786)\t4\n",
      "  (0, 650607)\t3\n",
      "  (0, 808376)\t5\n",
      "  (0, 809097)\t5\n",
      "  (0, 814836)\t10\n",
      "  (0, 826612)\t3\n",
      "  (0, 866206)\t4\n",
      "  (0, 900646)\t5\n",
      "  (0, 944804)\t4\n",
      "  (0, 972750)\t3\n"
     ]
    }
   ],
   "source": [
    "print(sparse_reviews[1]) #preview"
   ]
  },
  {
   "cell_type": "code",
   "execution_count": 37,
   "metadata": {},
   "outputs": [
    {
     "data": {
      "text/html": [
       "<div>\n",
       "<style scoped>\n",
       "    .dataframe tbody tr th:only-of-type {\n",
       "        vertical-align: middle;\n",
       "    }\n",
       "\n",
       "    .dataframe tbody tr th {\n",
       "        vertical-align: top;\n",
       "    }\n",
       "\n",
       "    .dataframe thead th {\n",
       "        text-align: right;\n",
       "    }\n",
       "</style>\n",
       "<table border=\"1\" class=\"dataframe\">\n",
       "  <thead>\n",
       "    <tr style=\"text-align: right;\">\n",
       "      <th></th>\n",
       "      <th>customer_id</th>\n",
       "      <th>product_id</th>\n",
       "      <th>product_title</th>\n",
       "      <th>star_rating</th>\n",
       "      <th>prod_numerical</th>\n",
       "      <th>cs_numerical</th>\n",
       "    </tr>\n",
       "  </thead>\n",
       "  <tbody>\n",
       "    <tr>\n",
       "      <th>56707</th>\n",
       "      <td>1360659</td>\n",
       "      <td>B00020V4RG</td>\n",
       "      <td>NCAA Football 2005</td>\n",
       "      <td>5</td>\n",
       "      <td>1</td>\n",
       "      <td>636867</td>\n",
       "    </tr>\n",
       "    <tr>\n",
       "      <th>958445</th>\n",
       "      <td>27565503</td>\n",
       "      <td>B00020V4RG</td>\n",
       "      <td>NCAA Football 2005</td>\n",
       "      <td>5</td>\n",
       "      <td>1</td>\n",
       "      <td>147474</td>\n",
       "    </tr>\n",
       "    <tr>\n",
       "      <th>996118</th>\n",
       "      <td>22353312</td>\n",
       "      <td>B00020V4RG</td>\n",
       "      <td>NCAA Football 2005</td>\n",
       "      <td>4</td>\n",
       "      <td>1</td>\n",
       "      <td>646786</td>\n",
       "    </tr>\n",
       "    <tr>\n",
       "      <th>1196639</th>\n",
       "      <td>14998396</td>\n",
       "      <td>B00020V4QM</td>\n",
       "      <td>NCAA Football 2005</td>\n",
       "      <td>1</td>\n",
       "      <td>1</td>\n",
       "      <td>155347</td>\n",
       "    </tr>\n",
       "    <tr>\n",
       "      <th>1272806</th>\n",
       "      <td>42415094</td>\n",
       "      <td>B00020V4RG</td>\n",
       "      <td>NCAA Football 2005</td>\n",
       "      <td>5</td>\n",
       "      <td>1</td>\n",
       "      <td>229909</td>\n",
       "    </tr>\n",
       "    <tr>\n",
       "      <th>...</th>\n",
       "      <td>...</td>\n",
       "      <td>...</td>\n",
       "      <td>...</td>\n",
       "      <td>...</td>\n",
       "      <td>...</td>\n",
       "      <td>...</td>\n",
       "    </tr>\n",
       "    <tr>\n",
       "      <th>1495115</th>\n",
       "      <td>17343847</td>\n",
       "      <td>B00020V4QM</td>\n",
       "      <td>NCAA Football 2005</td>\n",
       "      <td>5</td>\n",
       "      <td>1</td>\n",
       "      <td>275747</td>\n",
       "    </tr>\n",
       "    <tr>\n",
       "      <th>1495127</th>\n",
       "      <td>37575847</td>\n",
       "      <td>B00020V4QM</td>\n",
       "      <td>NCAA Football 2005</td>\n",
       "      <td>5</td>\n",
       "      <td>1</td>\n",
       "      <td>900646</td>\n",
       "    </tr>\n",
       "    <tr>\n",
       "      <th>1495145</th>\n",
       "      <td>17351614</td>\n",
       "      <td>B00020V4QM</td>\n",
       "      <td>NCAA Football 2005</td>\n",
       "      <td>5</td>\n",
       "      <td>1</td>\n",
       "      <td>279519</td>\n",
       "    </tr>\n",
       "    <tr>\n",
       "      <th>1498672</th>\n",
       "      <td>52071209</td>\n",
       "      <td>B00020V4RG</td>\n",
       "      <td>NCAA Football 2005</td>\n",
       "      <td>5</td>\n",
       "      <td>1</td>\n",
       "      <td>814836</td>\n",
       "    </tr>\n",
       "    <tr>\n",
       "      <th>1500477</th>\n",
       "      <td>48285281</td>\n",
       "      <td>B00020V4QM</td>\n",
       "      <td>NCAA Football 2005</td>\n",
       "      <td>5</td>\n",
       "      <td>1</td>\n",
       "      <td>24556</td>\n",
       "    </tr>\n",
       "  </tbody>\n",
       "</table>\n",
       "<p>65 rows × 6 columns</p>\n",
       "</div>"
      ],
      "text/plain": [
       "         customer_id  product_id       product_title  star_rating  \\\n",
       "56707        1360659  B00020V4RG  NCAA Football 2005            5   \n",
       "958445      27565503  B00020V4RG  NCAA Football 2005            5   \n",
       "996118      22353312  B00020V4RG  NCAA Football 2005            4   \n",
       "1196639     14998396  B00020V4QM  NCAA Football 2005            1   \n",
       "1272806     42415094  B00020V4RG  NCAA Football 2005            5   \n",
       "...              ...         ...                 ...          ...   \n",
       "1495115     17343847  B00020V4QM  NCAA Football 2005            5   \n",
       "1495127     37575847  B00020V4QM  NCAA Football 2005            5   \n",
       "1495145     17351614  B00020V4QM  NCAA Football 2005            5   \n",
       "1498672     52071209  B00020V4RG  NCAA Football 2005            5   \n",
       "1500477     48285281  B00020V4QM  NCAA Football 2005            5   \n",
       "\n",
       "         prod_numerical  cs_numerical  \n",
       "56707                 1        636867  \n",
       "958445                1        147474  \n",
       "996118                1        646786  \n",
       "1196639               1        155347  \n",
       "1272806               1        229909  \n",
       "...                 ...           ...  \n",
       "1495115               1        275747  \n",
       "1495127               1        900646  \n",
       "1495145               1        279519  \n",
       "1498672               1        814836  \n",
       "1500477               1         24556  \n",
       "\n",
       "[65 rows x 6 columns]"
      ]
     },
     "execution_count": 37,
     "metadata": {},
     "output_type": "execute_result"
    }
   ],
   "source": [
    "df2[df2['prod_numerical']==1] #test - cs numbers above should match cs_numerical column below"
   ]
  },
  {
   "cell_type": "markdown",
   "metadata": {},
   "source": [
    "The matrix looks good - now it's time to make the recommender model. In order to do this we will look into the cosine similarities between items to see which ones are on similar vectors."
   ]
  },
  {
   "cell_type": "code",
   "execution_count": 38,
   "metadata": {},
   "outputs": [],
   "source": [
    "from sklearn.metrics.pairwise import pairwise_distances, cosine_distances, cosine_similarity"
   ]
  },
  {
   "cell_type": "code",
   "execution_count": 39,
   "metadata": {},
   "outputs": [],
   "source": [
    "dists = pairwise_distances(sparse_reviews, metric='cosine')"
   ]
  },
  {
   "cell_type": "code",
   "execution_count": 40,
   "metadata": {},
   "outputs": [
    {
     "data": {
      "text/plain": [
       "array([[0.        , 1.        , 1.        , ..., 1.        , 1.        ,\n",
       "        1.        ],\n",
       "       [1.        , 0.        , 1.        , ..., 1.        , 1.        ,\n",
       "        0.98659978],\n",
       "       [1.        , 1.        , 0.        , ..., 1.        , 1.        ,\n",
       "        1.        ],\n",
       "       ...,\n",
       "       [1.        , 1.        , 1.        , ..., 0.        , 1.        ,\n",
       "        1.        ],\n",
       "       [1.        , 1.        , 1.        , ..., 1.        , 0.        ,\n",
       "        1.        ],\n",
       "       [1.        , 0.98659978, 1.        , ..., 1.        , 1.        ,\n",
       "        0.        ]])"
      ]
     },
     "execution_count": 40,
     "metadata": {},
     "output_type": "execute_result"
    }
   ],
   "source": [
    "dists #preview"
   ]
  },
  {
   "cell_type": "markdown",
   "metadata": {},
   "source": [
    "At this point, I realize how large my returned recommender (product x product) dataframe is going to be. The next few cells are tests to see how I can create a spare dataframe and what benefit it provides."
   ]
  },
  {
   "cell_type": "code",
   "execution_count": 85,
   "metadata": {},
   "outputs": [],
   "source": [
    "dists_sparse = [pd.arrays.SparseArray(dists[n]) for n in range(len(dists))]"
   ]
  },
  {
   "cell_type": "code",
   "execution_count": 86,
   "metadata": {},
   "outputs": [
    {
     "name": "stdout",
     "output_type": "stream",
     "text": [
      "2032158864\n"
     ]
    },
    {
     "data": {
      "text/plain": [
       "140576"
      ]
     },
     "execution_count": 86,
     "metadata": {},
     "output_type": "execute_result"
    }
   ],
   "source": [
    "print(sys.getsizeof(dists))\n",
    "sys.getsizeof(dists_sparse)"
   ]
  },
  {
   "cell_type": "code",
   "execution_count": null,
   "metadata": {},
   "outputs": [],
   "source": []
  },
  {
   "cell_type": "code",
   "execution_count": 243,
   "metadata": {},
   "outputs": [],
   "source": [
    "l1 = [0,1,2,3,0,1,2]\n",
    "l2 = [1,0,1,1,2,1,0]\n",
    "l3 = [0,1,0,1,3,1,0]\n",
    "l4 = [0,0,1,1,0,0,1]\n",
    "l5 = [1,1,2,1,1,2,1]\n",
    "l6 = [0,1,1,2,1,1,1]\n",
    "l7 = [2,1,2,1,1,0,1]\n",
    "a = pd.DataFrame({'one':pd.arrays.SparseArray(l1, fill_value=1),\n",
    "                 'two':pd.arrays.SparseArray(l2, fill_value=1),\n",
    "                 'three':pd.arrays.SparseArray(l3, fill_value=1),\n",
    "                 'four':pd.arrays.SparseArray(l4, fill_value=1),\n",
    "                 'five':pd.arrays.SparseArray(l5, fill_value=1),\n",
    "                 'six':pd.arrays.SparseArray(l6, fill_value=1),\n",
    "                 'seven':pd.arrays.SparseArray(l7, fill_value=1)\n",
    "                 })\n",
    "b = pd.DataFrame({'one':l1, 'two':l2, 'three':l3, 'four':l4,\n",
    "                 'five':l5, 'six':l6, 'seven':l7})"
   ]
  },
  {
   "cell_type": "code",
   "execution_count": 244,
   "metadata": {},
   "outputs": [
    {
     "name": "stdout",
     "output_type": "stream",
     "text": [
      "one      Sparse[int64, 1]\n",
      "two      Sparse[int64, 1]\n",
      "three    Sparse[int64, 1]\n",
      "four     Sparse[int64, 1]\n",
      "five     Sparse[int64, 1]\n",
      "six      Sparse[int64, 1]\n",
      "seven    Sparse[int64, 1]\n",
      "dtype: object\n"
     ]
    },
    {
     "data": {
      "text/plain": [
       "one      int64\n",
       "two      int64\n",
       "three    int64\n",
       "four     int64\n",
       "five     int64\n",
       "six      int64\n",
       "seven    int64\n",
       "dtype: object"
      ]
     },
     "execution_count": 244,
     "metadata": {},
     "output_type": "execute_result"
    }
   ],
   "source": [
    "print(a.dtypes)\n",
    "b.dtypes"
   ]
  },
  {
   "cell_type": "code",
   "execution_count": 246,
   "metadata": {},
   "outputs": [
    {
     "data": {
      "text/html": [
       "<div>\n",
       "<style scoped>\n",
       "    .dataframe tbody tr th:only-of-type {\n",
       "        vertical-align: middle;\n",
       "    }\n",
       "\n",
       "    .dataframe tbody tr th {\n",
       "        vertical-align: top;\n",
       "    }\n",
       "\n",
       "    .dataframe thead th {\n",
       "        text-align: right;\n",
       "    }\n",
       "</style>\n",
       "<table border=\"1\" class=\"dataframe\">\n",
       "  <thead>\n",
       "    <tr style=\"text-align: right;\">\n",
       "      <th></th>\n",
       "      <th>one</th>\n",
       "      <th>two</th>\n",
       "      <th>three</th>\n",
       "      <th>four</th>\n",
       "      <th>five</th>\n",
       "      <th>six</th>\n",
       "      <th>seven</th>\n",
       "    </tr>\n",
       "  </thead>\n",
       "  <tbody>\n",
       "    <tr>\n",
       "      <th>0</th>\n",
       "      <td>0</td>\n",
       "      <td>1</td>\n",
       "      <td>0</td>\n",
       "      <td>0</td>\n",
       "      <td>1</td>\n",
       "      <td>0</td>\n",
       "      <td>2</td>\n",
       "    </tr>\n",
       "    <tr>\n",
       "      <th>1</th>\n",
       "      <td>1</td>\n",
       "      <td>0</td>\n",
       "      <td>1</td>\n",
       "      <td>0</td>\n",
       "      <td>1</td>\n",
       "      <td>1</td>\n",
       "      <td>1</td>\n",
       "    </tr>\n",
       "    <tr>\n",
       "      <th>2</th>\n",
       "      <td>2</td>\n",
       "      <td>1</td>\n",
       "      <td>0</td>\n",
       "      <td>1</td>\n",
       "      <td>2</td>\n",
       "      <td>1</td>\n",
       "      <td>2</td>\n",
       "    </tr>\n",
       "    <tr>\n",
       "      <th>3</th>\n",
       "      <td>3</td>\n",
       "      <td>1</td>\n",
       "      <td>1</td>\n",
       "      <td>1</td>\n",
       "      <td>1</td>\n",
       "      <td>2</td>\n",
       "      <td>1</td>\n",
       "    </tr>\n",
       "    <tr>\n",
       "      <th>4</th>\n",
       "      <td>0</td>\n",
       "      <td>2</td>\n",
       "      <td>3</td>\n",
       "      <td>0</td>\n",
       "      <td>1</td>\n",
       "      <td>1</td>\n",
       "      <td>1</td>\n",
       "    </tr>\n",
       "    <tr>\n",
       "      <th>5</th>\n",
       "      <td>1</td>\n",
       "      <td>1</td>\n",
       "      <td>1</td>\n",
       "      <td>0</td>\n",
       "      <td>2</td>\n",
       "      <td>1</td>\n",
       "      <td>0</td>\n",
       "    </tr>\n",
       "    <tr>\n",
       "      <th>6</th>\n",
       "      <td>2</td>\n",
       "      <td>0</td>\n",
       "      <td>0</td>\n",
       "      <td>1</td>\n",
       "      <td>1</td>\n",
       "      <td>1</td>\n",
       "      <td>1</td>\n",
       "    </tr>\n",
       "  </tbody>\n",
       "</table>\n",
       "</div>"
      ],
      "text/plain": [
       "   one  two  three  four  five  six  seven\n",
       "0    0    1      0     0     1    0      2\n",
       "1    1    0      1     0     1    1      1\n",
       "2    2    1      0     1     2    1      2\n",
       "3    3    1      1     1     1    2      1\n",
       "4    0    2      3     0     1    1      1\n",
       "5    1    1      1     0     2    1      0\n",
       "6    2    0      0     1     1    1      1"
      ]
     },
     "execution_count": 246,
     "metadata": {},
     "output_type": "execute_result"
    }
   ],
   "source": [
    "a"
   ]
  },
  {
   "cell_type": "code",
   "execution_count": 247,
   "metadata": {},
   "outputs": [
    {
     "data": {
      "text/html": [
       "<div>\n",
       "<style scoped>\n",
       "    .dataframe tbody tr th:only-of-type {\n",
       "        vertical-align: middle;\n",
       "    }\n",
       "\n",
       "    .dataframe tbody tr th {\n",
       "        vertical-align: top;\n",
       "    }\n",
       "\n",
       "    .dataframe thead th {\n",
       "        text-align: right;\n",
       "    }\n",
       "</style>\n",
       "<table border=\"1\" class=\"dataframe\">\n",
       "  <thead>\n",
       "    <tr style=\"text-align: right;\">\n",
       "      <th></th>\n",
       "      <th>one</th>\n",
       "      <th>two</th>\n",
       "      <th>three</th>\n",
       "      <th>four</th>\n",
       "      <th>five</th>\n",
       "      <th>six</th>\n",
       "      <th>seven</th>\n",
       "    </tr>\n",
       "  </thead>\n",
       "  <tbody>\n",
       "    <tr>\n",
       "      <th>0</th>\n",
       "      <td>0</td>\n",
       "      <td>1</td>\n",
       "      <td>0</td>\n",
       "      <td>0</td>\n",
       "      <td>1</td>\n",
       "      <td>0</td>\n",
       "      <td>2</td>\n",
       "    </tr>\n",
       "    <tr>\n",
       "      <th>1</th>\n",
       "      <td>1</td>\n",
       "      <td>0</td>\n",
       "      <td>1</td>\n",
       "      <td>0</td>\n",
       "      <td>1</td>\n",
       "      <td>1</td>\n",
       "      <td>1</td>\n",
       "    </tr>\n",
       "    <tr>\n",
       "      <th>2</th>\n",
       "      <td>2</td>\n",
       "      <td>1</td>\n",
       "      <td>0</td>\n",
       "      <td>1</td>\n",
       "      <td>2</td>\n",
       "      <td>1</td>\n",
       "      <td>2</td>\n",
       "    </tr>\n",
       "    <tr>\n",
       "      <th>3</th>\n",
       "      <td>3</td>\n",
       "      <td>1</td>\n",
       "      <td>1</td>\n",
       "      <td>1</td>\n",
       "      <td>1</td>\n",
       "      <td>2</td>\n",
       "      <td>1</td>\n",
       "    </tr>\n",
       "    <tr>\n",
       "      <th>4</th>\n",
       "      <td>0</td>\n",
       "      <td>2</td>\n",
       "      <td>3</td>\n",
       "      <td>0</td>\n",
       "      <td>1</td>\n",
       "      <td>1</td>\n",
       "      <td>1</td>\n",
       "    </tr>\n",
       "    <tr>\n",
       "      <th>5</th>\n",
       "      <td>1</td>\n",
       "      <td>1</td>\n",
       "      <td>1</td>\n",
       "      <td>0</td>\n",
       "      <td>2</td>\n",
       "      <td>1</td>\n",
       "      <td>0</td>\n",
       "    </tr>\n",
       "    <tr>\n",
       "      <th>6</th>\n",
       "      <td>2</td>\n",
       "      <td>0</td>\n",
       "      <td>0</td>\n",
       "      <td>1</td>\n",
       "      <td>1</td>\n",
       "      <td>1</td>\n",
       "      <td>1</td>\n",
       "    </tr>\n",
       "  </tbody>\n",
       "</table>\n",
       "</div>"
      ],
      "text/plain": [
       "   one  two  three  four  five  six  seven\n",
       "0    0    1      0     0     1    0      2\n",
       "1    1    0      1     0     1    1      1\n",
       "2    2    1      0     1     2    1      2\n",
       "3    3    1      1     1     1    2      1\n",
       "4    0    2      3     0     1    1      1\n",
       "5    1    1      1     0     2    1      0\n",
       "6    2    0      0     1     1    1      1"
      ]
     },
     "execution_count": 247,
     "metadata": {},
     "output_type": "execute_result"
    }
   ],
   "source": [
    "b"
   ]
  },
  {
   "cell_type": "code",
   "execution_count": 245,
   "metadata": {},
   "outputs": [
    {
     "data": {
      "text/plain": [
       "420"
      ]
     },
     "execution_count": 245,
     "metadata": {},
     "output_type": "execute_result"
    }
   ],
   "source": [
    "sys.getsizeof(a)"
   ]
  },
  {
   "cell_type": "code",
   "execution_count": 248,
   "metadata": {},
   "outputs": [
    {
     "data": {
      "text/plain": [
       "536"
      ]
     },
     "execution_count": 248,
     "metadata": {},
     "output_type": "execute_result"
    }
   ],
   "source": [
    "sys.getsizeof(b)"
   ]
  },
  {
   "cell_type": "code",
   "execution_count": 250,
   "metadata": {},
   "outputs": [],
   "source": [
    "array1 = [l1,l2,l3,l4,l5,l6,l7]\n",
    "cols = ['one','two','three','four', 'five', 'six', 'seven']\n",
    "\n",
    "array_dict = {}\n",
    "for n in range(len(array1)):\n",
    "    array_dict[cols[n]] = pd.arrays.SparseArray(array1[n], fill_value=1)\n",
    "#array_dict"
   ]
  },
  {
   "cell_type": "code",
   "execution_count": 251,
   "metadata": {},
   "outputs": [],
   "source": [
    "c = pd.DataFrame(array_dict, index=cols, columns=cols)\n",
    "d = pd.DataFrame(array1, index=cols, columns=cols)"
   ]
  },
  {
   "cell_type": "code",
   "execution_count": 252,
   "metadata": {},
   "outputs": [
    {
     "data": {
      "text/html": [
       "<div>\n",
       "<style scoped>\n",
       "    .dataframe tbody tr th:only-of-type {\n",
       "        vertical-align: middle;\n",
       "    }\n",
       "\n",
       "    .dataframe tbody tr th {\n",
       "        vertical-align: top;\n",
       "    }\n",
       "\n",
       "    .dataframe thead th {\n",
       "        text-align: right;\n",
       "    }\n",
       "</style>\n",
       "<table border=\"1\" class=\"dataframe\">\n",
       "  <thead>\n",
       "    <tr style=\"text-align: right;\">\n",
       "      <th></th>\n",
       "      <th>one</th>\n",
       "      <th>two</th>\n",
       "      <th>three</th>\n",
       "      <th>four</th>\n",
       "      <th>five</th>\n",
       "      <th>six</th>\n",
       "      <th>seven</th>\n",
       "    </tr>\n",
       "  </thead>\n",
       "  <tbody>\n",
       "    <tr>\n",
       "      <th>one</th>\n",
       "      <td>0</td>\n",
       "      <td>1</td>\n",
       "      <td>0</td>\n",
       "      <td>0</td>\n",
       "      <td>1</td>\n",
       "      <td>0</td>\n",
       "      <td>2</td>\n",
       "    </tr>\n",
       "    <tr>\n",
       "      <th>two</th>\n",
       "      <td>1</td>\n",
       "      <td>0</td>\n",
       "      <td>1</td>\n",
       "      <td>0</td>\n",
       "      <td>1</td>\n",
       "      <td>1</td>\n",
       "      <td>1</td>\n",
       "    </tr>\n",
       "    <tr>\n",
       "      <th>three</th>\n",
       "      <td>2</td>\n",
       "      <td>1</td>\n",
       "      <td>0</td>\n",
       "      <td>1</td>\n",
       "      <td>2</td>\n",
       "      <td>1</td>\n",
       "      <td>2</td>\n",
       "    </tr>\n",
       "    <tr>\n",
       "      <th>four</th>\n",
       "      <td>3</td>\n",
       "      <td>1</td>\n",
       "      <td>1</td>\n",
       "      <td>1</td>\n",
       "      <td>1</td>\n",
       "      <td>2</td>\n",
       "      <td>1</td>\n",
       "    </tr>\n",
       "    <tr>\n",
       "      <th>five</th>\n",
       "      <td>0</td>\n",
       "      <td>2</td>\n",
       "      <td>3</td>\n",
       "      <td>0</td>\n",
       "      <td>1</td>\n",
       "      <td>1</td>\n",
       "      <td>1</td>\n",
       "    </tr>\n",
       "    <tr>\n",
       "      <th>six</th>\n",
       "      <td>1</td>\n",
       "      <td>1</td>\n",
       "      <td>1</td>\n",
       "      <td>0</td>\n",
       "      <td>2</td>\n",
       "      <td>1</td>\n",
       "      <td>0</td>\n",
       "    </tr>\n",
       "    <tr>\n",
       "      <th>seven</th>\n",
       "      <td>2</td>\n",
       "      <td>0</td>\n",
       "      <td>0</td>\n",
       "      <td>1</td>\n",
       "      <td>1</td>\n",
       "      <td>1</td>\n",
       "      <td>1</td>\n",
       "    </tr>\n",
       "  </tbody>\n",
       "</table>\n",
       "</div>"
      ],
      "text/plain": [
       "       one  two  three  four  five  six  seven\n",
       "one      0    1      0     0     1    0      2\n",
       "two      1    0      1     0     1    1      1\n",
       "three    2    1      0     1     2    1      2\n",
       "four     3    1      1     1     1    2      1\n",
       "five     0    2      3     0     1    1      1\n",
       "six      1    1      1     0     2    1      0\n",
       "seven    2    0      0     1     1    1      1"
      ]
     },
     "execution_count": 252,
     "metadata": {},
     "output_type": "execute_result"
    }
   ],
   "source": [
    "c"
   ]
  },
  {
   "cell_type": "code",
   "execution_count": 253,
   "metadata": {},
   "outputs": [
    {
     "data": {
      "text/html": [
       "<div>\n",
       "<style scoped>\n",
       "    .dataframe tbody tr th:only-of-type {\n",
       "        vertical-align: middle;\n",
       "    }\n",
       "\n",
       "    .dataframe tbody tr th {\n",
       "        vertical-align: top;\n",
       "    }\n",
       "\n",
       "    .dataframe thead th {\n",
       "        text-align: right;\n",
       "    }\n",
       "</style>\n",
       "<table border=\"1\" class=\"dataframe\">\n",
       "  <thead>\n",
       "    <tr style=\"text-align: right;\">\n",
       "      <th></th>\n",
       "      <th>one</th>\n",
       "      <th>two</th>\n",
       "      <th>three</th>\n",
       "      <th>four</th>\n",
       "      <th>five</th>\n",
       "      <th>six</th>\n",
       "      <th>seven</th>\n",
       "    </tr>\n",
       "  </thead>\n",
       "  <tbody>\n",
       "    <tr>\n",
       "      <th>one</th>\n",
       "      <td>0</td>\n",
       "      <td>1</td>\n",
       "      <td>2</td>\n",
       "      <td>3</td>\n",
       "      <td>0</td>\n",
       "      <td>1</td>\n",
       "      <td>2</td>\n",
       "    </tr>\n",
       "    <tr>\n",
       "      <th>two</th>\n",
       "      <td>1</td>\n",
       "      <td>0</td>\n",
       "      <td>1</td>\n",
       "      <td>1</td>\n",
       "      <td>2</td>\n",
       "      <td>1</td>\n",
       "      <td>0</td>\n",
       "    </tr>\n",
       "    <tr>\n",
       "      <th>three</th>\n",
       "      <td>0</td>\n",
       "      <td>1</td>\n",
       "      <td>0</td>\n",
       "      <td>1</td>\n",
       "      <td>3</td>\n",
       "      <td>1</td>\n",
       "      <td>0</td>\n",
       "    </tr>\n",
       "    <tr>\n",
       "      <th>four</th>\n",
       "      <td>0</td>\n",
       "      <td>0</td>\n",
       "      <td>1</td>\n",
       "      <td>1</td>\n",
       "      <td>0</td>\n",
       "      <td>0</td>\n",
       "      <td>1</td>\n",
       "    </tr>\n",
       "    <tr>\n",
       "      <th>five</th>\n",
       "      <td>1</td>\n",
       "      <td>1</td>\n",
       "      <td>2</td>\n",
       "      <td>1</td>\n",
       "      <td>1</td>\n",
       "      <td>2</td>\n",
       "      <td>1</td>\n",
       "    </tr>\n",
       "    <tr>\n",
       "      <th>six</th>\n",
       "      <td>0</td>\n",
       "      <td>1</td>\n",
       "      <td>1</td>\n",
       "      <td>2</td>\n",
       "      <td>1</td>\n",
       "      <td>1</td>\n",
       "      <td>1</td>\n",
       "    </tr>\n",
       "    <tr>\n",
       "      <th>seven</th>\n",
       "      <td>2</td>\n",
       "      <td>1</td>\n",
       "      <td>2</td>\n",
       "      <td>1</td>\n",
       "      <td>1</td>\n",
       "      <td>0</td>\n",
       "      <td>1</td>\n",
       "    </tr>\n",
       "  </tbody>\n",
       "</table>\n",
       "</div>"
      ],
      "text/plain": [
       "       one  two  three  four  five  six  seven\n",
       "one      0    1      2     3     0    1      2\n",
       "two      1    0      1     1     2    1      0\n",
       "three    0    1      0     1     3    1      0\n",
       "four     0    0      1     1     0    0      1\n",
       "five     1    1      2     1     1    2      1\n",
       "six      0    1      1     2     1    1      1\n",
       "seven    2    1      2     1     1    0      1"
      ]
     },
     "execution_count": 253,
     "metadata": {},
     "output_type": "execute_result"
    }
   ],
   "source": [
    "d"
   ]
  },
  {
   "cell_type": "code",
   "execution_count": 254,
   "metadata": {},
   "outputs": [
    {
     "name": "stdout",
     "output_type": "stream",
     "text": [
      "one      Sparse[int64, 1]\n",
      "two      Sparse[int64, 1]\n",
      "three    Sparse[int64, 1]\n",
      "four     Sparse[int64, 1]\n",
      "five     Sparse[int64, 1]\n",
      "six      Sparse[int64, 1]\n",
      "seven    Sparse[int64, 1]\n",
      "dtype: object\n"
     ]
    },
    {
     "data": {
      "text/plain": [
       "one      int64\n",
       "two      int64\n",
       "three    int64\n",
       "four     int64\n",
       "five     int64\n",
       "six      int64\n",
       "seven    int64\n",
       "dtype: object"
      ]
     },
     "execution_count": 254,
     "metadata": {},
     "output_type": "execute_result"
    }
   ],
   "source": [
    "print(c.dtypes)\n",
    "d.dtypes"
   ]
  },
  {
   "cell_type": "code",
   "execution_count": 255,
   "metadata": {},
   "outputs": [
    {
     "data": {
      "text/plain": [
       "718"
      ]
     },
     "execution_count": 255,
     "metadata": {},
     "output_type": "execute_result"
    }
   ],
   "source": [
    "sys.getsizeof(c)"
   ]
  },
  {
   "cell_type": "code",
   "execution_count": 256,
   "metadata": {},
   "outputs": [
    {
     "data": {
      "text/plain": [
       "834"
      ]
     },
     "execution_count": 256,
     "metadata": {},
     "output_type": "execute_result"
    }
   ],
   "source": [
    "sys.getsizeof(d)"
   ]
  },
  {
   "cell_type": "code",
   "execution_count": 259,
   "metadata": {},
   "outputs": [
    {
     "data": {
      "text/plain": [
       "1.000000    15622\n",
       "0.974699        2\n",
       "0.978993        1\n",
       "0.988036        1\n",
       "0.997491        1\n",
       "            ...  \n",
       "0.998127        1\n",
       "0.979906        1\n",
       "0.984334        1\n",
       "0.982730        1\n",
       "0.000000        1\n",
       "Name: NBA Live 15, Length: 316, dtype: int64"
      ]
     },
     "execution_count": 259,
     "metadata": {},
     "output_type": "execute_result"
    }
   ],
   "source": [
    "recommender_df['NBA Live 15'].value_counts() #example"
   ]
  },
  {
   "cell_type": "markdown",
   "metadata": {},
   "source": [
    "This is a good example of how high a proportion of 1's each product has. Making them sparse is going to have huge benefits!"
   ]
  },
  {
   "cell_type": "code",
   "execution_count": 278,
   "metadata": {},
   "outputs": [],
   "source": [
    "dists_smaller = dists.astype(np.float32)"
   ]
  },
  {
   "cell_type": "code",
   "execution_count": 279,
   "metadata": {},
   "outputs": [],
   "source": [
    "#array1 = [l1,l2,l3,l4,l5,l6,l7]\n",
    "rec_cols = unique_prods\n",
    "\n",
    "rec_dict = {}\n",
    "for n in range(len(dists_smaller)):\n",
    "    rec_dict[rec_cols[n]] = pd.arrays.SparseArray(dists_smaller[n], fill_value=1)\n",
    "#rec_dict"
   ]
  },
  {
   "cell_type": "code",
   "execution_count": 280,
   "metadata": {},
   "outputs": [],
   "source": [
    "recommender_df_sparse = pd.DataFrame(rec_dict,\n",
    "                             index=rec_cols,\n",
    "                             columns=rec_cols)\n",
    "\n",
    "#recommender_df_sparse.head()"
   ]
  },
  {
   "cell_type": "code",
   "execution_count": 47,
   "metadata": {},
   "outputs": [],
   "source": [
    "recommender_df = pd.DataFrame(dists,\n",
    "                             index=unique_prods,\n",
    "                             columns=unique_prods)\n",
    "\n",
    "#recommender_df.head()"
   ]
  },
  {
   "cell_type": "code",
   "execution_count": 281,
   "metadata": {},
   "outputs": [
    {
     "name": "stdout",
     "output_type": "stream",
     "text": [
      "2.034354337\n"
     ]
    },
    {
     "data": {
      "text/plain": [
       "0.051519521"
      ]
     },
     "execution_count": 281,
     "metadata": {},
     "output_type": "execute_result"
    }
   ],
   "source": [
    "print(sys.getsizeof(recommender_df)/1_000_000_000)\n",
    "sys.getsizeof(recommender_df_sparse)/1_000_000_000"
   ]
  },
  {
   "cell_type": "code",
   "execution_count": 282,
   "metadata": {},
   "outputs": [
    {
     "data": {
      "text/plain": [
       "NBA Live 15                            float64\n",
       "NCAA Football 2005                     float64\n",
       "Hotel - PC                             float64\n",
       "Nintendo Wii Fit Bundle                float64\n",
       "Capcom Classics Collection Reloaded    float64\n",
       "                                        ...   \n",
       "Pirates: The Legend of Black Kat       float64\n",
       "Harvest Moon: Island of Happiness      float64\n",
       "Zoo Cube                               float64\n",
       "Escape the Museum 2                    float64\n",
       "Mvp Baseball 2003: Xbox                float64\n",
       "Length: 15938, dtype: object"
      ]
     },
     "execution_count": 282,
     "metadata": {},
     "output_type": "execute_result"
    }
   ],
   "source": [
    "recommender_df.dtypes"
   ]
  },
  {
   "cell_type": "code",
   "execution_count": 283,
   "metadata": {},
   "outputs": [
    {
     "data": {
      "text/plain": [
       "NBA Live 15                            Sparse[float32, 1]\n",
       "NCAA Football 2005                     Sparse[float32, 1]\n",
       "Hotel - PC                             Sparse[float32, 1]\n",
       "Nintendo Wii Fit Bundle                Sparse[float32, 1]\n",
       "Capcom Classics Collection Reloaded    Sparse[float32, 1]\n",
       "                                              ...        \n",
       "Pirates: The Legend of Black Kat       Sparse[float32, 1]\n",
       "Harvest Moon: Island of Happiness      Sparse[float32, 1]\n",
       "Zoo Cube                               Sparse[float32, 1]\n",
       "Escape the Museum 2                    Sparse[float32, 1]\n",
       "Mvp Baseball 2003: Xbox                Sparse[float32, 1]\n",
       "Length: 15938, dtype: object"
      ]
     },
     "execution_count": 283,
     "metadata": {},
     "output_type": "execute_result"
    }
   ],
   "source": [
    "recommender_df_sparse.dtypes"
   ]
  },
  {
   "cell_type": "code",
   "execution_count": null,
   "metadata": {},
   "outputs": [],
   "source": []
  },
  {
   "cell_type": "code",
   "execution_count": 53,
   "metadata": {},
   "outputs": [],
   "source": [
    "#rec_sparse = [pd.arrays.SparseArray(rec[n]) for n in range(len(dists))]"
   ]
  },
  {
   "cell_type": "markdown",
   "metadata": {},
   "source": [
    "Alright! There's our recommender dataframe - the numbers in the cells show how related the titles are to each other - 0 means perfect match as a measure of distance (that's why 0's are where the item is matched with itself) and then 1 is the furthest distance away."
   ]
  },
  {
   "cell_type": "code",
   "execution_count": 286,
   "metadata": {},
   "outputs": [
    {
     "name": "stdout",
     "output_type": "stream",
     "text": [
      "10 closest items: Harvest Moon 3D: A New Beginning - Nintendo 3DS    0.000000\n",
      "Harvest Moon: Tale of Two Towns - Nintendo 3DS     0.940594\n",
      "Hometown Story with Ember the Dragon Plush         0.948023\n",
      "Style Savvy: Trendsetters - Nintendo 3DS           0.957537\n",
      "Rune Factory 4 - Nintendo 3DS                      0.958158\n",
      "Harvest Moon: The Lost Valley - Nintendo 3DS       0.959587\n",
      "Harvest Moon: Grand Bazaar - Nintendo DS           0.966500\n",
      "Story of Seasons - Nintendo 3DS                    0.968455\n",
      "Animal Crossing: New Leaf                          0.968942\n",
      "Nintendo 3DS XL - Pink/White                       0.973937\n",
      "Name: Harvest Moon 3D: A New Beginning - Nintendo 3DS, dtype: Sparse[float32, 1]\n"
     ]
    }
   ],
   "source": [
    "q = 'Harvest Moon 3D: A New Beginning'\n",
    "titles = list(df2[df2['product_title'].str.contains(q)]['product_title'])\n",
    "#for title in titles:\n",
    "    #print(title)\n",
    "    #print('Average rating:', df2.['title'.mean())\n",
    "    #print('Number of ratings:', df2.loc[title,:].count())\n",
    "    #print()\n",
    "print('10 closest items:', recommender_df_sparse.loc[titles[0],:].sort_values()[0:10])\n",
    "    #print('\\n***************************************\\n')"
   ]
  },
  {
   "cell_type": "code",
   "execution_count": 54,
   "metadata": {},
   "outputs": [
    {
     "name": "stdout",
     "output_type": "stream",
     "text": [
      "10 closest items: Mass Effect 2                       0.000000\n",
      "Mass Effect - Xbox 360 (Limited)    0.866848\n",
      "Mass Effect 3                       0.886100\n",
      "Dragon Age: Origins                 0.920578\n",
      "Dragon Age 2                        0.948162\n",
      "Alpha Protocol                      0.948719\n",
      "Bioshock 2                          0.950226\n",
      "Fallout 3                           0.951378\n",
      "Dead Space 2                        0.951836\n",
      "Fallout New Vegas                   0.954123\n",
      "Name: Mass Effect 2, dtype: float64\n"
     ]
    }
   ],
   "source": [
    "q = 'Mass Effect 2'\n",
    "titles = list(df2[df2['product_title'].str.contains(q)]['product_title'])\n",
    "#for title in titles:\n",
    "    #print(title)\n",
    "    #print('Average rating:', df2.['title'.mean())\n",
    "    #print('Number of ratings:', df2.loc[title,:].count())\n",
    "    #print()\n",
    "print('10 closest items:', recommender_df.loc[titles[0],:].sort_values()[0:10])\n",
    "    #print('\\n***************************************\\n')"
   ]
  },
  {
   "cell_type": "code",
   "execution_count": 43,
   "metadata": {},
   "outputs": [
    {
     "data": {
      "text/plain": [
       "2.034354337"
      ]
     },
     "execution_count": 43,
     "metadata": {},
     "output_type": "execute_result"
    }
   ],
   "source": [
    "sys.getsizeof(recommender_df)/1_000_000_000 #check size of recommender df"
   ]
  },
  {
   "cell_type": "markdown",
   "metadata": {},
   "source": [
    "At this point I'm going to pause and consolidate what I have done so far into a single function that I can generalize to my other two data sets (movies and books). I'll save this function in my python utility file."
   ]
  },
  {
   "cell_type": "code",
   "execution_count": 44,
   "metadata": {},
   "outputs": [],
   "source": [
    "def make_recommender_df(df):\n",
    "    #drop any null values remaining from cleaning (will only be a handful in concatenated NLP column)\n",
    "    df.dropna(inplace=True)\n",
    "    #make T/F list for if cs has written more than 1 review for the same product\n",
    "    review_bools = df.groupby('customer_id')['product_id'].value_counts()>1\n",
    "    \n",
    "    #list of customer id numbers for those with more than 1 review for same item\n",
    "    xtra_rev_cs = []\n",
    "    for key, value in dict(review_bools[review_bools==True]).items():\n",
    "        xtra_rev_cs.append({key[0]:key[1]}) #return customer id and product id ONLY\n",
    "    \n",
    "    #make list of original df indexes corresponding to reviews that need to be dropped\n",
    "    rev_indexes_to_drop = []\n",
    "    for pair in xtra_rev_cs:\n",
    "        for key, value in pair.items():\n",
    "            rev_indexes_to_drop.append(  #add index numbers to the empty list\n",
    "            df[(df['customer_id'] == key) &    #where customer id is the key from xtra_rev_cs...\n",
    "           (df['product_id']==value)].sort_values( #and product id is the value from xtra_rev_cs\n",
    "            by='review_date', ascending=False).index[1:] #starting with the SECOND index number\n",
    "            )\n",
    "    ritd_2 = [] #list for indexes\n",
    "    for n in rev_indexes_to_drop:\n",
    "        for k in n:\n",
    "            ritd_2.append(k)\n",
    "    print(f'Dropping {len(ritd_2)} duplicate values.') #print status update for number of duplicates being dropped\n",
    "    df.drop(index=ritd_2, inplace=True) #drop all index numbers in list ritd_2\n",
    "    \n",
    "    #make new dataframe for recommender build\n",
    "    df2 = df[['customer_id', 'product_id', 'product_title', 'star_rating']].copy()\n",
    "    print(f\"Unique customers: {df2['customer_id'].nunique()}\") #preview number of unique customers\n",
    "    print(f\"Unique products: {df2['product_id'].nunique()}\") #preview number of unique products\n",
    "    \n",
    "    unique_prods = list(set(df2['product_title'])) #create list of unique products\n",
    "    prod_index = {p:i for i,p in enumerate(unique_prods)} #match unique products with integer values\n",
    "    df2['prod_numerical'] = df2['product_title'].apply(lambda x: prod_index[x]) #add column to df2\n",
    "    \n",
    "    unique_cs = list(set(df2['customer_id'])) #create list of unique customers\n",
    "    cs_index = {p:i for i,p in enumerate(unique_cs)} #match unique customers with (smaller) integer values\n",
    "    df2['cs_numerical'] = df2['customer_id'].apply(lambda x: cs_index[x]) #add column to df2\n",
    "    \n",
    "    df2['star_rating'] = df2['star_rating'].astype(np.int8) #convert to take up less memory\n",
    "    \n",
    "    #create sparse matrix comparing customer ratings and products\n",
    "    sparse_reviews = sparse.csr_matrix((df2.star_rating, (df2.prod_numerical, df2.cs_numerical)), dtype=np.int8)\n",
    "    print(f'Size of matrix: {sparse_reviews.shape}') #preview size of sparse matrix\n",
    "    #get cosine distances between items\n",
    "    dists = pairwise_distances(sparse_reviews, metric='cosine')\n",
    "    #create recommender df\n",
    "    recommender_df = pd.DataFrame(dists,\n",
    "                             index=unique_prods,\n",
    "                             columns=unique_prods)\n",
    "    print(f'Size of Recommender: {sys.getsizeof(recommender_df)/1_000_000_000} GB') #check size in GB\n",
    "    return recommender_df"
   ]
  },
  {
   "cell_type": "markdown",
   "metadata": {},
   "source": [
    "Generally speaking, the more specific my search, the more accurate the results. There are a few searches I've noticed that aren't returning values I'd expect:  \n",
    "\n",
    "- Playstation - gives game not console\n",
    "- Xbox 360 - gives game not console\n",
    "- Batman Arkham - gives console not game\n",
    "\n",
    "I'd also like to see if I can add an input for words to *not* return in the search. For example - I might want to see games like Age of Empries but I don't want the returned titles to include \"PC\" because I don't want computer games."
   ]
  },
  {
   "cell_type": "code",
   "execution_count": 150,
   "metadata": {},
   "outputs": [
    {
     "name": "stdout",
     "output_type": "stream",
     "text": [
      "10 closest items: NBA 2K12(Covers May Vary)     0.000000\n",
      "NBA 2K13                      0.941754\n",
      "Madden NFL 12                 0.956399\n",
      "NBA 2K11                      0.961517\n",
      "MLB 11: The Show              0.964082\n",
      "MLB 12 The Show               0.970108\n",
      "FIFA Soccer 12                0.973340\n",
      "NBA 2K10                      0.976300\n",
      "Major League Baseball 2K12    0.980191\n",
      "Major League Baseball 2K11    0.980923\n",
      "Name: NBA 2K12(Covers May Vary), dtype: float64\n"
     ]
    }
   ],
   "source": [
    "q = 'NBA'\n",
    "wout = 'Nintendo'\n",
    "titles = list(df2[(df2['product_title'].str.contains(q)) &  #contains this keyword\n",
    "                  (~df2['product_title'].str.contains(wout))]['product_title']) #does not contain this keyword\n",
    "#for title in titles:\n",
    "    #print(title)\n",
    "    #print('Average rating:', df2.['title'.mean())\n",
    "    #print('Number of ratings:', df2.loc[title,:].count())\n",
    "    #print()\n",
    "print('10 closest items:', recommender_df.loc[titles[0],:].sort_values()[0:10])\n",
    "    #print('\\n***************************************\\n')"
   ]
  },
  {
   "cell_type": "markdown",
   "metadata": {},
   "source": [
    "Not bad! But before I get too far ahead on the recommender, I need to take the building function I just wrote and apply it to the books and movies data sets."
   ]
  }
 ],
 "metadata": {
  "kernelspec": {
   "display_name": "Python 3",
   "language": "python",
   "name": "python3"
  },
  "language_info": {
   "codemirror_mode": {
    "name": "ipython",
    "version": 3
   },
   "file_extension": ".py",
   "mimetype": "text/x-python",
   "name": "python",
   "nbconvert_exporter": "python",
   "pygments_lexer": "ipython3",
   "version": "3.8.3"
  }
 },
 "nbformat": 4,
 "nbformat_minor": 4
}
