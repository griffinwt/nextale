{
 "cells": [
  {
   "cell_type": "code",
   "execution_count": 1,
   "metadata": {},
   "outputs": [],
   "source": [
    "import pandas as pd\n",
    "import numpy as np\n",
    "import requests\n",
    "from bs4 import BeautifulSoup, NavigableString, Tag\n",
    "import re\n",
    "import time\n",
    "import random\n",
    "pd.set_option('display.max_colwidth', None)\n",
    "import utils as ut"
   ]
  },
  {
   "cell_type": "code",
   "execution_count": 2,
   "metadata": {},
   "outputs": [
    {
     "name": "stderr",
     "output_type": "stream",
     "text": [
      "b'Skipping line 1680001: expected 15 fields, saw 22\\n'\n"
     ]
    },
    {
     "name": "stdout",
     "output_type": "stream",
     "text": [
      "Initial size: 4.130586272\n",
      "Initial shape: (3105370, 12)\n",
      "Size after dropping products w/reviews < 10: 2.033326911\n",
      "Null Preview: customer_id           0\n",
      "review_id             0\n",
      "product_id            0\n",
      "product_parent        0\n",
      "product_title         0\n",
      "star_rating           0\n",
      "helpful_votes         0\n",
      "total_votes           0\n",
      "verified_purchase     0\n",
      "review_headline      13\n",
      "review_body           0\n",
      "review_date          68\n",
      "dtype: int64\n",
      "Null Percentage: 0.01%\n",
      "Size after dropna(): 2.033101711\n",
      "Size after concatenation: 1.952364489\n",
      "Tokenizing, lemmatizing, and removing stopwords...hold please\n",
      "Size after tokemmitization: 1.471207801\n",
      "Final size: 1.471207801\n",
      "Final shape: (1489354, 11)\n"
     ]
    },
    {
     "data": {
      "text/plain": [
       "'File saved as books.csv'"
      ]
     },
     "execution_count": 2,
     "metadata": {},
     "output_type": "execute_result"
    }
   ],
   "source": [
    "ut.clean_amazon_data('./data/amazon_reviews_us_Books_v1_02.tsv.gz', 'books')"
   ]
  },
  {
   "cell_type": "code",
   "execution_count": null,
   "metadata": {},
   "outputs": [],
   "source": []
  }
 ],
 "metadata": {
  "kernelspec": {
   "display_name": "Python 3",
   "language": "python",
   "name": "python3"
  },
  "language_info": {
   "codemirror_mode": {
    "name": "ipython",
    "version": 3
   },
   "file_extension": ".py",
   "mimetype": "text/x-python",
   "name": "python",
   "nbconvert_exporter": "python",
   "pygments_lexer": "ipython3",
   "version": "3.8.3"
  }
 },
 "nbformat": 4,
 "nbformat_minor": 4
}
